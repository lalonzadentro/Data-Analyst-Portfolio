{
 "cells": [
  {
   "cell_type": "code",
   "execution_count": 1,
   "id": "ce215a4f",
   "metadata": {},
   "outputs": [],
   "source": [
    "import pandas as pd\n",
    "import numpy as np\n",
    "\n",
    "# data viz\n",
    "import matplotlib.pyplot as plt\n",
    "from matplotlib import rcParams\n",
    "import seaborn as sns\n",
    "\n",
    "# styling\n",
    "plt.style.use(\"ggplot\")\n",
    "rcParams['figure.figsize'] = (12, 6)"
   ]
  },
  {
   "cell_type": "code",
   "execution_count": 2,
   "id": "7b80b277",
   "metadata": {},
   "outputs": [],
   "source": [
    "data = pd.read_csv('/Users/anastasia/Downloads/Unicorn+Companies/Unicorn_Companies.csv')"
   ]
  },
  {
   "cell_type": "markdown",
   "id": "bda525c1",
   "metadata": {},
   "source": [
    "# EDA, Data Cleaning and Data Transforming"
   ]
  },
  {
   "cell_type": "code",
   "execution_count": 4,
   "id": "7f5ed5b3",
   "metadata": {},
   "outputs": [
    {
     "data": {
      "text/html": [
       "<div>\n",
       "<style scoped>\n",
       "    .dataframe tbody tr th:only-of-type {\n",
       "        vertical-align: middle;\n",
       "    }\n",
       "\n",
       "    .dataframe tbody tr th {\n",
       "        vertical-align: top;\n",
       "    }\n",
       "\n",
       "    .dataframe thead th {\n",
       "        text-align: right;\n",
       "    }\n",
       "</style>\n",
       "<table border=\"1\" class=\"dataframe\">\n",
       "  <thead>\n",
       "    <tr style=\"text-align: right;\">\n",
       "      <th></th>\n",
       "      <th>Company</th>\n",
       "      <th>Valuation</th>\n",
       "      <th>Date Joined</th>\n",
       "      <th>Industry</th>\n",
       "      <th>City</th>\n",
       "      <th>Country</th>\n",
       "      <th>Continent</th>\n",
       "      <th>Year Founded</th>\n",
       "      <th>Funding</th>\n",
       "      <th>Select Investors</th>\n",
       "    </tr>\n",
       "  </thead>\n",
       "  <tbody>\n",
       "    <tr>\n",
       "      <th>0</th>\n",
       "      <td>Bytedance</td>\n",
       "      <td>$180B</td>\n",
       "      <td>2017-04-07</td>\n",
       "      <td>Artificial intelligence</td>\n",
       "      <td>Beijing</td>\n",
       "      <td>China</td>\n",
       "      <td>Asia</td>\n",
       "      <td>2012</td>\n",
       "      <td>$8B</td>\n",
       "      <td>Sequoia Capital China, SIG Asia Investments, S...</td>\n",
       "    </tr>\n",
       "    <tr>\n",
       "      <th>1</th>\n",
       "      <td>SpaceX</td>\n",
       "      <td>$100B</td>\n",
       "      <td>2012-12-01</td>\n",
       "      <td>Other</td>\n",
       "      <td>Hawthorne</td>\n",
       "      <td>United States</td>\n",
       "      <td>North America</td>\n",
       "      <td>2002</td>\n",
       "      <td>$7B</td>\n",
       "      <td>Founders Fund, Draper Fisher Jurvetson, Rothen...</td>\n",
       "    </tr>\n",
       "    <tr>\n",
       "      <th>2</th>\n",
       "      <td>SHEIN</td>\n",
       "      <td>$100B</td>\n",
       "      <td>2018-07-03</td>\n",
       "      <td>E-commerce &amp; direct-to-consumer</td>\n",
       "      <td>Shenzhen</td>\n",
       "      <td>China</td>\n",
       "      <td>Asia</td>\n",
       "      <td>2008</td>\n",
       "      <td>$2B</td>\n",
       "      <td>Tiger Global Management, Sequoia Capital China...</td>\n",
       "    </tr>\n",
       "  </tbody>\n",
       "</table>\n",
       "</div>"
      ],
      "text/plain": [
       "     Company Valuation Date Joined                         Industry  \\\n",
       "0  Bytedance     $180B  2017-04-07          Artificial intelligence   \n",
       "1     SpaceX     $100B  2012-12-01                            Other   \n",
       "2      SHEIN     $100B  2018-07-03  E-commerce & direct-to-consumer   \n",
       "\n",
       "        City        Country      Continent  Year Founded Funding  \\\n",
       "0    Beijing          China           Asia          2012     $8B   \n",
       "1  Hawthorne  United States  North America          2002     $7B   \n",
       "2   Shenzhen          China           Asia          2008     $2B   \n",
       "\n",
       "                                    Select Investors  \n",
       "0  Sequoia Capital China, SIG Asia Investments, S...  \n",
       "1  Founders Fund, Draper Fisher Jurvetson, Rothen...  \n",
       "2  Tiger Global Management, Sequoia Capital China...  "
      ]
     },
     "execution_count": 4,
     "metadata": {},
     "output_type": "execute_result"
    }
   ],
   "source": [
    "data.head(3)"
   ]
  },
  {
   "cell_type": "code",
   "execution_count": 5,
   "id": "89c8cf01",
   "metadata": {},
   "outputs": [
    {
     "data": {
      "text/html": [
       "<div>\n",
       "<style scoped>\n",
       "    .dataframe tbody tr th:only-of-type {\n",
       "        vertical-align: middle;\n",
       "    }\n",
       "\n",
       "    .dataframe tbody tr th {\n",
       "        vertical-align: top;\n",
       "    }\n",
       "\n",
       "    .dataframe thead th {\n",
       "        text-align: right;\n",
       "    }\n",
       "</style>\n",
       "<table border=\"1\" class=\"dataframe\">\n",
       "  <thead>\n",
       "    <tr style=\"text-align: right;\">\n",
       "      <th></th>\n",
       "      <th>Company</th>\n",
       "      <th>Valuation</th>\n",
       "      <th>Date Joined</th>\n",
       "      <th>Industry</th>\n",
       "      <th>City</th>\n",
       "      <th>Country</th>\n",
       "      <th>Continent</th>\n",
       "      <th>Year Founded</th>\n",
       "      <th>Funding</th>\n",
       "      <th>Select Investors</th>\n",
       "    </tr>\n",
       "  </thead>\n",
       "  <tbody>\n",
       "    <tr>\n",
       "      <th>1071</th>\n",
       "      <td>Zihaiguo</td>\n",
       "      <td>$1B</td>\n",
       "      <td>2021-05-06</td>\n",
       "      <td>Consumer &amp; retail</td>\n",
       "      <td>Chongqing</td>\n",
       "      <td>China</td>\n",
       "      <td>Asia</td>\n",
       "      <td>2018</td>\n",
       "      <td>$80M</td>\n",
       "      <td>Xingwang Investment Management, China Capital ...</td>\n",
       "    </tr>\n",
       "    <tr>\n",
       "      <th>1072</th>\n",
       "      <td>Zopa</td>\n",
       "      <td>$1B</td>\n",
       "      <td>2021-10-19</td>\n",
       "      <td>Fintech</td>\n",
       "      <td>London</td>\n",
       "      <td>United Kingdom</td>\n",
       "      <td>Europe</td>\n",
       "      <td>2005</td>\n",
       "      <td>$792M</td>\n",
       "      <td>IAG Capital Partners, Augmentum Fintech, North...</td>\n",
       "    </tr>\n",
       "    <tr>\n",
       "      <th>1073</th>\n",
       "      <td>Zwift</td>\n",
       "      <td>$1B</td>\n",
       "      <td>2020-09-16</td>\n",
       "      <td>E-commerce &amp; direct-to-consumer</td>\n",
       "      <td>Long Beach</td>\n",
       "      <td>United States</td>\n",
       "      <td>North America</td>\n",
       "      <td>2014</td>\n",
       "      <td>$620M</td>\n",
       "      <td>Novator Partners, True, Causeway Media Partners</td>\n",
       "    </tr>\n",
       "  </tbody>\n",
       "</table>\n",
       "</div>"
      ],
      "text/plain": [
       "       Company Valuation Date Joined                         Industry  \\\n",
       "1071  Zihaiguo       $1B  2021-05-06                Consumer & retail   \n",
       "1072      Zopa       $1B  2021-10-19                          Fintech   \n",
       "1073     Zwift       $1B  2020-09-16  E-commerce & direct-to-consumer   \n",
       "\n",
       "            City         Country      Continent  Year Founded Funding  \\\n",
       "1071   Chongqing           China           Asia          2018    $80M   \n",
       "1072      London  United Kingdom         Europe          2005   $792M   \n",
       "1073  Long Beach   United States  North America          2014   $620M   \n",
       "\n",
       "                                       Select Investors  \n",
       "1071  Xingwang Investment Management, China Capital ...  \n",
       "1072  IAG Capital Partners, Augmentum Fintech, North...  \n",
       "1073    Novator Partners, True, Causeway Media Partners  "
      ]
     },
     "execution_count": 5,
     "metadata": {},
     "output_type": "execute_result"
    }
   ],
   "source": [
    "data.tail(3)"
   ]
  },
  {
   "cell_type": "code",
   "execution_count": 6,
   "id": "a7f94899",
   "metadata": {},
   "outputs": [
    {
     "data": {
      "text/plain": [
       "(1074, 10)"
      ]
     },
     "execution_count": 6,
     "metadata": {},
     "output_type": "execute_result"
    }
   ],
   "source": [
    "data.shape"
   ]
  },
  {
   "cell_type": "code",
   "execution_count": 7,
   "id": "9acc204b",
   "metadata": {},
   "outputs": [
    {
     "name": "stdout",
     "output_type": "stream",
     "text": [
      "<class 'pandas.core.frame.DataFrame'>\n",
      "RangeIndex: 1074 entries, 0 to 1073\n",
      "Data columns (total 10 columns):\n",
      " #   Column            Non-Null Count  Dtype \n",
      "---  ------            --------------  ----- \n",
      " 0   Company           1074 non-null   object\n",
      " 1   Valuation         1074 non-null   object\n",
      " 2   Date Joined       1074 non-null   object\n",
      " 3   Industry          1074 non-null   object\n",
      " 4   City              1058 non-null   object\n",
      " 5   Country           1074 non-null   object\n",
      " 6   Continent         1074 non-null   object\n",
      " 7   Year Founded      1074 non-null   int64 \n",
      " 8   Funding           1074 non-null   object\n",
      " 9   Select Investors  1073 non-null   object\n",
      "dtypes: int64(1), object(9)\n",
      "memory usage: 84.0+ KB\n"
     ]
    }
   ],
   "source": [
    "data.info()"
   ]
  },
  {
   "cell_type": "markdown",
   "id": "c4a2b3f3",
   "metadata": {},
   "source": [
    "### Data types transformation "
   ]
  },
  {
   "cell_type": "markdown",
   "id": "59ee3229",
   "metadata": {},
   "source": [
    "### Funding "
   ]
  },
  {
   "cell_type": "code",
   "execution_count": 8,
   "id": "ba59d2ba",
   "metadata": {},
   "outputs": [
    {
     "data": {
      "text/plain": [
       "0         $8B\n",
       "1         $7B\n",
       "2         $2B\n",
       "3         $2B\n",
       "4         $4B\n",
       "        ...  \n",
       "1069    $379M\n",
       "1070    $990M\n",
       "1071     $80M\n",
       "1072    $792M\n",
       "1073    $620M\n",
       "Name: Funding, Length: 1074, dtype: object"
      ]
     },
     "execution_count": 8,
     "metadata": {},
     "output_type": "execute_result"
    }
   ],
   "source": [
    "data.Funding"
   ]
  },
  {
   "cell_type": "code",
   "execution_count": 9,
   "id": "9adcf105",
   "metadata": {},
   "outputs": [
    {
     "data": {
      "text/plain": [
       "$1B        60\n",
       "$2B        30\n",
       "Unknown    12\n",
       "$200M      12\n",
       "$4B         9\n",
       "           ..\n",
       "$717M       1\n",
       "$101M       1\n",
       "$19M        1\n",
       "$946M       1\n",
       "$620M       1\n",
       "Name: Funding, Length: 539, dtype: int64"
      ]
     },
     "execution_count": 9,
     "metadata": {},
     "output_type": "execute_result"
    }
   ],
   "source": [
    "data.Funding.value_counts()"
   ]
  },
  {
   "cell_type": "markdown",
   "id": "a1790b98",
   "metadata": {},
   "source": [
    "Let's drop 'Unknown' values from 'Funding' column of the DataFrame. There is not many of them."
   ]
  },
  {
   "cell_type": "code",
   "execution_count": 10,
   "id": "9291d0a8",
   "metadata": {},
   "outputs": [
    {
     "data": {
      "text/html": [
       "<div>\n",
       "<style scoped>\n",
       "    .dataframe tbody tr th:only-of-type {\n",
       "        vertical-align: middle;\n",
       "    }\n",
       "\n",
       "    .dataframe tbody tr th {\n",
       "        vertical-align: top;\n",
       "    }\n",
       "\n",
       "    .dataframe thead th {\n",
       "        text-align: right;\n",
       "    }\n",
       "</style>\n",
       "<table border=\"1\" class=\"dataframe\">\n",
       "  <thead>\n",
       "    <tr style=\"text-align: right;\">\n",
       "      <th></th>\n",
       "      <th>Company</th>\n",
       "      <th>Valuation</th>\n",
       "      <th>Date Joined</th>\n",
       "      <th>Industry</th>\n",
       "      <th>City</th>\n",
       "      <th>Country</th>\n",
       "      <th>Continent</th>\n",
       "      <th>Year Founded</th>\n",
       "      <th>Funding</th>\n",
       "      <th>Select Investors</th>\n",
       "    </tr>\n",
       "  </thead>\n",
       "  <tbody>\n",
       "    <tr>\n",
       "      <th>0</th>\n",
       "      <td>Bytedance</td>\n",
       "      <td>$180B</td>\n",
       "      <td>2017-04-07</td>\n",
       "      <td>Artificial intelligence</td>\n",
       "      <td>Beijing</td>\n",
       "      <td>China</td>\n",
       "      <td>Asia</td>\n",
       "      <td>2012</td>\n",
       "      <td>$8B</td>\n",
       "      <td>Sequoia Capital China, SIG Asia Investments, S...</td>\n",
       "    </tr>\n",
       "    <tr>\n",
       "      <th>1</th>\n",
       "      <td>SpaceX</td>\n",
       "      <td>$100B</td>\n",
       "      <td>2012-12-01</td>\n",
       "      <td>Other</td>\n",
       "      <td>Hawthorne</td>\n",
       "      <td>United States</td>\n",
       "      <td>North America</td>\n",
       "      <td>2002</td>\n",
       "      <td>$7B</td>\n",
       "      <td>Founders Fund, Draper Fisher Jurvetson, Rothen...</td>\n",
       "    </tr>\n",
       "    <tr>\n",
       "      <th>2</th>\n",
       "      <td>SHEIN</td>\n",
       "      <td>$100B</td>\n",
       "      <td>2018-07-03</td>\n",
       "      <td>E-commerce &amp; direct-to-consumer</td>\n",
       "      <td>Shenzhen</td>\n",
       "      <td>China</td>\n",
       "      <td>Asia</td>\n",
       "      <td>2008</td>\n",
       "      <td>$2B</td>\n",
       "      <td>Tiger Global Management, Sequoia Capital China...</td>\n",
       "    </tr>\n",
       "    <tr>\n",
       "      <th>3</th>\n",
       "      <td>Stripe</td>\n",
       "      <td>$95B</td>\n",
       "      <td>2014-01-23</td>\n",
       "      <td>Fintech</td>\n",
       "      <td>San Francisco</td>\n",
       "      <td>United States</td>\n",
       "      <td>North America</td>\n",
       "      <td>2010</td>\n",
       "      <td>$2B</td>\n",
       "      <td>Khosla Ventures, LowercaseCapital, capitalG</td>\n",
       "    </tr>\n",
       "    <tr>\n",
       "      <th>4</th>\n",
       "      <td>Klarna</td>\n",
       "      <td>$46B</td>\n",
       "      <td>2011-12-12</td>\n",
       "      <td>Fintech</td>\n",
       "      <td>Stockholm</td>\n",
       "      <td>Sweden</td>\n",
       "      <td>Europe</td>\n",
       "      <td>2005</td>\n",
       "      <td>$4B</td>\n",
       "      <td>Institutional Venture Partners, Sequoia Capita...</td>\n",
       "    </tr>\n",
       "  </tbody>\n",
       "</table>\n",
       "</div>"
      ],
      "text/plain": [
       "     Company Valuation Date Joined                         Industry  \\\n",
       "0  Bytedance     $180B  2017-04-07          Artificial intelligence   \n",
       "1     SpaceX     $100B  2012-12-01                            Other   \n",
       "2      SHEIN     $100B  2018-07-03  E-commerce & direct-to-consumer   \n",
       "3     Stripe      $95B  2014-01-23                          Fintech   \n",
       "4     Klarna      $46B  2011-12-12                          Fintech   \n",
       "\n",
       "            City        Country      Continent  Year Founded Funding  \\\n",
       "0        Beijing          China           Asia          2012     $8B   \n",
       "1      Hawthorne  United States  North America          2002     $7B   \n",
       "2       Shenzhen          China           Asia          2008     $2B   \n",
       "3  San Francisco  United States  North America          2010     $2B   \n",
       "4      Stockholm         Sweden         Europe          2005     $4B   \n",
       "\n",
       "                                    Select Investors  \n",
       "0  Sequoia Capital China, SIG Asia Investments, S...  \n",
       "1  Founders Fund, Draper Fisher Jurvetson, Rothen...  \n",
       "2  Tiger Global Management, Sequoia Capital China...  \n",
       "3        Khosla Ventures, LowercaseCapital, capitalG  \n",
       "4  Institutional Venture Partners, Sequoia Capita...  "
      ]
     },
     "execution_count": 10,
     "metadata": {},
     "output_type": "execute_result"
    }
   ],
   "source": [
    "data2 = data[data.Funding != 'Unknown'].reset_index(drop = True)\n",
    "data2.head()"
   ]
  },
  {
   "cell_type": "markdown",
   "id": "3ebfb626",
   "metadata": {},
   "source": [
    "Let's check how many currencies are in the column"
   ]
  },
  {
   "cell_type": "code",
   "execution_count": 11,
   "id": "5c8dbb88",
   "metadata": {},
   "outputs": [
    {
     "data": {
      "text/plain": [
       "$    1062\n",
       "Name: 1, dtype: int64"
      ]
     },
     "execution_count": 11,
     "metadata": {},
     "output_type": "execute_result"
    }
   ],
   "source": [
    "data2.Funding.str.split('', expand = True).get(1).value_counts()"
   ]
  },
  {
   "cell_type": "code",
   "execution_count": 12,
   "id": "d383ee73",
   "metadata": {},
   "outputs": [],
   "source": [
    "num = []\n",
    "for i in data2.Funding:\n",
    "   num.append(i[-1:])   "
   ]
  },
  {
   "cell_type": "code",
   "execution_count": 13,
   "id": "ec43eb1e",
   "metadata": {},
   "outputs": [],
   "source": [
    "value = []\n",
    "import re\n",
    "for i in data2.Funding:\n",
    "    value.append(str(re.findall(r'\\d+', i)).strip('[]').strip(\"''\"))"
   ]
  },
  {
   "cell_type": "code",
   "execution_count": 14,
   "id": "eb75dbdd",
   "metadata": {},
   "outputs": [
    {
     "name": "stdout",
     "output_type": "stream",
     "text": [
      "num: 1062\n",
      "value: 1062\n"
     ]
    }
   ],
   "source": [
    "print( 'num:', len(num))\n",
    "print( 'value:', len(value))"
   ]
  },
  {
   "cell_type": "code",
   "execution_count": 15,
   "id": "eb28f5a1",
   "metadata": {},
   "outputs": [
    {
     "data": {
      "text/html": [
       "<div>\n",
       "<style scoped>\n",
       "    .dataframe tbody tr th:only-of-type {\n",
       "        vertical-align: middle;\n",
       "    }\n",
       "\n",
       "    .dataframe tbody tr th {\n",
       "        vertical-align: top;\n",
       "    }\n",
       "\n",
       "    .dataframe thead th {\n",
       "        text-align: right;\n",
       "    }\n",
       "</style>\n",
       "<table border=\"1\" class=\"dataframe\">\n",
       "  <thead>\n",
       "    <tr style=\"text-align: right;\">\n",
       "      <th></th>\n",
       "      <th>num</th>\n",
       "      <th>value</th>\n",
       "    </tr>\n",
       "  </thead>\n",
       "  <tbody>\n",
       "    <tr>\n",
       "      <th>0</th>\n",
       "      <td>B</td>\n",
       "      <td>8</td>\n",
       "    </tr>\n",
       "    <tr>\n",
       "      <th>1</th>\n",
       "      <td>B</td>\n",
       "      <td>7</td>\n",
       "    </tr>\n",
       "    <tr>\n",
       "      <th>2</th>\n",
       "      <td>B</td>\n",
       "      <td>2</td>\n",
       "    </tr>\n",
       "    <tr>\n",
       "      <th>3</th>\n",
       "      <td>B</td>\n",
       "      <td>2</td>\n",
       "    </tr>\n",
       "    <tr>\n",
       "      <th>4</th>\n",
       "      <td>B</td>\n",
       "      <td>4</td>\n",
       "    </tr>\n",
       "    <tr>\n",
       "      <th>...</th>\n",
       "      <td>...</td>\n",
       "      <td>...</td>\n",
       "    </tr>\n",
       "    <tr>\n",
       "      <th>1057</th>\n",
       "      <td>M</td>\n",
       "      <td>379</td>\n",
       "    </tr>\n",
       "    <tr>\n",
       "      <th>1058</th>\n",
       "      <td>M</td>\n",
       "      <td>990</td>\n",
       "    </tr>\n",
       "    <tr>\n",
       "      <th>1059</th>\n",
       "      <td>M</td>\n",
       "      <td>80</td>\n",
       "    </tr>\n",
       "    <tr>\n",
       "      <th>1060</th>\n",
       "      <td>M</td>\n",
       "      <td>792</td>\n",
       "    </tr>\n",
       "    <tr>\n",
       "      <th>1061</th>\n",
       "      <td>M</td>\n",
       "      <td>620</td>\n",
       "    </tr>\n",
       "  </tbody>\n",
       "</table>\n",
       "<p>1062 rows × 2 columns</p>\n",
       "</div>"
      ],
      "text/plain": [
       "     num value\n",
       "0      B     8\n",
       "1      B     7\n",
       "2      B     2\n",
       "3      B     2\n",
       "4      B     4\n",
       "...   ..   ...\n",
       "1057   M   379\n",
       "1058   M   990\n",
       "1059   M    80\n",
       "1060   M   792\n",
       "1061   M   620\n",
       "\n",
       "[1062 rows x 2 columns]"
      ]
     },
     "execution_count": 15,
     "metadata": {},
     "output_type": "execute_result"
    }
   ],
   "source": [
    "data_funding = pd.DataFrame({'num': num, 'value': value })\n",
    "data_funding"
   ]
  },
  {
   "cell_type": "code",
   "execution_count": 16,
   "id": "2824d196",
   "metadata": {},
   "outputs": [
    {
     "data": {
      "text/plain": [
       "M    948\n",
       "B    114\n",
       "Name: num, dtype: int64"
      ]
     },
     "execution_count": 16,
     "metadata": {},
     "output_type": "execute_result"
    }
   ],
   "source": [
    "data_funding.num.value_counts()"
   ]
  },
  {
   "cell_type": "code",
   "execution_count": 17,
   "id": "50ad21ad",
   "metadata": {},
   "outputs": [
    {
     "name": "stdout",
     "output_type": "stream",
     "text": [
      "<class 'pandas.core.frame.DataFrame'>\n",
      "RangeIndex: 1062 entries, 0 to 1061\n",
      "Data columns (total 2 columns):\n",
      " #   Column  Non-Null Count  Dtype \n",
      "---  ------  --------------  ----- \n",
      " 0   num     1062 non-null   object\n",
      " 1   value   1062 non-null   object\n",
      "dtypes: object(2)\n",
      "memory usage: 16.7+ KB\n"
     ]
    }
   ],
   "source": [
    "data_funding.info()"
   ]
  },
  {
   "cell_type": "markdown",
   "id": "205b891c",
   "metadata": {},
   "source": [
    "Let's make all the numbers in Funding in millions"
   ]
  },
  {
   "cell_type": "code",
   "execution_count": 18,
   "id": "6aebea2b",
   "metadata": {},
   "outputs": [],
   "source": [
    "data_funding.value = data_funding.value.astype(int)"
   ]
  },
  {
   "cell_type": "code",
   "execution_count": 19,
   "id": "8dcf2edd",
   "metadata": {},
   "outputs": [
    {
     "name": "stdout",
     "output_type": "stream",
     "text": [
      "<class 'pandas.core.frame.DataFrame'>\n",
      "RangeIndex: 1062 entries, 0 to 1061\n",
      "Data columns (total 2 columns):\n",
      " #   Column  Non-Null Count  Dtype \n",
      "---  ------  --------------  ----- \n",
      " 0   num     1062 non-null   object\n",
      " 1   value   1062 non-null   int64 \n",
      "dtypes: int64(1), object(1)\n",
      "memory usage: 16.7+ KB\n"
     ]
    }
   ],
   "source": [
    "data_funding.info()"
   ]
  },
  {
   "cell_type": "code",
   "execution_count": 20,
   "id": "b0ed7aa8",
   "metadata": {},
   "outputs": [
    {
     "name": "stderr",
     "output_type": "stream",
     "text": [
      "/var/folders/8z/g1v85qt55t999sxjpnmjb4tr0000gn/T/ipykernel_12725/1626061532.py:1: SettingWithCopyWarning: \n",
      "A value is trying to be set on a copy of a slice from a DataFrame\n",
      "\n",
      "See the caveats in the documentation: https://pandas.pydata.org/pandas-docs/stable/user_guide/indexing.html#returning-a-view-versus-a-copy\n",
      "  data_funding.value[data_funding.num == 'B'] = data_funding.value.loc[data_funding.num == 'B']*1000\n"
     ]
    }
   ],
   "source": [
    "data_funding.value[data_funding.num == 'B'] = data_funding.value.loc[data_funding.num == 'B']*1000"
   ]
  },
  {
   "cell_type": "code",
   "execution_count": 21,
   "id": "2c23ec4a",
   "metadata": {},
   "outputs": [
    {
     "data": {
      "text/html": [
       "<div>\n",
       "<style scoped>\n",
       "    .dataframe tbody tr th:only-of-type {\n",
       "        vertical-align: middle;\n",
       "    }\n",
       "\n",
       "    .dataframe tbody tr th {\n",
       "        vertical-align: top;\n",
       "    }\n",
       "\n",
       "    .dataframe thead th {\n",
       "        text-align: right;\n",
       "    }\n",
       "</style>\n",
       "<table border=\"1\" class=\"dataframe\">\n",
       "  <thead>\n",
       "    <tr style=\"text-align: right;\">\n",
       "      <th></th>\n",
       "      <th>num</th>\n",
       "      <th>value</th>\n",
       "    </tr>\n",
       "  </thead>\n",
       "  <tbody>\n",
       "    <tr>\n",
       "      <th>0</th>\n",
       "      <td>B</td>\n",
       "      <td>8000</td>\n",
       "    </tr>\n",
       "    <tr>\n",
       "      <th>1</th>\n",
       "      <td>B</td>\n",
       "      <td>7000</td>\n",
       "    </tr>\n",
       "    <tr>\n",
       "      <th>2</th>\n",
       "      <td>B</td>\n",
       "      <td>2000</td>\n",
       "    </tr>\n",
       "    <tr>\n",
       "      <th>3</th>\n",
       "      <td>B</td>\n",
       "      <td>2000</td>\n",
       "    </tr>\n",
       "    <tr>\n",
       "      <th>4</th>\n",
       "      <td>B</td>\n",
       "      <td>4000</td>\n",
       "    </tr>\n",
       "    <tr>\n",
       "      <th>...</th>\n",
       "      <td>...</td>\n",
       "      <td>...</td>\n",
       "    </tr>\n",
       "    <tr>\n",
       "      <th>1057</th>\n",
       "      <td>M</td>\n",
       "      <td>379</td>\n",
       "    </tr>\n",
       "    <tr>\n",
       "      <th>1058</th>\n",
       "      <td>M</td>\n",
       "      <td>990</td>\n",
       "    </tr>\n",
       "    <tr>\n",
       "      <th>1059</th>\n",
       "      <td>M</td>\n",
       "      <td>80</td>\n",
       "    </tr>\n",
       "    <tr>\n",
       "      <th>1060</th>\n",
       "      <td>M</td>\n",
       "      <td>792</td>\n",
       "    </tr>\n",
       "    <tr>\n",
       "      <th>1061</th>\n",
       "      <td>M</td>\n",
       "      <td>620</td>\n",
       "    </tr>\n",
       "  </tbody>\n",
       "</table>\n",
       "<p>1062 rows × 2 columns</p>\n",
       "</div>"
      ],
      "text/plain": [
       "     num  value\n",
       "0      B   8000\n",
       "1      B   7000\n",
       "2      B   2000\n",
       "3      B   2000\n",
       "4      B   4000\n",
       "...   ..    ...\n",
       "1057   M    379\n",
       "1058   M    990\n",
       "1059   M     80\n",
       "1060   M    792\n",
       "1061   M    620\n",
       "\n",
       "[1062 rows x 2 columns]"
      ]
     },
     "execution_count": 21,
     "metadata": {},
     "output_type": "execute_result"
    }
   ],
   "source": [
    "data_funding"
   ]
  },
  {
   "cell_type": "code",
   "execution_count": 22,
   "id": "d9c79694",
   "metadata": {},
   "outputs": [],
   "source": [
    "data2.Funding = data_funding['value']"
   ]
  },
  {
   "cell_type": "code",
   "execution_count": 23,
   "id": "3d078219",
   "metadata": {},
   "outputs": [],
   "source": [
    "data2.rename(columns = {'Funding':'Funding_M'},inplace = True)"
   ]
  },
  {
   "cell_type": "code",
   "execution_count": 24,
   "id": "d75f931b",
   "metadata": {},
   "outputs": [
    {
     "data": {
      "text/html": [
       "<div>\n",
       "<style scoped>\n",
       "    .dataframe tbody tr th:only-of-type {\n",
       "        vertical-align: middle;\n",
       "    }\n",
       "\n",
       "    .dataframe tbody tr th {\n",
       "        vertical-align: top;\n",
       "    }\n",
       "\n",
       "    .dataframe thead th {\n",
       "        text-align: right;\n",
       "    }\n",
       "</style>\n",
       "<table border=\"1\" class=\"dataframe\">\n",
       "  <thead>\n",
       "    <tr style=\"text-align: right;\">\n",
       "      <th></th>\n",
       "      <th>Company</th>\n",
       "      <th>Valuation</th>\n",
       "      <th>Date Joined</th>\n",
       "      <th>Industry</th>\n",
       "      <th>City</th>\n",
       "      <th>Country</th>\n",
       "      <th>Continent</th>\n",
       "      <th>Year Founded</th>\n",
       "      <th>Funding_M</th>\n",
       "      <th>Select Investors</th>\n",
       "    </tr>\n",
       "  </thead>\n",
       "  <tbody>\n",
       "    <tr>\n",
       "      <th>0</th>\n",
       "      <td>Bytedance</td>\n",
       "      <td>$180B</td>\n",
       "      <td>2017-04-07</td>\n",
       "      <td>Artificial intelligence</td>\n",
       "      <td>Beijing</td>\n",
       "      <td>China</td>\n",
       "      <td>Asia</td>\n",
       "      <td>2012</td>\n",
       "      <td>8000</td>\n",
       "      <td>Sequoia Capital China, SIG Asia Investments, S...</td>\n",
       "    </tr>\n",
       "    <tr>\n",
       "      <th>1</th>\n",
       "      <td>SpaceX</td>\n",
       "      <td>$100B</td>\n",
       "      <td>2012-12-01</td>\n",
       "      <td>Other</td>\n",
       "      <td>Hawthorne</td>\n",
       "      <td>United States</td>\n",
       "      <td>North America</td>\n",
       "      <td>2002</td>\n",
       "      <td>7000</td>\n",
       "      <td>Founders Fund, Draper Fisher Jurvetson, Rothen...</td>\n",
       "    </tr>\n",
       "  </tbody>\n",
       "</table>\n",
       "</div>"
      ],
      "text/plain": [
       "     Company Valuation Date Joined                 Industry       City  \\\n",
       "0  Bytedance     $180B  2017-04-07  Artificial intelligence    Beijing   \n",
       "1     SpaceX     $100B  2012-12-01                    Other  Hawthorne   \n",
       "\n",
       "         Country      Continent  Year Founded  Funding_M  \\\n",
       "0          China           Asia          2012       8000   \n",
       "1  United States  North America          2002       7000   \n",
       "\n",
       "                                    Select Investors  \n",
       "0  Sequoia Capital China, SIG Asia Investments, S...  \n",
       "1  Founders Fund, Draper Fisher Jurvetson, Rothen...  "
      ]
     },
     "execution_count": 24,
     "metadata": {},
     "output_type": "execute_result"
    }
   ],
   "source": [
    "data2.head(2)"
   ]
  },
  {
   "cell_type": "markdown",
   "id": "b1853b17",
   "metadata": {},
   "source": [
    "## Valuation"
   ]
  },
  {
   "cell_type": "code",
   "execution_count": 26,
   "id": "6a0f38f4",
   "metadata": {},
   "outputs": [
    {
     "data": {
      "text/plain": [
       "$1B      462\n",
       "$2B      246\n",
       "$3B      115\n",
       "$4B       71\n",
       "$5B       40\n",
       "$6B       26\n",
       "$7B       18\n",
       "$10B      15\n",
       "$8B       13\n",
       "$9B       10\n",
       "$12B      10\n",
       "$11B       7\n",
       "$13B       4\n",
       "$15B       4\n",
       "$100B      2\n",
       "$20B       2\n",
       "$32B       2\n",
       "$38B       2\n",
       "$40B       2\n",
       "$17B       1\n",
       "$14B       1\n",
       "$18B       1\n",
       "$22B       1\n",
       "$25B       1\n",
       "$27B       1\n",
       "$33B       1\n",
       "$39B       1\n",
       "$46B       1\n",
       "$95B       1\n",
       "$180B      1\n",
       "Name: Valuation, dtype: int64"
      ]
     },
     "execution_count": 26,
     "metadata": {},
     "output_type": "execute_result"
    }
   ],
   "source": [
    "data2.Valuation.value_counts()"
   ]
  },
  {
   "cell_type": "code",
   "execution_count": 27,
   "id": "b38a8363",
   "metadata": {},
   "outputs": [
    {
     "data": {
      "text/plain": [
       "$    1062\n",
       "Name: 1, dtype: int64"
      ]
     },
     "execution_count": 27,
     "metadata": {},
     "output_type": "execute_result"
    }
   ],
   "source": [
    "data2.Valuation.str.split('', expand = True).get(1).value_counts()"
   ]
  },
  {
   "cell_type": "code",
   "execution_count": 28,
   "id": "dde5f0ce",
   "metadata": {},
   "outputs": [],
   "source": [
    "num2 = []\n",
    "for i in data2.Valuation:\n",
    "   num2.append(i[-1:]) \n",
    "\n",
    "value2 = []\n",
    "import re\n",
    "for i in data2.Valuation:\n",
    "    value2.append(str(re.findall(r'\\d+', i)).strip('[]').strip(\"''\"))"
   ]
  },
  {
   "cell_type": "code",
   "execution_count": 29,
   "id": "c7a0a22b",
   "metadata": {},
   "outputs": [
    {
     "name": "stdout",
     "output_type": "stream",
     "text": [
      "num: 1062\n",
      "value: 1062\n"
     ]
    }
   ],
   "source": [
    "print( 'num:', len(num2))\n",
    "print( 'value:', len(value2))"
   ]
  },
  {
   "cell_type": "code",
   "execution_count": 30,
   "id": "be3b59ef",
   "metadata": {},
   "outputs": [
    {
     "data": {
      "text/html": [
       "<div>\n",
       "<style scoped>\n",
       "    .dataframe tbody tr th:only-of-type {\n",
       "        vertical-align: middle;\n",
       "    }\n",
       "\n",
       "    .dataframe tbody tr th {\n",
       "        vertical-align: top;\n",
       "    }\n",
       "\n",
       "    .dataframe thead th {\n",
       "        text-align: right;\n",
       "    }\n",
       "</style>\n",
       "<table border=\"1\" class=\"dataframe\">\n",
       "  <thead>\n",
       "    <tr style=\"text-align: right;\">\n",
       "      <th></th>\n",
       "      <th>num</th>\n",
       "      <th>value</th>\n",
       "    </tr>\n",
       "  </thead>\n",
       "  <tbody>\n",
       "    <tr>\n",
       "      <th>0</th>\n",
       "      <td>B</td>\n",
       "      <td>180</td>\n",
       "    </tr>\n",
       "    <tr>\n",
       "      <th>1</th>\n",
       "      <td>B</td>\n",
       "      <td>100</td>\n",
       "    </tr>\n",
       "    <tr>\n",
       "      <th>2</th>\n",
       "      <td>B</td>\n",
       "      <td>100</td>\n",
       "    </tr>\n",
       "    <tr>\n",
       "      <th>3</th>\n",
       "      <td>B</td>\n",
       "      <td>95</td>\n",
       "    </tr>\n",
       "    <tr>\n",
       "      <th>4</th>\n",
       "      <td>B</td>\n",
       "      <td>46</td>\n",
       "    </tr>\n",
       "    <tr>\n",
       "      <th>...</th>\n",
       "      <td>...</td>\n",
       "      <td>...</td>\n",
       "    </tr>\n",
       "    <tr>\n",
       "      <th>1057</th>\n",
       "      <td>B</td>\n",
       "      <td>1</td>\n",
       "    </tr>\n",
       "    <tr>\n",
       "      <th>1058</th>\n",
       "      <td>B</td>\n",
       "      <td>1</td>\n",
       "    </tr>\n",
       "    <tr>\n",
       "      <th>1059</th>\n",
       "      <td>B</td>\n",
       "      <td>1</td>\n",
       "    </tr>\n",
       "    <tr>\n",
       "      <th>1060</th>\n",
       "      <td>B</td>\n",
       "      <td>1</td>\n",
       "    </tr>\n",
       "    <tr>\n",
       "      <th>1061</th>\n",
       "      <td>B</td>\n",
       "      <td>1</td>\n",
       "    </tr>\n",
       "  </tbody>\n",
       "</table>\n",
       "<p>1062 rows × 2 columns</p>\n",
       "</div>"
      ],
      "text/plain": [
       "     num value\n",
       "0      B   180\n",
       "1      B   100\n",
       "2      B   100\n",
       "3      B    95\n",
       "4      B    46\n",
       "...   ..   ...\n",
       "1057   B     1\n",
       "1058   B     1\n",
       "1059   B     1\n",
       "1060   B     1\n",
       "1061   B     1\n",
       "\n",
       "[1062 rows x 2 columns]"
      ]
     },
     "execution_count": 30,
     "metadata": {},
     "output_type": "execute_result"
    }
   ],
   "source": [
    "data_valuation = pd.DataFrame({'num': num2, 'value': value2 })\n",
    "data_valuation"
   ]
  },
  {
   "cell_type": "code",
   "execution_count": 31,
   "id": "105647bc",
   "metadata": {},
   "outputs": [
    {
     "data": {
      "text/plain": [
       "B    1062\n",
       "Name: num, dtype: int64"
      ]
     },
     "execution_count": 31,
     "metadata": {},
     "output_type": "execute_result"
    }
   ],
   "source": [
    "data_valuation.num.value_counts()"
   ]
  },
  {
   "cell_type": "markdown",
   "id": "593b420b",
   "metadata": {},
   "source": [
    "Let's make them in millions as well"
   ]
  },
  {
   "cell_type": "code",
   "execution_count": 32,
   "id": "f00e1dc2",
   "metadata": {},
   "outputs": [],
   "source": [
    "data_valuation.value = data_valuation.value.astype(int)*1000"
   ]
  },
  {
   "cell_type": "code",
   "execution_count": 33,
   "id": "64444bb6",
   "metadata": {},
   "outputs": [
    {
     "data": {
      "text/html": [
       "<div>\n",
       "<style scoped>\n",
       "    .dataframe tbody tr th:only-of-type {\n",
       "        vertical-align: middle;\n",
       "    }\n",
       "\n",
       "    .dataframe tbody tr th {\n",
       "        vertical-align: top;\n",
       "    }\n",
       "\n",
       "    .dataframe thead th {\n",
       "        text-align: right;\n",
       "    }\n",
       "</style>\n",
       "<table border=\"1\" class=\"dataframe\">\n",
       "  <thead>\n",
       "    <tr style=\"text-align: right;\">\n",
       "      <th></th>\n",
       "      <th>num</th>\n",
       "      <th>value</th>\n",
       "    </tr>\n",
       "  </thead>\n",
       "  <tbody>\n",
       "    <tr>\n",
       "      <th>0</th>\n",
       "      <td>B</td>\n",
       "      <td>180000</td>\n",
       "    </tr>\n",
       "    <tr>\n",
       "      <th>1</th>\n",
       "      <td>B</td>\n",
       "      <td>100000</td>\n",
       "    </tr>\n",
       "    <tr>\n",
       "      <th>2</th>\n",
       "      <td>B</td>\n",
       "      <td>100000</td>\n",
       "    </tr>\n",
       "    <tr>\n",
       "      <th>3</th>\n",
       "      <td>B</td>\n",
       "      <td>95000</td>\n",
       "    </tr>\n",
       "    <tr>\n",
       "      <th>4</th>\n",
       "      <td>B</td>\n",
       "      <td>46000</td>\n",
       "    </tr>\n",
       "    <tr>\n",
       "      <th>...</th>\n",
       "      <td>...</td>\n",
       "      <td>...</td>\n",
       "    </tr>\n",
       "    <tr>\n",
       "      <th>1057</th>\n",
       "      <td>B</td>\n",
       "      <td>1000</td>\n",
       "    </tr>\n",
       "    <tr>\n",
       "      <th>1058</th>\n",
       "      <td>B</td>\n",
       "      <td>1000</td>\n",
       "    </tr>\n",
       "    <tr>\n",
       "      <th>1059</th>\n",
       "      <td>B</td>\n",
       "      <td>1000</td>\n",
       "    </tr>\n",
       "    <tr>\n",
       "      <th>1060</th>\n",
       "      <td>B</td>\n",
       "      <td>1000</td>\n",
       "    </tr>\n",
       "    <tr>\n",
       "      <th>1061</th>\n",
       "      <td>B</td>\n",
       "      <td>1000</td>\n",
       "    </tr>\n",
       "  </tbody>\n",
       "</table>\n",
       "<p>1062 rows × 2 columns</p>\n",
       "</div>"
      ],
      "text/plain": [
       "     num   value\n",
       "0      B  180000\n",
       "1      B  100000\n",
       "2      B  100000\n",
       "3      B   95000\n",
       "4      B   46000\n",
       "...   ..     ...\n",
       "1057   B    1000\n",
       "1058   B    1000\n",
       "1059   B    1000\n",
       "1060   B    1000\n",
       "1061   B    1000\n",
       "\n",
       "[1062 rows x 2 columns]"
      ]
     },
     "execution_count": 33,
     "metadata": {},
     "output_type": "execute_result"
    }
   ],
   "source": [
    "data_valuation"
   ]
  },
  {
   "cell_type": "code",
   "execution_count": 34,
   "id": "0ec6ae33",
   "metadata": {},
   "outputs": [],
   "source": [
    "data2.Valuation = data_valuation.value"
   ]
  },
  {
   "cell_type": "code",
   "execution_count": 35,
   "id": "265c5fcb",
   "metadata": {},
   "outputs": [],
   "source": [
    "data2.rename(columns = {'Valuation':'Valuation_M'}, inplace = True)"
   ]
  },
  {
   "cell_type": "code",
   "execution_count": 36,
   "id": "d0b2c0b7",
   "metadata": {},
   "outputs": [
    {
     "data": {
      "text/html": [
       "<div>\n",
       "<style scoped>\n",
       "    .dataframe tbody tr th:only-of-type {\n",
       "        vertical-align: middle;\n",
       "    }\n",
       "\n",
       "    .dataframe tbody tr th {\n",
       "        vertical-align: top;\n",
       "    }\n",
       "\n",
       "    .dataframe thead th {\n",
       "        text-align: right;\n",
       "    }\n",
       "</style>\n",
       "<table border=\"1\" class=\"dataframe\">\n",
       "  <thead>\n",
       "    <tr style=\"text-align: right;\">\n",
       "      <th></th>\n",
       "      <th>Company</th>\n",
       "      <th>Valuation_M</th>\n",
       "      <th>Date Joined</th>\n",
       "      <th>Industry</th>\n",
       "      <th>City</th>\n",
       "      <th>Country</th>\n",
       "      <th>Continent</th>\n",
       "      <th>Year Founded</th>\n",
       "      <th>Funding_M</th>\n",
       "      <th>Select Investors</th>\n",
       "    </tr>\n",
       "  </thead>\n",
       "  <tbody>\n",
       "    <tr>\n",
       "      <th>0</th>\n",
       "      <td>Bytedance</td>\n",
       "      <td>180000</td>\n",
       "      <td>2017-04-07</td>\n",
       "      <td>Artificial intelligence</td>\n",
       "      <td>Beijing</td>\n",
       "      <td>China</td>\n",
       "      <td>Asia</td>\n",
       "      <td>2012</td>\n",
       "      <td>8000</td>\n",
       "      <td>Sequoia Capital China, SIG Asia Investments, S...</td>\n",
       "    </tr>\n",
       "    <tr>\n",
       "      <th>1</th>\n",
       "      <td>SpaceX</td>\n",
       "      <td>100000</td>\n",
       "      <td>2012-12-01</td>\n",
       "      <td>Other</td>\n",
       "      <td>Hawthorne</td>\n",
       "      <td>United States</td>\n",
       "      <td>North America</td>\n",
       "      <td>2002</td>\n",
       "      <td>7000</td>\n",
       "      <td>Founders Fund, Draper Fisher Jurvetson, Rothen...</td>\n",
       "    </tr>\n",
       "  </tbody>\n",
       "</table>\n",
       "</div>"
      ],
      "text/plain": [
       "     Company  Valuation_M Date Joined                 Industry       City  \\\n",
       "0  Bytedance       180000  2017-04-07  Artificial intelligence    Beijing   \n",
       "1     SpaceX       100000  2012-12-01                    Other  Hawthorne   \n",
       "\n",
       "         Country      Continent  Year Founded  Funding_M  \\\n",
       "0          China           Asia          2012       8000   \n",
       "1  United States  North America          2002       7000   \n",
       "\n",
       "                                    Select Investors  \n",
       "0  Sequoia Capital China, SIG Asia Investments, S...  \n",
       "1  Founders Fund, Draper Fisher Jurvetson, Rothen...  "
      ]
     },
     "execution_count": 36,
     "metadata": {},
     "output_type": "execute_result"
    }
   ],
   "source": [
    "data2.head(2)"
   ]
  },
  {
   "cell_type": "markdown",
   "id": "a842d1d4",
   "metadata": {},
   "source": [
    "## Date Joined"
   ]
  },
  {
   "cell_type": "code",
   "execution_count": 37,
   "id": "8dd44874",
   "metadata": {},
   "outputs": [
    {
     "data": {
      "text/plain": [
       "0       2017-04-07\n",
       "1       2012-12-01\n",
       "2       2018-07-03\n",
       "3       2014-01-23\n",
       "4       2011-12-12\n",
       "           ...    \n",
       "1057    2017-06-29\n",
       "1058    2017-04-18\n",
       "1059    2021-05-06\n",
       "1060    2021-10-19\n",
       "1061    2020-09-16\n",
       "Name: Date Joined, Length: 1062, dtype: object"
      ]
     },
     "execution_count": 37,
     "metadata": {},
     "output_type": "execute_result"
    }
   ],
   "source": [
    "data2['Date Joined']"
   ]
  },
  {
   "cell_type": "code",
   "execution_count": 38,
   "id": "0400dbd0",
   "metadata": {},
   "outputs": [],
   "source": [
    "data2['Date Joined']= pd.to_datetime(data2['Date Joined'])"
   ]
  },
  {
   "cell_type": "code",
   "execution_count": 39,
   "id": "e420aba5",
   "metadata": {},
   "outputs": [
    {
     "name": "stdout",
     "output_type": "stream",
     "text": [
      "<class 'pandas.core.frame.DataFrame'>\n",
      "RangeIndex: 1062 entries, 0 to 1061\n",
      "Data columns (total 10 columns):\n",
      " #   Column            Non-Null Count  Dtype         \n",
      "---  ------            --------------  -----         \n",
      " 0   Company           1062 non-null   object        \n",
      " 1   Valuation_M       1062 non-null   int64         \n",
      " 2   Date Joined       1062 non-null   datetime64[ns]\n",
      " 3   Industry          1062 non-null   object        \n",
      " 4   City              1046 non-null   object        \n",
      " 5   Country           1062 non-null   object        \n",
      " 6   Continent         1062 non-null   object        \n",
      " 7   Year Founded      1062 non-null   int64         \n",
      " 8   Funding_M         1062 non-null   int64         \n",
      " 9   Select Investors  1061 non-null   object        \n",
      "dtypes: datetime64[ns](1), int64(3), object(6)\n",
      "memory usage: 83.1+ KB\n"
     ]
    }
   ],
   "source": [
    "data2.info()"
   ]
  },
  {
   "cell_type": "code",
   "execution_count": 40,
   "id": "cd1f9116",
   "metadata": {},
   "outputs": [
    {
     "data": {
      "text/plain": [
       "Company              0\n",
       "Valuation_M          0\n",
       "Date Joined          0\n",
       "Industry             0\n",
       "City                16\n",
       "Country              0\n",
       "Continent            0\n",
       "Year Founded         0\n",
       "Funding_M            0\n",
       "Select Investors     1\n",
       "dtype: int64"
      ]
     },
     "execution_count": 40,
     "metadata": {},
     "output_type": "execute_result"
    }
   ],
   "source": [
    "data2.isna().sum()"
   ]
  },
  {
   "cell_type": "code",
   "execution_count": 41,
   "id": "d5e7a425",
   "metadata": {},
   "outputs": [
    {
     "data": {
      "text/html": [
       "<div>\n",
       "<style scoped>\n",
       "    .dataframe tbody tr th:only-of-type {\n",
       "        vertical-align: middle;\n",
       "    }\n",
       "\n",
       "    .dataframe tbody tr th {\n",
       "        vertical-align: top;\n",
       "    }\n",
       "\n",
       "    .dataframe thead th {\n",
       "        text-align: right;\n",
       "    }\n",
       "</style>\n",
       "<table border=\"1\" class=\"dataframe\">\n",
       "  <thead>\n",
       "    <tr style=\"text-align: right;\">\n",
       "      <th></th>\n",
       "      <th>Company</th>\n",
       "      <th>Valuation_M</th>\n",
       "      <th>Date Joined</th>\n",
       "      <th>Industry</th>\n",
       "      <th>City</th>\n",
       "      <th>Country</th>\n",
       "      <th>Continent</th>\n",
       "      <th>Year Founded</th>\n",
       "      <th>Funding_M</th>\n",
       "      <th>Select Investors</th>\n",
       "    </tr>\n",
       "  </thead>\n",
       "  <tbody>\n",
       "    <tr>\n",
       "      <th>626</th>\n",
       "      <td>LinkSure Network</td>\n",
       "      <td>1000</td>\n",
       "      <td>2015-01-01</td>\n",
       "      <td>Mobile &amp; telecommunications</td>\n",
       "      <td>Shanghai</td>\n",
       "      <td>China</td>\n",
       "      <td>Asia</td>\n",
       "      <td>2013</td>\n",
       "      <td>52</td>\n",
       "      <td>NaN</td>\n",
       "    </tr>\n",
       "  </tbody>\n",
       "</table>\n",
       "</div>"
      ],
      "text/plain": [
       "              Company  Valuation_M Date Joined                     Industry  \\\n",
       "626  LinkSure Network         1000  2015-01-01  Mobile & telecommunications   \n",
       "\n",
       "         City Country Continent  Year Founded  Funding_M Select Investors  \n",
       "626  Shanghai   China      Asia          2013         52              NaN  "
      ]
     },
     "execution_count": 41,
     "metadata": {},
     "output_type": "execute_result"
    }
   ],
   "source": [
    "data2[data2['Select Investors'].isna() == True]"
   ]
  },
  {
   "cell_type": "code",
   "execution_count": 42,
   "id": "c76d73c5",
   "metadata": {},
   "outputs": [],
   "source": [
    "data2 = data2.drop([data2.index[626]])"
   ]
  },
  {
   "cell_type": "code",
   "execution_count": 43,
   "id": "9c9e9f6a",
   "metadata": {},
   "outputs": [
    {
     "data": {
      "text/plain": [
       "Company              0\n",
       "Valuation_M          0\n",
       "Date Joined          0\n",
       "Industry             0\n",
       "City                16\n",
       "Country              0\n",
       "Continent            0\n",
       "Year Founded         0\n",
       "Funding_M            0\n",
       "Select Investors     0\n",
       "dtype: int64"
      ]
     },
     "execution_count": 43,
     "metadata": {},
     "output_type": "execute_result"
    }
   ],
   "source": [
    "data2.isna().sum()"
   ]
  },
  {
   "cell_type": "code",
   "execution_count": 44,
   "id": "9a95d581",
   "metadata": {},
   "outputs": [
    {
     "data": {
      "text/html": [
       "<div>\n",
       "<style scoped>\n",
       "    .dataframe tbody tr th:only-of-type {\n",
       "        vertical-align: middle;\n",
       "    }\n",
       "\n",
       "    .dataframe tbody tr th {\n",
       "        vertical-align: top;\n",
       "    }\n",
       "\n",
       "    .dataframe thead th {\n",
       "        text-align: right;\n",
       "    }\n",
       "</style>\n",
       "<table border=\"1\" class=\"dataframe\">\n",
       "  <thead>\n",
       "    <tr style=\"text-align: right;\">\n",
       "      <th></th>\n",
       "      <th>Company</th>\n",
       "      <th>Valuation_M</th>\n",
       "      <th>Date Joined</th>\n",
       "      <th>Industry</th>\n",
       "      <th>City</th>\n",
       "      <th>Country</th>\n",
       "      <th>Continent</th>\n",
       "      <th>Year Founded</th>\n",
       "      <th>Funding_M</th>\n",
       "      <th>Select Investors</th>\n",
       "    </tr>\n",
       "  </thead>\n",
       "  <tbody>\n",
       "    <tr>\n",
       "      <th>12</th>\n",
       "      <td>FTX</td>\n",
       "      <td>32000</td>\n",
       "      <td>2021-07-20</td>\n",
       "      <td>Fintech</td>\n",
       "      <td>NaN</td>\n",
       "      <td>Bahamas</td>\n",
       "      <td>North America</td>\n",
       "      <td>2018</td>\n",
       "      <td>2000</td>\n",
       "      <td>Sequoia Capital, Thoma Bravo, Softbank</td>\n",
       "    </tr>\n",
       "    <tr>\n",
       "      <th>170</th>\n",
       "      <td>HyalRoute</td>\n",
       "      <td>4000</td>\n",
       "      <td>2020-05-26</td>\n",
       "      <td>Mobile &amp; telecommunications</td>\n",
       "      <td>NaN</td>\n",
       "      <td>Singapore</td>\n",
       "      <td>Asia</td>\n",
       "      <td>2015</td>\n",
       "      <td>263</td>\n",
       "      <td>Kuang-Chi</td>\n",
       "    </tr>\n",
       "    <tr>\n",
       "      <th>241</th>\n",
       "      <td>Moglix</td>\n",
       "      <td>3000</td>\n",
       "      <td>2021-05-17</td>\n",
       "      <td>E-commerce &amp; direct-to-consumer</td>\n",
       "      <td>NaN</td>\n",
       "      <td>Singapore</td>\n",
       "      <td>Asia</td>\n",
       "      <td>2015</td>\n",
       "      <td>471</td>\n",
       "      <td>Jungle Ventures, Accel, Venture Highway</td>\n",
       "    </tr>\n",
       "    <tr>\n",
       "      <th>250</th>\n",
       "      <td>Trax</td>\n",
       "      <td>3000</td>\n",
       "      <td>2019-07-22</td>\n",
       "      <td>Artificial intelligence</td>\n",
       "      <td>NaN</td>\n",
       "      <td>Singapore</td>\n",
       "      <td>Asia</td>\n",
       "      <td>2010</td>\n",
       "      <td>1000</td>\n",
       "      <td>Hopu Investment Management, Boyu Capital, DC T...</td>\n",
       "    </tr>\n",
       "    <tr>\n",
       "      <th>324</th>\n",
       "      <td>Amber Group</td>\n",
       "      <td>3000</td>\n",
       "      <td>2021-06-21</td>\n",
       "      <td>Fintech</td>\n",
       "      <td>NaN</td>\n",
       "      <td>Hong Kong</td>\n",
       "      <td>Asia</td>\n",
       "      <td>2015</td>\n",
       "      <td>328</td>\n",
       "      <td>Tiger Global Management, Tiger Brokers, DCM Ve...</td>\n",
       "    </tr>\n",
       "    <tr>\n",
       "      <th>381</th>\n",
       "      <td>Ninja Van</td>\n",
       "      <td>2000</td>\n",
       "      <td>2021-09-27</td>\n",
       "      <td>Supply chain, logistics, &amp; delivery</td>\n",
       "      <td>NaN</td>\n",
       "      <td>Singapore</td>\n",
       "      <td>Asia</td>\n",
       "      <td>2014</td>\n",
       "      <td>975</td>\n",
       "      <td>B Capital Group, Monk's Hill Ventures, Dynamic...</td>\n",
       "    </tr>\n",
       "    <tr>\n",
       "      <th>539</th>\n",
       "      <td>Advance Intelligence Group</td>\n",
       "      <td>2000</td>\n",
       "      <td>2021-09-23</td>\n",
       "      <td>Artificial intelligence</td>\n",
       "      <td>NaN</td>\n",
       "      <td>Singapore</td>\n",
       "      <td>Asia</td>\n",
       "      <td>2016</td>\n",
       "      <td>536</td>\n",
       "      <td>Vision Plus Capital, GSR Ventures, ZhenFund</td>\n",
       "    </tr>\n",
       "    <tr>\n",
       "      <th>804</th>\n",
       "      <td>Carousell</td>\n",
       "      <td>1000</td>\n",
       "      <td>2021-09-15</td>\n",
       "      <td>E-commerce &amp; direct-to-consumer</td>\n",
       "      <td>NaN</td>\n",
       "      <td>Singapore</td>\n",
       "      <td>Asia</td>\n",
       "      <td>2012</td>\n",
       "      <td>288</td>\n",
       "      <td>500 Global, Rakuten Ventures, Golden Gate Vent...</td>\n",
       "    </tr>\n",
       "    <tr>\n",
       "      <th>841</th>\n",
       "      <td>Matrixport</td>\n",
       "      <td>1000</td>\n",
       "      <td>2021-06-01</td>\n",
       "      <td>Fintech</td>\n",
       "      <td>NaN</td>\n",
       "      <td>Singapore</td>\n",
       "      <td>Asia</td>\n",
       "      <td>2019</td>\n",
       "      <td>100</td>\n",
       "      <td>Dragonfly Captial, Qiming Venture Partners, DS...</td>\n",
       "    </tr>\n",
       "    <tr>\n",
       "      <th>872</th>\n",
       "      <td>bolttech</td>\n",
       "      <td>1000</td>\n",
       "      <td>2021-07-01</td>\n",
       "      <td>Fintech</td>\n",
       "      <td>NaN</td>\n",
       "      <td>Singapore</td>\n",
       "      <td>Asia</td>\n",
       "      <td>2018</td>\n",
       "      <td>210</td>\n",
       "      <td>Mundi Ventures, Doqling Capital Partners, Acti...</td>\n",
       "    </tr>\n",
       "    <tr>\n",
       "      <th>881</th>\n",
       "      <td>Carro</td>\n",
       "      <td>1000</td>\n",
       "      <td>2021-06-14</td>\n",
       "      <td>E-commerce &amp; direct-to-consumer</td>\n",
       "      <td>NaN</td>\n",
       "      <td>Singapore</td>\n",
       "      <td>Asia</td>\n",
       "      <td>2015</td>\n",
       "      <td>595</td>\n",
       "      <td>SingTel Innov8, Alpha JWC Ventures, Golden Gat...</td>\n",
       "    </tr>\n",
       "    <tr>\n",
       "      <th>884</th>\n",
       "      <td>Cider</td>\n",
       "      <td>1000</td>\n",
       "      <td>2021-09-02</td>\n",
       "      <td>E-commerce &amp; direct-to-consumer</td>\n",
       "      <td>NaN</td>\n",
       "      <td>Hong Kong</td>\n",
       "      <td>Asia</td>\n",
       "      <td>2020</td>\n",
       "      <td>140</td>\n",
       "      <td>Andreessen Horowitz, DST Global, IDG Capital</td>\n",
       "    </tr>\n",
       "    <tr>\n",
       "      <th>969</th>\n",
       "      <td>NIUM</td>\n",
       "      <td>1000</td>\n",
       "      <td>2021-07-13</td>\n",
       "      <td>Fintech</td>\n",
       "      <td>NaN</td>\n",
       "      <td>Singapore</td>\n",
       "      <td>Asia</td>\n",
       "      <td>2014</td>\n",
       "      <td>285</td>\n",
       "      <td>Vertex Ventures SE Asia, Global Founders Capit...</td>\n",
       "    </tr>\n",
       "    <tr>\n",
       "      <th>975</th>\n",
       "      <td>ONE</td>\n",
       "      <td>1000</td>\n",
       "      <td>2021-12-08</td>\n",
       "      <td>Internet software &amp; services</td>\n",
       "      <td>NaN</td>\n",
       "      <td>Singapore</td>\n",
       "      <td>Asia</td>\n",
       "      <td>2011</td>\n",
       "      <td>515</td>\n",
       "      <td>Temasek, Guggenheim Investments, Qatar Investm...</td>\n",
       "    </tr>\n",
       "    <tr>\n",
       "      <th>983</th>\n",
       "      <td>PatSnap</td>\n",
       "      <td>1000</td>\n",
       "      <td>2021-03-16</td>\n",
       "      <td>Internet software &amp; services</td>\n",
       "      <td>NaN</td>\n",
       "      <td>Singapore</td>\n",
       "      <td>Asia</td>\n",
       "      <td>2007</td>\n",
       "      <td>352</td>\n",
       "      <td>Sequoia Capital China, Shunwei Capital Partner...</td>\n",
       "    </tr>\n",
       "    <tr>\n",
       "      <th>1049</th>\n",
       "      <td>WeLab</td>\n",
       "      <td>1000</td>\n",
       "      <td>2017-11-08</td>\n",
       "      <td>Fintech</td>\n",
       "      <td>NaN</td>\n",
       "      <td>Hong Kong</td>\n",
       "      <td>Asia</td>\n",
       "      <td>2013</td>\n",
       "      <td>871</td>\n",
       "      <td>Sequoia Capital China, ING, Alibaba Entreprene...</td>\n",
       "    </tr>\n",
       "  </tbody>\n",
       "</table>\n",
       "</div>"
      ],
      "text/plain": [
       "                         Company  Valuation_M Date Joined  \\\n",
       "12                           FTX        32000  2021-07-20   \n",
       "170                    HyalRoute         4000  2020-05-26   \n",
       "241                       Moglix         3000  2021-05-17   \n",
       "250                         Trax         3000  2019-07-22   \n",
       "324                  Amber Group         3000  2021-06-21   \n",
       "381                    Ninja Van         2000  2021-09-27   \n",
       "539   Advance Intelligence Group         2000  2021-09-23   \n",
       "804                    Carousell         1000  2021-09-15   \n",
       "841                   Matrixport         1000  2021-06-01   \n",
       "872                     bolttech         1000  2021-07-01   \n",
       "881                        Carro         1000  2021-06-14   \n",
       "884                        Cider         1000  2021-09-02   \n",
       "969                         NIUM         1000  2021-07-13   \n",
       "975                          ONE         1000  2021-12-08   \n",
       "983                      PatSnap         1000  2021-03-16   \n",
       "1049                       WeLab         1000  2017-11-08   \n",
       "\n",
       "                                 Industry City    Country      Continent  \\\n",
       "12                                Fintech  NaN    Bahamas  North America   \n",
       "170           Mobile & telecommunications  NaN  Singapore           Asia   \n",
       "241       E-commerce & direct-to-consumer  NaN  Singapore           Asia   \n",
       "250               Artificial intelligence  NaN  Singapore           Asia   \n",
       "324                               Fintech  NaN  Hong Kong           Asia   \n",
       "381   Supply chain, logistics, & delivery  NaN  Singapore           Asia   \n",
       "539               Artificial intelligence  NaN  Singapore           Asia   \n",
       "804       E-commerce & direct-to-consumer  NaN  Singapore           Asia   \n",
       "841                               Fintech  NaN  Singapore           Asia   \n",
       "872                               Fintech  NaN  Singapore           Asia   \n",
       "881       E-commerce & direct-to-consumer  NaN  Singapore           Asia   \n",
       "884       E-commerce & direct-to-consumer  NaN  Hong Kong           Asia   \n",
       "969                               Fintech  NaN  Singapore           Asia   \n",
       "975          Internet software & services  NaN  Singapore           Asia   \n",
       "983          Internet software & services  NaN  Singapore           Asia   \n",
       "1049                              Fintech  NaN  Hong Kong           Asia   \n",
       "\n",
       "      Year Founded  Funding_M  \\\n",
       "12            2018       2000   \n",
       "170           2015        263   \n",
       "241           2015        471   \n",
       "250           2010       1000   \n",
       "324           2015        328   \n",
       "381           2014        975   \n",
       "539           2016        536   \n",
       "804           2012        288   \n",
       "841           2019        100   \n",
       "872           2018        210   \n",
       "881           2015        595   \n",
       "884           2020        140   \n",
       "969           2014        285   \n",
       "975           2011        515   \n",
       "983           2007        352   \n",
       "1049          2013        871   \n",
       "\n",
       "                                       Select Investors  \n",
       "12               Sequoia Capital, Thoma Bravo, Softbank  \n",
       "170                                           Kuang-Chi  \n",
       "241             Jungle Ventures, Accel, Venture Highway  \n",
       "250   Hopu Investment Management, Boyu Capital, DC T...  \n",
       "324   Tiger Global Management, Tiger Brokers, DCM Ve...  \n",
       "381   B Capital Group, Monk's Hill Ventures, Dynamic...  \n",
       "539         Vision Plus Capital, GSR Ventures, ZhenFund  \n",
       "804   500 Global, Rakuten Ventures, Golden Gate Vent...  \n",
       "841   Dragonfly Captial, Qiming Venture Partners, DS...  \n",
       "872   Mundi Ventures, Doqling Capital Partners, Acti...  \n",
       "881   SingTel Innov8, Alpha JWC Ventures, Golden Gat...  \n",
       "884        Andreessen Horowitz, DST Global, IDG Capital  \n",
       "969   Vertex Ventures SE Asia, Global Founders Capit...  \n",
       "975   Temasek, Guggenheim Investments, Qatar Investm...  \n",
       "983   Sequoia Capital China, Shunwei Capital Partner...  \n",
       "1049  Sequoia Capital China, ING, Alibaba Entreprene...  "
      ]
     },
     "execution_count": 44,
     "metadata": {},
     "output_type": "execute_result"
    }
   ],
   "source": [
    "data2[data2.City.isna() == True]"
   ]
  },
  {
   "cell_type": "markdown",
   "id": "e1635a71",
   "metadata": {},
   "source": [
    "Let's find the most popular city's of the countries with Nan sities"
   ]
  },
  {
   "cell_type": "code",
   "execution_count": 45,
   "id": "f491e7c0",
   "metadata": {},
   "outputs": [
    {
     "data": {
      "text/plain": [
       "array(['Bahamas', 'Singapore', 'Hong Kong'], dtype=object)"
      ]
     },
     "execution_count": 45,
     "metadata": {},
     "output_type": "execute_result"
    }
   ],
   "source": [
    "data2[data2.City.isna() == True].Country.unique()"
   ]
  },
  {
   "cell_type": "markdown",
   "id": "1d65bbc3",
   "metadata": {},
   "source": [
    "### Bahamas"
   ]
  },
  {
   "cell_type": "code",
   "execution_count": 46,
   "id": "d1bd82c1",
   "metadata": {},
   "outputs": [
    {
     "data": {
      "text/html": [
       "<div>\n",
       "<style scoped>\n",
       "    .dataframe tbody tr th:only-of-type {\n",
       "        vertical-align: middle;\n",
       "    }\n",
       "\n",
       "    .dataframe tbody tr th {\n",
       "        vertical-align: top;\n",
       "    }\n",
       "\n",
       "    .dataframe thead th {\n",
       "        text-align: right;\n",
       "    }\n",
       "</style>\n",
       "<table border=\"1\" class=\"dataframe\">\n",
       "  <thead>\n",
       "    <tr style=\"text-align: right;\">\n",
       "      <th></th>\n",
       "      <th>Company</th>\n",
       "      <th>Valuation_M</th>\n",
       "      <th>Date Joined</th>\n",
       "      <th>Industry</th>\n",
       "      <th>City</th>\n",
       "      <th>Country</th>\n",
       "      <th>Continent</th>\n",
       "      <th>Year Founded</th>\n",
       "      <th>Funding_M</th>\n",
       "      <th>Select Investors</th>\n",
       "    </tr>\n",
       "  </thead>\n",
       "  <tbody>\n",
       "    <tr>\n",
       "      <th>12</th>\n",
       "      <td>FTX</td>\n",
       "      <td>32000</td>\n",
       "      <td>2021-07-20</td>\n",
       "      <td>Fintech</td>\n",
       "      <td>NaN</td>\n",
       "      <td>Bahamas</td>\n",
       "      <td>North America</td>\n",
       "      <td>2018</td>\n",
       "      <td>2000</td>\n",
       "      <td>Sequoia Capital, Thoma Bravo, Softbank</td>\n",
       "    </tr>\n",
       "  </tbody>\n",
       "</table>\n",
       "</div>"
      ],
      "text/plain": [
       "   Company  Valuation_M Date Joined Industry City  Country      Continent  \\\n",
       "12     FTX        32000  2021-07-20  Fintech  NaN  Bahamas  North America   \n",
       "\n",
       "    Year Founded  Funding_M                        Select Investors  \n",
       "12          2018       2000  Sequoia Capital, Thoma Bravo, Softbank  "
      ]
     },
     "execution_count": 46,
     "metadata": {},
     "output_type": "execute_result"
    }
   ],
   "source": [
    "data2[data2.Country == 'Bahamas']"
   ]
  },
  {
   "cell_type": "markdown",
   "id": "fc5a0da4",
   "metadata": {},
   "source": [
    "There is no other companies from Bahamas, so let's take a capital of Bahamas Nassau"
   ]
  },
  {
   "cell_type": "code",
   "execution_count": 47,
   "id": "a0300b2b",
   "metadata": {},
   "outputs": [
    {
     "name": "stderr",
     "output_type": "stream",
     "text": [
      "/var/folders/8z/g1v85qt55t999sxjpnmjb4tr0000gn/T/ipykernel_12725/1820122735.py:1: SettingWithCopyWarning: \n",
      "A value is trying to be set on a copy of a slice from a DataFrame\n",
      "\n",
      "See the caveats in the documentation: https://pandas.pydata.org/pandas-docs/stable/user_guide/indexing.html#returning-a-view-versus-a-copy\n",
      "  data2.City.loc[data2.Country == 'Bahamas'] = 'Nassau'\n"
     ]
    }
   ],
   "source": [
    "data2.City.loc[data2.Country == 'Bahamas'] = 'Nassau'"
   ]
  },
  {
   "cell_type": "code",
   "execution_count": 48,
   "id": "a99648aa",
   "metadata": {},
   "outputs": [
    {
     "data": {
      "text/plain": [
       "12    Nassau\n",
       "Name: City, dtype: object"
      ]
     },
     "execution_count": 48,
     "metadata": {},
     "output_type": "execute_result"
    }
   ],
   "source": [
    "data2[data2.Country == 'Bahamas'].City"
   ]
  },
  {
   "cell_type": "markdown",
   "id": "05eeb978",
   "metadata": {},
   "source": [
    "### Singapore"
   ]
  },
  {
   "cell_type": "code",
   "execution_count": 49,
   "id": "2e092981",
   "metadata": {},
   "outputs": [
    {
     "data": {
      "text/html": [
       "<div>\n",
       "<style scoped>\n",
       "    .dataframe tbody tr th:only-of-type {\n",
       "        vertical-align: middle;\n",
       "    }\n",
       "\n",
       "    .dataframe tbody tr th {\n",
       "        vertical-align: top;\n",
       "    }\n",
       "\n",
       "    .dataframe thead th {\n",
       "        text-align: right;\n",
       "    }\n",
       "</style>\n",
       "<table border=\"1\" class=\"dataframe\">\n",
       "  <thead>\n",
       "    <tr style=\"text-align: right;\">\n",
       "      <th></th>\n",
       "      <th>Company</th>\n",
       "      <th>Valuation_M</th>\n",
       "      <th>Date Joined</th>\n",
       "      <th>Industry</th>\n",
       "      <th>City</th>\n",
       "      <th>Country</th>\n",
       "      <th>Continent</th>\n",
       "      <th>Year Founded</th>\n",
       "      <th>Funding_M</th>\n",
       "      <th>Select Investors</th>\n",
       "    </tr>\n",
       "  </thead>\n",
       "  <tbody>\n",
       "    <tr>\n",
       "      <th>170</th>\n",
       "      <td>HyalRoute</td>\n",
       "      <td>4000</td>\n",
       "      <td>2020-05-26</td>\n",
       "      <td>Mobile &amp; telecommunications</td>\n",
       "      <td>NaN</td>\n",
       "      <td>Singapore</td>\n",
       "      <td>Asia</td>\n",
       "      <td>2015</td>\n",
       "      <td>263</td>\n",
       "      <td>Kuang-Chi</td>\n",
       "    </tr>\n",
       "    <tr>\n",
       "      <th>241</th>\n",
       "      <td>Moglix</td>\n",
       "      <td>3000</td>\n",
       "      <td>2021-05-17</td>\n",
       "      <td>E-commerce &amp; direct-to-consumer</td>\n",
       "      <td>NaN</td>\n",
       "      <td>Singapore</td>\n",
       "      <td>Asia</td>\n",
       "      <td>2015</td>\n",
       "      <td>471</td>\n",
       "      <td>Jungle Ventures, Accel, Venture Highway</td>\n",
       "    </tr>\n",
       "    <tr>\n",
       "      <th>250</th>\n",
       "      <td>Trax</td>\n",
       "      <td>3000</td>\n",
       "      <td>2019-07-22</td>\n",
       "      <td>Artificial intelligence</td>\n",
       "      <td>NaN</td>\n",
       "      <td>Singapore</td>\n",
       "      <td>Asia</td>\n",
       "      <td>2010</td>\n",
       "      <td>1000</td>\n",
       "      <td>Hopu Investment Management, Boyu Capital, DC T...</td>\n",
       "    </tr>\n",
       "    <tr>\n",
       "      <th>381</th>\n",
       "      <td>Ninja Van</td>\n",
       "      <td>2000</td>\n",
       "      <td>2021-09-27</td>\n",
       "      <td>Supply chain, logistics, &amp; delivery</td>\n",
       "      <td>NaN</td>\n",
       "      <td>Singapore</td>\n",
       "      <td>Asia</td>\n",
       "      <td>2014</td>\n",
       "      <td>975</td>\n",
       "      <td>B Capital Group, Monk's Hill Ventures, Dynamic...</td>\n",
       "    </tr>\n",
       "    <tr>\n",
       "      <th>539</th>\n",
       "      <td>Advance Intelligence Group</td>\n",
       "      <td>2000</td>\n",
       "      <td>2021-09-23</td>\n",
       "      <td>Artificial intelligence</td>\n",
       "      <td>NaN</td>\n",
       "      <td>Singapore</td>\n",
       "      <td>Asia</td>\n",
       "      <td>2016</td>\n",
       "      <td>536</td>\n",
       "      <td>Vision Plus Capital, GSR Ventures, ZhenFund</td>\n",
       "    </tr>\n",
       "    <tr>\n",
       "      <th>804</th>\n",
       "      <td>Carousell</td>\n",
       "      <td>1000</td>\n",
       "      <td>2021-09-15</td>\n",
       "      <td>E-commerce &amp; direct-to-consumer</td>\n",
       "      <td>NaN</td>\n",
       "      <td>Singapore</td>\n",
       "      <td>Asia</td>\n",
       "      <td>2012</td>\n",
       "      <td>288</td>\n",
       "      <td>500 Global, Rakuten Ventures, Golden Gate Vent...</td>\n",
       "    </tr>\n",
       "    <tr>\n",
       "      <th>841</th>\n",
       "      <td>Matrixport</td>\n",
       "      <td>1000</td>\n",
       "      <td>2021-06-01</td>\n",
       "      <td>Fintech</td>\n",
       "      <td>NaN</td>\n",
       "      <td>Singapore</td>\n",
       "      <td>Asia</td>\n",
       "      <td>2019</td>\n",
       "      <td>100</td>\n",
       "      <td>Dragonfly Captial, Qiming Venture Partners, DS...</td>\n",
       "    </tr>\n",
       "    <tr>\n",
       "      <th>872</th>\n",
       "      <td>bolttech</td>\n",
       "      <td>1000</td>\n",
       "      <td>2021-07-01</td>\n",
       "      <td>Fintech</td>\n",
       "      <td>NaN</td>\n",
       "      <td>Singapore</td>\n",
       "      <td>Asia</td>\n",
       "      <td>2018</td>\n",
       "      <td>210</td>\n",
       "      <td>Mundi Ventures, Doqling Capital Partners, Acti...</td>\n",
       "    </tr>\n",
       "    <tr>\n",
       "      <th>881</th>\n",
       "      <td>Carro</td>\n",
       "      <td>1000</td>\n",
       "      <td>2021-06-14</td>\n",
       "      <td>E-commerce &amp; direct-to-consumer</td>\n",
       "      <td>NaN</td>\n",
       "      <td>Singapore</td>\n",
       "      <td>Asia</td>\n",
       "      <td>2015</td>\n",
       "      <td>595</td>\n",
       "      <td>SingTel Innov8, Alpha JWC Ventures, Golden Gat...</td>\n",
       "    </tr>\n",
       "    <tr>\n",
       "      <th>969</th>\n",
       "      <td>NIUM</td>\n",
       "      <td>1000</td>\n",
       "      <td>2021-07-13</td>\n",
       "      <td>Fintech</td>\n",
       "      <td>NaN</td>\n",
       "      <td>Singapore</td>\n",
       "      <td>Asia</td>\n",
       "      <td>2014</td>\n",
       "      <td>285</td>\n",
       "      <td>Vertex Ventures SE Asia, Global Founders Capit...</td>\n",
       "    </tr>\n",
       "    <tr>\n",
       "      <th>975</th>\n",
       "      <td>ONE</td>\n",
       "      <td>1000</td>\n",
       "      <td>2021-12-08</td>\n",
       "      <td>Internet software &amp; services</td>\n",
       "      <td>NaN</td>\n",
       "      <td>Singapore</td>\n",
       "      <td>Asia</td>\n",
       "      <td>2011</td>\n",
       "      <td>515</td>\n",
       "      <td>Temasek, Guggenheim Investments, Qatar Investm...</td>\n",
       "    </tr>\n",
       "    <tr>\n",
       "      <th>983</th>\n",
       "      <td>PatSnap</td>\n",
       "      <td>1000</td>\n",
       "      <td>2021-03-16</td>\n",
       "      <td>Internet software &amp; services</td>\n",
       "      <td>NaN</td>\n",
       "      <td>Singapore</td>\n",
       "      <td>Asia</td>\n",
       "      <td>2007</td>\n",
       "      <td>352</td>\n",
       "      <td>Sequoia Capital China, Shunwei Capital Partner...</td>\n",
       "    </tr>\n",
       "  </tbody>\n",
       "</table>\n",
       "</div>"
      ],
      "text/plain": [
       "                        Company  Valuation_M Date Joined  \\\n",
       "170                   HyalRoute         4000  2020-05-26   \n",
       "241                      Moglix         3000  2021-05-17   \n",
       "250                        Trax         3000  2019-07-22   \n",
       "381                   Ninja Van         2000  2021-09-27   \n",
       "539  Advance Intelligence Group         2000  2021-09-23   \n",
       "804                   Carousell         1000  2021-09-15   \n",
       "841                  Matrixport         1000  2021-06-01   \n",
       "872                    bolttech         1000  2021-07-01   \n",
       "881                       Carro         1000  2021-06-14   \n",
       "969                        NIUM         1000  2021-07-13   \n",
       "975                         ONE         1000  2021-12-08   \n",
       "983                     PatSnap         1000  2021-03-16   \n",
       "\n",
       "                                Industry City    Country Continent  \\\n",
       "170          Mobile & telecommunications  NaN  Singapore      Asia   \n",
       "241      E-commerce & direct-to-consumer  NaN  Singapore      Asia   \n",
       "250              Artificial intelligence  NaN  Singapore      Asia   \n",
       "381  Supply chain, logistics, & delivery  NaN  Singapore      Asia   \n",
       "539              Artificial intelligence  NaN  Singapore      Asia   \n",
       "804      E-commerce & direct-to-consumer  NaN  Singapore      Asia   \n",
       "841                              Fintech  NaN  Singapore      Asia   \n",
       "872                              Fintech  NaN  Singapore      Asia   \n",
       "881      E-commerce & direct-to-consumer  NaN  Singapore      Asia   \n",
       "969                              Fintech  NaN  Singapore      Asia   \n",
       "975         Internet software & services  NaN  Singapore      Asia   \n",
       "983         Internet software & services  NaN  Singapore      Asia   \n",
       "\n",
       "     Year Founded  Funding_M  \\\n",
       "170          2015        263   \n",
       "241          2015        471   \n",
       "250          2010       1000   \n",
       "381          2014        975   \n",
       "539          2016        536   \n",
       "804          2012        288   \n",
       "841          2019        100   \n",
       "872          2018        210   \n",
       "881          2015        595   \n",
       "969          2014        285   \n",
       "975          2011        515   \n",
       "983          2007        352   \n",
       "\n",
       "                                      Select Investors  \n",
       "170                                          Kuang-Chi  \n",
       "241            Jungle Ventures, Accel, Venture Highway  \n",
       "250  Hopu Investment Management, Boyu Capital, DC T...  \n",
       "381  B Capital Group, Monk's Hill Ventures, Dynamic...  \n",
       "539        Vision Plus Capital, GSR Ventures, ZhenFund  \n",
       "804  500 Global, Rakuten Ventures, Golden Gate Vent...  \n",
       "841  Dragonfly Captial, Qiming Venture Partners, DS...  \n",
       "872  Mundi Ventures, Doqling Capital Partners, Acti...  \n",
       "881  SingTel Innov8, Alpha JWC Ventures, Golden Gat...  \n",
       "969  Vertex Ventures SE Asia, Global Founders Capit...  \n",
       "975  Temasek, Guggenheim Investments, Qatar Investm...  \n",
       "983  Sequoia Capital China, Shunwei Capital Partner...  "
      ]
     },
     "execution_count": 49,
     "metadata": {},
     "output_type": "execute_result"
    }
   ],
   "source": [
    "data2[data2.Country == 'Singapore']"
   ]
  },
  {
   "cell_type": "markdown",
   "id": "1beb9184",
   "metadata": {},
   "source": [
    "There is also no city for Singapore. Let's do the same as we did before and take a capital of Singapore Singapore"
   ]
  },
  {
   "cell_type": "code",
   "execution_count": 50,
   "id": "1cac0923",
   "metadata": {},
   "outputs": [
    {
     "name": "stderr",
     "output_type": "stream",
     "text": [
      "/var/folders/8z/g1v85qt55t999sxjpnmjb4tr0000gn/T/ipykernel_12725/3508096289.py:1: SettingWithCopyWarning: \n",
      "A value is trying to be set on a copy of a slice from a DataFrame\n",
      "\n",
      "See the caveats in the documentation: https://pandas.pydata.org/pandas-docs/stable/user_guide/indexing.html#returning-a-view-versus-a-copy\n",
      "  data2.City.loc[data2.Country == 'Singapore'] = 'Singapore'\n"
     ]
    }
   ],
   "source": [
    "data2.City.loc[data2.Country == 'Singapore'] = 'Singapore'"
   ]
  },
  {
   "cell_type": "code",
   "execution_count": 51,
   "id": "2b777c74",
   "metadata": {},
   "outputs": [
    {
     "data": {
      "text/plain": [
       "170    Singapore\n",
       "241    Singapore\n",
       "250    Singapore\n",
       "381    Singapore\n",
       "539    Singapore\n",
       "804    Singapore\n",
       "841    Singapore\n",
       "872    Singapore\n",
       "881    Singapore\n",
       "969    Singapore\n",
       "975    Singapore\n",
       "983    Singapore\n",
       "Name: City, dtype: object"
      ]
     },
     "execution_count": 51,
     "metadata": {},
     "output_type": "execute_result"
    }
   ],
   "source": [
    "data2.City.loc[data2.Country == 'Singapore']"
   ]
  },
  {
   "cell_type": "markdown",
   "id": "576651db",
   "metadata": {},
   "source": [
    "### Hong Kong"
   ]
  },
  {
   "cell_type": "code",
   "execution_count": 52,
   "id": "99134d52",
   "metadata": {},
   "outputs": [
    {
     "data": {
      "text/html": [
       "<div>\n",
       "<style scoped>\n",
       "    .dataframe tbody tr th:only-of-type {\n",
       "        vertical-align: middle;\n",
       "    }\n",
       "\n",
       "    .dataframe tbody tr th {\n",
       "        vertical-align: top;\n",
       "    }\n",
       "\n",
       "    .dataframe thead th {\n",
       "        text-align: right;\n",
       "    }\n",
       "</style>\n",
       "<table border=\"1\" class=\"dataframe\">\n",
       "  <thead>\n",
       "    <tr style=\"text-align: right;\">\n",
       "      <th></th>\n",
       "      <th>Company</th>\n",
       "      <th>Valuation_M</th>\n",
       "      <th>Date Joined</th>\n",
       "      <th>Industry</th>\n",
       "      <th>City</th>\n",
       "      <th>Country</th>\n",
       "      <th>Continent</th>\n",
       "      <th>Year Founded</th>\n",
       "      <th>Funding_M</th>\n",
       "      <th>Select Investors</th>\n",
       "    </tr>\n",
       "  </thead>\n",
       "  <tbody>\n",
       "    <tr>\n",
       "      <th>56</th>\n",
       "      <td>Lalamove</td>\n",
       "      <td>10000</td>\n",
       "      <td>2019-02-21</td>\n",
       "      <td>Supply chain, logistics, &amp; delivery</td>\n",
       "      <td>Cheung Sha Wan</td>\n",
       "      <td>Hong Kong</td>\n",
       "      <td>Asia</td>\n",
       "      <td>2013</td>\n",
       "      <td>2000</td>\n",
       "      <td>MindWorks Ventures, Shunwei Capital Partners, ...</td>\n",
       "    </tr>\n",
       "    <tr>\n",
       "      <th>324</th>\n",
       "      <td>Amber Group</td>\n",
       "      <td>3000</td>\n",
       "      <td>2021-06-21</td>\n",
       "      <td>Fintech</td>\n",
       "      <td>NaN</td>\n",
       "      <td>Hong Kong</td>\n",
       "      <td>Asia</td>\n",
       "      <td>2015</td>\n",
       "      <td>328</td>\n",
       "      <td>Tiger Global Management, Tiger Brokers, DCM Ve...</td>\n",
       "    </tr>\n",
       "    <tr>\n",
       "      <th>592</th>\n",
       "      <td>Trendy Group International</td>\n",
       "      <td>2000</td>\n",
       "      <td>2012-02-13</td>\n",
       "      <td>Consumer &amp; retail</td>\n",
       "      <td>Kowloon</td>\n",
       "      <td>Hong Kong</td>\n",
       "      <td>Asia</td>\n",
       "      <td>1999</td>\n",
       "      <td>200</td>\n",
       "      <td>L Capital Partners</td>\n",
       "    </tr>\n",
       "    <tr>\n",
       "      <th>714</th>\n",
       "      <td>Klook</td>\n",
       "      <td>1000</td>\n",
       "      <td>2018-08-07</td>\n",
       "      <td>Travel</td>\n",
       "      <td>Central</td>\n",
       "      <td>Hong Kong</td>\n",
       "      <td>Asia</td>\n",
       "      <td>2014</td>\n",
       "      <td>722</td>\n",
       "      <td>Sequoia Capital China, Goldman Sachs, Matrix P...</td>\n",
       "    </tr>\n",
       "    <tr>\n",
       "      <th>884</th>\n",
       "      <td>Cider</td>\n",
       "      <td>1000</td>\n",
       "      <td>2021-09-02</td>\n",
       "      <td>E-commerce &amp; direct-to-consumer</td>\n",
       "      <td>NaN</td>\n",
       "      <td>Hong Kong</td>\n",
       "      <td>Asia</td>\n",
       "      <td>2020</td>\n",
       "      <td>140</td>\n",
       "      <td>Andreessen Horowitz, DST Global, IDG Capital</td>\n",
       "    </tr>\n",
       "    <tr>\n",
       "      <th>1049</th>\n",
       "      <td>WeLab</td>\n",
       "      <td>1000</td>\n",
       "      <td>2017-11-08</td>\n",
       "      <td>Fintech</td>\n",
       "      <td>NaN</td>\n",
       "      <td>Hong Kong</td>\n",
       "      <td>Asia</td>\n",
       "      <td>2013</td>\n",
       "      <td>871</td>\n",
       "      <td>Sequoia Capital China, ING, Alibaba Entreprene...</td>\n",
       "    </tr>\n",
       "  </tbody>\n",
       "</table>\n",
       "</div>"
      ],
      "text/plain": [
       "                         Company  Valuation_M Date Joined  \\\n",
       "56                      Lalamove        10000  2019-02-21   \n",
       "324                  Amber Group         3000  2021-06-21   \n",
       "592   Trendy Group International         2000  2012-02-13   \n",
       "714                        Klook         1000  2018-08-07   \n",
       "884                        Cider         1000  2021-09-02   \n",
       "1049                       WeLab         1000  2017-11-08   \n",
       "\n",
       "                                 Industry            City    Country  \\\n",
       "56    Supply chain, logistics, & delivery  Cheung Sha Wan  Hong Kong   \n",
       "324                               Fintech             NaN  Hong Kong   \n",
       "592                     Consumer & retail         Kowloon  Hong Kong   \n",
       "714                                Travel         Central  Hong Kong   \n",
       "884       E-commerce & direct-to-consumer             NaN  Hong Kong   \n",
       "1049                              Fintech             NaN  Hong Kong   \n",
       "\n",
       "     Continent  Year Founded  Funding_M  \\\n",
       "56        Asia          2013       2000   \n",
       "324       Asia          2015        328   \n",
       "592       Asia          1999        200   \n",
       "714       Asia          2014        722   \n",
       "884       Asia          2020        140   \n",
       "1049      Asia          2013        871   \n",
       "\n",
       "                                       Select Investors  \n",
       "56    MindWorks Ventures, Shunwei Capital Partners, ...  \n",
       "324   Tiger Global Management, Tiger Brokers, DCM Ve...  \n",
       "592                                  L Capital Partners  \n",
       "714   Sequoia Capital China, Goldman Sachs, Matrix P...  \n",
       "884        Andreessen Horowitz, DST Global, IDG Capital  \n",
       "1049  Sequoia Capital China, ING, Alibaba Entreprene...  "
      ]
     },
     "execution_count": 52,
     "metadata": {},
     "output_type": "execute_result"
    }
   ],
   "source": [
    "data2[data2.Country == 'Hong Kong']"
   ]
  },
  {
   "cell_type": "markdown",
   "id": "0fb6806b",
   "metadata": {},
   "source": [
    "There is no capital of Hong Kong, overall city can be called Hong Kong"
   ]
  },
  {
   "cell_type": "code",
   "execution_count": 53,
   "id": "20e9353f",
   "metadata": {},
   "outputs": [
    {
     "name": "stderr",
     "output_type": "stream",
     "text": [
      "/var/folders/8z/g1v85qt55t999sxjpnmjb4tr0000gn/T/ipykernel_12725/640783588.py:1: SettingWithCopyWarning: \n",
      "A value is trying to be set on a copy of a slice from a DataFrame\n",
      "\n",
      "See the caveats in the documentation: https://pandas.pydata.org/pandas-docs/stable/user_guide/indexing.html#returning-a-view-versus-a-copy\n",
      "  data2.City.loc[data2.Country == 'Hong Kong'] = 'Hong Kong'\n"
     ]
    }
   ],
   "source": [
    "data2.City.loc[data2.Country == 'Hong Kong'] = 'Hong Kong'"
   ]
  },
  {
   "cell_type": "code",
   "execution_count": 54,
   "id": "7461f5a3",
   "metadata": {},
   "outputs": [
    {
     "data": {
      "text/plain": [
       "56      Hong Kong\n",
       "324     Hong Kong\n",
       "592     Hong Kong\n",
       "714     Hong Kong\n",
       "884     Hong Kong\n",
       "1049    Hong Kong\n",
       "Name: City, dtype: object"
      ]
     },
     "execution_count": 54,
     "metadata": {},
     "output_type": "execute_result"
    }
   ],
   "source": [
    "data2.City.loc[data2.Country == 'Hong Kong']"
   ]
  },
  {
   "cell_type": "code",
   "execution_count": 55,
   "id": "ae3d569d",
   "metadata": {},
   "outputs": [
    {
     "data": {
      "text/plain": [
       "Company             0\n",
       "Valuation_M         0\n",
       "Date Joined         0\n",
       "Industry            0\n",
       "City                0\n",
       "Country             0\n",
       "Continent           0\n",
       "Year Founded        0\n",
       "Funding_M           0\n",
       "Select Investors    0\n",
       "dtype: int64"
      ]
     },
     "execution_count": 55,
     "metadata": {},
     "output_type": "execute_result"
    }
   ],
   "source": [
    "data2.isna().sum()"
   ]
  },
  {
   "cell_type": "code",
   "execution_count": 56,
   "id": "42a93841",
   "metadata": {},
   "outputs": [
    {
     "data": {
      "text/plain": [
       "0"
      ]
     },
     "execution_count": 56,
     "metadata": {},
     "output_type": "execute_result"
    }
   ],
   "source": [
    "data2.duplicated().sum()"
   ]
  },
  {
   "cell_type": "code",
   "execution_count": 57,
   "id": "a502c38a",
   "metadata": {},
   "outputs": [
    {
     "data": {
      "text/html": [
       "<div>\n",
       "<style scoped>\n",
       "    .dataframe tbody tr th:only-of-type {\n",
       "        vertical-align: middle;\n",
       "    }\n",
       "\n",
       "    .dataframe tbody tr th {\n",
       "        vertical-align: top;\n",
       "    }\n",
       "\n",
       "    .dataframe thead th {\n",
       "        text-align: right;\n",
       "    }\n",
       "</style>\n",
       "<table border=\"1\" class=\"dataframe\">\n",
       "  <thead>\n",
       "    <tr style=\"text-align: right;\">\n",
       "      <th></th>\n",
       "      <th>Company</th>\n",
       "      <th>Valuation</th>\n",
       "      <th>Date Joined</th>\n",
       "      <th>Industry</th>\n",
       "      <th>City</th>\n",
       "      <th>Country</th>\n",
       "      <th>Continent</th>\n",
       "      <th>Year Founded</th>\n",
       "      <th>Funding</th>\n",
       "      <th>Select Investors</th>\n",
       "    </tr>\n",
       "  </thead>\n",
       "  <tbody>\n",
       "    <tr>\n",
       "      <th>44</th>\n",
       "      <td>Bolt</td>\n",
       "      <td>$11B</td>\n",
       "      <td>2021-10-08</td>\n",
       "      <td>Fintech</td>\n",
       "      <td>San Francisco</td>\n",
       "      <td>United States</td>\n",
       "      <td>North America</td>\n",
       "      <td>2014</td>\n",
       "      <td>$1B</td>\n",
       "      <td>Activant Capital, Tribe Capital, General Atlantic</td>\n",
       "    </tr>\n",
       "  </tbody>\n",
       "</table>\n",
       "</div>"
      ],
      "text/plain": [
       "   Company Valuation Date Joined Industry           City        Country  \\\n",
       "44    Bolt      $11B  2021-10-08  Fintech  San Francisco  United States   \n",
       "\n",
       "        Continent  Year Founded Funding  \\\n",
       "44  North America          2014     $1B   \n",
       "\n",
       "                                     Select Investors  \n",
       "44  Activant Capital, Tribe Capital, General Atlantic  "
      ]
     },
     "execution_count": 57,
     "metadata": {},
     "output_type": "execute_result"
    }
   ],
   "source": [
    "data[data.Company.duplicated()]"
   ]
  },
  {
   "cell_type": "code",
   "execution_count": 58,
   "id": "f291b320",
   "metadata": {},
   "outputs": [
    {
     "data": {
      "text/html": [
       "<div>\n",
       "<style scoped>\n",
       "    .dataframe tbody tr th:only-of-type {\n",
       "        vertical-align: middle;\n",
       "    }\n",
       "\n",
       "    .dataframe tbody tr th {\n",
       "        vertical-align: top;\n",
       "    }\n",
       "\n",
       "    .dataframe thead th {\n",
       "        text-align: right;\n",
       "    }\n",
       "</style>\n",
       "<table border=\"1\" class=\"dataframe\">\n",
       "  <thead>\n",
       "    <tr style=\"text-align: right;\">\n",
       "      <th></th>\n",
       "      <th>Company</th>\n",
       "      <th>Valuation</th>\n",
       "      <th>Date Joined</th>\n",
       "      <th>Industry</th>\n",
       "      <th>City</th>\n",
       "      <th>Country</th>\n",
       "      <th>Continent</th>\n",
       "      <th>Year Founded</th>\n",
       "      <th>Funding</th>\n",
       "      <th>Select Investors</th>\n",
       "    </tr>\n",
       "  </thead>\n",
       "  <tbody>\n",
       "    <tr>\n",
       "      <th>40</th>\n",
       "      <td>Bolt</td>\n",
       "      <td>$11B</td>\n",
       "      <td>2018-05-29</td>\n",
       "      <td>Auto &amp; transportation</td>\n",
       "      <td>Tallinn</td>\n",
       "      <td>Estonia</td>\n",
       "      <td>Europe</td>\n",
       "      <td>2013</td>\n",
       "      <td>$1B</td>\n",
       "      <td>Didi Chuxing, Diamler, TMT Investments</td>\n",
       "    </tr>\n",
       "    <tr>\n",
       "      <th>44</th>\n",
       "      <td>Bolt</td>\n",
       "      <td>$11B</td>\n",
       "      <td>2021-10-08</td>\n",
       "      <td>Fintech</td>\n",
       "      <td>San Francisco</td>\n",
       "      <td>United States</td>\n",
       "      <td>North America</td>\n",
       "      <td>2014</td>\n",
       "      <td>$1B</td>\n",
       "      <td>Activant Capital, Tribe Capital, General Atlantic</td>\n",
       "    </tr>\n",
       "  </tbody>\n",
       "</table>\n",
       "</div>"
      ],
      "text/plain": [
       "   Company Valuation Date Joined               Industry           City  \\\n",
       "40    Bolt      $11B  2018-05-29  Auto & transportation        Tallinn   \n",
       "44    Bolt      $11B  2021-10-08                Fintech  San Francisco   \n",
       "\n",
       "          Country      Continent  Year Founded Funding  \\\n",
       "40        Estonia         Europe          2013     $1B   \n",
       "44  United States  North America          2014     $1B   \n",
       "\n",
       "                                     Select Investors  \n",
       "40             Didi Chuxing, Diamler, TMT Investments  \n",
       "44  Activant Capital, Tribe Capital, General Atlantic  "
      ]
     },
     "execution_count": 58,
     "metadata": {},
     "output_type": "execute_result"
    }
   ],
   "source": [
    "data[data.Company == 'Bolt']"
   ]
  },
  {
   "cell_type": "markdown",
   "id": "820aeb1f",
   "metadata": {},
   "source": [
    "Bolt company mentioned 2 times in different industries, we will treat them as different companies"
   ]
  },
  {
   "cell_type": "code",
   "execution_count": 59,
   "id": "9d915d57",
   "metadata": {},
   "outputs": [
    {
     "data": {
      "text/html": [
       "<div>\n",
       "<style scoped>\n",
       "    .dataframe tbody tr th:only-of-type {\n",
       "        vertical-align: middle;\n",
       "    }\n",
       "\n",
       "    .dataframe tbody tr th {\n",
       "        vertical-align: top;\n",
       "    }\n",
       "\n",
       "    .dataframe thead th {\n",
       "        text-align: right;\n",
       "    }\n",
       "</style>\n",
       "<table border=\"1\" class=\"dataframe\">\n",
       "  <thead>\n",
       "    <tr style=\"text-align: right;\">\n",
       "      <th></th>\n",
       "      <th>Company</th>\n",
       "      <th>Valuation_M</th>\n",
       "      <th>Date Joined</th>\n",
       "      <th>Industry</th>\n",
       "      <th>City</th>\n",
       "      <th>Country</th>\n",
       "      <th>Continent</th>\n",
       "      <th>Year Founded</th>\n",
       "      <th>Funding_M</th>\n",
       "      <th>Select Investors</th>\n",
       "    </tr>\n",
       "  </thead>\n",
       "  <tbody>\n",
       "    <tr>\n",
       "      <th>0</th>\n",
       "      <td>Bytedance</td>\n",
       "      <td>180000</td>\n",
       "      <td>2017-04-07</td>\n",
       "      <td>Artificial intelligence</td>\n",
       "      <td>Beijing</td>\n",
       "      <td>China</td>\n",
       "      <td>Asia</td>\n",
       "      <td>2012</td>\n",
       "      <td>8000</td>\n",
       "      <td>Sequoia Capital China, SIG Asia Investments, S...</td>\n",
       "    </tr>\n",
       "    <tr>\n",
       "      <th>1</th>\n",
       "      <td>SpaceX</td>\n",
       "      <td>100000</td>\n",
       "      <td>2012-12-01</td>\n",
       "      <td>Other</td>\n",
       "      <td>Hawthorne</td>\n",
       "      <td>United States</td>\n",
       "      <td>North America</td>\n",
       "      <td>2002</td>\n",
       "      <td>7000</td>\n",
       "      <td>Founders Fund, Draper Fisher Jurvetson, Rothen...</td>\n",
       "    </tr>\n",
       "    <tr>\n",
       "      <th>2</th>\n",
       "      <td>SHEIN</td>\n",
       "      <td>100000</td>\n",
       "      <td>2018-07-03</td>\n",
       "      <td>E-commerce &amp; direct-to-consumer</td>\n",
       "      <td>Shenzhen</td>\n",
       "      <td>China</td>\n",
       "      <td>Asia</td>\n",
       "      <td>2008</td>\n",
       "      <td>2000</td>\n",
       "      <td>Tiger Global Management, Sequoia Capital China...</td>\n",
       "    </tr>\n",
       "    <tr>\n",
       "      <th>3</th>\n",
       "      <td>Stripe</td>\n",
       "      <td>95000</td>\n",
       "      <td>2014-01-23</td>\n",
       "      <td>Fintech</td>\n",
       "      <td>San Francisco</td>\n",
       "      <td>United States</td>\n",
       "      <td>North America</td>\n",
       "      <td>2010</td>\n",
       "      <td>2000</td>\n",
       "      <td>Khosla Ventures, LowercaseCapital, capitalG</td>\n",
       "    </tr>\n",
       "    <tr>\n",
       "      <th>4</th>\n",
       "      <td>Klarna</td>\n",
       "      <td>46000</td>\n",
       "      <td>2011-12-12</td>\n",
       "      <td>Fintech</td>\n",
       "      <td>Stockholm</td>\n",
       "      <td>Sweden</td>\n",
       "      <td>Europe</td>\n",
       "      <td>2005</td>\n",
       "      <td>4000</td>\n",
       "      <td>Institutional Venture Partners, Sequoia Capita...</td>\n",
       "    </tr>\n",
       "  </tbody>\n",
       "</table>\n",
       "</div>"
      ],
      "text/plain": [
       "     Company  Valuation_M Date Joined                         Industry  \\\n",
       "0  Bytedance       180000  2017-04-07          Artificial intelligence   \n",
       "1     SpaceX       100000  2012-12-01                            Other   \n",
       "2      SHEIN       100000  2018-07-03  E-commerce & direct-to-consumer   \n",
       "3     Stripe        95000  2014-01-23                          Fintech   \n",
       "4     Klarna        46000  2011-12-12                          Fintech   \n",
       "\n",
       "            City        Country      Continent  Year Founded  Funding_M  \\\n",
       "0        Beijing          China           Asia          2012       8000   \n",
       "1      Hawthorne  United States  North America          2002       7000   \n",
       "2       Shenzhen          China           Asia          2008       2000   \n",
       "3  San Francisco  United States  North America          2010       2000   \n",
       "4      Stockholm         Sweden         Europe          2005       4000   \n",
       "\n",
       "                                    Select Investors  \n",
       "0  Sequoia Capital China, SIG Asia Investments, S...  \n",
       "1  Founders Fund, Draper Fisher Jurvetson, Rothen...  \n",
       "2  Tiger Global Management, Sequoia Capital China...  \n",
       "3        Khosla Ventures, LowercaseCapital, capitalG  \n",
       "4  Institutional Venture Partners, Sequoia Capita...  "
      ]
     },
     "execution_count": 59,
     "metadata": {},
     "output_type": "execute_result"
    }
   ],
   "source": [
    "data2.head()"
   ]
  },
  {
   "cell_type": "code",
   "execution_count": 60,
   "id": "d1c65c1f",
   "metadata": {},
   "outputs": [
    {
     "data": {
      "text/html": [
       "<div>\n",
       "<style scoped>\n",
       "    .dataframe tbody tr th:only-of-type {\n",
       "        vertical-align: middle;\n",
       "    }\n",
       "\n",
       "    .dataframe tbody tr th {\n",
       "        vertical-align: top;\n",
       "    }\n",
       "\n",
       "    .dataframe thead th {\n",
       "        text-align: right;\n",
       "    }\n",
       "</style>\n",
       "<table border=\"1\" class=\"dataframe\">\n",
       "  <thead>\n",
       "    <tr style=\"text-align: right;\">\n",
       "      <th></th>\n",
       "      <th>Valuation_M</th>\n",
       "      <th>Year Founded</th>\n",
       "      <th>Funding_M</th>\n",
       "    </tr>\n",
       "  </thead>\n",
       "  <tbody>\n",
       "    <tr>\n",
       "      <th>count</th>\n",
       "      <td>1061.000000</td>\n",
       "      <td>1061.000000</td>\n",
       "      <td>1061.000000</td>\n",
       "    </tr>\n",
       "    <tr>\n",
       "      <th>mean</th>\n",
       "      <td>3480.678605</td>\n",
       "      <td>2012.917059</td>\n",
       "      <td>557.745523</td>\n",
       "    </tr>\n",
       "    <tr>\n",
       "      <th>std</th>\n",
       "      <td>8595.679801</td>\n",
       "      <td>5.679216</td>\n",
       "      <td>810.366898</td>\n",
       "    </tr>\n",
       "    <tr>\n",
       "      <th>min</th>\n",
       "      <td>1000.000000</td>\n",
       "      <td>1919.000000</td>\n",
       "      <td>0.000000</td>\n",
       "    </tr>\n",
       "    <tr>\n",
       "      <th>25%</th>\n",
       "      <td>1000.000000</td>\n",
       "      <td>2011.000000</td>\n",
       "      <td>223.000000</td>\n",
       "    </tr>\n",
       "    <tr>\n",
       "      <th>50%</th>\n",
       "      <td>2000.000000</td>\n",
       "      <td>2014.000000</td>\n",
       "      <td>370.000000</td>\n",
       "    </tr>\n",
       "    <tr>\n",
       "      <th>75%</th>\n",
       "      <td>3000.000000</td>\n",
       "      <td>2016.000000</td>\n",
       "      <td>610.000000</td>\n",
       "    </tr>\n",
       "    <tr>\n",
       "      <th>max</th>\n",
       "      <td>180000.000000</td>\n",
       "      <td>2021.000000</td>\n",
       "      <td>14000.000000</td>\n",
       "    </tr>\n",
       "  </tbody>\n",
       "</table>\n",
       "</div>"
      ],
      "text/plain": [
       "         Valuation_M  Year Founded     Funding_M\n",
       "count    1061.000000   1061.000000   1061.000000\n",
       "mean     3480.678605   2012.917059    557.745523\n",
       "std      8595.679801      5.679216    810.366898\n",
       "min      1000.000000   1919.000000      0.000000\n",
       "25%      1000.000000   2011.000000    223.000000\n",
       "50%      2000.000000   2014.000000    370.000000\n",
       "75%      3000.000000   2016.000000    610.000000\n",
       "max    180000.000000   2021.000000  14000.000000"
      ]
     },
     "execution_count": 60,
     "metadata": {},
     "output_type": "execute_result"
    }
   ],
   "source": [
    "data2.describe()"
   ]
  },
  {
   "cell_type": "markdown",
   "id": "3e54f91e",
   "metadata": {},
   "source": [
    "### 43% of companies had validation in the amount of 1000 millions or 1 billion dollars"
   ]
  },
  {
   "cell_type": "code",
   "execution_count": 61,
   "id": "84d77eb6",
   "metadata": {},
   "outputs": [
    {
     "data": {
      "text/plain": [
       "1000      0.434496\n",
       "2000      0.231857\n",
       "3000      0.108388\n",
       "4000      0.066918\n",
       "5000      0.037700\n",
       "6000      0.024505\n",
       "7000      0.016965\n",
       "10000     0.014138\n",
       "8000      0.012253\n",
       "9000      0.009425\n",
       "12000     0.009425\n",
       "11000     0.006598\n",
       "13000     0.003770\n",
       "15000     0.003770\n",
       "100000    0.001885\n",
       "20000     0.001885\n",
       "32000     0.001885\n",
       "38000     0.001885\n",
       "40000     0.001885\n",
       "17000     0.000943\n",
       "14000     0.000943\n",
       "18000     0.000943\n",
       "22000     0.000943\n",
       "25000     0.000943\n",
       "27000     0.000943\n",
       "33000     0.000943\n",
       "39000     0.000943\n",
       "46000     0.000943\n",
       "95000     0.000943\n",
       "180000    0.000943\n",
       "Name: Valuation_M, dtype: float64"
      ]
     },
     "execution_count": 61,
     "metadata": {},
     "output_type": "execute_result"
    }
   ],
   "source": [
    "data2.Valuation_M.value_counts(normalize = True)"
   ]
  },
  {
   "cell_type": "code",
   "execution_count": 66,
   "id": "e4225711",
   "metadata": {},
   "outputs": [
    {
     "data": {
      "text/plain": [
       "1000    60\n",
       "2000    30\n",
       "200     12\n",
       "4000     9\n",
       "3000     7\n",
       "        ..\n",
       "101      1\n",
       "19       1\n",
       "946      1\n",
       "180      1\n",
       "620      1\n",
       "Name: Funding_M, Length: 537, dtype: int64"
      ]
     },
     "execution_count": 66,
     "metadata": {},
     "output_type": "execute_result"
    }
   ],
   "source": [
    "data2.Funding_M.value_counts()"
   ]
  },
  {
   "cell_type": "code",
   "execution_count": 67,
   "id": "2240260a",
   "metadata": {},
   "outputs": [],
   "source": [
    "df_year = pd.DataFrame(data2['Year Founded'].value_counts())"
   ]
  },
  {
   "cell_type": "markdown",
   "id": "a92a5044",
   "metadata": {},
   "source": [
    "### 2015 is the year when the majority of companies from the dataset were founded"
   ]
  },
  {
   "cell_type": "code",
   "execution_count": 68,
   "id": "bc66bc92",
   "metadata": {},
   "outputs": [
    {
     "data": {
      "text/plain": [
       "<AxesSubplot:xlabel='year'>"
      ]
     },
     "execution_count": 68,
     "metadata": {},
     "output_type": "execute_result"
    },
    {
     "data": {
      "image/png": "[encoded data removed]",
      "text/plain": [
       "<Figure size 1200x600 with 1 Axes>"
      ]
     },
     "metadata": {},
     "output_type": "display_data"
    }
   ],
   "source": [
    "df_year.index.name ='year'\n",
    "df_year.rename(columns ={'Year Founded':'value_counts'})\n",
    "df_year.sort_values(by ='year').plot(kind = 'bar')"
   ]
  },
  {
   "cell_type": "markdown",
   "id": "c508400c",
   "metadata": {},
   "source": [
    "### Fintech and Internet software & services are the most popular industries"
   ]
  },
  {
   "cell_type": "code",
   "execution_count": 73,
   "id": "d1161bb2",
   "metadata": {},
   "outputs": [
    {
     "data": {
      "text/plain": [
       "Fintech                                0.209237\n",
       "Internet software & services           0.191329\n",
       "E-commerce & direct-to-consumer        0.102733\n",
       "Health                                 0.069746\n",
       "Artificial intelligence                0.068803\n",
       "Other                                  0.052780\n",
       "Supply chain, logistics, & delivery    0.052780\n",
       "Cybersecurity                          0.047125\n",
       "Data management & analytics            0.037700\n",
       "Mobile & telecommunications            0.033930\n",
       "Hardware                               0.032045\n",
       "Auto & transportation                  0.029218\n",
       "Edtech                                 0.026390\n",
       "Consumer & retail                      0.022620\n",
       "Travel                                 0.013195\n",
       "Artificial Intelligence                0.010368\n",
       "Name: Industry, dtype: float64"
      ]
     },
     "execution_count": 73,
     "metadata": {},
     "output_type": "execute_result"
    }
   ],
   "source": [
    "data2.Industry.value_counts(normalize = True)"
   ]
  },
  {
   "cell_type": "code",
   "execution_count": 71,
   "id": "2b2bd215",
   "metadata": {},
   "outputs": [
    {
     "data": {
      "text/plain": [
       "<AxesSubplot:>"
      ]
     },
     "execution_count": 71,
     "metadata": {},
     "output_type": "execute_result"
    },
    {
     "data": {
      "image/png": "[encoded data removed]",
      "text/plain": [
       "<Figure size 1200x600 with 1 Axes>"
      ]
     },
     "metadata": {},
     "output_type": "display_data"
    }
   ],
   "source": [
    "data2.Industry.value_counts().plot(kind = 'bar')"
   ]
  },
  {
   "cell_type": "markdown",
   "id": "56ea2376",
   "metadata": {},
   "source": [
    "### More than 50% of companies are from North America, almost 30% from Asia"
   ]
  },
  {
   "cell_type": "code",
   "execution_count": 76,
   "id": "e71b9f9b",
   "metadata": {},
   "outputs": [
    {
     "data": {
      "text/plain": [
       "North America    0.547597\n",
       "Asia             0.288407\n",
       "Europe           0.133836\n",
       "South America    0.019793\n",
       "Oceania          0.007540\n",
       "Africa           0.002828\n",
       "Name: Continent, dtype: float64"
      ]
     },
     "execution_count": 76,
     "metadata": {},
     "output_type": "execute_result"
    }
   ],
   "source": [
    "data2.Continent.value_counts(normalize = True)"
   ]
  },
  {
   "cell_type": "code",
   "execution_count": 74,
   "id": "637b52f9",
   "metadata": {},
   "outputs": [
    {
     "data": {
      "text/plain": [
       "<AxesSubplot:>"
      ]
     },
     "execution_count": 74,
     "metadata": {},
     "output_type": "execute_result"
    },
    {
     "data": {
      "image/png": "[encoded data removed]",
      "text/plain": [
       "<Figure size 1200x600 with 1 Axes>"
      ]
     },
     "metadata": {},
     "output_type": "display_data"
    }
   ],
   "source": [
    "data2.Continent.value_counts().plot(kind = 'bar')"
   ]
  },
  {
   "cell_type": "markdown",
   "id": "2f8655cc",
   "metadata": {},
   "source": [
    "### More than 50% of companies are from United States, more than 15% from China"
   ]
  },
  {
   "cell_type": "code",
   "execution_count": 78,
   "id": "fc071c7c",
   "metadata": {},
   "outputs": [
    {
     "data": {
      "text/plain": [
       "United States           0.523091\n",
       "China                   0.159284\n",
       "India                   0.061263\n",
       "United Kingdom          0.040528\n",
       "Germany                 0.024505\n",
       "France                  0.021678\n",
       "Israel                  0.018850\n",
       "Canada                  0.016965\n",
       "Brazil                  0.015080\n",
       "Singapore               0.011310\n",
       "South Korea             0.011310\n",
       "Australia               0.007540\n",
       "Hong Kong               0.005655\n",
       "Mexico                  0.005655\n",
       "Indonesia               0.005655\n",
       "Netherlands             0.005655\n",
       "Sweden                  0.005655\n",
       "Switzerland             0.004713\n",
       "Japan                   0.004713\n",
       "Ireland                 0.004713\n",
       "Finland                 0.003770\n",
       "Norway                  0.003770\n",
       "United Arab Emirates    0.002828\n",
       "Turkey                  0.002828\n",
       "Spain                   0.002828\n",
       "Belgium                 0.002828\n",
       "Chile                   0.001885\n",
       "South Africa            0.001885\n",
       "Philippines             0.001885\n",
       "Thailand                0.001885\n",
       "Estonia                 0.001885\n",
       "Vietnam                 0.001885\n",
       "Austria                 0.001885\n",
       "Colombia                0.001885\n",
       "Denmark                 0.001885\n",
       "Argentina               0.000943\n",
       "Bermuda                 0.000943\n",
       "Lithuania               0.000943\n",
       "Malaysia                0.000943\n",
       "Senegal                 0.000943\n",
       "Bahamas                 0.000943\n",
       "Luxembourg              0.000943\n",
       "Nigeria                 0.000943\n",
       "Czech Republic          0.000943\n",
       "Croatia                 0.000943\n",
       "Italy                   0.000943\n",
       "Name: Country, dtype: float64"
      ]
     },
     "execution_count": 78,
     "metadata": {},
     "output_type": "execute_result"
    }
   ],
   "source": [
    "data2.Country.value_counts(normalize = True)"
   ]
  },
  {
   "cell_type": "code",
   "execution_count": 79,
   "id": "f1938477",
   "metadata": {},
   "outputs": [
    {
     "data": {
      "text/plain": [
       "<AxesSubplot:>"
      ]
     },
     "execution_count": 79,
     "metadata": {},
     "output_type": "execute_result"
    },
    {
     "data": {
      "image/png": "[encoded data removed]",
      "text/plain": [
       "<Figure size 1200x600 with 1 Axes>"
      ]
     },
     "metadata": {},
     "output_type": "display_data"
    }
   ],
   "source": [
    "data2.Country.value_counts().plot(kind = 'bar')"
   ]
  },
  {
   "cell_type": "markdown",
   "id": "4c07484d",
   "metadata": {},
   "source": [
    "### 14% of companies are from San Francisco, which is explainable, because Silicon Valley is in San Francisco"
   ]
  },
  {
   "cell_type": "code",
   "execution_count": 81,
   "id": "12108c29",
   "metadata": {},
   "outputs": [
    {
     "data": {
      "text/plain": [
       "San Francisco    0.143261\n",
       "New York         0.096136\n",
       "Beijing          0.058435\n",
       "Shanghai         0.039585\n",
       "London           0.032045\n",
       "                   ...   \n",
       "Nashville        0.000943\n",
       "Lysaker          0.000943\n",
       "Richmond         0.000943\n",
       "Santa Barbara    0.000943\n",
       "Milpitas         0.000943\n",
       "Name: City, Length: 253, dtype: float64"
      ]
     },
     "execution_count": 81,
     "metadata": {},
     "output_type": "execute_result"
    }
   ],
   "source": [
    "data2.City.value_counts(normalize = True)"
   ]
  },
  {
   "cell_type": "code",
   "execution_count": 87,
   "id": "2616f406",
   "metadata": {},
   "outputs": [
    {
     "data": {
      "text/plain": [
       "<AxesSubplot:>"
      ]
     },
     "execution_count": 87,
     "metadata": {},
     "output_type": "execute_result"
    },
    {
     "data": {
      "image/png": "[encoded data removed]",
      "text/plain": [
       "<Figure size 1200x600 with 1 Axes>"
      ]
     },
     "metadata": {},
     "output_type": "display_data"
    }
   ],
   "source": [
    "data2['Date Joined'].value_counts().plot(kind = 'line')"
   ]
  },
  {
   "cell_type": "code",
   "execution_count": 92,
   "id": "3dc7bf04",
   "metadata": {},
   "outputs": [],
   "source": [
    "a = []\n",
    "for i in data2['Date Joined']:\n",
    "    a.append(i.year)\n",
    "\n",
    "data2['Year_Joined'] = a"
   ]
  },
  {
   "cell_type": "markdown",
   "id": "f35e98da",
   "metadata": {},
   "source": [
    "### Almost 50% of companies reached 1 billion dollars in valuation in 2021"
   ]
  },
  {
   "cell_type": "code",
   "execution_count": 97,
   "id": "e72c263c",
   "metadata": {},
   "outputs": [
    {
     "data": {
      "text/plain": [
       "2021    0.483506\n",
       "2022    0.109331\n",
       "2020    0.100848\n",
       "2018    0.097078\n",
       "2019    0.096136\n",
       "2017    0.041470\n",
       "2015    0.032045\n",
       "2016    0.018850\n",
       "2014    0.012253\n",
       "2012    0.003770\n",
       "2013    0.002828\n",
       "2011    0.001885\n",
       "Name: Year_Joined, dtype: float64"
      ]
     },
     "execution_count": 97,
     "metadata": {},
     "output_type": "execute_result"
    }
   ],
   "source": [
    "data2['Year_Joined'].value_counts(normalize = True)"
   ]
  },
  {
   "cell_type": "code",
   "execution_count": 95,
   "id": "a920c9b4",
   "metadata": {},
   "outputs": [
    {
     "data": {
      "text/plain": [
       "<AxesSubplot:>"
      ]
     },
     "execution_count": 95,
     "metadata": {},
     "output_type": "execute_result"
    },
    {
     "data": {
      "image/png": "[encoded data removed]",
      "text/plain": [
       "<Figure size 1200x600 with 1 Axes>"
      ]
     },
     "metadata": {},
     "output_type": "display_data"
    }
   ],
   "source": [
    "data2['Year_Joined'].value_counts().plot(kind = 'bar')"
   ]
  },
  {
   "cell_type": "code",
   "execution_count": 833,
   "id": "5d68005b",
   "metadata": {},
   "outputs": [
    {
     "data": {
      "text/plain": [
       "<seaborn.axisgrid.PairGrid at 0x28e64bc10>"
      ]
     },
     "execution_count": 833,
     "metadata": {},
     "output_type": "execute_result"
    },
    {
     "data": {
      "image/png": "[encoded data removed]",
      "text/plain": [
       "<Figure size 750x750 with 12 Axes>"
      ]
     },
     "metadata": {},
     "output_type": "display_data"
    }
   ],
   "source": [
    "sns.pairplot(data2)"
   ]
  },
  {
   "cell_type": "code",
   "execution_count": 107,
   "id": "981e06c2",
   "metadata": {},
   "outputs": [],
   "source": [
    "b = []\n",
    "for i in data2['Select Investors']:\n",
    "    b.append(i.split(','))\n"
   ]
  },
  {
   "cell_type": "code",
   "execution_count": 121,
   "id": "4f5e105d",
   "metadata": {},
   "outputs": [],
   "source": [
    "list_of_investors = []\n",
    "for i in b:\n",
    "    list_of_investors+=i"
   ]
  },
  {
   "cell_type": "markdown",
   "id": "7a59ea76",
   "metadata": {},
   "source": [
    "### Top 5 investors:\n",
    "#### Tiger Global Management           \n",
    "#### Accel                            \n",
    "#### Sequoia Capital                   \n",
    "#### Sequoia Capital China            \n",
    "#### Andreessen Horowitz "
   ]
  },
  {
   "cell_type": "code",
   "execution_count": 125,
   "id": "48e6ea49",
   "metadata": {},
   "outputs": [
    {
     "data": {
      "text/plain": [
       " Tiger Global Management           39\n",
       " Accel                             32\n",
       " Sequoia Capital                   30\n",
       "Sequoia Capital China              30\n",
       "Andreessen Horowitz                29\n",
       "                                   ..\n",
       " SingTel Innov8                     1\n",
       " SingulariTeam                      1\n",
       " Sino-Ocean Capital                 1\n",
       " Sinovation Ventures                1\n",
       " China Capital Investment Group     1\n",
       "Length: 1517, dtype: int64"
      ]
     },
     "execution_count": 125,
     "metadata": {},
     "output_type": "execute_result"
    }
   ],
   "source": [
    "pd.DataFrame(list_of_investors).value_counts()"
   ]
  },
  {
   "cell_type": "code",
   "execution_count": null,
   "id": "f8748421",
   "metadata": {},
   "outputs": [],
   "source": []
  }
 ],
 "metadata": {
  "kernelspec": {
   "display_name": "Python 3 (ipykernel)",
   "language": "python",
   "name": "python3"
  },
  "language_info": {
   "codemirror_mode": {
    "name": "ipython",
    "version": 3
   },
   "file_extension": ".py",
   "mimetype": "text/x-python",
   "name": "python",
   "nbconvert_exporter": "python",
   "pygments_lexer": "ipython3",
   "version": "3.9.13"
  }
 },
 "nbformat": 4,
 "nbformat_minor": 5
}
