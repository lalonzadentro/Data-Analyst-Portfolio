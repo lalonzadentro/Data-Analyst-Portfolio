{
  "cells": [
    {
      "cell_type": "markdown",
      "source": [
        "**I executed  SQL queries against the 3 tables below.**\n",
        "---\n",
        "Table 'dataset' has ids of films and directors from tables 'films' and 'directors'"
      ],
      "metadata": {
        "noteable": {
          "cell_type": "markdown"
        }
      },
      "id": "9498c162-4de8-458b-a260-5586f28b3794"
    },
    {
      "cell_type": "code",
      "source": [
        "import pandas as pd\n",
        "dataset = pd.read_csv('dataset.csv')\n",
        "films = pd.read_csv('films.csv')\n",
        "\n",
        "directors = pd.read_csv('directorsrecto_columns.to_list()) = films_columns = films.columns.to_list()\n",
        "directorsrs.columnsprint('The The  table \"films\" has columns:', films_columns).to_list()rs.csv')"
      ],
      "outputs": [
        {
          "output_type": "stream",
          "name": "stdout",
          "text": [
            "The table \"dataset\" has columns: ['index', 'film_id', 'year', 'runtime', 'genre', 'rating', 'director_id']\n",
            "The table \"films\" has columns: ['film_id', 'film_title']\n",
            "The table \"directors\" has columns: ['director_id', 'director']\n"
          ]
        }
      ],
      "execution_count": null,
      "metadata": {
        "ExecuteTime": {
          "end_time": "2023-02-08T20:48:57.326370+00:00",
          "start_time": "2023-02-08T20:48:57.162513+00:00"
        },
        "noteable": {},
        "jupyter": {
          "outputs_hidden": false,
          "source_hidden": false
        }
      },
      "id": "f09ea6d1"
    },
    {
      "cell_type": "markdown",
      "source": [
        "# SQL queries (various)"
      ],
      "metadata": {
        "noteable": {
          "cell_type": "markdown"
        }
      },
      "id": "d8c48002-5cfe-4a85-8127-73f73ad55aa1"
    },
    {
      "cell_type": "markdown",
      "source": [
        "* Top 5 directors with the highest average rating"
      ],
      "metadata": {
        "noteable": {
          "cell_type": "markdown"
        }
      },
      "id": "6c8d3b0a-e92c-4992-8442-9e9d1e8fb256"
    },
    {
      "cell_type": "code",
      "source": [
        "%%sql @noteable\n",
        "select director, round(avg(rating),2) as average_rating from dataset\n",
        "left join directors using(director_id)\n",
        "group by director\n",
        "order by average_rating desc\n",
        "limit 5;"
      ],
      "outputs": [
        {
          "output_type": "display_data",
          "data": {
            "application/vnd.dataresource+json": {
              "schema": {
                "fields": [
                  {
                    "name": "index",
                    "type": "integer"
                  },
                  {
                    "name": "director",
                    "type": "string"
                  },
                  {
                    "name": "average_rating",
                    "type": "number"
                  }
                ],
                "primaryKey": [
                  "index"
                ],
                "pandas_version": "1.4.0"
              },
              "data": [
                {
                  "index": 0,
                  "director": "Christopher Nolan",
                  "average_rating": 8.46
                },
                {
                  "index": 1,
                  "director": "Peter Jackson",
                  "average_rating": 8.4
                },
                {
                  "index": 2,
                  "director": "Stanley Kubrick",
                  "average_rating": 8.23
                },
                {
                  "index": 3,
                  "director": "Akira Kurosawa",
                  "average_rating": 8.22
                },
                {
                  "index": 4,
                  "director": "Quentin Tarantino",
                  "average_rating": 8.18
                }
              ],
              "datalink": {
                "display_id": "7acf8e7c-fb34-4d4b-a5cc-a1ec93c728e4"
              }
            }
          },
          "metadata": {
            "application/vnd.dataresource+json": {
              "datalink": {
                "dataframe_info": {
                  "default_index_used": true,
                  "orig_size_bytes": 208,
                  "orig_num_rows": 5,
                  "orig_num_cols": 2,
                  "truncated_size_bytes": 208,
                  "truncated_num_rows": 5,
                  "truncated_num_cols": 2
                },
                "dx_settings": {
                  "NUM_PAST_SAMPLES_TRACKED": 3,
                  "ENABLE_DATALINK": true,
                  "DISPLAY_MODE": "simple",
                  "GENERATE_DEX_METADATA": false,
                  "STRINGIFY_INDEX_VALUES": false,
                  "ALLOW_NOTEABLE_ATTRS": true,
                  "DISPLAY_MAX_COLUMNS": 100,
                  "HTML_TABLE_SCHEMA": false,
                  "SAMPLING_FACTOR": 0.1,
                  "LOG_LEVEL": 30,
                  "ENABLE_ASSIGNMENT": false,
                  "FLATTEN_INDEX_VALUES": false,
                  "DEV_MODE": false,
                  "COLUMN_SAMPLING_METHOD": "outer",
                  "FLATTEN_COLUMN_VALUES": true,
                  "DISPLAY_MAX_ROWS": 50000,
                  "ROW_SAMPLING_METHOD": "random",
                  "RANDOM_STATE": 12648430,
                  "DB_LOCATION": ":memory:",
                  "STRINGIFY_COLUMN_VALUES": true,
                  "SAMPLING_METHOD": "random",
                  "MAX_RENDER_SIZE_BYTES": 104857600,
                  "RESET_INDEX_VALUES": false
                },
                "display_id": "7acf8e7c-fb34-4d4b-a5cc-a1ec93c728e4",
                "applied_filters": [],
                "sample_history": [],
                "sampling_time": "2023-02-08T12:21:24.509741",
                "variable_name": "sql_df_2"
              },
              "display_id": "7acf8e7c-fb34-4d4b-a5cc-a1ec93c728e4"
            }
          }
        }
      ],
      "execution_count": null,
      "metadata": {
        "noteable": {
          "assign_results_to": "sql_df_2",
          "cell_type": "sql",
          "db_connection": "@noteable"
        },
        "ExecuteTime": {
          "end_time": "2023-02-08T12:21:24.667613+00:00",
          "start_time": "2023-02-08T12:21:24.476946+00:00"
        },
        "dx": {
          "dashboard": {
            "multiViews": []
          },
          "fieldMetadata": {
            "director_id": {
              "columnPosition": 7
            },
            "film_id": {
              "columnPosition": 2,
              "width": 100
            },
            "genre": {
              "columnPosition": 5
            },
            "index": {
              "columnPosition": 1
            },
            "rating": {
              "columnPosition": 6
            },
            "runtime": {
              "columnPosition": 4
            },
            "year": {
              "columnPosition": 3
            }
          },
          "simpleTable": true,
          "updated": 1675857615785,
          "views": [
            {
              "annotationRules": [],
              "chart": {},
              "chartMode": "grid",
              "confoRules": [],
              "decoration": {
                "footer": "",
                "subtitle": "",
                "title": "Table"
              },
              "facets": [],
              "filterSettings": {
                "SHOW_FILTER_PANEL": true,
                "filters": []
              },
              "id": "first-view",
              "isDefault": true,
              "type": "public",
              "userID": ""
            },
            {
              "annotationRules": [],
              "chart": {},
              "chartMode": "grid",
              "confoRules": [],
              "decoration": {
                "footer": "",
                "subtitle": "",
                "title": "Table"
              },
              "facets": [],
              "filterSettings": {
                "SHOW_FILTER_PANEL": true,
                "filters": []
              },
              "id": "first-view",
              "isDefault": true,
              "isTransitory": true,
              "type": "public",
              "userID": ""
            }
          ]
        }
      },
      "id": "e6511e65-e875-4915-bbc7-5072542dc5d4"
    },
    {
      "cell_type": "markdown",
      "source": [
        "* Films directed by Akira Kurosawa or \n",
        "Martin Scorsese and released between 1980 and 1990"
      ],
      "metadata": {
        "noteable": {
          "cell_type": "markdown"
        }
      },
      "id": "73f20a2a-ab9c-4ebd-8ed5-321eafc03117"
    },
    {
      "cell_type": "code",
      "source": [
        "%%sql @noteable\n",
        "select film_title, director, year from dataset\n",
        "left join films using(film_id)\n",
        "left join directors using(director_id)\n",
        "where year between 1980 and 1990 and director in ('Akira Kurosawa','Martin Scorsese');"
      ],
      "outputs": [
        {
          "output_type": "display_data",
          "data": {
            "application/vnd.dataresource+json": {
              "schema": {
                "fields": [
                  {
                    "name": "index",
                    "type": "integer"
                  },
                  {
                    "name": "film_title",
                    "type": "string"
                  },
                  {
                    "name": "director",
                    "type": "string"
                  },
                  {
                    "name": "year",
                    "type": "integer"
                  }
                ],
                "primaryKey": [
                  "index"
                ],
                "pandas_version": "1.4.0"
              },
              "data": [
                {
                  "index": 0,
                  "film_title": "Ran",
                  "director": "Akira Kurosawa",
                  "year": 1985
                },
                {
                  "index": 1,
                  "film_title": "Kagemusha",
                  "director": "Akira Kurosawa",
                  "year": 1980
                },
                {
                  "index": 2,
                  "film_title": "Goodfellas",
                  "director": "Martin Scorsese",
                  "year": 1990
                },
                {
                  "index": 3,
                  "film_title": "Raging Bull",
                  "director": "Martin Scorsese",
                  "year": 1980
                },
                {
                  "index": 4,
                  "film_title": "The King of Comedy",
                  "director": "Martin Scorsese",
                  "year": 1982
                },
                {
                  "index": 5,
                  "film_title": "After Hours",
                  "director": "Martin Scorsese",
                  "year": 1985
                }
              ],
              "datalink": {
                "display_id": "b7ca41e1-bc8e-48ba-a885-f727e7461570"
              }
            }
          },
          "metadata": {
            "application/vnd.dataresource+json": {
              "datalink": {
                "dataframe_info": {
                  "default_index_used": true,
                  "orig_size_bytes": 272,
                  "orig_num_rows": 6,
                  "orig_num_cols": 3,
                  "truncated_size_bytes": 272,
                  "truncated_num_rows": 6,
                  "truncated_num_cols": 3
                },
                "dx_settings": {
                  "NUM_PAST_SAMPLES_TRACKED": 3,
                  "ENABLE_DATALINK": true,
                  "DISPLAY_MODE": "simple",
                  "GENERATE_DEX_METADATA": false,
                  "STRINGIFY_INDEX_VALUES": false,
                  "ALLOW_NOTEABLE_ATTRS": true,
                  "DISPLAY_MAX_COLUMNS": 100,
                  "HTML_TABLE_SCHEMA": false,
                  "SAMPLING_FACTOR": 0.1,
                  "LOG_LEVEL": 30,
                  "ENABLE_ASSIGNMENT": false,
                  "FLATTEN_INDEX_VALUES": false,
                  "DEV_MODE": false,
                  "COLUMN_SAMPLING_METHOD": "outer",
                  "FLATTEN_COLUMN_VALUES": true,
                  "DISPLAY_MAX_ROWS": 50000,
                  "ROW_SAMPLING_METHOD": "random",
                  "RANDOM_STATE": 12648430,
                  "DB_LOCATION": ":memory:",
                  "STRINGIFY_COLUMN_VALUES": true,
                  "SAMPLING_METHOD": "random",
                  "MAX_RENDER_SIZE_BYTES": 104857600,
                  "RESET_INDEX_VALUES": false
                },
                "display_id": "b7ca41e1-bc8e-48ba-a885-f727e7461570",
                "applied_filters": [],
                "sample_history": [],
                "sampling_time": "2023-02-08T13:10:58.009604",
                "variable_name": "sql_df_6"
              },
              "display_id": "b7ca41e1-bc8e-48ba-a885-f727e7461570"
            }
          }
        }
      ],
      "execution_count": null,
      "metadata": {
        "noteable": {
          "assign_results_to": "sql_df_6",
          "cell_type": "sql",
          "db_connection": "@noteable"
        },
        "ExecuteTime": {
          "end_time": "2023-02-08T13:10:58.166801+00:00",
          "start_time": "2023-02-08T13:10:57.976549+00:00"
        },
        "dx": {
          "fieldMetadata": {},
          "simpleTable": true,
          "updated": 1675861707075,
          "views": []
        }
      },
      "id": "e838b895-d732-47d4-8028-57c2030484d7"
    },
    {
      "cell_type": "markdown",
      "source": [
        "* Unique directors"
      ],
      "metadata": {
        "noteable": {
          "cell_type": "markdown"
        }
      },
      "id": "1f8d52b7-120e-4987-8271-d91a6caaad7e"
    },
    {
      "cell_type": "code",
      "source": [
        "%%sql @noteable\n",
        "select distinct director from directors;"
      ],
      "outputs": [
        {
          "output_type": "display_data",
          "data": {
            "application/vnd.dataresource+json": {
              "schema": {
                "fields": [
                  {
                    "name": "index",
                    "type": "integer"
                  },
                  {
                    "name": "director",
                    "type": "string"
                  }
                ],
                "primaryKey": [
                  "index"
                ],
                "pandas_version": "1.4.0"
              },
              "data": [
                {
                  "index": 0,
                  "director": "Akira Kurosawa"
                },
                {
                  "index": 1,
                  "director": "Alexander Mackendrick"
                },
                {
                  "index": 2,
                  "director": "Alexander Payne"
                },
                {
                  "index": 3,
                  "director": "Alfonso Cuarón"
                },
                {
                  "index": 4,
                  "director": "Alfred Hitchcock"
                },
                {
                  "index": 5,
                  "director": "Andrei Tarkovsky"
                },
                {
                  "index": 6,
                  "director": "Bradley Cooper"
                },
                {
                  "index": 7,
                  "director": "Brian De Palma"
                },
                {
                  "index": 8,
                  "director": "Bryan Singer"
                },
                {
                  "index": 9,
                  "director": "Christopher Miller"
                },
                {
                  "index": 10,
                  "director": "Christopher Nolan"
                },
                {
                  "index": 11,
                  "director": "Clint Eastwood"
                },
                {
                  "index": 12,
                  "director": "Danny Boyle"
                },
                {
                  "index": 13,
                  "director": "David Fincher"
                },
                {
                  "index": 14,
                  "director": "Denis Villeneuve"
                },
                {
                  "index": 15,
                  "director": "Federico Fellini"
                },
                {
                  "index": 16,
                  "director": "Guy Hamilton"
                },
                {
                  "index": 17,
                  "director": "Guy Ritchie"
                },
                {
                  "index": 18,
                  "director": "Ingmar Bergman"
                },
                {
                  "index": 19,
                  "director": "Joe Wright"
                },
                {
                  "index": 20,
                  "director": "Ken Loach"
                },
                {
                  "index": 21,
                  "director": "Krzysztof Kieslowski"
                },
                {
                  "index": 22,
                  "director": "Lars von Trier"
                },
                {
                  "index": 23,
                  "director": "Martin Scorsese"
                },
                {
                  "index": 24,
                  "director": "Mike Leigh"
                },
                {
                  "index": 25,
                  "director": "Noah Baumbach"
                },
                {
                  "index": 26,
                  "director": "Orson Welles"
                },
                {
                  "index": 27,
                  "director": "Peter Jackson"
                },
                {
                  "index": 28,
                  "director": "Quentin Tarantino"
                },
                {
                  "index": 29,
                  "director": "Roman Polanski"
                },
                {
                  "index": 30,
                  "director": "Sofia Coppola"
                },
                {
                  "index": 31,
                  "director": "Stanley Kramer"
                },
                {
                  "index": 32,
                  "director": "Stanley Kubrick"
                },
                {
                  "index": 33,
                  "director": "Steven Spielberg"
                },
                {
                  "index": 34,
                  "director": "Stuart Rosenberg"
                },
                {
                  "index": 35,
                  "director": "Taika Waititi"
                },
                {
                  "index": 36,
                  "director": "Terence Young"
                },
                {
                  "index": 37,
                  "director": "Terrence Malick"
                },
                {
                  "index": 38,
                  "director": "Tim Burton"
                },
                {
                  "index": 39,
                  "director": "Wes Anderson"
                },
                {
                  "index": 40,
                  "director": "Woody Allen"
                }
              ],
              "datalink": {
                "display_id": "1fbf12b6-012c-4ea6-b7ea-532f8201ef04"
              }
            }
          },
          "metadata": {
            "application/vnd.dataresource+json": {
              "datalink": {
                "dataframe_info": {
                  "default_index_used": true,
                  "orig_size_bytes": 456,
                  "orig_num_rows": 41,
                  "orig_num_cols": 1,
                  "truncated_size_bytes": 456,
                  "truncated_num_rows": 41,
                  "truncated_num_cols": 1
                },
                "dx_settings": {
                  "NUM_PAST_SAMPLES_TRACKED": 3,
                  "ENABLE_DATALINK": true,
                  "DISPLAY_MODE": "simple",
                  "GENERATE_DEX_METADATA": false,
                  "STRINGIFY_INDEX_VALUES": false,
                  "ALLOW_NOTEABLE_ATTRS": true,
                  "DISPLAY_MAX_COLUMNS": 100,
                  "HTML_TABLE_SCHEMA": false,
                  "SAMPLING_FACTOR": 0.1,
                  "LOG_LEVEL": 30,
                  "ENABLE_ASSIGNMENT": false,
                  "FLATTEN_INDEX_VALUES": false,
                  "DEV_MODE": false,
                  "COLUMN_SAMPLING_METHOD": "outer",
                  "FLATTEN_COLUMN_VALUES": true,
                  "DISPLAY_MAX_ROWS": 50000,
                  "ROW_SAMPLING_METHOD": "random",
                  "RANDOM_STATE": 12648430,
                  "DB_LOCATION": ":memory:",
                  "STRINGIFY_COLUMN_VALUES": true,
                  "SAMPLING_METHOD": "random",
                  "MAX_RENDER_SIZE_BYTES": 104857600,
                  "RESET_INDEX_VALUES": false
                },
                "display_id": "1fbf12b6-012c-4ea6-b7ea-532f8201ef04",
                "applied_filters": [],
                "sample_history": [],
                "sampling_time": "2023-02-08T13:14:29.303842",
                "variable_name": "sql_df_7"
              },
              "display_id": "1fbf12b6-012c-4ea6-b7ea-532f8201ef04"
            }
          }
        }
      ],
      "execution_count": null,
      "metadata": {
        "noteable": {
          "assign_results_to": "sql_df_7",
          "cell_type": "sql",
          "db_connection": "@noteable"
        },
        "ExecuteTime": {
          "end_time": "2023-02-08T13:14:29.459382+00:00",
          "start_time": "2023-02-08T13:14:29.284081+00:00"
        },
        "dx": {
          "fieldMetadata": {},
          "simpleTable": true,
          "simpleTableExpanded": true,
          "updated": 1675862072281,
          "views": []
        }
      },
      "id": "07ee6b27-864b-465c-b974-cc00aaa4c183"
    },
    {
      "cell_type": "markdown",
      "source": [
        "* Minimum, maximum and average rating of all films in the dataset"
      ],
      "metadata": {
        "noteable": {
          "cell_type": "markdown"
        }
      },
      "id": "4afda3f7-2ce2-4b24-99aa-fbb17d8e1695"
    },
    {
      "cell_type": "code",
      "source": [
        "%%sql @noteable\n",
        "select min(rating) as minimum_rating, max(rating) as maximum_rating, round(avg(rating),1) as average_rating from dataset;"
      ],
      "outputs": [
        {
          "output_type": "display_data",
          "data": {
            "application/vnd.dataresource+json": {
              "schema": {
                "fields": [
                  {
                    "name": "index",
                    "type": "integer"
                  },
                  {
                    "name": "minimum_rating",
                    "type": "number"
                  },
                  {
                    "name": "maximum_rating",
                    "type": "number"
                  },
                  {
                    "name": "average_rating",
                    "type": "number"
                  }
                ],
                "primaryKey": [
                  "index"
                ],
                "pandas_version": "1.4.0"
              },
              "data": [
                {
                  "index": 0,
                  "minimum_rating": 7.6,
                  "maximum_rating": 9,
                  "average_rating": 8
                }
              ],
              "datalink": {
                "display_id": "c3f09b50-4bc2-4298-b59a-6bdeb4f009cd"
              }
            }
          },
          "metadata": {
            "application/vnd.dataresource+json": {
              "datalink": {
                "dataframe_info": {
                  "default_index_used": true,
                  "orig_size_bytes": 152,
                  "orig_num_rows": 1,
                  "orig_num_cols": 3,
                  "truncated_size_bytes": 152,
                  "truncated_num_rows": 1,
                  "truncated_num_cols": 3
                },
                "dx_settings": {
                  "NUM_PAST_SAMPLES_TRACKED": 3,
                  "ENABLE_DATALINK": true,
                  "DISPLAY_MODE": "simple",
                  "GENERATE_DEX_METADATA": false,
                  "STRINGIFY_INDEX_VALUES": false,
                  "ALLOW_NOTEABLE_ATTRS": true,
                  "DISPLAY_MAX_COLUMNS": 100,
                  "HTML_TABLE_SCHEMA": false,
                  "SAMPLING_FACTOR": 0.1,
                  "LOG_LEVEL": 30,
                  "ENABLE_ASSIGNMENT": false,
                  "FLATTEN_INDEX_VALUES": false,
                  "DEV_MODE": false,
                  "COLUMN_SAMPLING_METHOD": "outer",
                  "FLATTEN_COLUMN_VALUES": true,
                  "DISPLAY_MAX_ROWS": 50000,
                  "ROW_SAMPLING_METHOD": "random",
                  "RANDOM_STATE": 12648430,
                  "DB_LOCATION": ":memory:",
                  "STRINGIFY_COLUMN_VALUES": true,
                  "SAMPLING_METHOD": "random",
                  "MAX_RENDER_SIZE_BYTES": 104857600,
                  "RESET_INDEX_VALUES": false
                },
                "display_id": "c3f09b50-4bc2-4298-b59a-6bdeb4f009cd",
                "applied_filters": [],
                "sample_history": [],
                "sampling_time": "2023-02-08T13:19:18.701268",
                "variable_name": "sql_df_8"
              },
              "display_id": "c3f09b50-4bc2-4298-b59a-6bdeb4f009cd"
            }
          }
        }
      ],
      "execution_count": null,
      "metadata": {
        "noteable": {
          "assign_results_to": "sql_df_8",
          "cell_type": "sql",
          "db_connection": "@noteable"
        },
        "ExecuteTime": {
          "end_time": "2023-02-08T13:19:18.858248+00:00",
          "start_time": "2023-02-08T13:19:18.676318+00:00"
        },
        "dx": {
          "fieldMetadata": {},
          "simpleTable": true,
          "updated": 1675862204355,
          "views": []
        }
      },
      "id": "86a94c5d-bccd-4608-ad11-f85d0142040a"
    },
    {
      "cell_type": "markdown",
      "source": [
        "* Minimum and maximum rating for each director"
      ],
      "metadata": {
        "noteable": {
          "cell_type": "markdown"
        }
      },
      "id": "0daadddb-465e-42ad-8b22-921a2e599733"
    },
    {
      "cell_type": "code",
      "source": [
        "%%sql @noteable\n",
        "select director, min(rating) as minimum_rating, max(rating) as maximum_rating from\n",
        "dataset left join directors using(director_id)\n",
        "group by director\n",
        "order by minimum_rating desc;"
      ],
      "outputs": [
        {
          "output_type": "display_data",
          "data": {
            "application/vnd.dataresource+json": {
              "schema": {
                "fields": [
                  {
                    "name": "index",
                    "type": "integer"
                  },
                  {
                    "name": "director",
                    "type": "string"
                  },
                  {
                    "name": "minimum_rating",
                    "type": "number"
                  },
                  {
                    "name": "maximum_rating",
                    "type": "number"
                  }
                ],
                "primaryKey": [
                  "index"
                ],
                "pandas_version": "1.4.0"
              },
              "data": [
                {
                  "index": 0,
                  "director": "Andrei Tarkovsky",
                  "minimum_rating": 8.1,
                  "maximum_rating": 8.2
                },
                {
                  "index": 1,
                  "director": "Ingmar Bergman",
                  "minimum_rating": 8.1,
                  "maximum_rating": 8.2
                },
                {
                  "index": 2,
                  "director": "Stuart Rosenberg",
                  "minimum_rating": 8.1,
                  "maximum_rating": 8.1
                },
                {
                  "index": 3,
                  "director": "Akira Kurosawa",
                  "minimum_rating": 8,
                  "maximum_rating": 8.6
                },
                {
                  "index": 4,
                  "director": "Orson Welles",
                  "minimum_rating": 8,
                  "maximum_rating": 8.3
                },
                {
                  "index": 5,
                  "director": "Brian De Palma",
                  "minimum_rating": 7.9,
                  "maximum_rating": 8.3
                },
                {
                  "index": 6,
                  "director": "Bryan Singer",
                  "minimum_rating": 7.9,
                  "maximum_rating": 8.5
                },
                {
                  "index": 7,
                  "director": "Federico Fellini",
                  "minimum_rating": 7.9,
                  "maximum_rating": 8.1
                },
                {
                  "index": 8,
                  "director": "Ken Loach",
                  "minimum_rating": 7.9,
                  "maximum_rating": 7.9
                },
                {
                  "index": 9,
                  "director": "Noah Baumbach",
                  "minimum_rating": 7.9,
                  "maximum_rating": 7.9
                },
                {
                  "index": 10,
                  "director": "Stanley Kubrick",
                  "minimum_rating": 7.9,
                  "maximum_rating": 8.4
                },
                {
                  "index": 11,
                  "director": "Taika Waititi",
                  "minimum_rating": 7.9,
                  "maximum_rating": 7.9
                },
                {
                  "index": 12,
                  "director": "Christopher Nolan",
                  "minimum_rating": 7.8,
                  "maximum_rating": 9
                },
                {
                  "index": 13,
                  "director": "Joe Wright",
                  "minimum_rating": 7.8,
                  "maximum_rating": 7.8
                },
                {
                  "index": 14,
                  "director": "Lars von Trier",
                  "minimum_rating": 7.8,
                  "maximum_rating": 8
                },
                {
                  "index": 15,
                  "director": "Mike Leigh",
                  "minimum_rating": 7.8,
                  "maximum_rating": 8
                },
                {
                  "index": 16,
                  "director": "Peter Jackson",
                  "minimum_rating": 7.8,
                  "maximum_rating": 8.9
                },
                {
                  "index": 17,
                  "director": "Stanley Kramer",
                  "minimum_rating": 7.8,
                  "maximum_rating": 7.8
                },
                {
                  "index": 18,
                  "director": "Terence Young",
                  "minimum_rating": 7.8,
                  "maximum_rating": 7.8
                },
                {
                  "index": 19,
                  "director": "Tim Burton",
                  "minimum_rating": 7.8,
                  "maximum_rating": 8
                },
                {
                  "index": 20,
                  "director": "Alexander Mackendrick",
                  "minimum_rating": 7.7,
                  "maximum_rating": 8
                },
                {
                  "index": 21,
                  "director": "Alexander Payne",
                  "minimum_rating": 7.7,
                  "maximum_rating": 7.7
                },
                {
                  "index": 22,
                  "director": "Christopher Miller",
                  "minimum_rating": 7.7,
                  "maximum_rating": 7.7
                },
                {
                  "index": 23,
                  "director": "David Fincher",
                  "minimum_rating": 7.7,
                  "maximum_rating": 8.8
                },
                {
                  "index": 24,
                  "director": "Guy Hamilton",
                  "minimum_rating": 7.7,
                  "maximum_rating": 7.7
                },
                {
                  "index": 25,
                  "director": "Roman Polanski",
                  "minimum_rating": 7.7,
                  "maximum_rating": 8.5
                },
                {
                  "index": 26,
                  "director": "Sofia Coppola",
                  "minimum_rating": 7.7,
                  "maximum_rating": 7.7
                },
                {
                  "index": 27,
                  "director": "Martin Scorsese",
                  "minimum_rating": 7.7,
                  "maximum_rating": 8.7
                },
                {
                  "index": 28,
                  "director": "Alfonso Cuarón",
                  "minimum_rating": 7.6,
                  "maximum_rating": 7.9
                },
                {
                  "index": 29,
                  "director": "Alfred Hitchcock",
                  "minimum_rating": 7.6,
                  "maximum_rating": 8.5
                },
                {
                  "index": 30,
                  "director": "Bradley Cooper",
                  "minimum_rating": 7.6,
                  "maximum_rating": 7.6
                },
                {
                  "index": 31,
                  "director": "Clint Eastwood",
                  "minimum_rating": 7.6,
                  "maximum_rating": 8.2
                },
                {
                  "index": 32,
                  "director": "Danny Boyle",
                  "minimum_rating": 7.6,
                  "maximum_rating": 8.1
                },
                {
                  "index": 33,
                  "director": "Denis Villeneuve",
                  "minimum_rating": 7.6,
                  "maximum_rating": 8.3
                },
                {
                  "index": 34,
                  "director": "Krzysztof Kieslowski",
                  "minimum_rating": 7.6,
                  "maximum_rating": 8.1
                },
                {
                  "index": 35,
                  "director": "Quentin Tarantino",
                  "minimum_rating": 7.6,
                  "maximum_rating": 8.9
                },
                {
                  "index": 36,
                  "director": "Steven Spielberg",
                  "minimum_rating": 7.6,
                  "maximum_rating": 8.9
                },
                {
                  "index": 37,
                  "director": "Terrence Malick",
                  "minimum_rating": 7.6,
                  "maximum_rating": 7.8
                },
                {
                  "index": 38,
                  "director": "Wes Anderson",
                  "minimum_rating": 7.6,
                  "maximum_rating": 8.1
                },
                {
                  "index": 39,
                  "director": "Woody Allen",
                  "minimum_rating": 7.6,
                  "maximum_rating": 8
                },
                {
                  "index": 40,
                  "director": "Guy Ritchie",
                  "minimum_rating": 7.6,
                  "maximum_rating": 8.3
                }
              ],
              "datalink": {
                "display_id": "d87313e1-309a-4592-925d-0ee0711df52b"
              }
            }
          },
          "metadata": {
            "application/vnd.dataresource+json": {
              "datalink": {
                "dataframe_info": {
                  "default_index_used": true,
                  "orig_size_bytes": 1112,
                  "orig_num_rows": 41,
                  "orig_num_cols": 3,
                  "truncated_size_bytes": 1112,
                  "truncated_num_rows": 41,
                  "truncated_num_cols": 3
                },
                "dx_settings": {
                  "NUM_PAST_SAMPLES_TRACKED": 3,
                  "ENABLE_DATALINK": true,
                  "DISPLAY_MODE": "simple",
                  "GENERATE_DEX_METADATA": false,
                  "STRINGIFY_INDEX_VALUES": false,
                  "ALLOW_NOTEABLE_ATTRS": true,
                  "DISPLAY_MAX_COLUMNS": 100,
                  "HTML_TABLE_SCHEMA": false,
                  "SAMPLING_FACTOR": 0.1,
                  "LOG_LEVEL": 30,
                  "ENABLE_ASSIGNMENT": false,
                  "FLATTEN_INDEX_VALUES": false,
                  "DEV_MODE": false,
                  "COLUMN_SAMPLING_METHOD": "outer",
                  "FLATTEN_COLUMN_VALUES": true,
                  "DISPLAY_MAX_ROWS": 50000,
                  "ROW_SAMPLING_METHOD": "random",
                  "RANDOM_STATE": 12648430,
                  "DB_LOCATION": ":memory:",
                  "STRINGIFY_COLUMN_VALUES": true,
                  "SAMPLING_METHOD": "random",
                  "MAX_RENDER_SIZE_BYTES": 104857600,
                  "RESET_INDEX_VALUES": false
                },
                "display_id": "d87313e1-309a-4592-925d-0ee0711df52b",
                "applied_filters": [],
                "sample_history": [],
                "sampling_time": "2023-02-08T13:22:12.115869",
                "variable_name": "sql_df_9"
              },
              "display_id": "d87313e1-309a-4592-925d-0ee0711df52b"
            }
          }
        }
      ],
      "execution_count": null,
      "metadata": {
        "noteable": {
          "assign_results_to": "sql_df_9",
          "cell_type": "sql",
          "db_connection": "@noteable"
        },
        "ExecuteTime": {
          "end_time": "2023-02-08T13:22:12.272070+00:00",
          "start_time": "2023-02-08T13:22:12.088659+00:00"
        },
        "dx": {
          "fieldMetadata": {},
          "simpleTable": true,
          "updated": 1675862492092,
          "views": []
        }
      },
      "id": "255d6120-aaed-4b73-bca8-58466bd0c3a2"
    },
    {
      "cell_type": "markdown",
      "source": [
        "* 3 random films"
      ],
      "metadata": {
        "noteable": {
          "cell_type": "markdown"
        }
      },
      "id": "d1c74427-e771-4270-9409-9e6dc73eebfa"
    },
    {
      "cell_type": "code",
      "source": [
        "%%sql @noteable\n",
        "select film_title from films\n",
        "order by random()\n",
        "limit 3;"
      ],
      "outputs": [
        {
          "output_type": "display_data",
          "data": {
            "application/vnd.dataresource+json": {
              "schema": {
                "fields": [
                  {
                    "name": "index",
                    "type": "integer"
                  },
                  {
                    "name": "film_title",
                    "type": "string"
                  }
                ],
                "primaryKey": [
                  "index"
                ],
                "pandas_version": "1.4.0"
              },
              "data": [
                {
                  "index": 0,
                  "film_title": "Shichinin no samurai"
                },
                {
                  "index": 1,
                  "film_title": "The King of Comedy"
                },
                {
                  "index": 2,
                  "film_title": "The 39 Steps"
                }
              ],
              "datalink": {
                "display_id": "48e5d906-54b4-42db-91d2-90d2f05e4a0e"
              }
            }
          },
          "metadata": {
            "application/vnd.dataresource+json": {
              "datalink": {
                "dataframe_info": {
                  "default_index_used": true,
                  "orig_size_bytes": 152,
                  "orig_num_rows": 3,
                  "orig_num_cols": 1,
                  "truncated_size_bytes": 152,
                  "truncated_num_rows": 3,
                  "truncated_num_cols": 1
                },
                "dx_settings": {
                  "NUM_PAST_SAMPLES_TRACKED": 3,
                  "ENABLE_DATALINK": true,
                  "DISPLAY_MODE": "simple",
                  "GENERATE_DEX_METADATA": false,
                  "STRINGIFY_INDEX_VALUES": false,
                  "ALLOW_NOTEABLE_ATTRS": true,
                  "DISPLAY_MAX_COLUMNS": 100,
                  "HTML_TABLE_SCHEMA": false,
                  "SAMPLING_FACTOR": 0.1,
                  "LOG_LEVEL": 30,
                  "ENABLE_ASSIGNMENT": false,
                  "FLATTEN_INDEX_VALUES": false,
                  "DEV_MODE": false,
                  "COLUMN_SAMPLING_METHOD": "outer",
                  "FLATTEN_COLUMN_VALUES": true,
                  "DISPLAY_MAX_ROWS": 50000,
                  "ROW_SAMPLING_METHOD": "random",
                  "RANDOM_STATE": 12648430,
                  "DB_LOCATION": ":memory:",
                  "STRINGIFY_COLUMN_VALUES": true,
                  "SAMPLING_METHOD": "random",
                  "MAX_RENDER_SIZE_BYTES": 104857600,
                  "RESET_INDEX_VALUES": false
                },
                "display_id": "48e5d906-54b4-42db-91d2-90d2f05e4a0e",
                "applied_filters": [],
                "sample_history": [],
                "sampling_time": "2023-02-08T16:20:30.820949",
                "variable_name": "sql_df_13"
              },
              "display_id": "48e5d906-54b4-42db-91d2-90d2f05e4a0e"
            }
          }
        }
      ],
      "execution_count": null,
      "metadata": {
        "noteable": {
          "assign_results_to": "sql_df_13",
          "cell_type": "sql",
          "db_connection": "@noteable"
        },
        "ExecuteTime": {
          "end_time": "2023-02-08T16:20:30.977680+00:00",
          "start_time": "2023-02-08T16:20:30.800339+00:00"
        },
        "dx": {
          "fieldMetadata": {},
          "simpleTable": true,
          "updated": 1675873233796,
          "views": []
        }
      },
      "id": "c28f3d02-4a56-41b0-ab91-34020c2d9298"
    },
    {
      "cell_type": "markdown",
      "source": [
        "* Film description including film title, year and director"
      ],
      "metadata": {
        "noteable": {
          "cell_type": "markdown"
        }
      },
      "id": "29e75d84-79ab-4ecb-9768-b8df04fb9a98"
    },
    {
      "cell_type": "code",
      "source": [
        "%%sql @noteable\n",
        "select film_title, concat('\"',film_title,'\"',' ','was released in',' ', year,' ','and',' ','directed by',\n",
        "              ' ', director) as film_description \n",
        "from dataset \n",
        "left join films using(film_id)\n",
        "left join directors using(director_id);"
      ],
      "outputs": [
        {
          "output_type": "display_data",
          "data": {
            "application/vnd.dataresource+json": {
              "schema": {
                "fields": [
                  {
                    "name": "index",
                    "type": "integer"
                  },
                  {
                    "name": "film_title",
                    "type": "string"
                  },
                  {
                    "name": "film_description",
                    "type": "string"
                  }
                ],
                "primaryKey": [
                  "index"
                ],
                "pandas_version": "1.4.0"
              },
              "data": [
                {
                  "index": 0,
                  "film_title": "Shichinin no samurai",
                  "film_description": "\"Shichinin no samurai\"  was released in 1954  and  directed by Akira Kurosawa"
                },
                {
                  "index": 1,
                  "film_title": "Tengoku to jigoku",
                  "film_description": "\"Tengoku to jigoku\"  was released in 1963  and  directed by Akira Kurosawa"
                },
                {
                  "index": 2,
                  "film_title": "Ikiru",
                  "film_description": "\"Ikiru\"  was released in 1952  and  directed by Akira Kurosawa"
                },
                {
                  "index": 3,
                  "film_title": "Ran",
                  "film_description": "\"Ran\"  was released in 1985  and  directed by Akira Kurosawa"
                },
                {
                  "index": 4,
                  "film_title": "Yôjinbô",
                  "film_description": "\"Yôjinbô\"  was released in 1961  and  directed by Akira Kurosawa"
                },
                {
                  "index": 5,
                  "film_title": "Rashômon",
                  "film_description": "\"Rashômon\"  was released in 1950  and  directed by Akira Kurosawa"
                },
                {
                  "index": 6,
                  "film_title": "Sanjuro",
                  "film_description": "\"Sanjuro\"  was released in 1962  and  directed by Akira Kurosawa"
                },
                {
                  "index": 7,
                  "film_title": "Kakushi-toride no san-akunin",
                  "film_description": "\"Kakushi-toride no san-akunin\"  was released in 1958  and  directed by Akira Kurosawa"
                },
                {
                  "index": 8,
                  "film_title": "Kumonosu-jô",
                  "film_description": "\"Kumonosu-jô\"  was released in 1957  and  directed by Akira Kurosawa"
                },
                {
                  "index": 9,
                  "film_title": "Kagemusha",
                  "film_description": "\"Kagemusha\"  was released in 1980  and  directed by Akira Kurosawa"
                },
                {
                  "index": 10,
                  "film_title": "Sweet Smell of Success",
                  "film_description": "\"Sweet Smell of Success\"  was released in 1957  and  directed by Alexander Mackendrick"
                },
                {
                  "index": 11,
                  "film_title": "The Ladykillers",
                  "film_description": "\"The Ladykillers\"  was released in 1955  and  directed by Alexander Mackendrick"
                },
                {
                  "index": 12,
                  "film_title": "Nebraska",
                  "film_description": "\"Nebraska\"  was released in 2013  and  directed by Alexander Payne"
                },
                {
                  "index": 13,
                  "film_title": "Children of Men",
                  "film_description": "\"Children of Men\"  was released in 2006  and  directed by Alfonso Cuarón"
                },
                {
                  "index": 14,
                  "film_title": "Roma",
                  "film_description": "\"Roma\"  was released in 2018  and  directed by Alfonso Cuarón"
                },
                {
                  "index": 15,
                  "film_title": "Gravity",
                  "film_description": "\"Gravity\"  was released in 2013  and  directed by Alfonso Cuarón"
                },
                {
                  "index": 16,
                  "film_title": "A Little Princess",
                  "film_description": "\"A Little Princess\"  was released in 1995  and  directed by Alfonso Cuarón"
                },
                {
                  "index": 17,
                  "film_title": "Y tu mamá también",
                  "film_description": "\"Y tu mamá también\"  was released in 2001  and  directed by Alfonso Cuarón"
                },
                {
                  "index": 18,
                  "film_title": "Psycho",
                  "film_description": "\"Psycho\"  was released in 1960  and  directed by Alfred Hitchcock"
                },
                {
                  "index": 19,
                  "film_title": "Rear Window",
                  "film_description": "\"Rear Window\"  was released in 1954  and  directed by Alfred Hitchcock"
                },
                {
                  "index": 20,
                  "film_title": "Vertigo",
                  "film_description": "\"Vertigo\"  was released in 1958  and  directed by Alfred Hitchcock"
                },
                {
                  "index": 21,
                  "film_title": "Dial M for Murder",
                  "film_description": "\"Dial M for Murder\"  was released in 1954  and  directed by Alfred Hitchcock"
                },
                {
                  "index": 22,
                  "film_title": "Rebecca",
                  "film_description": "\"Rebecca\"  was released in 1940  and  directed by Alfred Hitchcock"
                },
                {
                  "index": 23,
                  "film_title": "Rope",
                  "film_description": "\"Rope\"  was released in 1948  and  directed by Alfred Hitchcock"
                },
                {
                  "index": 24,
                  "film_title": "Strangers on a Train",
                  "film_description": "\"Strangers on a Train\"  was released in 1951  and  directed by Alfred Hitchcock"
                },
                {
                  "index": 25,
                  "film_title": "Notorious",
                  "film_description": "\"Notorious\"  was released in 1946  and  directed by Alfred Hitchcock"
                },
                {
                  "index": 26,
                  "film_title": "The Lady Vanishes",
                  "film_description": "\"The Lady Vanishes\"  was released in 1938  and  directed by Alfred Hitchcock"
                },
                {
                  "index": 27,
                  "film_title": "The Birds",
                  "film_description": "\"The Birds\"  was released in 1963  and  directed by Alfred Hitchcock"
                },
                {
                  "index": 28,
                  "film_title": "Lifeboat",
                  "film_description": "\"Lifeboat\"  was released in 1944  and  directed by Alfred Hitchcock"
                },
                {
                  "index": 29,
                  "film_title": "The 39 Steps",
                  "film_description": "\"The 39 Steps\"  was released in 1935  and  directed by Alfred Hitchcock"
                },
                {
                  "index": 30,
                  "film_title": "Stalker",
                  "film_description": "\"Stalker\"  was released in 1979  and  directed by Andrei Tarkovsky"
                },
                {
                  "index": 31,
                  "film_title": "Zerkalo",
                  "film_description": "\"Zerkalo\"  was released in 1975  and  directed by Andrei Tarkovsky"
                },
                {
                  "index": 32,
                  "film_title": "Solaris",
                  "film_description": "\"Solaris\"  was released in 1972  and  directed by Andrei Tarkovsky"
                },
                {
                  "index": 33,
                  "film_title": "Andrei Rublev",
                  "film_description": "\"Andrei Rublev\"  was released in 1966  and  directed by Andrei Tarkovsky"
                },
                {
                  "index": 34,
                  "film_title": "Ivanovo detstvo",
                  "film_description": "\"Ivanovo detstvo\"  was released in 1962  and  directed by Andrei Tarkovsky"
                },
                {
                  "index": 35,
                  "film_title": "A Star Is Born",
                  "film_description": "\"A Star Is Born\"  was released in 2018  and  directed by Bradley Cooper"
                },
                {
                  "index": 36,
                  "film_title": "Carlito's Way",
                  "film_description": "\"Carlito's Way\"  was released in 1993  and  directed by Brian De Palma"
                },
                {
                  "index": 37,
                  "film_title": "The Untouchables",
                  "film_description": "\"The Untouchables\"  was released in 1987  and  directed by Brian De Palma"
                },
                {
                  "index": 38,
                  "film_title": "The Usual Suspects",
                  "film_description": "\"The Usual Suspects\"  was released in 1995  and  directed by Bryan Singer"
                },
                {
                  "index": 39,
                  "film_title": "Bohemian Rhapsody",
                  "film_description": "\"Bohemian Rhapsody\"  was released in 2018  and  directed by Bryan Singer"
                },
                {
                  "index": 40,
                  "film_title": "X-Men: Days of Future Past",
                  "film_description": "\"X-Men: Days of Future Past\"  was released in 2014  and  directed by Bryan Singer"
                },
                {
                  "index": 41,
                  "film_title": "The Dark Knight",
                  "film_description": "\"The Dark Knight\"  was released in 2008  and  directed by Christopher Nolan"
                },
                {
                  "index": 42,
                  "film_title": "Inception",
                  "film_description": "\"Inception\"  was released in 2010  and  directed by Christopher Nolan"
                },
                {
                  "index": 43,
                  "film_title": "Interstellar",
                  "film_description": "\"Interstellar\"  was released in 2014  and  directed by Christopher Nolan"
                },
                {
                  "index": 44,
                  "film_title": "The Prestige",
                  "film_description": "\"The Prestige\"  was released in 2006  and  directed by Christopher Nolan"
                },
                {
                  "index": 45,
                  "film_title": "The Dark Knight Rises",
                  "film_description": "\"The Dark Knight Rises\"  was released in 2012  and  directed by Christopher Nolan"
                },
                {
                  "index": 46,
                  "film_title": "Memento",
                  "film_description": "\"Memento\"  was released in 2000  and  directed by Christopher Nolan"
                },
                {
                  "index": 47,
                  "film_title": "Batman Begins",
                  "film_description": "\"Batman Begins\"  was released in 2005  and  directed by Christopher Nolan"
                },
                {
                  "index": 48,
                  "film_title": "Dunkirk",
                  "film_description": "\"Dunkirk\"  was released in 2017  and  directed by Christopher Nolan"
                },
                {
                  "index": 49,
                  "film_title": "Unforgiven",
                  "film_description": "\"Unforgiven\"  was released in 1992  and  directed by Clint Eastwood"
                },
                {
                  "index": 50,
                  "film_title": "Letters from Iwo Jima",
                  "film_description": "\"Letters from Iwo Jima\"  was released in 2006  and  directed by Clint Eastwood"
                },
                {
                  "index": 51,
                  "film_title": "Mystic River",
                  "film_description": "\"Mystic River\"  was released in 2003  and  directed by Clint Eastwood"
                },
                {
                  "index": 52,
                  "film_title": "The Outlaw Josey Wales",
                  "film_description": "\"The Outlaw Josey Wales\"  was released in 1976  and  directed by Clint Eastwood"
                },
                {
                  "index": 53,
                  "film_title": "Changeling",
                  "film_description": "\"Changeling\"  was released in 2008  and  directed by Clint Eastwood"
                },
                {
                  "index": 54,
                  "film_title": "The Bridges of Madison County",
                  "film_description": "\"The Bridges of Madison County\"  was released in 1995  and  directed by Clint Eastwood"
                },
                {
                  "index": 55,
                  "film_title": "Trainspotting",
                  "film_description": "\"Trainspotting\"  was released in 1996  and  directed by Danny Boyle"
                },
                {
                  "index": 56,
                  "film_title": "Slumdog Millionaire",
                  "film_description": "\"Slumdog Millionaire\"  was released in 2008  and  directed by Danny Boyle"
                },
                {
                  "index": 57,
                  "film_title": "28 Days Later...",
                  "film_description": "\"28 Days Later...\"  was released in 2002  and  directed by Danny Boyle"
                },
                {
                  "index": 58,
                  "film_title": "Fight Club",
                  "film_description": "\"Fight Club\"  was released in 1999  and  directed by David Fincher"
                },
                {
                  "index": 59,
                  "film_title": "Se7en",
                  "film_description": "\"Se7en\"  was released in 1995  and  directed by David Fincher"
                },
                {
                  "index": 60,
                  "film_title": "Gone Girl",
                  "film_description": "\"Gone Girl\"  was released in 2014  and  directed by David Fincher"
                },
                {
                  "index": 61,
                  "film_title": "The Girl with the Dragon Tattoo",
                  "film_description": "\"The Girl with the Dragon Tattoo\"  was released in 2011  and  directed by David Fincher"
                },
                {
                  "index": 62,
                  "film_title": "The Game",
                  "film_description": "\"The Game\"  was released in 1997  and  directed by David Fincher"
                },
                {
                  "index": 63,
                  "film_title": "Zodiac",
                  "film_description": "\"Zodiac\"  was released in 2007  and  directed by David Fincher"
                },
                {
                  "index": 64,
                  "film_title": "Incendies",
                  "film_description": "\"Incendies\"  was released in 2010  and  directed by Denis Villeneuve"
                },
                {
                  "index": 65,
                  "film_title": "Prisoners",
                  "film_description": "\"Prisoners\"  was released in 2013  and  directed by Denis Villeneuve"
                },
                {
                  "index": 66,
                  "film_title": "Blade Runner 2049",
                  "film_description": "\"Blade Runner 2049\"  was released in 2017  and  directed by Denis Villeneuve"
                },
                {
                  "index": 67,
                  "film_title": "Arrival",
                  "film_description": "\"Arrival\"  was released in 2016  and  directed by Denis Villeneuve"
                },
                {
                  "index": 68,
                  "film_title": "Sicario",
                  "film_description": "\"Sicario\"  was released in 2015  and  directed by Denis Villeneuve"
                },
                {
                  "index": 69,
                  "film_title": "Le notti di Cabiria",
                  "film_description": "\"Le notti di Cabiria\"  was released in 1957  and  directed by Federico Fellini"
                },
                {
                  "index": 70,
                  "film_title": "8½",
                  "film_description": "\"8½\"  was released in 1963  and  directed by Federico Fellini"
                },
                {
                  "index": 71,
                  "film_title": "La dolce vita",
                  "film_description": "\"La dolce vita\"  was released in 1960  and  directed by Federico Fellini"
                },
                {
                  "index": 72,
                  "film_title": "La Strada",
                  "film_description": "\"La Strada\"  was released in 1954  and  directed by Federico Fellini"
                },
                {
                  "index": 73,
                  "film_title": "Amarcord",
                  "film_description": "\"Amarcord\"  was released in 1973  and  directed by Federico Fellini"
                },
                {
                  "index": 74,
                  "film_title": "Goldfinger",
                  "film_description": "\"Goldfinger\"  was released in 1964  and  directed by Guy Hamilton"
                },
                {
                  "index": 75,
                  "film_title": "Höstsonaten",
                  "film_description": "\"Höstsonaten\"  was released in 1978  and  directed by Ingmar Bergman"
                },
                {
                  "index": 76,
                  "film_title": "Smultronstället",
                  "film_description": "\"Smultronstället\"  was released in 1957  and  directed by Ingmar Bergman"
                },
                {
                  "index": 77,
                  "film_title": "Det sjunde inseglet",
                  "film_description": "\"Det sjunde inseglet\"  was released in 1957  and  directed by Ingmar Bergman"
                },
                {
                  "index": 78,
                  "film_title": "Fanny och Alexander",
                  "film_description": "\"Fanny och Alexander\"  was released in 1982  and  directed by Ingmar Bergman"
                },
                {
                  "index": 79,
                  "film_title": "Viskningar och rop",
                  "film_description": "\"Viskningar och rop\"  was released in 1972  and  directed by Ingmar Bergman"
                },
                {
                  "index": 80,
                  "film_title": "Jungfrukällan",
                  "film_description": "\"Jungfrukällan\"  was released in 1960  and  directed by Ingmar Bergman"
                },
                {
                  "index": 81,
                  "film_title": "Atonement",
                  "film_description": "\"Atonement\"  was released in 2007  and  directed by Joe Wright"
                },
                {
                  "index": 82,
                  "film_title": "Pride & Prejudice",
                  "film_description": "\"Pride & Prejudice\"  was released in 2005  and  directed by Joe Wright"
                },
                {
                  "index": 83,
                  "film_title": "I, Daniel Blake",
                  "film_description": "\"I, Daniel Blake\"  was released in 2016  and  directed by Ken Loach"
                },
                {
                  "index": 84,
                  "film_title": "Trois couleurs: Bleu",
                  "film_description": "\"Trois couleurs: Bleu\"  was released in 1993  and  directed by Krzysztof Kieslowski"
                },
                {
                  "index": 85,
                  "film_title": "La double vie de Véronique",
                  "film_description": "\"La double vie de Véronique\"  was released in 1991  and  directed by Krzysztof Kieslowski"
                },
                {
                  "index": 86,
                  "film_title": "Trois couleurs: Blanc",
                  "film_description": "\"Trois couleurs: Blanc\"  was released in 1994  and  directed by Krzysztof Kieslowski"
                },
                {
                  "index": 87,
                  "film_title": "Dogville",
                  "film_description": "\"Dogville\"  was released in 2003  and  directed by Lars von Trier"
                },
                {
                  "index": 88,
                  "film_title": "Dancer in the Dark",
                  "film_description": "\"Dancer in the Dark\"  was released in 2000  and  directed by Lars von Trier"
                },
                {
                  "index": 89,
                  "film_title": "Breaking the Waves",
                  "film_description": "\"Breaking the Waves\"  was released in 1996  and  directed by Lars von Trier"
                },
                {
                  "index": 90,
                  "film_title": "Secrets & Lies",
                  "film_description": "\"Secrets & Lies\"  was released in 1996  and  directed by Mike Leigh"
                },
                {
                  "index": 91,
                  "film_title": "Naked",
                  "film_description": "\"Naked\"  was released in 1993  and  directed by Mike Leigh"
                },
                {
                  "index": 92,
                  "film_title": "Marriage Story",
                  "film_description": "\"Marriage Story\"  was released in 2019  and  directed by Noah Baumbach"
                },
                {
                  "index": 93,
                  "film_title": "Citizen Kane",
                  "film_description": "\"Citizen Kane\"  was released in 1941  and  directed by Orson Welles"
                },
                {
                  "index": 94,
                  "film_title": "Touch of Evil",
                  "film_description": "\"Touch of Evil\"  was released in 1958  and  directed by Orson Welles"
                },
                {
                  "index": 95,
                  "film_title": "The Lord of the Rings: The Return of the King",
                  "film_description": "\"The Lord of the Rings: The Return of the King\"  was released in 2003  and  directed by Peter Jackson"
                },
                {
                  "index": 96,
                  "film_title": "The Lord of the Rings: The Fellowship of the Ring",
                  "film_description": "\"The Lord of the Rings: The Fellowship of the Ring\"  was released in 2001  and  directed by Peter Jackson"
                },
                {
                  "index": 97,
                  "film_title": "The Lord of the Rings: The Two Towers",
                  "film_description": "\"The Lord of the Rings: The Two Towers\"  was released in 2002  and  directed by Peter Jackson"
                },
                {
                  "index": 98,
                  "film_title": "The Hobbit: The Desolation of Smaug",
                  "film_description": "\"The Hobbit: The Desolation of Smaug\"  was released in 2013  and  directed by Peter Jackson"
                },
                {
                  "index": 99,
                  "film_title": "The Hobbit: An Unexpected Journey",
                  "film_description": "\"The Hobbit: An Unexpected Journey\"  was released in 2012  and  directed by Peter Jackson"
                },
                {
                  "index": 100,
                  "film_title": "Pulp Fiction",
                  "film_description": "\"Pulp Fiction\"  was released in 1994  and  directed by Quentin Tarantino"
                },
                {
                  "index": 101,
                  "film_title": "Django Unchained",
                  "film_description": "\"Django Unchained\"  was released in 2012  and  directed by Quentin Tarantino"
                },
                {
                  "index": 102,
                  "film_title": "Inglourious Basterds",
                  "film_description": "\"Inglourious Basterds\"  was released in 2009  and  directed by Quentin Tarantino"
                },
                {
                  "index": 103,
                  "film_title": "Reservoir Dogs",
                  "film_description": "\"Reservoir Dogs\"  was released in 1992  and  directed by Quentin Tarantino"
                },
                {
                  "index": 104,
                  "film_title": "Kill Bill: Vol. 1",
                  "film_description": "\"Kill Bill: Vol. 1\"  was released in 2003  and  directed by Quentin Tarantino"
                },
                {
                  "index": 105,
                  "film_title": "Kill Bill: Vol. 2",
                  "film_description": "\"Kill Bill: Vol. 2\"  was released in 2004  and  directed by Quentin Tarantino"
                },
                {
                  "index": 106,
                  "film_title": "The Hateful Eight",
                  "film_description": "\"The Hateful Eight\"  was released in 2015  and  directed by Quentin Tarantino"
                },
                {
                  "index": 107,
                  "film_title": "Once Upon a Time... in Hollywood",
                  "film_description": "\"Once Upon a Time... in Hollywood\"  was released in 2019  and  directed by Quentin Tarantino"
                },
                {
                  "index": 108,
                  "film_title": "The Pianist",
                  "film_description": "\"The Pianist\"  was released in 2002  and  directed by Roman Polanski"
                },
                {
                  "index": 109,
                  "film_title": "Chinatown",
                  "film_description": "\"Chinatown\"  was released in 1974  and  directed by Roman Polanski"
                },
                {
                  "index": 110,
                  "film_title": "Rosemary's Baby",
                  "film_description": "\"Rosemary's Baby\"  was released in 1968  and  directed by Roman Polanski"
                },
                {
                  "index": 111,
                  "film_title": "Le locataire",
                  "film_description": "\"Le locataire\"  was released in 1976  and  directed by Roman Polanski"
                },
                {
                  "index": 112,
                  "film_title": "Lost in Translation",
                  "film_description": "\"Lost in Translation\"  was released in 2003  and  directed by Sofia Coppola"
                },
                {
                  "index": 113,
                  "film_title": "Guess Who's Coming to Dinner",
                  "film_description": "\"Guess Who's Coming to Dinner\"  was released in 1967  and  directed by Stanley Kramer"
                },
                {
                  "index": 114,
                  "film_title": "The Shining",
                  "film_description": "\"The Shining\"  was released in 1980  and  directed by Stanley Kubrick"
                },
                {
                  "index": 115,
                  "film_title": "Paths of Glory",
                  "film_description": "\"Paths of Glory\"  was released in 1957  and  directed by Stanley Kubrick"
                },
                {
                  "index": 116,
                  "film_title": "Full Metal Jacket",
                  "film_description": "\"Full Metal Jacket\"  was released in 1987  and  directed by Stanley Kubrick"
                },
                {
                  "index": 117,
                  "film_title": "A Clockwork Orange",
                  "film_description": "\"A Clockwork Orange\"  was released in 1971  and  directed by Stanley Kubrick"
                },
                {
                  "index": 118,
                  "film_title": "2001: A Space Odyssey",
                  "film_description": "\"2001: A Space Odyssey\"  was released in 1968  and  directed by Stanley Kubrick"
                },
                {
                  "index": 119,
                  "film_title": "Barry Lyndon",
                  "film_description": "\"Barry Lyndon\"  was released in 1975  and  directed by Stanley Kubrick"
                },
                {
                  "index": 120,
                  "film_title": "The Killing",
                  "film_description": "\"The Killing\"  was released in 1956  and  directed by Stanley Kubrick"
                },
                {
                  "index": 121,
                  "film_title": "Spartacus",
                  "film_description": "\"Spartacus\"  was released in 1960  and  directed by Stanley Kubrick"
                },
                {
                  "index": 122,
                  "film_title": "Schindler's List",
                  "film_description": "\"Schindler's List\"  was released in 1993  and  directed by Steven Spielberg"
                },
                {
                  "index": 123,
                  "film_title": "Saving Private Ryan",
                  "film_description": "\"Saving Private Ryan\"  was released in 1998  and  directed by Steven Spielberg"
                },
                {
                  "index": 124,
                  "film_title": "Raiders of the Lost Ark",
                  "film_description": "\"Raiders of the Lost Ark\"  was released in 1981  and  directed by Steven Spielberg"
                },
                {
                  "index": 125,
                  "film_title": "Indiana Jones and the Last Crusade",
                  "film_description": "\"Indiana Jones and the Last Crusade\"  was released in 1989  and  directed by Steven Spielberg"
                },
                {
                  "index": 126,
                  "film_title": "Jurassic Park",
                  "film_description": "\"Jurassic Park\"  was released in 1993  and  directed by Steven Spielberg"
                },
                {
                  "index": 127,
                  "film_title": "Jaws",
                  "film_description": "\"Jaws\"  was released in 1975  and  directed by Steven Spielberg"
                },
                {
                  "index": 128,
                  "film_title": "The Color Purple",
                  "film_description": "\"The Color Purple\"  was released in 1985  and  directed by Steven Spielberg"
                },
                {
                  "index": 129,
                  "film_title": "E.T. the Extra-Terrestrial",
                  "film_description": "\"E.T. the Extra-Terrestrial\"  was released in 1982  and  directed by Steven Spielberg"
                },
                {
                  "index": 130,
                  "film_title": "Empire of the Sun",
                  "film_description": "\"Empire of the Sun\"  was released in 1987  and  directed by Steven Spielberg"
                },
                {
                  "index": 131,
                  "film_title": "Bridge of Spies",
                  "film_description": "\"Bridge of Spies\"  was released in 2015  and  directed by Steven Spielberg"
                },
                {
                  "index": 132,
                  "film_title": "Minority Report",
                  "film_description": "\"Minority Report\"  was released in 2002  and  directed by Steven Spielberg"
                },
                {
                  "index": 133,
                  "film_title": "Close Encounters of the Third Kind",
                  "film_description": "\"Close Encounters of the Third Kind\"  was released in 1977  and  directed by Steven Spielberg"
                },
                {
                  "index": 134,
                  "film_title": "Cool Hand Luke",
                  "film_description": "\"Cool Hand Luke\"  was released in 1967  and  directed by Stuart Rosenberg"
                },
                {
                  "index": 135,
                  "film_title": "Hunt for the Wilderpeople",
                  "film_description": "\"Hunt for the Wilderpeople\"  was released in 2016  and  directed by Taika Waititi"
                },
                {
                  "index": 136,
                  "film_title": "Thor: Ragnarok",
                  "film_description": "\"Thor: Ragnarok\"  was released in 2017  and  directed by Taika Waititi"
                },
                {
                  "index": 137,
                  "film_title": "Jojo Rabbit",
                  "film_description": "\"Jojo Rabbit\"  was released in 2019  and  directed by Taika Waititi"
                },
                {
                  "index": 138,
                  "film_title": "Wait Until Dark",
                  "film_description": "\"Wait Until Dark\"  was released in 1967  and  directed by Terence Young"
                },
                {
                  "index": 139,
                  "film_title": "Days of Heaven",
                  "film_description": "\"Days of Heaven\"  was released in 1978  and  directed by Terrence Malick"
                },
                {
                  "index": 140,
                  "film_title": "Badlands",
                  "film_description": "\"Badlands\"  was released in 1973  and  directed by Terrence Malick"
                },
                {
                  "index": 141,
                  "film_title": "The Thin Red Line",
                  "film_description": "\"The Thin Red Line\"  was released in 1998  and  directed by Terrence Malick"
                },
                {
                  "index": 142,
                  "film_title": "Big Fish",
                  "film_description": "\"Big Fish\"  was released in 2003  and  directed by Tim Burton"
                },
                {
                  "index": 143,
                  "film_title": "Edward Scissorhands",
                  "film_description": "\"Edward Scissorhands\"  was released in 1990  and  directed by Tim Burton"
                },
                {
                  "index": 144,
                  "film_title": "Ed Wood",
                  "film_description": "\"Ed Wood\"  was released in 1994  and  directed by Tim Burton"
                },
                {
                  "index": 145,
                  "film_title": "The Grand Budapest Hotel",
                  "film_description": "\"The Grand Budapest Hotel\"  was released in 2014  and  directed by Wes Anderson"
                },
                {
                  "index": 146,
                  "film_title": "Isle of Dogs",
                  "film_description": "\"Isle of Dogs\"  was released in 2018  and  directed by Wes Anderson"
                },
                {
                  "index": 147,
                  "film_title": "Fantastic Mr. Fox",
                  "film_description": "\"Fantastic Mr. Fox\"  was released in 2009  and  directed by Wes Anderson"
                },
                {
                  "index": 148,
                  "film_title": "Moonrise Kingdom",
                  "film_description": "\"Moonrise Kingdom\"  was released in 2012  and  directed by Wes Anderson"
                },
                {
                  "index": 149,
                  "film_title": "Rushmore",
                  "film_description": "\"Rushmore\"  was released in 1998  and  directed by Wes Anderson"
                },
                {
                  "index": 150,
                  "film_title": "The Royal Tenenbaums",
                  "film_description": "\"The Royal Tenenbaums\"  was released in 2001  and  directed by Wes Anderson"
                },
                {
                  "index": 151,
                  "film_title": "Annie Hall",
                  "film_description": "\"Annie Hall\"  was released in 1977  and  directed by Woody Allen"
                },
                {
                  "index": 152,
                  "film_title": "Crimes and Misdemeanors",
                  "film_description": "\"Crimes and Misdemeanors\"  was released in 1989  and  directed by Woody Allen"
                },
                {
                  "index": 153,
                  "film_title": "Hannah and Her Sisters",
                  "film_description": "\"Hannah and Her Sisters\"  was released in 1986  and  directed by Woody Allen"
                },
                {
                  "index": 154,
                  "film_title": "Manhattan",
                  "film_description": "\"Manhattan\"  was released in 1979  and  directed by Woody Allen"
                },
                {
                  "index": 155,
                  "film_title": "Midnight in Paris",
                  "film_description": "\"Midnight in Paris\"  was released in 2011  and  directed by Woody Allen"
                },
                {
                  "index": 156,
                  "film_title": "The Purple Rose of Cairo",
                  "film_description": "\"The Purple Rose of Cairo\"  was released in 1985  and  directed by Woody Allen"
                },
                {
                  "index": 157,
                  "film_title": "Zelig",
                  "film_description": "\"Zelig\"  was released in 1983  and  directed by Woody Allen"
                },
                {
                  "index": 158,
                  "film_title": "Love and Death",
                  "film_description": "\"Love and Death\"  was released in 1975  and  directed by Woody Allen"
                },
                {
                  "index": 159,
                  "film_title": "Match Point",
                  "film_description": "\"Match Point\"  was released in 2005  and  directed by Woody Allen"
                },
                {
                  "index": 160,
                  "film_title": "Snatch",
                  "film_description": "\"Snatch\"  was released in 2000  and  directed by Guy Ritchie"
                },
                {
                  "index": 161,
                  "film_title": "Lock, Stock and Two Smoking Barrels",
                  "film_description": "\"Lock, Stock and Two Smoking Barrels\"  was released in 1998  and  directed by Guy Ritchie"
                },
                {
                  "index": 162,
                  "film_title": "Sherlock Holmes",
                  "film_description": "\"Sherlock Holmes\"  was released in 2009  and  directed by Guy Ritchie"
                },
                {
                  "index": 163,
                  "film_title": "Goodfellas",
                  "film_description": "\"Goodfellas\"  was released in 1990  and  directed by Martin Scorsese"
                },
                {
                  "index": 164,
                  "film_title": "The Departed",
                  "film_description": "\"The Departed\"  was released in 2006  and  directed by Martin Scorsese"
                },
                {
                  "index": 165,
                  "film_title": "Taxi Driver",
                  "film_description": "\"Taxi Driver\"  was released in 1976  and  directed by Martin Scorsese"
                },
                {
                  "index": 166,
                  "film_title": "Shutter Island",
                  "film_description": "\"Shutter Island\"  was released in 2010  and  directed by Martin Scorsese"
                },
                {
                  "index": 167,
                  "film_title": "The Wolf of Wall Street",
                  "film_description": "\"The Wolf of Wall Street\"  was released in 2013  and  directed by Martin Scorsese"
                },
                {
                  "index": 168,
                  "film_title": "Raging Bull",
                  "film_description": "\"Raging Bull\"  was released in 1980  and  directed by Martin Scorsese"
                },
                {
                  "index": 169,
                  "film_title": "The Irishman",
                  "film_description": "\"The Irishman\"  was released in 2019  and  directed by Martin Scorsese"
                },
                {
                  "index": 170,
                  "film_title": "The King of Comedy",
                  "film_description": "\"The King of Comedy\"  was released in 1982  and  directed by Martin Scorsese"
                },
                {
                  "index": 171,
                  "film_title": "After Hours",
                  "film_description": "\"After Hours\"  was released in 1985  and  directed by Martin Scorsese"
                },
                {
                  "index": 172,
                  "film_title": "Harry Potter and the Prisoner of Azkaban",
                  "film_description": "\"Harry Potter and the Prisoner of Azkaban\"  was released in 2004  and  directed by Alfonso Cuarón"
                },
                {
                  "index": 173,
                  "film_title": "North by Northwest",
                  "film_description": "\"North by Northwest\"  was released in 1959  and  directed by Alfred Hitchcock"
                },
                {
                  "index": 174,
                  "film_title": "Shadow of a Doubt",
                  "film_description": "\"Shadow of a Doubt\"  was released in 1943  and  directed by Alfred Hitchcock"
                },
                {
                  "index": 175,
                  "film_title": "Scarface",
                  "film_description": "\"Scarface\"  was released in 1983  and  directed by Brian De Palma"
                },
                {
                  "index": 176,
                  "film_title": "The Lego Movie",
                  "film_description": "\"The Lego Movie\"  was released in 2014  and  directed by Christopher Miller"
                },
                {
                  "index": 177,
                  "film_title": "Gran Torino",
                  "film_description": "\"Gran Torino\"  was released in 2008  and  directed by Clint Eastwood"
                },
                {
                  "index": 178,
                  "film_title": "Million Dollar Baby",
                  "film_description": "\"Million Dollar Baby\"  was released in 2004  and  directed by Clint Eastwood"
                },
                {
                  "index": 179,
                  "film_title": "Persona",
                  "film_description": "\"Persona\"  was released in 1966  and  directed by Ingmar Bergman"
                },
                {
                  "index": 180,
                  "film_title": "Trois couleurs: Rouge",
                  "film_description": "\"Trois couleurs: Rouge\"  was released in 1994  and  directed by Krzysztof Kieslowski"
                },
                {
                  "index": 181,
                  "film_title": "Repulsion",
                  "film_description": "\"Repulsion\"  was released in 1965  and  directed by Roman Polanski"
                },
                {
                  "index": 182,
                  "film_title": "Dr. Strangelove or: How I Learned to Stop Worrying and Love the Bomb",
                  "film_description": "\"Dr. Strangelove or: How I Learned to Stop Worrying and Love the Bomb\"  was released in 1964  and  directed by Stanley Kubrick"
                },
                {
                  "index": 183,
                  "film_title": "Catch Me If You Can",
                  "film_description": "\"Catch Me If You Can\"  was released in 2002  and  directed by Steven Spielberg"
                },
                {
                  "index": 184,
                  "film_title": "The Curious Case of Benjamin Button",
                  "film_description": "\"The Curious Case of Benjamin Button\"  was released in 2008  and  directed by David Fincher"
                },
                {
                  "index": 185,
                  "film_title": "The Social Network",
                  "film_description": "\"The Social Network\"  was released in 2010  and  directed by David Fincher"
                },
                {
                  "index": 186,
                  "film_title": "The Gentlemen",
                  "film_description": "\"The Gentlemen\"  was released in 2019  and  directed by Guy Ritchie"
                },
                {
                  "index": 187,
                  "film_title": "Casino",
                  "film_description": "\"Casino\"  was released in 1995  and  directed by Martin Scorsese"
                }
              ],
              "datalink": {
                "display_id": "0426c9ff-3edc-4bef-87c7-1044ecb372c6"
              }
            }
          },
          "metadata": {
            "application/vnd.dataresource+json": {
              "datalink": {
                "dataframe_info": {
                  "default_index_used": true,
                  "orig_size_bytes": 3136,
                  "orig_num_rows": 188,
                  "orig_num_cols": 2,
                  "truncated_size_bytes": 3136,
                  "truncated_num_rows": 188,
                  "truncated_num_cols": 2
                },
                "dx_settings": {
                  "NUM_PAST_SAMPLES_TRACKED": 3,
                  "ENABLE_DATALINK": true,
                  "DISPLAY_MODE": "simple",
                  "GENERATE_DEX_METADATA": false,
                  "STRINGIFY_INDEX_VALUES": false,
                  "ALLOW_NOTEABLE_ATTRS": true,
                  "DISPLAY_MAX_COLUMNS": 100,
                  "HTML_TABLE_SCHEMA": false,
                  "SAMPLING_FACTOR": 0.1,
                  "LOG_LEVEL": 30,
                  "ENABLE_ASSIGNMENT": false,
                  "FLATTEN_INDEX_VALUES": false,
                  "DEV_MODE": false,
                  "COLUMN_SAMPLING_METHOD": "outer",
                  "FLATTEN_COLUMN_VALUES": true,
                  "DISPLAY_MAX_ROWS": 50000,
                  "ROW_SAMPLING_METHOD": "random",
                  "RANDOM_STATE": 12648430,
                  "DB_LOCATION": ":memory:",
                  "STRINGIFY_COLUMN_VALUES": true,
                  "SAMPLING_METHOD": "random",
                  "MAX_RENDER_SIZE_BYTES": 104857600,
                  "RESET_INDEX_VALUES": false
                },
                "display_id": "0426c9ff-3edc-4bef-87c7-1044ecb372c6",
                "applied_filters": [],
                "sample_history": [],
                "sampling_time": "2023-02-08T18:32:58.007350",
                "variable_name": "sql_df_24"
              },
              "display_id": "0426c9ff-3edc-4bef-87c7-1044ecb372c6"
            }
          }
        }
      ],
      "execution_count": null,
      "metadata": {
        "noteable": {
          "assign_results_to": "sql_df_24",
          "cell_type": "sql",
          "db_connection": "@noteable"
        },
        "ExecuteTime": {
          "end_time": "2023-02-08T18:32:58.164679+00:00",
          "start_time": "2023-02-08T18:32:57.976661+00:00"
        },
        "dx": {
          "fieldMetadata": {},
          "simpleTable": true,
          "updated": 1675880758297,
          "views": []
        }
      },
      "id": "f3c4a0b1-4279-4577-bcd2-0a602ed24e8b"
    },
    {
      "cell_type": "markdown",
      "source": [
        "* Films that have a rating which is higher than the average rating of all the films in the dataset"
      ],
      "metadata": {
        "noteable": {
          "cell_type": "markdown"
        }
      },
      "id": "4e3a1c7e-17d7-43ab-99da-09559db9742a"
    },
    {
      "cell_type": "markdown",
      "source": [
        "# Subqueries"
      ],
      "metadata": {
        "noteable": {
          "cell_type": "markdown"
        }
      },
      "id": "e523783a-b73d-48cd-b3a2-31b6300ea436"
    },
    {
      "cell_type": "code",
      "source": [
        "%%sql @noteable\n",
        "select film_title, rating, (select round(avg(rating),2) from dataset) as average_rating from dataset inner join films using (film_id)\n",
        "where rating > average_rating;"
      ],
      "outputs": [
        {
          "output_type": "display_data",
          "data": {
            "application/vnd.dataresource+json": {
              "schema": {
                "fields": [
                  {
                    "name": "index",
                    "type": "integer"
                  },
                  {
                    "name": "film_title",
                    "type": "string"
                  },
                  {
                    "name": "rating",
                    "type": "number"
                  },
                  {
                    "name": "average_rating",
                    "type": "number"
                  }
                ],
                "primaryKey": [
                  "index"
                ],
                "pandas_version": "1.4.0"
              },
              "data": [
                {
                  "index": 0,
                  "film_title": "Shichinin no samurai",
                  "rating": 8.6,
                  "average_rating": 8.03
                },
                {
                  "index": 1,
                  "film_title": "Tengoku to jigoku",
                  "rating": 8.4,
                  "average_rating": 8.03
                },
                {
                  "index": 2,
                  "film_title": "Ikiru",
                  "rating": 8.3,
                  "average_rating": 8.03
                },
                {
                  "index": 3,
                  "film_title": "Ran",
                  "rating": 8.2,
                  "average_rating": 8.03
                },
                {
                  "index": 4,
                  "film_title": "Yôjinbô",
                  "rating": 8.2,
                  "average_rating": 8.03
                },
                {
                  "index": 5,
                  "film_title": "Rashômon",
                  "rating": 8.2,
                  "average_rating": 8.03
                },
                {
                  "index": 6,
                  "film_title": "Sanjuro",
                  "rating": 8.1,
                  "average_rating": 8.03
                },
                {
                  "index": 7,
                  "film_title": "Kakushi-toride no san-akunin",
                  "rating": 8.1,
                  "average_rating": 8.03
                },
                {
                  "index": 8,
                  "film_title": "Kumonosu-jô",
                  "rating": 8.1,
                  "average_rating": 8.03
                },
                {
                  "index": 9,
                  "film_title": "Psycho",
                  "rating": 8.5,
                  "average_rating": 8.03
                },
                {
                  "index": 10,
                  "film_title": "Rear Window",
                  "rating": 8.4,
                  "average_rating": 8.03
                },
                {
                  "index": 11,
                  "film_title": "Vertigo",
                  "rating": 8.3,
                  "average_rating": 8.03
                },
                {
                  "index": 12,
                  "film_title": "Dial M for Murder",
                  "rating": 8.2,
                  "average_rating": 8.03
                },
                {
                  "index": 13,
                  "film_title": "Rebecca",
                  "rating": 8.1,
                  "average_rating": 8.03
                },
                {
                  "index": 14,
                  "film_title": "Stalker",
                  "rating": 8.2,
                  "average_rating": 8.03
                },
                {
                  "index": 15,
                  "film_title": "Zerkalo",
                  "rating": 8.1,
                  "average_rating": 8.03
                },
                {
                  "index": 16,
                  "film_title": "Solaris",
                  "rating": 8.1,
                  "average_rating": 8.03
                },
                {
                  "index": 17,
                  "film_title": "Andrei Rublev",
                  "rating": 8.1,
                  "average_rating": 8.03
                },
                {
                  "index": 18,
                  "film_title": "Ivanovo detstvo",
                  "rating": 8.1,
                  "average_rating": 8.03
                },
                {
                  "index": 19,
                  "film_title": "The Usual Suspects",
                  "rating": 8.5,
                  "average_rating": 8.03
                },
                {
                  "index": 20,
                  "film_title": "The Dark Knight",
                  "rating": 9,
                  "average_rating": 8.03
                },
                {
                  "index": 21,
                  "film_title": "Inception",
                  "rating": 8.8,
                  "average_rating": 8.03
                },
                {
                  "index": 22,
                  "film_title": "Interstellar",
                  "rating": 8.6,
                  "average_rating": 8.03
                },
                {
                  "index": 23,
                  "film_title": "The Prestige",
                  "rating": 8.5,
                  "average_rating": 8.03
                },
                {
                  "index": 24,
                  "film_title": "The Dark Knight Rises",
                  "rating": 8.4,
                  "average_rating": 8.03
                },
                {
                  "index": 25,
                  "film_title": "Memento",
                  "rating": 8.4,
                  "average_rating": 8.03
                },
                {
                  "index": 26,
                  "film_title": "Batman Begins",
                  "rating": 8.2,
                  "average_rating": 8.03
                },
                {
                  "index": 27,
                  "film_title": "Unforgiven",
                  "rating": 8.2,
                  "average_rating": 8.03
                },
                {
                  "index": 28,
                  "film_title": "Trainspotting",
                  "rating": 8.1,
                  "average_rating": 8.03
                },
                {
                  "index": 29,
                  "film_title": "Fight Club",
                  "rating": 8.8,
                  "average_rating": 8.03
                },
                {
                  "index": 30,
                  "film_title": "Se7en",
                  "rating": 8.6,
                  "average_rating": 8.03
                },
                {
                  "index": 31,
                  "film_title": "Gone Girl",
                  "rating": 8.1,
                  "average_rating": 8.03
                },
                {
                  "index": 32,
                  "film_title": "Incendies",
                  "rating": 8.3,
                  "average_rating": 8.03
                },
                {
                  "index": 33,
                  "film_title": "Prisoners",
                  "rating": 8.1,
                  "average_rating": 8.03
                },
                {
                  "index": 34,
                  "film_title": "Le notti di Cabiria",
                  "rating": 8.1,
                  "average_rating": 8.03
                },
                {
                  "index": 35,
                  "film_title": "Snatch",
                  "rating": 8.3,
                  "average_rating": 8.03
                },
                {
                  "index": 36,
                  "film_title": "Lock, Stock and Two Smoking Barrels",
                  "rating": 8.2,
                  "average_rating": 8.03
                },
                {
                  "index": 37,
                  "film_title": "Höstsonaten",
                  "rating": 8.2,
                  "average_rating": 8.03
                },
                {
                  "index": 38,
                  "film_title": "Smultronstället",
                  "rating": 8.2,
                  "average_rating": 8.03
                },
                {
                  "index": 39,
                  "film_title": "Det sjunde inseglet",
                  "rating": 8.2,
                  "average_rating": 8.03
                },
                {
                  "index": 40,
                  "film_title": "Fanny och Alexander",
                  "rating": 8.1,
                  "average_rating": 8.03
                },
                {
                  "index": 41,
                  "film_title": "Viskningar och rop",
                  "rating": 8.1,
                  "average_rating": 8.03
                },
                {
                  "index": 42,
                  "film_title": "Jungfrukällan",
                  "rating": 8.1,
                  "average_rating": 8.03
                },
                {
                  "index": 43,
                  "film_title": "Goodfellas",
                  "rating": 8.7,
                  "average_rating": 8.03
                },
                {
                  "index": 44,
                  "film_title": "The Departed",
                  "rating": 8.5,
                  "average_rating": 8.03
                },
                {
                  "index": 45,
                  "film_title": "Taxi Driver",
                  "rating": 8.3,
                  "average_rating": 8.03
                },
                {
                  "index": 46,
                  "film_title": "Shutter Island",
                  "rating": 8.2,
                  "average_rating": 8.03
                },
                {
                  "index": 47,
                  "film_title": "The Wolf of Wall Street",
                  "rating": 8.2,
                  "average_rating": 8.03
                },
                {
                  "index": 48,
                  "film_title": "Raging Bull",
                  "rating": 8.2,
                  "average_rating": 8.03
                },
                {
                  "index": 49,
                  "film_title": "Citizen Kane",
                  "rating": 8.3,
                  "average_rating": 8.03
                },
                {
                  "index": 50,
                  "film_title": "The Lord of the Rings: The Return of the King",
                  "rating": 8.9,
                  "average_rating": 8.03
                },
                {
                  "index": 51,
                  "film_title": "The Lord of the Rings: The Fellowship of the Ring",
                  "rating": 8.8,
                  "average_rating": 8.03
                },
                {
                  "index": 52,
                  "film_title": "The Lord of the Rings: The Two Towers",
                  "rating": 8.7,
                  "average_rating": 8.03
                },
                {
                  "index": 53,
                  "film_title": "Pulp Fiction",
                  "rating": 8.9,
                  "average_rating": 8.03
                },
                {
                  "index": 54,
                  "film_title": "Django Unchained",
                  "rating": 8.4,
                  "average_rating": 8.03
                },
                {
                  "index": 55,
                  "film_title": "Inglourious Basterds",
                  "rating": 8.3,
                  "average_rating": 8.03
                },
                {
                  "index": 56,
                  "film_title": "Reservoir Dogs",
                  "rating": 8.3,
                  "average_rating": 8.03
                },
                {
                  "index": 57,
                  "film_title": "Kill Bill: Vol. 1",
                  "rating": 8.1,
                  "average_rating": 8.03
                },
                {
                  "index": 58,
                  "film_title": "The Pianist",
                  "rating": 8.5,
                  "average_rating": 8.03
                },
                {
                  "index": 59,
                  "film_title": "Chinatown",
                  "rating": 8.1,
                  "average_rating": 8.03
                },
                {
                  "index": 60,
                  "film_title": "The Shining",
                  "rating": 8.4,
                  "average_rating": 8.03
                },
                {
                  "index": 61,
                  "film_title": "Paths of Glory",
                  "rating": 8.4,
                  "average_rating": 8.03
                },
                {
                  "index": 62,
                  "film_title": "Full Metal Jacket",
                  "rating": 8.3,
                  "average_rating": 8.03
                },
                {
                  "index": 63,
                  "film_title": "A Clockwork Orange",
                  "rating": 8.3,
                  "average_rating": 8.03
                },
                {
                  "index": 64,
                  "film_title": "2001: A Space Odyssey",
                  "rating": 8.3,
                  "average_rating": 8.03
                },
                {
                  "index": 65,
                  "film_title": "Barry Lyndon",
                  "rating": 8.1,
                  "average_rating": 8.03
                },
                {
                  "index": 66,
                  "film_title": "Schindler's List",
                  "rating": 8.9,
                  "average_rating": 8.03
                },
                {
                  "index": 67,
                  "film_title": "Saving Private Ryan",
                  "rating": 8.6,
                  "average_rating": 8.03
                },
                {
                  "index": 68,
                  "film_title": "Raiders of the Lost Ark",
                  "rating": 8.4,
                  "average_rating": 8.03
                },
                {
                  "index": 69,
                  "film_title": "Indiana Jones and the Last Crusade",
                  "rating": 8.2,
                  "average_rating": 8.03
                },
                {
                  "index": 70,
                  "film_title": "Jurassic Park",
                  "rating": 8.1,
                  "average_rating": 8.03
                },
                {
                  "index": 71,
                  "film_title": "Cool Hand Luke",
                  "rating": 8.1,
                  "average_rating": 8.03
                },
                {
                  "index": 72,
                  "film_title": "The Grand Budapest Hotel",
                  "rating": 8.1,
                  "average_rating": 8.03
                },
                {
                  "index": 73,
                  "film_title": "North by Northwest",
                  "rating": 8.3,
                  "average_rating": 8.03
                },
                {
                  "index": 74,
                  "film_title": "Scarface",
                  "rating": 8.3,
                  "average_rating": 8.03
                },
                {
                  "index": 75,
                  "film_title": "Gran Torino",
                  "rating": 8.1,
                  "average_rating": 8.03
                },
                {
                  "index": 76,
                  "film_title": "Million Dollar Baby",
                  "rating": 8.1,
                  "average_rating": 8.03
                },
                {
                  "index": 77,
                  "film_title": "Persona",
                  "rating": 8.1,
                  "average_rating": 8.03
                },
                {
                  "index": 78,
                  "film_title": "Trois couleurs: Rouge",
                  "rating": 8.1,
                  "average_rating": 8.03
                },
                {
                  "index": 79,
                  "film_title": "Casino",
                  "rating": 8.2,
                  "average_rating": 8.03
                },
                {
                  "index": 80,
                  "film_title": "Dr. Strangelove or: How I Learned to Stop Worrying and Love the Bomb",
                  "rating": 8.4,
                  "average_rating": 8.03
                },
                {
                  "index": 81,
                  "film_title": "Catch Me If You Can",
                  "rating": 8.1,
                  "average_rating": 8.03
                }
              ],
              "datalink": {
                "display_id": "3a1f7318-7570-41b4-b965-a46b729dac0e"
              }
            }
          },
          "metadata": {
            "application/vnd.dataresource+json": {
              "datalink": {
                "dataframe_info": {
                  "default_index_used": true,
                  "orig_size_bytes": 2096,
                  "orig_num_rows": 82,
                  "orig_num_cols": 3,
                  "truncated_size_bytes": 2096,
                  "truncated_num_rows": 82,
                  "truncated_num_cols": 3
                },
                "dx_settings": {
                  "NUM_PAST_SAMPLES_TRACKED": 3,
                  "ENABLE_DATALINK": true,
                  "DISPLAY_MODE": "simple",
                  "GENERATE_DEX_METADATA": false,
                  "STRINGIFY_INDEX_VALUES": false,
                  "ALLOW_NOTEABLE_ATTRS": true,
                  "DISPLAY_MAX_COLUMNS": 100,
                  "HTML_TABLE_SCHEMA": false,
                  "SAMPLING_FACTOR": 0.1,
                  "LOG_LEVEL": 30,
                  "ENABLE_ASSIGNMENT": false,
                  "FLATTEN_INDEX_VALUES": false,
                  "DEV_MODE": false,
                  "COLUMN_SAMPLING_METHOD": "outer",
                  "FLATTEN_COLUMN_VALUES": true,
                  "DISPLAY_MAX_ROWS": 50000,
                  "ROW_SAMPLING_METHOD": "random",
                  "RANDOM_STATE": 12648430,
                  "DB_LOCATION": ":memory:",
                  "STRINGIFY_COLUMN_VALUES": true,
                  "SAMPLING_METHOD": "random",
                  "MAX_RENDER_SIZE_BYTES": 104857600,
                  "RESET_INDEX_VALUES": false
                },
                "display_id": "3a1f7318-7570-41b4-b965-a46b729dac0e",
                "applied_filters": [],
                "sample_history": [],
                "sampling_time": "2023-02-08T13:29:45.106275",
                "variable_name": "sql_df_10"
              },
              "display_id": "3a1f7318-7570-41b4-b965-a46b729dac0e"
            }
          }
        }
      ],
      "execution_count": null,
      "metadata": {
        "noteable": {
          "assign_results_to": "sql_df_10",
          "cell_type": "sql",
          "db_connection": "@noteable"
        },
        "ExecuteTime": {
          "end_time": "2023-02-08T13:29:45.262618+00:00",
          "start_time": "2023-02-08T13:29:45.076307+00:00"
        },
        "dx": {
          "fieldMetadata": {},
          "simpleTable": true,
          "updated": 1675862772733,
          "views": []
        }
      },
      "id": "c35a15ea-d155-4475-998b-5ff64b6353f6"
    },
    {
      "cell_type": "markdown",
      "source": [
        "* Number of unique directors\n",
        "* Number of films\n",
        "* Average number of films per director\n",
        "* Maximum number of films per director\n",
        "* Minimum number of films per director"
      ],
      "metadata": {
        "noteable": {
          "cell_type": "markdown"
        }
      },
      "id": "0f2b7af6-5ce9-46d0-a3b8-60199181d0cc"
    },
    {
      "cell_type": "code",
      "source": [
        "%%sql @noteable\n",
        "select \n",
        "count(distinct(director_id)) as num_of_dir, \n",
        "count(film_id) as num_of_films, \n",
        "count(film_id)/count(distinct(director_id)) as avg_films_per_dir,\n",
        "(select max(counts) from (select count(film_id) as counts from dataset\n",
        " group by director_id)) as max_film_per_dir,\n",
        " \n",
        " (select min(counts) from (select count(film_id) as counts from dataset\n",
        " group by director_id)) as min_film_per_dir\n",
        "\n",
        "from dataset;"
      ],
      "outputs": [
        {
          "output_type": "display_data",
          "data": {
            "application/vnd.dataresource+json": {
              "schema": {
                "fields": [
                  {
                    "name": "index",
                    "type": "integer"
                  },
                  {
                    "name": "num_of_dir",
                    "type": "integer"
                  },
                  {
                    "name": "num_of_films",
                    "type": "integer"
                  },
                  {
                    "name": "avg_films_per_dir",
                    "type": "integer"
                  },
                  {
                    "name": "max_film_per_dir",
                    "type": "integer"
                  },
                  {
                    "name": "min_film_per_dir",
                    "type": "integer"
                  }
                ],
                "primaryKey": [
                  "index"
                ],
                "pandas_version": "1.4.0"
              },
              "data": [
                {
                  "index": 0,
                  "num_of_dir": 41,
                  "num_of_films": 188,
                  "avg_films_per_dir": 4,
                  "max_film_per_dir": 14,
                  "min_film_per_dir": 1
                }
              ],
              "datalink": {
                "display_id": "2b15d933-108c-41a8-a00e-8b1b0fd808b7"
              }
            }
          },
          "metadata": {
            "application/vnd.dataresource+json": {
              "datalink": {
                "dataframe_info": {
                  "default_index_used": true,
                  "orig_size_bytes": 168,
                  "orig_num_rows": 1,
                  "orig_num_cols": 5,
                  "truncated_size_bytes": 168,
                  "truncated_num_rows": 1,
                  "truncated_num_cols": 5
                },
                "dx_settings": {
                  "NUM_PAST_SAMPLES_TRACKED": 3,
                  "ENABLE_DATALINK": true,
                  "DISPLAY_MODE": "simple",
                  "GENERATE_DEX_METADATA": false,
                  "STRINGIFY_INDEX_VALUES": false,
                  "ALLOW_NOTEABLE_ATTRS": true,
                  "DISPLAY_MAX_COLUMNS": 100,
                  "HTML_TABLE_SCHEMA": false,
                  "SAMPLING_FACTOR": 0.1,
                  "LOG_LEVEL": 30,
                  "ENABLE_ASSIGNMENT": false,
                  "FLATTEN_INDEX_VALUES": false,
                  "DEV_MODE": false,
                  "COLUMN_SAMPLING_METHOD": "outer",
                  "FLATTEN_COLUMN_VALUES": true,
                  "DISPLAY_MAX_ROWS": 50000,
                  "ROW_SAMPLING_METHOD": "random",
                  "RANDOM_STATE": 12648430,
                  "DB_LOCATION": ":memory:",
                  "STRINGIFY_COLUMN_VALUES": true,
                  "SAMPLING_METHOD": "random",
                  "MAX_RENDER_SIZE_BYTES": 104857600,
                  "RESET_INDEX_VALUES": false
                },
                "display_id": "2b15d933-108c-41a8-a00e-8b1b0fd808b7",
                "applied_filters": [],
                "sample_history": [],
                "sampling_time": "2023-02-08T13:45:19.266135",
                "variable_name": "sql_df_11"
              },
              "display_id": "2b15d933-108c-41a8-a00e-8b1b0fd808b7"
            }
          }
        }
      ],
      "execution_count": null,
      "metadata": {
        "noteable": {
          "assign_results_to": "sql_df_11",
          "cell_type": "sql",
          "db_connection": "@noteable"
        },
        "ExecuteTime": {
          "end_time": "2023-02-08T13:45:19.424132+00:00",
          "start_time": "2023-02-08T13:45:19.231330+00:00"
        },
        "dx": {
          "fieldMetadata": {},
          "simpleTable": true,
          "updated": 1675863603954,
          "views": []
        }
      },
      "id": "147f5180-e54c-485c-8c86-90dccfdf12a8"
    },
    {
      "cell_type": "markdown",
      "source": [
        "* The titles of the drama films with the longest runtime"
      ],
      "metadata": {
        "noteable": {
          "cell_type": "markdown"
        }
      },
      "id": "c28249ca-02ba-40f8-bdee-e09db6274795"
    },
    {
      "cell_type": "code",
      "source": [
        "%%sql @noteable\n",
        "select film_title, runtime, genre from dataset\n",
        "left join films using(film_id)\n",
        "where genre like '%Drama%' and runtime in (select max(runtime) from dataset where genre like '%Drama%');"
      ],
      "outputs": [
        {
          "output_type": "display_data",
          "data": {
            "application/vnd.dataresource+json": {
              "schema": {
                "fields": [
                  {
                    "name": "index",
                    "type": "integer"
                  },
                  {
                    "name": "film_title",
                    "type": "string"
                  },
                  {
                    "name": "runtime",
                    "type": "integer"
                  },
                  {
                    "name": "genre",
                    "type": "string"
                  }
                ],
                "primaryKey": [
                  "index"
                ],
                "pandas_version": "1.4.0"
              },
              "data": [
                {
                  "index": 0,
                  "film_title": "The Irishman",
                  "runtime": 209,
                  "genre": "Biography, Crime, Drama"
                }
              ],
              "datalink": {
                "display_id": "4344ad7e-080a-4093-81d6-5de532694556"
              }
            }
          },
          "metadata": {
            "application/vnd.dataresource+json": {
              "datalink": {
                "dataframe_info": {
                  "default_index_used": true,
                  "orig_size_bytes": 152,
                  "orig_num_rows": 1,
                  "orig_num_cols": 3,
                  "truncated_size_bytes": 152,
                  "truncated_num_rows": 1,
                  "truncated_num_cols": 3
                },
                "dx_settings": {
                  "NUM_PAST_SAMPLES_TRACKED": 3,
                  "ENABLE_DATALINK": true,
                  "DISPLAY_MODE": "simple",
                  "GENERATE_DEX_METADATA": false,
                  "STRINGIFY_INDEX_VALUES": false,
                  "ALLOW_NOTEABLE_ATTRS": true,
                  "DISPLAY_MAX_COLUMNS": 100,
                  "HTML_TABLE_SCHEMA": false,
                  "SAMPLING_FACTOR": 0.1,
                  "LOG_LEVEL": 30,
                  "ENABLE_ASSIGNMENT": false,
                  "FLATTEN_INDEX_VALUES": false,
                  "DEV_MODE": false,
                  "COLUMN_SAMPLING_METHOD": "outer",
                  "FLATTEN_COLUMN_VALUES": true,
                  "DISPLAY_MAX_ROWS": 50000,
                  "ROW_SAMPLING_METHOD": "random",
                  "RANDOM_STATE": 12648430,
                  "DB_LOCATION": ":memory:",
                  "STRINGIFY_COLUMN_VALUES": true,
                  "SAMPLING_METHOD": "random",
                  "MAX_RENDER_SIZE_BYTES": 104857600,
                  "RESET_INDEX_VALUES": false
                },
                "display_id": "4344ad7e-080a-4093-81d6-5de532694556",
                "applied_filters": [],
                "sample_history": [],
                "sampling_time": "2023-02-08T12:22:48.536232",
                "variable_name": "sql_df_3"
              },
              "display_id": "4344ad7e-080a-4093-81d6-5de532694556"
            }
          }
        }
      ],
      "execution_count": null,
      "metadata": {
        "noteable": {
          "assign_results_to": "sql_df_3",
          "cell_type": "sql",
          "db_connection": "@noteable"
        },
        "ExecuteTime": {
          "end_time": "2023-02-08T12:22:48.693324+00:00",
          "start_time": "2023-02-08T12:22:48.502084+00:00"
        },
        "dx": {
          "fieldMetadata": {},
          "simpleTable": true,
          "updated": 1675857977933,
          "views": []
        }
      },
      "id": "cf5f84f4-1f45-4d84-8b2e-c039263586d8"
    },
    {
      "cell_type": "markdown",
      "source": [
        "# CTE, IF, CASE WHEN"
      ],
      "metadata": {
        "noteable": {
          "cell_type": "markdown"
        }
      },
      "id": "899703e3-723b-4822-828a-c7d1ae94bd00"
    },
    {
      "cell_type": "markdown",
      "source": [
        "* Split films into groups using the length. Find the numberf films in each group."
      ],
      "metadata": {
        "noteable": {
          "cell_type": "markdown"
        }
      },
      "id": "d609e7e0-3d42-40ea-a48a-031ff26eebc9"
    },
    {
      "cell_type": "code",
      "source": [
        "%%sql @noteable\n",
        "with t1 (film_title, runtime,length) as\n",
        "(select film_title, runtime, if(runtime > 120, 'long', if(runtime<60, 'short', 'average')) as length from dataset\n",
        "left join films using (film_id))\n",
        "\n",
        "select count(film_title) as amount_of_films, length from t1\n",
        "group by length\n",
        "\n",
        ";"
      ],
      "outputs": [
        {
          "output_type": "display_data",
          "data": {
            "application/vnd.dataresource+json": {
              "schema": {
                "fields": [
                  {
                    "name": "index",
                    "type": "integer"
                  },
                  {
                    "name": "amount_of_films",
                    "type": "integer"
                  },
                  {
                    "name": "length",
                    "type": "string"
                  }
                ],
                "primaryKey": [
                  "index"
                ],
                "pandas_version": "1.4.0"
              },
              "data": [
                {
                  "index": 0,
                  "amount_of_films": 100,
                  "length": "long"
                },
                {
                  "index": 1,
                  "amount_of_films": 88,
                  "length": "average"
                }
              ],
              "datalink": {
                "display_id": "9668c66f-40d6-4374-8273-55e8f33cd1bd"
              }
            }
          },
          "metadata": {
            "application/vnd.dataresource+json": {
              "datalink": {
                "dataframe_info": {
                  "default_index_used": true,
                  "orig_size_bytes": 160,
                  "orig_num_rows": 2,
                  "orig_num_cols": 2,
                  "truncated_size_bytes": 160,
                  "truncated_num_rows": 2,
                  "truncated_num_cols": 2
                },
                "dx_settings": {
                  "NUM_PAST_SAMPLES_TRACKED": 3,
                  "ENABLE_DATALINK": true,
                  "DISPLAY_MODE": "simple",
                  "GENERATE_DEX_METADATA": false,
                  "STRINGIFY_INDEX_VALUES": false,
                  "ALLOW_NOTEABLE_ATTRS": true,
                  "DISPLAY_MAX_COLUMNS": 100,
                  "HTML_TABLE_SCHEMA": false,
                  "SAMPLING_FACTOR": 0.1,
                  "LOG_LEVEL": 30,
                  "ENABLE_ASSIGNMENT": false,
                  "FLATTEN_INDEX_VALUES": false,
                  "DEV_MODE": false,
                  "COLUMN_SAMPLING_METHOD": "outer",
                  "FLATTEN_COLUMN_VALUES": true,
                  "DISPLAY_MAX_ROWS": 50000,
                  "ROW_SAMPLING_METHOD": "random",
                  "RANDOM_STATE": 12648430,
                  "DB_LOCATION": ":memory:",
                  "STRINGIFY_COLUMN_VALUES": true,
                  "SAMPLING_METHOD": "random",
                  "MAX_RENDER_SIZE_BYTES": 104857600,
                  "RESET_INDEX_VALUES": false
                },
                "display_id": "9668c66f-40d6-4374-8273-55e8f33cd1bd",
                "applied_filters": [],
                "sample_history": [],
                "sampling_time": "2023-02-08T13:02:10.086453",
                "variable_name": "sql_df_4"
              },
              "display_id": "9668c66f-40d6-4374-8273-55e8f33cd1bd"
            }
          }
        }
      ],
      "execution_count": null,
      "metadata": {
        "noteable": {
          "assign_results_to": "sql_df_4",
          "cell_type": "sql",
          "db_connection": "@noteable"
        },
        "ExecuteTime": {
          "end_time": "2023-02-08T13:02:10.243033+00:00",
          "start_time": "2023-02-08T13:02:10.056238+00:00"
        },
        "dx": {
          "fieldMetadata": {},
          "simpleTable": true,
          "updated": 1675860877629,
          "views": []
        }
      },
      "id": "6082e22a-5dd3-4d9e-8d6f-8bdb6e1a5321"
    },
    {
      "cell_type": "markdown",
      "source": [
        "* Create a column defining a century in which a film was released"
      ],
      "metadata": {
        "noteable": {
          "cell_type": "markdown"
        }
      },
      "id": "445da8d5-8071-47b5-b7de-270bdea9ccad"
    },
    {
      "cell_type": "code",
      "source": [
        "%%sql @noteable\n",
        "select film_title, year, case\n",
        "    when year>1999 THEN '21 century'\n",
        "    else '20 century'\n",
        "end as century\n",
        "from dataset left join films using(film_id);"
      ],
      "outputs": [
        {
          "output_type": "display_data",
          "data": {
            "application/vnd.dataresource+json": {
              "schema": {
                "fields": [
                  {
                    "name": "index",
                    "type": "integer"
                  },
                  {
                    "name": "film_title",
                    "type": "string"
                  },
                  {
                    "name": "year",
                    "type": "integer"
                  },
                  {
                    "name": "century",
                    "type": "string"
                  }
                ],
                "primaryKey": [
                  "index"
                ],
                "pandas_version": "1.4.0"
              },
              "data": [
                {
                  "index": 0,
                  "film_title": "Shichinin no samurai",
                  "year": 1954,
                  "century": "20 century"
                },
                {
                  "index": 1,
                  "film_title": "Tengoku to jigoku",
                  "year": 1963,
                  "century": "20 century"
                },
                {
                  "index": 2,
                  "film_title": "Ikiru",
                  "year": 1952,
                  "century": "20 century"
                },
                {
                  "index": 3,
                  "film_title": "Ran",
                  "year": 1985,
                  "century": "20 century"
                },
                {
                  "index": 4,
                  "film_title": "Yôjinbô",
                  "year": 1961,
                  "century": "20 century"
                },
                {
                  "index": 5,
                  "film_title": "Rashômon",
                  "year": 1950,
                  "century": "20 century"
                },
                {
                  "index": 6,
                  "film_title": "Sanjuro",
                  "year": 1962,
                  "century": "20 century"
                },
                {
                  "index": 7,
                  "film_title": "Kakushi-toride no san-akunin",
                  "year": 1958,
                  "century": "20 century"
                },
                {
                  "index": 8,
                  "film_title": "Kumonosu-jô",
                  "year": 1957,
                  "century": "20 century"
                },
                {
                  "index": 9,
                  "film_title": "Kagemusha",
                  "year": 1980,
                  "century": "20 century"
                },
                {
                  "index": 10,
                  "film_title": "Sweet Smell of Success",
                  "year": 1957,
                  "century": "20 century"
                },
                {
                  "index": 11,
                  "film_title": "The Ladykillers",
                  "year": 1955,
                  "century": "20 century"
                },
                {
                  "index": 12,
                  "film_title": "Nebraska",
                  "year": 2013,
                  "century": "21 century"
                },
                {
                  "index": 13,
                  "film_title": "Children of Men",
                  "year": 2006,
                  "century": "21 century"
                },
                {
                  "index": 14,
                  "film_title": "Roma",
                  "year": 2018,
                  "century": "21 century"
                },
                {
                  "index": 15,
                  "film_title": "Gravity",
                  "year": 2013,
                  "century": "21 century"
                },
                {
                  "index": 16,
                  "film_title": "A Little Princess",
                  "year": 1995,
                  "century": "20 century"
                },
                {
                  "index": 17,
                  "film_title": "Y tu mamá también",
                  "year": 2001,
                  "century": "21 century"
                },
                {
                  "index": 18,
                  "film_title": "Psycho",
                  "year": 1960,
                  "century": "20 century"
                },
                {
                  "index": 19,
                  "film_title": "Rear Window",
                  "year": 1954,
                  "century": "20 century"
                },
                {
                  "index": 20,
                  "film_title": "Vertigo",
                  "year": 1958,
                  "century": "20 century"
                },
                {
                  "index": 21,
                  "film_title": "Dial M for Murder",
                  "year": 1954,
                  "century": "20 century"
                },
                {
                  "index": 22,
                  "film_title": "Rebecca",
                  "year": 1940,
                  "century": "20 century"
                },
                {
                  "index": 23,
                  "film_title": "Rope",
                  "year": 1948,
                  "century": "20 century"
                },
                {
                  "index": 24,
                  "film_title": "Strangers on a Train",
                  "year": 1951,
                  "century": "20 century"
                },
                {
                  "index": 25,
                  "film_title": "Notorious",
                  "year": 1946,
                  "century": "20 century"
                },
                {
                  "index": 26,
                  "film_title": "The Lady Vanishes",
                  "year": 1938,
                  "century": "20 century"
                },
                {
                  "index": 27,
                  "film_title": "The Birds",
                  "year": 1963,
                  "century": "20 century"
                },
                {
                  "index": 28,
                  "film_title": "Lifeboat",
                  "year": 1944,
                  "century": "20 century"
                },
                {
                  "index": 29,
                  "film_title": "The 39 Steps",
                  "year": 1935,
                  "century": "20 century"
                },
                {
                  "index": 30,
                  "film_title": "Stalker",
                  "year": 1979,
                  "century": "20 century"
                },
                {
                  "index": 31,
                  "film_title": "Zerkalo",
                  "year": 1975,
                  "century": "20 century"
                },
                {
                  "index": 32,
                  "film_title": "Solaris",
                  "year": 1972,
                  "century": "20 century"
                },
                {
                  "index": 33,
                  "film_title": "Andrei Rublev",
                  "year": 1966,
                  "century": "20 century"
                },
                {
                  "index": 34,
                  "film_title": "Ivanovo detstvo",
                  "year": 1962,
                  "century": "20 century"
                },
                {
                  "index": 35,
                  "film_title": "A Star Is Born",
                  "year": 2018,
                  "century": "21 century"
                },
                {
                  "index": 36,
                  "film_title": "Carlito's Way",
                  "year": 1993,
                  "century": "20 century"
                },
                {
                  "index": 37,
                  "film_title": "The Untouchables",
                  "year": 1987,
                  "century": "20 century"
                },
                {
                  "index": 38,
                  "film_title": "The Usual Suspects",
                  "year": 1995,
                  "century": "20 century"
                },
                {
                  "index": 39,
                  "film_title": "Bohemian Rhapsody",
                  "year": 2018,
                  "century": "21 century"
                },
                {
                  "index": 40,
                  "film_title": "X-Men: Days of Future Past",
                  "year": 2014,
                  "century": "21 century"
                },
                {
                  "index": 41,
                  "film_title": "The Dark Knight",
                  "year": 2008,
                  "century": "21 century"
                },
                {
                  "index": 42,
                  "film_title": "Inception",
                  "year": 2010,
                  "century": "21 century"
                },
                {
                  "index": 43,
                  "film_title": "Interstellar",
                  "year": 2014,
                  "century": "21 century"
                },
                {
                  "index": 44,
                  "film_title": "The Prestige",
                  "year": 2006,
                  "century": "21 century"
                },
                {
                  "index": 45,
                  "film_title": "The Dark Knight Rises",
                  "year": 2012,
                  "century": "21 century"
                },
                {
                  "index": 46,
                  "film_title": "Memento",
                  "year": 2000,
                  "century": "21 century"
                },
                {
                  "index": 47,
                  "film_title": "Batman Begins",
                  "year": 2005,
                  "century": "21 century"
                },
                {
                  "index": 48,
                  "film_title": "Dunkirk",
                  "year": 2017,
                  "century": "21 century"
                },
                {
                  "index": 49,
                  "film_title": "Unforgiven",
                  "year": 1992,
                  "century": "20 century"
                },
                {
                  "index": 50,
                  "film_title": "Letters from Iwo Jima",
                  "year": 2006,
                  "century": "21 century"
                },
                {
                  "index": 51,
                  "film_title": "Mystic River",
                  "year": 2003,
                  "century": "21 century"
                },
                {
                  "index": 52,
                  "film_title": "The Outlaw Josey Wales",
                  "year": 1976,
                  "century": "20 century"
                },
                {
                  "index": 53,
                  "film_title": "Changeling",
                  "year": 2008,
                  "century": "21 century"
                },
                {
                  "index": 54,
                  "film_title": "The Bridges of Madison County",
                  "year": 1995,
                  "century": "20 century"
                },
                {
                  "index": 55,
                  "film_title": "Trainspotting",
                  "year": 1996,
                  "century": "20 century"
                },
                {
                  "index": 56,
                  "film_title": "Slumdog Millionaire",
                  "year": 2008,
                  "century": "21 century"
                },
                {
                  "index": 57,
                  "film_title": "28 Days Later...",
                  "year": 2002,
                  "century": "21 century"
                },
                {
                  "index": 58,
                  "film_title": "Fight Club",
                  "year": 1999,
                  "century": "20 century"
                },
                {
                  "index": 59,
                  "film_title": "Se7en",
                  "year": 1995,
                  "century": "20 century"
                },
                {
                  "index": 60,
                  "film_title": "Gone Girl",
                  "year": 2014,
                  "century": "21 century"
                },
                {
                  "index": 61,
                  "film_title": "The Girl with the Dragon Tattoo",
                  "year": 2011,
                  "century": "21 century"
                },
                {
                  "index": 62,
                  "film_title": "The Game",
                  "year": 1997,
                  "century": "20 century"
                },
                {
                  "index": 63,
                  "film_title": "Zodiac",
                  "year": 2007,
                  "century": "21 century"
                },
                {
                  "index": 64,
                  "film_title": "Incendies",
                  "year": 2010,
                  "century": "21 century"
                },
                {
                  "index": 65,
                  "film_title": "Prisoners",
                  "year": 2013,
                  "century": "21 century"
                },
                {
                  "index": 66,
                  "film_title": "Blade Runner 2049",
                  "year": 2017,
                  "century": "21 century"
                },
                {
                  "index": 67,
                  "film_title": "Arrival",
                  "year": 2016,
                  "century": "21 century"
                },
                {
                  "index": 68,
                  "film_title": "Sicario",
                  "year": 2015,
                  "century": "21 century"
                },
                {
                  "index": 69,
                  "film_title": "Le notti di Cabiria",
                  "year": 1957,
                  "century": "20 century"
                },
                {
                  "index": 70,
                  "film_title": "8½",
                  "year": 1963,
                  "century": "20 century"
                },
                {
                  "index": 71,
                  "film_title": "La dolce vita",
                  "year": 1960,
                  "century": "20 century"
                },
                {
                  "index": 72,
                  "film_title": "La Strada",
                  "year": 1954,
                  "century": "20 century"
                },
                {
                  "index": 73,
                  "film_title": "Amarcord",
                  "year": 1973,
                  "century": "20 century"
                },
                {
                  "index": 74,
                  "film_title": "Goldfinger",
                  "year": 1964,
                  "century": "20 century"
                },
                {
                  "index": 75,
                  "film_title": "Snatch",
                  "year": 2000,
                  "century": "21 century"
                },
                {
                  "index": 76,
                  "film_title": "Lock, Stock and Two Smoking Barrels",
                  "year": 1998,
                  "century": "20 century"
                },
                {
                  "index": 77,
                  "film_title": "Sherlock Holmes",
                  "year": 2009,
                  "century": "21 century"
                },
                {
                  "index": 78,
                  "film_title": "Höstsonaten",
                  "year": 1978,
                  "century": "20 century"
                },
                {
                  "index": 79,
                  "film_title": "Smultronstället",
                  "year": 1957,
                  "century": "20 century"
                },
                {
                  "index": 80,
                  "film_title": "Det sjunde inseglet",
                  "year": 1957,
                  "century": "20 century"
                },
                {
                  "index": 81,
                  "film_title": "Fanny och Alexander",
                  "year": 1982,
                  "century": "20 century"
                },
                {
                  "index": 82,
                  "film_title": "Viskningar och rop",
                  "year": 1972,
                  "century": "20 century"
                },
                {
                  "index": 83,
                  "film_title": "Jungfrukällan",
                  "year": 1960,
                  "century": "20 century"
                },
                {
                  "index": 84,
                  "film_title": "Atonement",
                  "year": 2007,
                  "century": "21 century"
                },
                {
                  "index": 85,
                  "film_title": "Pride & Prejudice",
                  "year": 2005,
                  "century": "21 century"
                },
                {
                  "index": 86,
                  "film_title": "I, Daniel Blake",
                  "year": 2016,
                  "century": "21 century"
                },
                {
                  "index": 87,
                  "film_title": "Trois couleurs: Bleu",
                  "year": 1993,
                  "century": "20 century"
                },
                {
                  "index": 88,
                  "film_title": "La double vie de Véronique",
                  "year": 1991,
                  "century": "20 century"
                },
                {
                  "index": 89,
                  "film_title": "Trois couleurs: Blanc",
                  "year": 1994,
                  "century": "20 century"
                },
                {
                  "index": 90,
                  "film_title": "Dogville",
                  "year": 2003,
                  "century": "21 century"
                },
                {
                  "index": 91,
                  "film_title": "Dancer in the Dark",
                  "year": 2000,
                  "century": "21 century"
                },
                {
                  "index": 92,
                  "film_title": "Breaking the Waves",
                  "year": 1996,
                  "century": "20 century"
                },
                {
                  "index": 93,
                  "film_title": "Goodfellas",
                  "year": 1990,
                  "century": "20 century"
                },
                {
                  "index": 94,
                  "film_title": "The Departed",
                  "year": 2006,
                  "century": "21 century"
                },
                {
                  "index": 95,
                  "film_title": "Taxi Driver",
                  "year": 1976,
                  "century": "20 century"
                },
                {
                  "index": 96,
                  "film_title": "Shutter Island",
                  "year": 2010,
                  "century": "21 century"
                },
                {
                  "index": 97,
                  "film_title": "The Wolf of Wall Street",
                  "year": 2013,
                  "century": "21 century"
                },
                {
                  "index": 98,
                  "film_title": "Raging Bull",
                  "year": 1980,
                  "century": "20 century"
                },
                {
                  "index": 99,
                  "film_title": "The Irishman",
                  "year": 2019,
                  "century": "21 century"
                },
                {
                  "index": 100,
                  "film_title": "The King of Comedy",
                  "year": 1982,
                  "century": "20 century"
                },
                {
                  "index": 101,
                  "film_title": "After Hours",
                  "year": 1985,
                  "century": "20 century"
                },
                {
                  "index": 102,
                  "film_title": "Secrets & Lies",
                  "year": 1996,
                  "century": "20 century"
                },
                {
                  "index": 103,
                  "film_title": "Naked",
                  "year": 1993,
                  "century": "20 century"
                },
                {
                  "index": 104,
                  "film_title": "Marriage Story",
                  "year": 2019,
                  "century": "21 century"
                },
                {
                  "index": 105,
                  "film_title": "Citizen Kane",
                  "year": 1941,
                  "century": "20 century"
                },
                {
                  "index": 106,
                  "film_title": "Touch of Evil",
                  "year": 1958,
                  "century": "20 century"
                },
                {
                  "index": 107,
                  "film_title": "The Lord of the Rings: The Return of the King",
                  "year": 2003,
                  "century": "21 century"
                },
                {
                  "index": 108,
                  "film_title": "The Lord of the Rings: The Fellowship of the Ring",
                  "year": 2001,
                  "century": "21 century"
                },
                {
                  "index": 109,
                  "film_title": "The Lord of the Rings: The Two Towers",
                  "year": 2002,
                  "century": "21 century"
                },
                {
                  "index": 110,
                  "film_title": "The Hobbit: The Desolation of Smaug",
                  "year": 2013,
                  "century": "21 century"
                },
                {
                  "index": 111,
                  "film_title": "The Hobbit: An Unexpected Journey",
                  "year": 2012,
                  "century": "21 century"
                },
                {
                  "index": 112,
                  "film_title": "Pulp Fiction",
                  "year": 1994,
                  "century": "20 century"
                },
                {
                  "index": 113,
                  "film_title": "Django Unchained",
                  "year": 2012,
                  "century": "21 century"
                },
                {
                  "index": 114,
                  "film_title": "Inglourious Basterds",
                  "year": 2009,
                  "century": "21 century"
                },
                {
                  "index": 115,
                  "film_title": "Reservoir Dogs",
                  "year": 1992,
                  "century": "20 century"
                },
                {
                  "index": 116,
                  "film_title": "Kill Bill: Vol. 1",
                  "year": 2003,
                  "century": "21 century"
                },
                {
                  "index": 117,
                  "film_title": "Kill Bill: Vol. 2",
                  "year": 2004,
                  "century": "21 century"
                },
                {
                  "index": 118,
                  "film_title": "The Hateful Eight",
                  "year": 2015,
                  "century": "21 century"
                },
                {
                  "index": 119,
                  "film_title": "Once Upon a Time... in Hollywood",
                  "year": 2019,
                  "century": "21 century"
                },
                {
                  "index": 120,
                  "film_title": "The Pianist",
                  "year": 2002,
                  "century": "21 century"
                },
                {
                  "index": 121,
                  "film_title": "Chinatown",
                  "year": 1974,
                  "century": "20 century"
                },
                {
                  "index": 122,
                  "film_title": "Rosemary's Baby",
                  "year": 1968,
                  "century": "20 century"
                },
                {
                  "index": 123,
                  "film_title": "Le locataire",
                  "year": 1976,
                  "century": "20 century"
                },
                {
                  "index": 124,
                  "film_title": "Lost in Translation",
                  "year": 2003,
                  "century": "21 century"
                },
                {
                  "index": 125,
                  "film_title": "Guess Who's Coming to Dinner",
                  "year": 1967,
                  "century": "20 century"
                },
                {
                  "index": 126,
                  "film_title": "The Shining",
                  "year": 1980,
                  "century": "20 century"
                },
                {
                  "index": 127,
                  "film_title": "Paths of Glory",
                  "year": 1957,
                  "century": "20 century"
                },
                {
                  "index": 128,
                  "film_title": "Full Metal Jacket",
                  "year": 1987,
                  "century": "20 century"
                },
                {
                  "index": 129,
                  "film_title": "A Clockwork Orange",
                  "year": 1971,
                  "century": "20 century"
                },
                {
                  "index": 130,
                  "film_title": "2001: A Space Odyssey",
                  "year": 1968,
                  "century": "20 century"
                },
                {
                  "index": 131,
                  "film_title": "Barry Lyndon",
                  "year": 1975,
                  "century": "20 century"
                },
                {
                  "index": 132,
                  "film_title": "The Killing",
                  "year": 1956,
                  "century": "20 century"
                },
                {
                  "index": 133,
                  "film_title": "Spartacus",
                  "year": 1960,
                  "century": "20 century"
                },
                {
                  "index": 134,
                  "film_title": "Schindler's List",
                  "year": 1993,
                  "century": "20 century"
                },
                {
                  "index": 135,
                  "film_title": "Saving Private Ryan",
                  "year": 1998,
                  "century": "20 century"
                },
                {
                  "index": 136,
                  "film_title": "Raiders of the Lost Ark",
                  "year": 1981,
                  "century": "20 century"
                },
                {
                  "index": 137,
                  "film_title": "Indiana Jones and the Last Crusade",
                  "year": 1989,
                  "century": "20 century"
                },
                {
                  "index": 138,
                  "film_title": "Jurassic Park",
                  "year": 1993,
                  "century": "20 century"
                },
                {
                  "index": 139,
                  "film_title": "Jaws",
                  "year": 1975,
                  "century": "20 century"
                },
                {
                  "index": 140,
                  "film_title": "The Color Purple",
                  "year": 1985,
                  "century": "20 century"
                },
                {
                  "index": 141,
                  "film_title": "E.T. the Extra-Terrestrial",
                  "year": 1982,
                  "century": "20 century"
                },
                {
                  "index": 142,
                  "film_title": "Empire of the Sun",
                  "year": 1987,
                  "century": "20 century"
                },
                {
                  "index": 143,
                  "film_title": "Bridge of Spies",
                  "year": 2015,
                  "century": "21 century"
                },
                {
                  "index": 144,
                  "film_title": "Minority Report",
                  "year": 2002,
                  "century": "21 century"
                },
                {
                  "index": 145,
                  "film_title": "Close Encounters of the Third Kind",
                  "year": 1977,
                  "century": "20 century"
                },
                {
                  "index": 146,
                  "film_title": "Cool Hand Luke",
                  "year": 1967,
                  "century": "20 century"
                },
                {
                  "index": 147,
                  "film_title": "Hunt for the Wilderpeople",
                  "year": 2016,
                  "century": "21 century"
                },
                {
                  "index": 148,
                  "film_title": "Thor: Ragnarok",
                  "year": 2017,
                  "century": "21 century"
                },
                {
                  "index": 149,
                  "film_title": "Jojo Rabbit",
                  "year": 2019,
                  "century": "21 century"
                },
                {
                  "index": 150,
                  "film_title": "Wait Until Dark",
                  "year": 1967,
                  "century": "20 century"
                },
                {
                  "index": 151,
                  "film_title": "Days of Heaven",
                  "year": 1978,
                  "century": "20 century"
                },
                {
                  "index": 152,
                  "film_title": "Badlands",
                  "year": 1973,
                  "century": "20 century"
                },
                {
                  "index": 153,
                  "film_title": "The Thin Red Line",
                  "year": 1998,
                  "century": "20 century"
                },
                {
                  "index": 154,
                  "film_title": "Big Fish",
                  "year": 2003,
                  "century": "21 century"
                },
                {
                  "index": 155,
                  "film_title": "Edward Scissorhands",
                  "year": 1990,
                  "century": "20 century"
                },
                {
                  "index": 156,
                  "film_title": "Ed Wood",
                  "year": 1994,
                  "century": "20 century"
                },
                {
                  "index": 157,
                  "film_title": "The Grand Budapest Hotel",
                  "year": 2014,
                  "century": "21 century"
                },
                {
                  "index": 158,
                  "film_title": "Isle of Dogs",
                  "year": 2018,
                  "century": "21 century"
                },
                {
                  "index": 159,
                  "film_title": "Fantastic Mr. Fox",
                  "year": 2009,
                  "century": "21 century"
                },
                {
                  "index": 160,
                  "film_title": "Moonrise Kingdom",
                  "year": 2012,
                  "century": "21 century"
                },
                {
                  "index": 161,
                  "film_title": "Rushmore",
                  "year": 1998,
                  "century": "20 century"
                },
                {
                  "index": 162,
                  "film_title": "The Royal Tenenbaums",
                  "year": 2001,
                  "century": "21 century"
                },
                {
                  "index": 163,
                  "film_title": "Annie Hall",
                  "year": 1977,
                  "century": "20 century"
                },
                {
                  "index": 164,
                  "film_title": "Crimes and Misdemeanors",
                  "year": 1989,
                  "century": "20 century"
                },
                {
                  "index": 165,
                  "film_title": "Hannah and Her Sisters",
                  "year": 1986,
                  "century": "20 century"
                },
                {
                  "index": 166,
                  "film_title": "Manhattan",
                  "year": 1979,
                  "century": "20 century"
                },
                {
                  "index": 167,
                  "film_title": "Midnight in Paris",
                  "year": 2011,
                  "century": "21 century"
                },
                {
                  "index": 168,
                  "film_title": "The Purple Rose of Cairo",
                  "year": 1985,
                  "century": "20 century"
                },
                {
                  "index": 169,
                  "film_title": "Zelig",
                  "year": 1983,
                  "century": "20 century"
                },
                {
                  "index": 170,
                  "film_title": "Love and Death",
                  "year": 1975,
                  "century": "20 century"
                },
                {
                  "index": 171,
                  "film_title": "Match Point",
                  "year": 2005,
                  "century": "21 century"
                },
                {
                  "index": 172,
                  "film_title": "Harry Potter and the Prisoner of Azkaban",
                  "year": 2004,
                  "century": "21 century"
                },
                {
                  "index": 173,
                  "film_title": "North by Northwest",
                  "year": 1959,
                  "century": "20 century"
                },
                {
                  "index": 174,
                  "film_title": "Shadow of a Doubt",
                  "year": 1943,
                  "century": "20 century"
                },
                {
                  "index": 175,
                  "film_title": "Scarface",
                  "year": 1983,
                  "century": "20 century"
                },
                {
                  "index": 176,
                  "film_title": "The Lego Movie",
                  "year": 2014,
                  "century": "21 century"
                },
                {
                  "index": 177,
                  "film_title": "Gran Torino",
                  "year": 2008,
                  "century": "21 century"
                },
                {
                  "index": 178,
                  "film_title": "Million Dollar Baby",
                  "year": 2004,
                  "century": "21 century"
                },
                {
                  "index": 179,
                  "film_title": "The Gentlemen",
                  "year": 2019,
                  "century": "21 century"
                },
                {
                  "index": 180,
                  "film_title": "Persona",
                  "year": 1966,
                  "century": "20 century"
                },
                {
                  "index": 181,
                  "film_title": "Trois couleurs: Rouge",
                  "year": 1994,
                  "century": "20 century"
                },
                {
                  "index": 182,
                  "film_title": "Casino",
                  "year": 1995,
                  "century": "20 century"
                },
                {
                  "index": 183,
                  "film_title": "Repulsion",
                  "year": 1965,
                  "century": "20 century"
                },
                {
                  "index": 184,
                  "film_title": "Dr. Strangelove or: How I Learned to Stop Worrying and Love the Bomb",
                  "year": 1964,
                  "century": "20 century"
                },
                {
                  "index": 185,
                  "film_title": "Catch Me If You Can",
                  "year": 2002,
                  "century": "21 century"
                },
                {
                  "index": 186,
                  "film_title": "The Curious Case of Benjamin Button",
                  "year": 2008,
                  "century": "21 century"
                },
                {
                  "index": 187,
                  "film_title": "The Social Network",
                  "year": 2010,
                  "century": "21 century"
                }
              ],
              "datalink": {
                "display_id": "ba1688df-cda3-4187-968d-bad10e8a7333"
              }
            }
          },
          "metadata": {
            "application/vnd.dataresource+json": {
              "datalink": {
                "dataframe_info": {
                  "default_index_used": true,
                  "orig_size_bytes": 4640,
                  "orig_num_rows": 188,
                  "orig_num_cols": 3,
                  "truncated_size_bytes": 4640,
                  "truncated_num_rows": 188,
                  "truncated_num_cols": 3
                },
                "dx_settings": {
                  "NUM_PAST_SAMPLES_TRACKED": 3,
                  "ENABLE_DATALINK": true,
                  "DISPLAY_MODE": "simple",
                  "GENERATE_DEX_METADATA": false,
                  "STRINGIFY_INDEX_VALUES": false,
                  "ALLOW_NOTEABLE_ATTRS": true,
                  "DISPLAY_MAX_COLUMNS": 100,
                  "HTML_TABLE_SCHEMA": false,
                  "SAMPLING_FACTOR": 0.1,
                  "LOG_LEVEL": 30,
                  "ENABLE_ASSIGNMENT": false,
                  "FLATTEN_INDEX_VALUES": false,
                  "DEV_MODE": false,
                  "COLUMN_SAMPLING_METHOD": "outer",
                  "FLATTEN_COLUMN_VALUES": true,
                  "DISPLAY_MAX_ROWS": 50000,
                  "ROW_SAMPLING_METHOD": "random",
                  "RANDOM_STATE": 12648430,
                  "DB_LOCATION": ":memory:",
                  "STRINGIFY_COLUMN_VALUES": true,
                  "SAMPLING_METHOD": "random",
                  "MAX_RENDER_SIZE_BYTES": 104857600,
                  "RESET_INDEX_VALUES": false
                },
                "display_id": "ba1688df-cda3-4187-968d-bad10e8a7333",
                "applied_filters": [],
                "sample_history": [],
                "sampling_time": "2023-02-08T16:30:25.001043",
                "variable_name": "sql_df_15"
              },
              "display_id": "ba1688df-cda3-4187-968d-bad10e8a7333"
            }
          }
        }
      ],
      "execution_count": null,
      "metadata": {
        "noteable": {
          "assign_results_to": "sql_df_15",
          "cell_type": "sql",
          "db_connection": "@noteable"
        },
        "ExecuteTime": {
          "end_time": "2023-02-08T16:30:25.158739+00:00",
          "start_time": "2023-02-08T16:30:24.969122+00:00"
        },
        "dx": {
          "fieldMetadata": {},
          "simpleTable": true,
          "updated": 1675873581173,
          "views": []
        }
      },
      "id": "791a0b2d-f07e-4f91-a945-ff55bf24c2fa"
    },
    {
      "cell_type": "markdown",
      "source": [
        "* Directors who directed 5 and more films released  21st century"
      ],
      "metadata": {
        "noteable": {
          "cell_type": "markdown"
        }
      },
      "id": "18cc8b9a-19a4-4c80-91cf-426ba4593526"
    },
    {
      "cell_type": "code",
      "source": [
        "%%sql @noteable\n",
        "with t1 (film_title, year, runtime, genre, rating, director) as\n",
        "(select film_title, year, runtime, genre, rating, director from dataset \n",
        " left join films using(film_id)\n",
        " left join directors using(director_id)\n",
        " where year >= 2000)\n",
        " \n",
        " select director, count(film_title) as num_of_films from t1\n",
        " group by director\n",
        " having count(film_title) >=5\n",
        " order by num_of_films desc\n",
        " ;"
      ],
      "outputs": [
        {
          "output_type": "display_data",
          "data": {
            "application/vnd.dataresource+json": {
              "schema": {
                "fields": [
                  {
                    "name": "index",
                    "type": "integer"
                  },
                  {
                    "name": "director",
                    "type": "string"
                  },
                  {
                    "name": "num_of_films",
                    "type": "integer"
                  }
                ],
                "primaryKey": [
                  "index"
                ],
                "pandas_version": "1.4.0"
              },
              "data": [
                {
                  "index": 0,
                  "director": "Christopher Nolan",
                  "num_of_films": 8
                },
                {
                  "index": 1,
                  "director": "Quentin Tarantino",
                  "num_of_films": 6
                },
                {
                  "index": 2,
                  "director": "Alfonso Cuarón",
                  "num_of_films": 5
                },
                {
                  "index": 3,
                  "director": "Clint Eastwood",
                  "num_of_films": 5
                },
                {
                  "index": 4,
                  "director": "David Fincher",
                  "num_of_films": 5
                },
                {
                  "index": 5,
                  "director": "Denis Villeneuve",
                  "num_of_films": 5
                },
                {
                  "index": 6,
                  "director": "Peter Jackson",
                  "num_of_films": 5
                },
                {
                  "index": 7,
                  "director": "Wes Anderson",
                  "num_of_films": 5
                }
              ],
              "datalink": {
                "display_id": "0b9585b4-9293-4f02-88cc-f0e979e39eae"
              }
            }
          },
          "metadata": {
            "application/vnd.dataresource+json": {
              "datalink": {
                "dataframe_info": {
                  "default_index_used": true,
                  "orig_size_bytes": 256,
                  "orig_num_rows": 8,
                  "orig_num_cols": 2,
                  "truncated_size_bytes": 256,
                  "truncated_num_rows": 8,
                  "truncated_num_cols": 2
                },
                "dx_settings": {
                  "NUM_PAST_SAMPLES_TRACKED": 3,
                  "ENABLE_DATALINK": true,
                  "DISPLAY_MODE": "simple",
                  "GENERATE_DEX_METADATA": false,
                  "STRINGIFY_INDEX_VALUES": false,
                  "ALLOW_NOTEABLE_ATTRS": true,
                  "DISPLAY_MAX_COLUMNS": 100,
                  "HTML_TABLE_SCHEMA": false,
                  "SAMPLING_FACTOR": 0.1,
                  "LOG_LEVEL": 30,
                  "ENABLE_ASSIGNMENT": false,
                  "FLATTEN_INDEX_VALUES": false,
                  "DEV_MODE": false,
                  "COLUMN_SAMPLING_METHOD": "outer",
                  "FLATTEN_COLUMN_VALUES": true,
                  "DISPLAY_MAX_ROWS": 50000,
                  "ROW_SAMPLING_METHOD": "random",
                  "RANDOM_STATE": 12648430,
                  "DB_LOCATION": ":memory:",
                  "STRINGIFY_COLUMN_VALUES": true,
                  "SAMPLING_METHOD": "random",
                  "MAX_RENDER_SIZE_BYTES": 104857600,
                  "RESET_INDEX_VALUES": false
                },
                "display_id": "0b9585b4-9293-4f02-88cc-f0e979e39eae",
                "applied_filters": [],
                "sample_history": [],
                "sampling_time": "2023-02-08T16:36:43.425717",
                "variable_name": "sql_df_16"
              },
              "display_id": "0b9585b4-9293-4f02-88cc-f0e979e39eae"
            }
          }
        }
      ],
      "execution_count": null,
      "metadata": {
        "noteable": {
          "assign_results_to": "sql_df_16",
          "cell_type": "sql",
          "db_connection": "@noteable"
        },
        "ExecuteTime": {
          "end_time": "2023-02-08T16:36:43.581969+00:00",
          "start_time": "2023-02-08T16:36:43.394369+00:00"
        },
        "dx": {
          "fieldMetadata": {},
          "simpleTable": true,
          "updated": 1675873919062,
          "views": []
        }
      },
      "id": "ae54ce33-c883-496c-8b4f-5738ef0e718d"
    },
    {
      "cell_type": "markdown",
      "source": [
        "# Window Functions"
      ],
      "metadata": {
        "noteable": {
          "cell_type": "markdown"
        },
        "tags": []
      },
      "id": "781f0780-6c75-4c8a-b28e-b15fe3127afa"
    },
    {
      "cell_type": "markdown",
      "source": [
        "* Average films runtime per director"
      ],
      "metadata": {
        "noteable": {
          "cell_type": "markdown"
        }
      },
      "id": "e5852923-5e3e-4264-b8fd-5dc145514e83"
    },
    {
      "cell_type": "code",
      "source": [
        "%%sql @noteable\n",
        "select distinct director,\n",
        "       round(avg(runtime) OVER (partition by director)) AS avg_time_per_dir\n",
        "from dataset left join directors using(director_id)\n",
        "order by avg_time_per_dir ;"
      ],
      "outputs": [
        {
          "output_type": "display_data",
          "data": {
            "application/vnd.dataresource+json": {
              "schema": {
                "fields": [
                  {
                    "name": "index",
                    "type": "integer"
                  },
                  {
                    "name": "director",
                    "type": "string"
                  },
                  {
                    "name": "avg_time_per_dir",
                    "type": "number"
                  }
                ],
                "primaryKey": [
                  "index"
                ],
                "pandas_version": "1.4.0"
              },
              "data": [
                {
                  "index": 0,
                  "director": "Alexander Mackendrick",
                  "avg_time_per_dir": 94
                },
                {
                  "index": 1,
                  "director": "Krzysztof Kieslowski",
                  "avg_time_per_dir": 96
                },
                {
                  "index": 2,
                  "director": "Woody Allen",
                  "avg_time_per_dir": 96
                },
                {
                  "index": 3,
                  "director": "Wes Anderson",
                  "avg_time_per_dir": 97
                },
                {
                  "index": 4,
                  "director": "Christopher Miller",
                  "avg_time_per_dir": 100
                },
                {
                  "index": 5,
                  "director": "Ken Loach",
                  "avg_time_per_dir": 100
                },
                {
                  "index": 6,
                  "director": "Sofia Coppola",
                  "avg_time_per_dir": 102
                },
                {
                  "index": 7,
                  "director": "Ingmar Bergman",
                  "avg_time_per_dir": 106
                },
                {
                  "index": 8,
                  "director": "Orson Welles",
                  "avg_time_per_dir": 107
                },
                {
                  "index": 9,
                  "director": "Alfred Hitchcock",
                  "avg_time_per_dir": 108
                },
                {
                  "index": 10,
                  "director": "Stanley Kramer",
                  "avg_time_per_dir": 108
                },
                {
                  "index": 11,
                  "director": "Terence Young",
                  "avg_time_per_dir": 108
                },
                {
                  "index": 12,
                  "director": "Danny Boyle",
                  "avg_time_per_dir": 109
                },
                {
                  "index": 13,
                  "director": "Guy Hamilton",
                  "avg_time_per_dir": 110
                },
                {
                  "index": 14,
                  "director": "Alfonso Cuarón",
                  "avg_time_per_dir": 113
                },
                {
                  "index": 15,
                  "director": "Guy Ritchie",
                  "avg_time_per_dir": 113
                },
                {
                  "index": 16,
                  "director": "Taika Waititi",
                  "avg_time_per_dir": 113
                },
                {
                  "index": 17,
                  "director": "Alexander Payne",
                  "avg_time_per_dir": 115
                },
                {
                  "index": 18,
                  "director": "Terrence Malick",
                  "avg_time_per_dir": 119
                },
                {
                  "index": 19,
                  "director": "Tim Burton",
                  "avg_time_per_dir": 119
                },
                {
                  "index": 20,
                  "director": "Bryan Singer",
                  "avg_time_per_dir": 124
                },
                {
                  "index": 21,
                  "director": "Joe Wright",
                  "avg_time_per_dir": 126
                },
                {
                  "index": 22,
                  "director": "Stuart Rosenberg",
                  "avg_time_per_dir": 127
                },
                {
                  "index": 23,
                  "director": "Roman Polanski",
                  "avg_time_per_dir": 130
                },
                {
                  "index": 24,
                  "director": "Federico Fellini",
                  "avg_time_per_dir": 131
                },
                {
                  "index": 25,
                  "director": "Stanley Kubrick",
                  "avg_time_per_dir": 133
                },
                {
                  "index": 26,
                  "director": "Clint Eastwood",
                  "avg_time_per_dir": 134
                },
                {
                  "index": 27,
                  "director": "Mike Leigh",
                  "avg_time_per_dir": 134
                },
                {
                  "index": 28,
                  "director": "Bradley Cooper",
                  "avg_time_per_dir": 136
                },
                {
                  "index": 29,
                  "director": "Denis Villeneuve",
                  "avg_time_per_dir": 137
                },
                {
                  "index": 30,
                  "director": "Noah Baumbach",
                  "avg_time_per_dir": 137
                },
                {
                  "index": 31,
                  "director": "Akira Kurosawa",
                  "avg_time_per_dir": 138
                },
                {
                  "index": 32,
                  "director": "Christopher Nolan",
                  "avg_time_per_dir": 140
                },
                {
                  "index": 33,
                  "director": "Steven Spielberg",
                  "avg_time_per_dir": 142
                },
                {
                  "index": 34,
                  "director": "David Fincher",
                  "avg_time_per_dir": 143
                },
                {
                  "index": 35,
                  "director": "Brian De Palma",
                  "avg_time_per_dir": 144
                },
                {
                  "index": 36,
                  "director": "Quentin Tarantino",
                  "avg_time_per_dir": 144
                },
                {
                  "index": 37,
                  "director": "Martin Scorsese",
                  "avg_time_per_dir": 145
                },
                {
                  "index": 38,
                  "director": "Andrei Tarkovsky",
                  "avg_time_per_dir": 147
                },
                {
                  "index": 39,
                  "director": "Lars von Trier",
                  "avg_time_per_dir": 159
                },
                {
                  "index": 40,
                  "director": "Peter Jackson",
                  "avg_time_per_dir": 178
                }
              ],
              "datalink": {
                "display_id": "5308755b-d442-4f86-bb76-0016b429155b"
              }
            }
          },
          "metadata": {
            "application/vnd.dataresource+json": {
              "datalink": {
                "dataframe_info": {
                  "default_index_used": true,
                  "orig_size_bytes": 784,
                  "orig_num_rows": 41,
                  "orig_num_cols": 2,
                  "truncated_size_bytes": 784,
                  "truncated_num_rows": 41,
                  "truncated_num_cols": 2
                },
                "dx_settings": {
                  "NUM_PAST_SAMPLES_TRACKED": 3,
                  "ENABLE_DATALINK": true,
                  "DISPLAY_MODE": "simple",
                  "GENERATE_DEX_METADATA": false,
                  "STRINGIFY_INDEX_VALUES": false,
                  "ALLOW_NOTEABLE_ATTRS": true,
                  "DISPLAY_MAX_COLUMNS": 100,
                  "HTML_TABLE_SCHEMA": false,
                  "SAMPLING_FACTOR": 0.1,
                  "LOG_LEVEL": 30,
                  "ENABLE_ASSIGNMENT": false,
                  "FLATTEN_INDEX_VALUES": false,
                  "DEV_MODE": false,
                  "COLUMN_SAMPLING_METHOD": "outer",
                  "FLATTEN_COLUMN_VALUES": true,
                  "DISPLAY_MAX_ROWS": 50000,
                  "ROW_SAMPLING_METHOD": "random",
                  "RANDOM_STATE": 12648430,
                  "DB_LOCATION": ":memory:",
                  "STRINGIFY_COLUMN_VALUES": true,
                  "SAMPLING_METHOD": "random",
                  "MAX_RENDER_SIZE_BYTES": 104857600,
                  "RESET_INDEX_VALUES": false
                },
                "display_id": "5308755b-d442-4f86-bb76-0016b429155b",
                "applied_filters": [],
                "sample_history": [],
                "sampling_time": "2023-02-08T16:53:16.806690",
                "variable_name": "sql_df_17"
              },
              "display_id": "5308755b-d442-4f86-bb76-0016b429155b"
            }
          }
        }
      ],
      "execution_count": null,
      "metadata": {
        "noteable": {
          "assign_results_to": "sql_df_17",
          "cell_type": "sql",
          "db_connection": "@noteable"
        },
        "ExecuteTime": {
          "end_time": "2023-02-08T16:53:16.963270+00:00",
          "start_time": "2023-02-08T16:53:16.776829+00:00"
        },
        "dx": {
          "fieldMetadata": {},
          "simpleTable": true,
          "updated": 1675875103025,
          "views": []
        }
      },
      "id": "eab8f8d6-c16f-4523-8c9b-cc38c07a50d5"
    },
    {
      "cell_type": "markdown",
      "source": [
        "* Number the films for every director by year"
      ],
      "metadata": {
        "noteable": {
          "cell_type": "markdown"
        }
      },
      "id": "75e4ffc3-98fc-49c9-99a3-67e388ee583a"
    },
    {
      "cell_type": "code",
      "source": [
        "%%sql @noteable\n",
        "select director, film_title, \n",
        "row_number() over (partition by director order by year) as rank,\n",
        "year\n",
        "from dataset left join directors using(director_id) left join films using(film_id);"
      ],
      "outputs": [
        {
          "output_type": "display_data",
          "data": {
            "application/vnd.dataresource+json": {
              "schema": {
                "fields": [
                  {
                    "name": "index",
                    "type": "integer"
                  },
                  {
                    "name": "director",
                    "type": "string"
                  },
                  {
                    "name": "film_title",
                    "type": "string"
                  },
                  {
                    "name": "rank",
                    "type": "integer"
                  },
                  {
                    "name": "year",
                    "type": "integer"
                  }
                ],
                "primaryKey": [
                  "index"
                ],
                "pandas_version": "1.4.0"
              },
              "data": [
                {
                  "index": 0,
                  "director": "Akira Kurosawa",
                  "film_title": "Rashômon",
                  "rank": 1,
                  "year": 1950
                },
                {
                  "index": 1,
                  "director": "Akira Kurosawa",
                  "film_title": "Ikiru",
                  "rank": 2,
                  "year": 1952
                },
                {
                  "index": 2,
                  "director": "Akira Kurosawa",
                  "film_title": "Shichinin no samurai",
                  "rank": 3,
                  "year": 1954
                },
                {
                  "index": 3,
                  "director": "Akira Kurosawa",
                  "film_title": "Kumonosu-jô",
                  "rank": 4,
                  "year": 1957
                },
                {
                  "index": 4,
                  "director": "Akira Kurosawa",
                  "film_title": "Kakushi-toride no san-akunin",
                  "rank": 5,
                  "year": 1958
                },
                {
                  "index": 5,
                  "director": "Akira Kurosawa",
                  "film_title": "Yôjinbô",
                  "rank": 6,
                  "year": 1961
                },
                {
                  "index": 6,
                  "director": "Akira Kurosawa",
                  "film_title": "Sanjuro",
                  "rank": 7,
                  "year": 1962
                },
                {
                  "index": 7,
                  "director": "Akira Kurosawa",
                  "film_title": "Tengoku to jigoku",
                  "rank": 8,
                  "year": 1963
                },
                {
                  "index": 8,
                  "director": "Akira Kurosawa",
                  "film_title": "Kagemusha",
                  "rank": 9,
                  "year": 1980
                },
                {
                  "index": 9,
                  "director": "Akira Kurosawa",
                  "film_title": "Ran",
                  "rank": 10,
                  "year": 1985
                },
                {
                  "index": 10,
                  "director": "Alexander Mackendrick",
                  "film_title": "The Ladykillers",
                  "rank": 1,
                  "year": 1955
                },
                {
                  "index": 11,
                  "director": "Alexander Mackendrick",
                  "film_title": "Sweet Smell of Success",
                  "rank": 2,
                  "year": 1957
                },
                {
                  "index": 12,
                  "director": "Alexander Payne",
                  "film_title": "Nebraska",
                  "rank": 1,
                  "year": 2013
                },
                {
                  "index": 13,
                  "director": "Alfonso Cuarón",
                  "film_title": "A Little Princess",
                  "rank": 1,
                  "year": 1995
                },
                {
                  "index": 14,
                  "director": "Alfonso Cuarón",
                  "film_title": "Y tu mamá también",
                  "rank": 2,
                  "year": 2001
                },
                {
                  "index": 15,
                  "director": "Alfonso Cuarón",
                  "film_title": "Harry Potter and the Prisoner of Azkaban",
                  "rank": 3,
                  "year": 2004
                },
                {
                  "index": 16,
                  "director": "Alfonso Cuarón",
                  "film_title": "Children of Men",
                  "rank": 4,
                  "year": 2006
                },
                {
                  "index": 17,
                  "director": "Alfonso Cuarón",
                  "film_title": "Gravity",
                  "rank": 5,
                  "year": 2013
                },
                {
                  "index": 18,
                  "director": "Alfonso Cuarón",
                  "film_title": "Roma",
                  "rank": 6,
                  "year": 2018
                },
                {
                  "index": 19,
                  "director": "Alfred Hitchcock",
                  "film_title": "The 39 Steps",
                  "rank": 1,
                  "year": 1935
                },
                {
                  "index": 20,
                  "director": "Alfred Hitchcock",
                  "film_title": "The Lady Vanishes",
                  "rank": 2,
                  "year": 1938
                },
                {
                  "index": 21,
                  "director": "Alfred Hitchcock",
                  "film_title": "Rebecca",
                  "rank": 3,
                  "year": 1940
                },
                {
                  "index": 22,
                  "director": "Alfred Hitchcock",
                  "film_title": "Shadow of a Doubt",
                  "rank": 4,
                  "year": 1943
                },
                {
                  "index": 23,
                  "director": "Alfred Hitchcock",
                  "film_title": "Lifeboat",
                  "rank": 5,
                  "year": 1944
                },
                {
                  "index": 24,
                  "director": "Alfred Hitchcock",
                  "film_title": "Notorious",
                  "rank": 6,
                  "year": 1946
                },
                {
                  "index": 25,
                  "director": "Alfred Hitchcock",
                  "film_title": "Rope",
                  "rank": 7,
                  "year": 1948
                },
                {
                  "index": 26,
                  "director": "Alfred Hitchcock",
                  "film_title": "Strangers on a Train",
                  "rank": 8,
                  "year": 1951
                },
                {
                  "index": 27,
                  "director": "Alfred Hitchcock",
                  "film_title": "Rear Window",
                  "rank": 9,
                  "year": 1954
                },
                {
                  "index": 28,
                  "director": "Alfred Hitchcock",
                  "film_title": "Dial M for Murder",
                  "rank": 10,
                  "year": 1954
                },
                {
                  "index": 29,
                  "director": "Alfred Hitchcock",
                  "film_title": "Vertigo",
                  "rank": 11,
                  "year": 1958
                },
                {
                  "index": 30,
                  "director": "Alfred Hitchcock",
                  "film_title": "North by Northwest",
                  "rank": 12,
                  "year": 1959
                },
                {
                  "index": 31,
                  "director": "Alfred Hitchcock",
                  "film_title": "Psycho",
                  "rank": 13,
                  "year": 1960
                },
                {
                  "index": 32,
                  "director": "Alfred Hitchcock",
                  "film_title": "The Birds",
                  "rank": 14,
                  "year": 1963
                },
                {
                  "index": 33,
                  "director": "Andrei Tarkovsky",
                  "film_title": "Ivanovo detstvo",
                  "rank": 1,
                  "year": 1962
                },
                {
                  "index": 34,
                  "director": "Andrei Tarkovsky",
                  "film_title": "Andrei Rublev",
                  "rank": 2,
                  "year": 1966
                },
                {
                  "index": 35,
                  "director": "Andrei Tarkovsky",
                  "film_title": "Solaris",
                  "rank": 3,
                  "year": 1972
                },
                {
                  "index": 36,
                  "director": "Andrei Tarkovsky",
                  "film_title": "Zerkalo",
                  "rank": 4,
                  "year": 1975
                },
                {
                  "index": 37,
                  "director": "Andrei Tarkovsky",
                  "film_title": "Stalker",
                  "rank": 5,
                  "year": 1979
                },
                {
                  "index": 38,
                  "director": "Bradley Cooper",
                  "film_title": "A Star Is Born",
                  "rank": 1,
                  "year": 2018
                },
                {
                  "index": 39,
                  "director": "Brian De Palma",
                  "film_title": "Scarface",
                  "rank": 1,
                  "year": 1983
                },
                {
                  "index": 40,
                  "director": "Brian De Palma",
                  "film_title": "The Untouchables",
                  "rank": 2,
                  "year": 1987
                },
                {
                  "index": 41,
                  "director": "Brian De Palma",
                  "film_title": "Carlito's Way",
                  "rank": 3,
                  "year": 1993
                },
                {
                  "index": 42,
                  "director": "Bryan Singer",
                  "film_title": "The Usual Suspects",
                  "rank": 1,
                  "year": 1995
                },
                {
                  "index": 43,
                  "director": "Bryan Singer",
                  "film_title": "X-Men: Days of Future Past",
                  "rank": 2,
                  "year": 2014
                },
                {
                  "index": 44,
                  "director": "Bryan Singer",
                  "film_title": "Bohemian Rhapsody",
                  "rank": 3,
                  "year": 2018
                },
                {
                  "index": 45,
                  "director": "Christopher Miller",
                  "film_title": "The Lego Movie",
                  "rank": 1,
                  "year": 2014
                },
                {
                  "index": 46,
                  "director": "Christopher Nolan",
                  "film_title": "Memento",
                  "rank": 1,
                  "year": 2000
                },
                {
                  "index": 47,
                  "director": "Christopher Nolan",
                  "film_title": "Batman Begins",
                  "rank": 2,
                  "year": 2005
                },
                {
                  "index": 48,
                  "director": "Christopher Nolan",
                  "film_title": "The Prestige",
                  "rank": 3,
                  "year": 2006
                },
                {
                  "index": 49,
                  "director": "Christopher Nolan",
                  "film_title": "The Dark Knight",
                  "rank": 4,
                  "year": 2008
                },
                {
                  "index": 50,
                  "director": "Christopher Nolan",
                  "film_title": "Inception",
                  "rank": 5,
                  "year": 2010
                },
                {
                  "index": 51,
                  "director": "Christopher Nolan",
                  "film_title": "The Dark Knight Rises",
                  "rank": 6,
                  "year": 2012
                },
                {
                  "index": 52,
                  "director": "Christopher Nolan",
                  "film_title": "Interstellar",
                  "rank": 7,
                  "year": 2014
                },
                {
                  "index": 53,
                  "director": "Christopher Nolan",
                  "film_title": "Dunkirk",
                  "rank": 8,
                  "year": 2017
                },
                {
                  "index": 54,
                  "director": "Clint Eastwood",
                  "film_title": "The Outlaw Josey Wales",
                  "rank": 1,
                  "year": 1976
                },
                {
                  "index": 55,
                  "director": "Clint Eastwood",
                  "film_title": "Unforgiven",
                  "rank": 2,
                  "year": 1992
                },
                {
                  "index": 56,
                  "director": "Clint Eastwood",
                  "film_title": "The Bridges of Madison County",
                  "rank": 3,
                  "year": 1995
                },
                {
                  "index": 57,
                  "director": "Clint Eastwood",
                  "film_title": "Mystic River",
                  "rank": 4,
                  "year": 2003
                },
                {
                  "index": 58,
                  "director": "Clint Eastwood",
                  "film_title": "Million Dollar Baby",
                  "rank": 5,
                  "year": 2004
                },
                {
                  "index": 59,
                  "director": "Clint Eastwood",
                  "film_title": "Letters from Iwo Jima",
                  "rank": 6,
                  "year": 2006
                },
                {
                  "index": 60,
                  "director": "Clint Eastwood",
                  "film_title": "Changeling",
                  "rank": 7,
                  "year": 2008
                },
                {
                  "index": 61,
                  "director": "Clint Eastwood",
                  "film_title": "Gran Torino",
                  "rank": 8,
                  "year": 2008
                },
                {
                  "index": 62,
                  "director": "Danny Boyle",
                  "film_title": "Trainspotting",
                  "rank": 1,
                  "year": 1996
                },
                {
                  "index": 63,
                  "director": "Danny Boyle",
                  "film_title": "28 Days Later...",
                  "rank": 2,
                  "year": 2002
                },
                {
                  "index": 64,
                  "director": "Danny Boyle",
                  "film_title": "Slumdog Millionaire",
                  "rank": 3,
                  "year": 2008
                },
                {
                  "index": 65,
                  "director": "David Fincher",
                  "film_title": "Se7en",
                  "rank": 1,
                  "year": 1995
                },
                {
                  "index": 66,
                  "director": "David Fincher",
                  "film_title": "The Game",
                  "rank": 2,
                  "year": 1997
                },
                {
                  "index": 67,
                  "director": "David Fincher",
                  "film_title": "Fight Club",
                  "rank": 3,
                  "year": 1999
                },
                {
                  "index": 68,
                  "director": "David Fincher",
                  "film_title": "Zodiac",
                  "rank": 4,
                  "year": 2007
                },
                {
                  "index": 69,
                  "director": "David Fincher",
                  "film_title": "The Curious Case of Benjamin Button",
                  "rank": 5,
                  "year": 2008
                },
                {
                  "index": 70,
                  "director": "David Fincher",
                  "film_title": "The Social Network",
                  "rank": 6,
                  "year": 2010
                },
                {
                  "index": 71,
                  "director": "David Fincher",
                  "film_title": "The Girl with the Dragon Tattoo",
                  "rank": 7,
                  "year": 2011
                },
                {
                  "index": 72,
                  "director": "David Fincher",
                  "film_title": "Gone Girl",
                  "rank": 8,
                  "year": 2014
                },
                {
                  "index": 73,
                  "director": "Denis Villeneuve",
                  "film_title": "Incendies",
                  "rank": 1,
                  "year": 2010
                },
                {
                  "index": 74,
                  "director": "Denis Villeneuve",
                  "film_title": "Prisoners",
                  "rank": 2,
                  "year": 2013
                },
                {
                  "index": 75,
                  "director": "Denis Villeneuve",
                  "film_title": "Sicario",
                  "rank": 3,
                  "year": 2015
                },
                {
                  "index": 76,
                  "director": "Denis Villeneuve",
                  "film_title": "Arrival",
                  "rank": 4,
                  "year": 2016
                },
                {
                  "index": 77,
                  "director": "Denis Villeneuve",
                  "film_title": "Blade Runner 2049",
                  "rank": 5,
                  "year": 2017
                },
                {
                  "index": 78,
                  "director": "Federico Fellini",
                  "film_title": "La Strada",
                  "rank": 1,
                  "year": 1954
                },
                {
                  "index": 79,
                  "director": "Federico Fellini",
                  "film_title": "Le notti di Cabiria",
                  "rank": 2,
                  "year": 1957
                },
                {
                  "index": 80,
                  "director": "Federico Fellini",
                  "film_title": "La dolce vita",
                  "rank": 3,
                  "year": 1960
                },
                {
                  "index": 81,
                  "director": "Federico Fellini",
                  "film_title": "8½",
                  "rank": 4,
                  "year": 1963
                },
                {
                  "index": 82,
                  "director": "Federico Fellini",
                  "film_title": "Amarcord",
                  "rank": 5,
                  "year": 1973
                },
                {
                  "index": 83,
                  "director": "Guy Hamilton",
                  "film_title": "Goldfinger",
                  "rank": 1,
                  "year": 1964
                },
                {
                  "index": 84,
                  "director": "Guy Ritchie",
                  "film_title": "Lock, Stock and Two Smoking Barrels",
                  "rank": 1,
                  "year": 1998
                },
                {
                  "index": 85,
                  "director": "Guy Ritchie",
                  "film_title": "Snatch",
                  "rank": 2,
                  "year": 2000
                },
                {
                  "index": 86,
                  "director": "Guy Ritchie",
                  "film_title": "Sherlock Holmes",
                  "rank": 3,
                  "year": 2009
                },
                {
                  "index": 87,
                  "director": "Guy Ritchie",
                  "film_title": "The Gentlemen",
                  "rank": 4,
                  "year": 2019
                },
                {
                  "index": 88,
                  "director": "Ingmar Bergman",
                  "film_title": "Smultronstället",
                  "rank": 1,
                  "year": 1957
                },
                {
                  "index": 89,
                  "director": "Ingmar Bergman",
                  "film_title": "Det sjunde inseglet",
                  "rank": 2,
                  "year": 1957
                },
                {
                  "index": 90,
                  "director": "Ingmar Bergman",
                  "film_title": "Jungfrukällan",
                  "rank": 3,
                  "year": 1960
                },
                {
                  "index": 91,
                  "director": "Ingmar Bergman",
                  "film_title": "Persona",
                  "rank": 4,
                  "year": 1966
                },
                {
                  "index": 92,
                  "director": "Ingmar Bergman",
                  "film_title": "Viskningar och rop",
                  "rank": 5,
                  "year": 1972
                },
                {
                  "index": 93,
                  "director": "Ingmar Bergman",
                  "film_title": "Höstsonaten",
                  "rank": 6,
                  "year": 1978
                },
                {
                  "index": 94,
                  "director": "Ingmar Bergman",
                  "film_title": "Fanny och Alexander",
                  "rank": 7,
                  "year": 1982
                },
                {
                  "index": 95,
                  "director": "Joe Wright",
                  "film_title": "Pride & Prejudice",
                  "rank": 1,
                  "year": 2005
                },
                {
                  "index": 96,
                  "director": "Joe Wright",
                  "film_title": "Atonement",
                  "rank": 2,
                  "year": 2007
                },
                {
                  "index": 97,
                  "director": "Ken Loach",
                  "film_title": "I, Daniel Blake",
                  "rank": 1,
                  "year": 2016
                },
                {
                  "index": 98,
                  "director": "Krzysztof Kieslowski",
                  "film_title": "La double vie de Véronique",
                  "rank": 1,
                  "year": 1991
                },
                {
                  "index": 99,
                  "director": "Krzysztof Kieslowski",
                  "film_title": "Trois couleurs: Bleu",
                  "rank": 2,
                  "year": 1993
                },
                {
                  "index": 100,
                  "director": "Krzysztof Kieslowski",
                  "film_title": "Trois couleurs: Blanc",
                  "rank": 3,
                  "year": 1994
                },
                {
                  "index": 101,
                  "director": "Krzysztof Kieslowski",
                  "film_title": "Trois couleurs: Rouge",
                  "rank": 4,
                  "year": 1994
                },
                {
                  "index": 102,
                  "director": "Lars von Trier",
                  "film_title": "Breaking the Waves",
                  "rank": 1,
                  "year": 1996
                },
                {
                  "index": 103,
                  "director": "Lars von Trier",
                  "film_title": "Dancer in the Dark",
                  "rank": 2,
                  "year": 2000
                },
                {
                  "index": 104,
                  "director": "Lars von Trier",
                  "film_title": "Dogville",
                  "rank": 3,
                  "year": 2003
                },
                {
                  "index": 105,
                  "director": "Martin Scorsese",
                  "film_title": "Taxi Driver",
                  "rank": 1,
                  "year": 1976
                },
                {
                  "index": 106,
                  "director": "Martin Scorsese",
                  "film_title": "Raging Bull",
                  "rank": 2,
                  "year": 1980
                },
                {
                  "index": 107,
                  "director": "Martin Scorsese",
                  "film_title": "The King of Comedy",
                  "rank": 3,
                  "year": 1982
                },
                {
                  "index": 108,
                  "director": "Martin Scorsese",
                  "film_title": "After Hours",
                  "rank": 4,
                  "year": 1985
                },
                {
                  "index": 109,
                  "director": "Martin Scorsese",
                  "film_title": "Goodfellas",
                  "rank": 5,
                  "year": 1990
                },
                {
                  "index": 110,
                  "director": "Martin Scorsese",
                  "film_title": "Casino",
                  "rank": 6,
                  "year": 1995
                },
                {
                  "index": 111,
                  "director": "Martin Scorsese",
                  "film_title": "The Departed",
                  "rank": 7,
                  "year": 2006
                },
                {
                  "index": 112,
                  "director": "Martin Scorsese",
                  "film_title": "Shutter Island",
                  "rank": 8,
                  "year": 2010
                },
                {
                  "index": 113,
                  "director": "Martin Scorsese",
                  "film_title": "The Wolf of Wall Street",
                  "rank": 9,
                  "year": 2013
                },
                {
                  "index": 114,
                  "director": "Martin Scorsese",
                  "film_title": "The Irishman",
                  "rank": 10,
                  "year": 2019
                },
                {
                  "index": 115,
                  "director": "Mike Leigh",
                  "film_title": "Naked",
                  "rank": 1,
                  "year": 1993
                },
                {
                  "index": 116,
                  "director": "Mike Leigh",
                  "film_title": "Secrets & Lies",
                  "rank": 2,
                  "year": 1996
                },
                {
                  "index": 117,
                  "director": "Noah Baumbach",
                  "film_title": "Marriage Story",
                  "rank": 1,
                  "year": 2019
                },
                {
                  "index": 118,
                  "director": "Orson Welles",
                  "film_title": "Citizen Kane",
                  "rank": 1,
                  "year": 1941
                },
                {
                  "index": 119,
                  "director": "Orson Welles",
                  "film_title": "Touch of Evil",
                  "rank": 2,
                  "year": 1958
                },
                {
                  "index": 120,
                  "director": "Peter Jackson",
                  "film_title": "The Lord of the Rings: The Fellowship of the Ring",
                  "rank": 1,
                  "year": 2001
                },
                {
                  "index": 121,
                  "director": "Peter Jackson",
                  "film_title": "The Lord of the Rings: The Two Towers",
                  "rank": 2,
                  "year": 2002
                },
                {
                  "index": 122,
                  "director": "Peter Jackson",
                  "film_title": "The Lord of the Rings: The Return of the King",
                  "rank": 3,
                  "year": 2003
                },
                {
                  "index": 123,
                  "director": "Peter Jackson",
                  "film_title": "The Hobbit: An Unexpected Journey",
                  "rank": 4,
                  "year": 2012
                },
                {
                  "index": 124,
                  "director": "Peter Jackson",
                  "film_title": "The Hobbit: The Desolation of Smaug",
                  "rank": 5,
                  "year": 2013
                },
                {
                  "index": 125,
                  "director": "Quentin Tarantino",
                  "film_title": "Reservoir Dogs",
                  "rank": 1,
                  "year": 1992
                },
                {
                  "index": 126,
                  "director": "Quentin Tarantino",
                  "film_title": "Pulp Fiction",
                  "rank": 2,
                  "year": 1994
                },
                {
                  "index": 127,
                  "director": "Quentin Tarantino",
                  "film_title": "Kill Bill: Vol. 1",
                  "rank": 3,
                  "year": 2003
                },
                {
                  "index": 128,
                  "director": "Quentin Tarantino",
                  "film_title": "Kill Bill: Vol. 2",
                  "rank": 4,
                  "year": 2004
                },
                {
                  "index": 129,
                  "director": "Quentin Tarantino",
                  "film_title": "Inglourious Basterds",
                  "rank": 5,
                  "year": 2009
                },
                {
                  "index": 130,
                  "director": "Quentin Tarantino",
                  "film_title": "Django Unchained",
                  "rank": 6,
                  "year": 2012
                },
                {
                  "index": 131,
                  "director": "Quentin Tarantino",
                  "film_title": "The Hateful Eight",
                  "rank": 7,
                  "year": 2015
                },
                {
                  "index": 132,
                  "director": "Quentin Tarantino",
                  "film_title": "Once Upon a Time... in Hollywood",
                  "rank": 8,
                  "year": 2019
                },
                {
                  "index": 133,
                  "director": "Roman Polanski",
                  "film_title": "Repulsion",
                  "rank": 1,
                  "year": 1965
                },
                {
                  "index": 134,
                  "director": "Roman Polanski",
                  "film_title": "Rosemary's Baby",
                  "rank": 2,
                  "year": 1968
                },
                {
                  "index": 135,
                  "director": "Roman Polanski",
                  "film_title": "Chinatown",
                  "rank": 3,
                  "year": 1974
                },
                {
                  "index": 136,
                  "director": "Roman Polanski",
                  "film_title": "Le locataire",
                  "rank": 4,
                  "year": 1976
                },
                {
                  "index": 137,
                  "director": "Roman Polanski",
                  "film_title": "The Pianist",
                  "rank": 5,
                  "year": 2002
                },
                {
                  "index": 138,
                  "director": "Sofia Coppola",
                  "film_title": "Lost in Translation",
                  "rank": 1,
                  "year": 2003
                },
                {
                  "index": 139,
                  "director": "Stanley Kramer",
                  "film_title": "Guess Who's Coming to Dinner",
                  "rank": 1,
                  "year": 1967
                },
                {
                  "index": 140,
                  "director": "Stanley Kubrick",
                  "film_title": "The Killing",
                  "rank": 1,
                  "year": 1956
                },
                {
                  "index": 141,
                  "director": "Stanley Kubrick",
                  "film_title": "Paths of Glory",
                  "rank": 2,
                  "year": 1957
                },
                {
                  "index": 142,
                  "director": "Stanley Kubrick",
                  "film_title": "Spartacus",
                  "rank": 3,
                  "year": 1960
                },
                {
                  "index": 143,
                  "director": "Stanley Kubrick",
                  "film_title": "Dr. Strangelove or: How I Learned to Stop Worrying and Love the Bomb",
                  "rank": 4,
                  "year": 1964
                },
                {
                  "index": 144,
                  "director": "Stanley Kubrick",
                  "film_title": "2001: A Space Odyssey",
                  "rank": 5,
                  "year": 1968
                },
                {
                  "index": 145,
                  "director": "Stanley Kubrick",
                  "film_title": "A Clockwork Orange",
                  "rank": 6,
                  "year": 1971
                },
                {
                  "index": 146,
                  "director": "Stanley Kubrick",
                  "film_title": "Barry Lyndon",
                  "rank": 7,
                  "year": 1975
                },
                {
                  "index": 147,
                  "director": "Stanley Kubrick",
                  "film_title": "The Shining",
                  "rank": 8,
                  "year": 1980
                },
                {
                  "index": 148,
                  "director": "Stanley Kubrick",
                  "film_title": "Full Metal Jacket",
                  "rank": 9,
                  "year": 1987
                },
                {
                  "index": 149,
                  "director": "Steven Spielberg",
                  "film_title": "Jaws",
                  "rank": 1,
                  "year": 1975
                },
                {
                  "index": 150,
                  "director": "Steven Spielberg",
                  "film_title": "Close Encounters of the Third Kind",
                  "rank": 2,
                  "year": 1977
                },
                {
                  "index": 151,
                  "director": "Steven Spielberg",
                  "film_title": "Raiders of the Lost Ark",
                  "rank": 3,
                  "year": 1981
                },
                {
                  "index": 152,
                  "director": "Steven Spielberg",
                  "film_title": "E.T. the Extra-Terrestrial",
                  "rank": 4,
                  "year": 1982
                },
                {
                  "index": 153,
                  "director": "Steven Spielberg",
                  "film_title": "The Color Purple",
                  "rank": 5,
                  "year": 1985
                },
                {
                  "index": 154,
                  "director": "Steven Spielberg",
                  "film_title": "Empire of the Sun",
                  "rank": 6,
                  "year": 1987
                },
                {
                  "index": 155,
                  "director": "Steven Spielberg",
                  "film_title": "Indiana Jones and the Last Crusade",
                  "rank": 7,
                  "year": 1989
                },
                {
                  "index": 156,
                  "director": "Steven Spielberg",
                  "film_title": "Schindler's List",
                  "rank": 8,
                  "year": 1993
                },
                {
                  "index": 157,
                  "director": "Steven Spielberg",
                  "film_title": "Jurassic Park",
                  "rank": 9,
                  "year": 1993
                },
                {
                  "index": 158,
                  "director": "Steven Spielberg",
                  "film_title": "Saving Private Ryan",
                  "rank": 10,
                  "year": 1998
                },
                {
                  "index": 159,
                  "director": "Steven Spielberg",
                  "film_title": "Minority Report",
                  "rank": 11,
                  "year": 2002
                },
                {
                  "index": 160,
                  "director": "Steven Spielberg",
                  "film_title": "Catch Me If You Can",
                  "rank": 12,
                  "year": 2002
                },
                {
                  "index": 161,
                  "director": "Steven Spielberg",
                  "film_title": "Bridge of Spies",
                  "rank": 13,
                  "year": 2015
                },
                {
                  "index": 162,
                  "director": "Stuart Rosenberg",
                  "film_title": "Cool Hand Luke",
                  "rank": 1,
                  "year": 1967
                },
                {
                  "index": 163,
                  "director": "Taika Waititi",
                  "film_title": "Hunt for the Wilderpeople",
                  "rank": 1,
                  "year": 2016
                },
                {
                  "index": 164,
                  "director": "Taika Waititi",
                  "film_title": "Thor: Ragnarok",
                  "rank": 2,
                  "year": 2017
                },
                {
                  "index": 165,
                  "director": "Taika Waititi",
                  "film_title": "Jojo Rabbit",
                  "rank": 3,
                  "year": 2019
                },
                {
                  "index": 166,
                  "director": "Terence Young",
                  "film_title": "Wait Until Dark",
                  "rank": 1,
                  "year": 1967
                },
                {
                  "index": 167,
                  "director": "Terrence Malick",
                  "film_title": "Badlands",
                  "rank": 1,
                  "year": 1973
                },
                {
                  "index": 168,
                  "director": "Terrence Malick",
                  "film_title": "Days of Heaven",
                  "rank": 2,
                  "year": 1978
                },
                {
                  "index": 169,
                  "director": "Terrence Malick",
                  "film_title": "The Thin Red Line",
                  "rank": 3,
                  "year": 1998
                },
                {
                  "index": 170,
                  "director": "Tim Burton",
                  "film_title": "Edward Scissorhands",
                  "rank": 1,
                  "year": 1990
                },
                {
                  "index": 171,
                  "director": "Tim Burton",
                  "film_title": "Ed Wood",
                  "rank": 2,
                  "year": 1994
                },
                {
                  "index": 172,
                  "director": "Tim Burton",
                  "film_title": "Big Fish",
                  "rank": 3,
                  "year": 2003
                },
                {
                  "index": 173,
                  "director": "Wes Anderson",
                  "film_title": "Rushmore",
                  "rank": 1,
                  "year": 1998
                },
                {
                  "index": 174,
                  "director": "Wes Anderson",
                  "film_title": "The Royal Tenenbaums",
                  "rank": 2,
                  "year": 2001
                },
                {
                  "index": 175,
                  "director": "Wes Anderson",
                  "film_title": "Fantastic Mr. Fox",
                  "rank": 3,
                  "year": 2009
                },
                {
                  "index": 176,
                  "director": "Wes Anderson",
                  "film_title": "Moonrise Kingdom",
                  "rank": 4,
                  "year": 2012
                },
                {
                  "index": 177,
                  "director": "Wes Anderson",
                  "film_title": "The Grand Budapest Hotel",
                  "rank": 5,
                  "year": 2014
                },
                {
                  "index": 178,
                  "director": "Wes Anderson",
                  "film_title": "Isle of Dogs",
                  "rank": 6,
                  "year": 2018
                },
                {
                  "index": 179,
                  "director": "Woody Allen",
                  "film_title": "Love and Death",
                  "rank": 1,
                  "year": 1975
                },
                {
                  "index": 180,
                  "director": "Woody Allen",
                  "film_title": "Annie Hall",
                  "rank": 2,
                  "year": 1977
                },
                {
                  "index": 181,
                  "director": "Woody Allen",
                  "film_title": "Manhattan",
                  "rank": 3,
                  "year": 1979
                },
                {
                  "index": 182,
                  "director": "Woody Allen",
                  "film_title": "Zelig",
                  "rank": 4,
                  "year": 1983
                },
                {
                  "index": 183,
                  "director": "Woody Allen",
                  "film_title": "The Purple Rose of Cairo",
                  "rank": 5,
                  "year": 1985
                },
                {
                  "index": 184,
                  "director": "Woody Allen",
                  "film_title": "Hannah and Her Sisters",
                  "rank": 6,
                  "year": 1986
                },
                {
                  "index": 185,
                  "director": "Woody Allen",
                  "film_title": "Crimes and Misdemeanors",
                  "rank": 7,
                  "year": 1989
                },
                {
                  "index": 186,
                  "director": "Woody Allen",
                  "film_title": "Match Point",
                  "rank": 8,
                  "year": 2005
                },
                {
                  "index": 187,
                  "director": "Woody Allen",
                  "film_title": "Midnight in Paris",
                  "rank": 9,
                  "year": 2011
                }
              ],
              "datalink": {
                "display_id": "c0290160-9e93-4f62-87bb-7a74cb5176f6"
              }
            }
          },
          "metadata": {
            "application/vnd.dataresource+json": {
              "datalink": {
                "dataframe_info": {
                  "default_index_used": true,
                  "orig_size_bytes": 6144,
                  "orig_num_rows": 188,
                  "orig_num_cols": 4,
                  "truncated_size_bytes": 6144,
                  "truncated_num_rows": 188,
                  "truncated_num_cols": 4
                },
                "dx_settings": {
                  "NUM_PAST_SAMPLES_TRACKED": 3,
                  "ENABLE_DATALINK": true,
                  "DISPLAY_MODE": "simple",
                  "GENERATE_DEX_METADATA": false,
                  "STRINGIFY_INDEX_VALUES": false,
                  "ALLOW_NOTEABLE_ATTRS": true,
                  "DISPLAY_MAX_COLUMNS": 100,
                  "HTML_TABLE_SCHEMA": false,
                  "SAMPLING_FACTOR": 0.1,
                  "LOG_LEVEL": 30,
                  "ENABLE_ASSIGNMENT": false,
                  "FLATTEN_INDEX_VALUES": false,
                  "DEV_MODE": false,
                  "COLUMN_SAMPLING_METHOD": "outer",
                  "FLATTEN_COLUMN_VALUES": true,
                  "DISPLAY_MAX_ROWS": 50000,
                  "ROW_SAMPLING_METHOD": "random",
                  "RANDOM_STATE": 12648430,
                  "DB_LOCATION": ":memory:",
                  "STRINGIFY_COLUMN_VALUES": true,
                  "SAMPLING_METHOD": "random",
                  "MAX_RENDER_SIZE_BYTES": 104857600,
                  "RESET_INDEX_VALUES": false
                },
                "display_id": "c0290160-9e93-4f62-87bb-7a74cb5176f6",
                "applied_filters": [],
                "sample_history": [],
                "sampling_time": "2023-02-08T16:58:06.958934",
                "variable_name": "sql_df_5"
              },
              "display_id": "c0290160-9e93-4f62-87bb-7a74cb5176f6"
            }
          }
        }
      ],
      "execution_count": null,
      "metadata": {
        "noteable": {
          "assign_results_to": "sql_df_5",
          "cell_type": "sql",
          "db_connection": "@noteable"
        },
        "ExecuteTime": {
          "end_time": "2023-02-08T16:58:07.118290+00:00",
          "start_time": "2023-02-08T16:58:06.926012+00:00"
        },
        "dx": {
          "fieldMetadata": {},
          "simpleTable": true,
          "simpleTableExpanded": true,
          "updated": 1675861431825,
          "views": []
        }
      },
      "id": "6b557dc2-6567-4579-b60c-67a9ab3633d5"
    },
    {
      "cell_type": "markdown",
      "source": [
        "* Rank films by rating"
      ],
      "metadata": {
        "noteable": {
          "cell_type": "markdown"
        }
      },
      "id": "228b404e-3c47-4b89-ad2c-3a6d05b1be91"
    },
    {
      "cell_type": "code",
      "source": [
        "%%sql @noteable\n",
        "select film_title, rating, dense_rank() over (order by rating desc) as rank \n",
        "from dataset left join films using(film_id);"
      ],
      "outputs": [
        {
          "output_type": "display_data",
          "data": {
            "application/vnd.dataresource+json": {
              "schema": {
                "fields": [
                  {
                    "name": "index",
                    "type": "integer"
                  },
                  {
                    "name": "film_title",
                    "type": "string"
                  },
                  {
                    "name": "rating",
                    "type": "number"
                  },
                  {
                    "name": "rank",
                    "type": "integer"
                  }
                ],
                "primaryKey": [
                  "index"
                ],
                "pandas_version": "1.4.0"
              },
              "data": [
                {
                  "index": 0,
                  "film_title": "The Dark Knight",
                  "rating": 9,
                  "rank": 1
                },
                {
                  "index": 1,
                  "film_title": "The Lord of the Rings: The Return of the King",
                  "rating": 8.9,
                  "rank": 2
                },
                {
                  "index": 2,
                  "film_title": "Pulp Fiction",
                  "rating": 8.9,
                  "rank": 2
                },
                {
                  "index": 3,
                  "film_title": "Schindler's List",
                  "rating": 8.9,
                  "rank": 2
                },
                {
                  "index": 4,
                  "film_title": "Inception",
                  "rating": 8.8,
                  "rank": 3
                },
                {
                  "index": 5,
                  "film_title": "Fight Club",
                  "rating": 8.8,
                  "rank": 3
                },
                {
                  "index": 6,
                  "film_title": "The Lord of the Rings: The Fellowship of the Ring",
                  "rating": 8.8,
                  "rank": 3
                },
                {
                  "index": 7,
                  "film_title": "Goodfellas",
                  "rating": 8.7,
                  "rank": 4
                },
                {
                  "index": 8,
                  "film_title": "The Lord of the Rings: The Two Towers",
                  "rating": 8.7,
                  "rank": 4
                },
                {
                  "index": 9,
                  "film_title": "Shichinin no samurai",
                  "rating": 8.6,
                  "rank": 5
                },
                {
                  "index": 10,
                  "film_title": "Interstellar",
                  "rating": 8.6,
                  "rank": 5
                },
                {
                  "index": 11,
                  "film_title": "Se7en",
                  "rating": 8.6,
                  "rank": 5
                },
                {
                  "index": 12,
                  "film_title": "Saving Private Ryan",
                  "rating": 8.6,
                  "rank": 5
                },
                {
                  "index": 13,
                  "film_title": "Psycho",
                  "rating": 8.5,
                  "rank": 6
                },
                {
                  "index": 14,
                  "film_title": "The Usual Suspects",
                  "rating": 8.5,
                  "rank": 6
                },
                {
                  "index": 15,
                  "film_title": "The Prestige",
                  "rating": 8.5,
                  "rank": 6
                },
                {
                  "index": 16,
                  "film_title": "The Departed",
                  "rating": 8.5,
                  "rank": 6
                },
                {
                  "index": 17,
                  "film_title": "The Pianist",
                  "rating": 8.5,
                  "rank": 6
                },
                {
                  "index": 18,
                  "film_title": "Tengoku to jigoku",
                  "rating": 8.4,
                  "rank": 7
                },
                {
                  "index": 19,
                  "film_title": "Rear Window",
                  "rating": 8.4,
                  "rank": 7
                },
                {
                  "index": 20,
                  "film_title": "The Dark Knight Rises",
                  "rating": 8.4,
                  "rank": 7
                },
                {
                  "index": 21,
                  "film_title": "Memento",
                  "rating": 8.4,
                  "rank": 7
                },
                {
                  "index": 22,
                  "film_title": "Django Unchained",
                  "rating": 8.4,
                  "rank": 7
                },
                {
                  "index": 23,
                  "film_title": "The Shining",
                  "rating": 8.4,
                  "rank": 7
                },
                {
                  "index": 24,
                  "film_title": "Paths of Glory",
                  "rating": 8.4,
                  "rank": 7
                },
                {
                  "index": 25,
                  "film_title": "Raiders of the Lost Ark",
                  "rating": 8.4,
                  "rank": 7
                },
                {
                  "index": 26,
                  "film_title": "Dr. Strangelove or: How I Learned to Stop Worrying and Love the Bomb",
                  "rating": 8.4,
                  "rank": 7
                },
                {
                  "index": 27,
                  "film_title": "Ikiru",
                  "rating": 8.3,
                  "rank": 8
                },
                {
                  "index": 28,
                  "film_title": "Vertigo",
                  "rating": 8.3,
                  "rank": 8
                },
                {
                  "index": 29,
                  "film_title": "Incendies",
                  "rating": 8.3,
                  "rank": 8
                },
                {
                  "index": 30,
                  "film_title": "Snatch",
                  "rating": 8.3,
                  "rank": 8
                },
                {
                  "index": 31,
                  "film_title": "Taxi Driver",
                  "rating": 8.3,
                  "rank": 8
                },
                {
                  "index": 32,
                  "film_title": "Citizen Kane",
                  "rating": 8.3,
                  "rank": 8
                },
                {
                  "index": 33,
                  "film_title": "Inglourious Basterds",
                  "rating": 8.3,
                  "rank": 8
                },
                {
                  "index": 34,
                  "film_title": "Reservoir Dogs",
                  "rating": 8.3,
                  "rank": 8
                },
                {
                  "index": 35,
                  "film_title": "Full Metal Jacket",
                  "rating": 8.3,
                  "rank": 8
                },
                {
                  "index": 36,
                  "film_title": "A Clockwork Orange",
                  "rating": 8.3,
                  "rank": 8
                },
                {
                  "index": 37,
                  "film_title": "2001: A Space Odyssey",
                  "rating": 8.3,
                  "rank": 8
                },
                {
                  "index": 38,
                  "film_title": "North by Northwest",
                  "rating": 8.3,
                  "rank": 8
                },
                {
                  "index": 39,
                  "film_title": "Scarface",
                  "rating": 8.3,
                  "rank": 8
                },
                {
                  "index": 40,
                  "film_title": "Ran",
                  "rating": 8.2,
                  "rank": 9
                },
                {
                  "index": 41,
                  "film_title": "Yôjinbô",
                  "rating": 8.2,
                  "rank": 9
                },
                {
                  "index": 42,
                  "film_title": "Rashômon",
                  "rating": 8.2,
                  "rank": 9
                },
                {
                  "index": 43,
                  "film_title": "Dial M for Murder",
                  "rating": 8.2,
                  "rank": 9
                },
                {
                  "index": 44,
                  "film_title": "Stalker",
                  "rating": 8.2,
                  "rank": 9
                },
                {
                  "index": 45,
                  "film_title": "Batman Begins",
                  "rating": 8.2,
                  "rank": 9
                },
                {
                  "index": 46,
                  "film_title": "Unforgiven",
                  "rating": 8.2,
                  "rank": 9
                },
                {
                  "index": 47,
                  "film_title": "Lock, Stock and Two Smoking Barrels",
                  "rating": 8.2,
                  "rank": 9
                },
                {
                  "index": 48,
                  "film_title": "Höstsonaten",
                  "rating": 8.2,
                  "rank": 9
                },
                {
                  "index": 49,
                  "film_title": "Smultronstället",
                  "rating": 8.2,
                  "rank": 9
                },
                {
                  "index": 50,
                  "film_title": "Det sjunde inseglet",
                  "rating": 8.2,
                  "rank": 9
                },
                {
                  "index": 51,
                  "film_title": "Shutter Island",
                  "rating": 8.2,
                  "rank": 9
                },
                {
                  "index": 52,
                  "film_title": "The Wolf of Wall Street",
                  "rating": 8.2,
                  "rank": 9
                },
                {
                  "index": 53,
                  "film_title": "Raging Bull",
                  "rating": 8.2,
                  "rank": 9
                },
                {
                  "index": 54,
                  "film_title": "Indiana Jones and the Last Crusade",
                  "rating": 8.2,
                  "rank": 9
                },
                {
                  "index": 55,
                  "film_title": "Casino",
                  "rating": 8.2,
                  "rank": 9
                },
                {
                  "index": 56,
                  "film_title": "Sanjuro",
                  "rating": 8.1,
                  "rank": 10
                },
                {
                  "index": 57,
                  "film_title": "Kakushi-toride no san-akunin",
                  "rating": 8.1,
                  "rank": 10
                },
                {
                  "index": 58,
                  "film_title": "Kumonosu-jô",
                  "rating": 8.1,
                  "rank": 10
                },
                {
                  "index": 59,
                  "film_title": "Rebecca",
                  "rating": 8.1,
                  "rank": 10
                },
                {
                  "index": 60,
                  "film_title": "Zerkalo",
                  "rating": 8.1,
                  "rank": 10
                },
                {
                  "index": 61,
                  "film_title": "Solaris",
                  "rating": 8.1,
                  "rank": 10
                },
                {
                  "index": 62,
                  "film_title": "Andrei Rublev",
                  "rating": 8.1,
                  "rank": 10
                },
                {
                  "index": 63,
                  "film_title": "Ivanovo detstvo",
                  "rating": 8.1,
                  "rank": 10
                },
                {
                  "index": 64,
                  "film_title": "Trainspotting",
                  "rating": 8.1,
                  "rank": 10
                },
                {
                  "index": 65,
                  "film_title": "Gone Girl",
                  "rating": 8.1,
                  "rank": 10
                },
                {
                  "index": 66,
                  "film_title": "Prisoners",
                  "rating": 8.1,
                  "rank": 10
                },
                {
                  "index": 67,
                  "film_title": "Le notti di Cabiria",
                  "rating": 8.1,
                  "rank": 10
                },
                {
                  "index": 68,
                  "film_title": "Fanny och Alexander",
                  "rating": 8.1,
                  "rank": 10
                },
                {
                  "index": 69,
                  "film_title": "Viskningar och rop",
                  "rating": 8.1,
                  "rank": 10
                },
                {
                  "index": 70,
                  "film_title": "Jungfrukällan",
                  "rating": 8.1,
                  "rank": 10
                },
                {
                  "index": 71,
                  "film_title": "Kill Bill: Vol. 1",
                  "rating": 8.1,
                  "rank": 10
                },
                {
                  "index": 72,
                  "film_title": "Chinatown",
                  "rating": 8.1,
                  "rank": 10
                },
                {
                  "index": 73,
                  "film_title": "Barry Lyndon",
                  "rating": 8.1,
                  "rank": 10
                },
                {
                  "index": 74,
                  "film_title": "Jurassic Park",
                  "rating": 8.1,
                  "rank": 10
                },
                {
                  "index": 75,
                  "film_title": "Cool Hand Luke",
                  "rating": 8.1,
                  "rank": 10
                },
                {
                  "index": 76,
                  "film_title": "The Grand Budapest Hotel",
                  "rating": 8.1,
                  "rank": 10
                },
                {
                  "index": 77,
                  "film_title": "Gran Torino",
                  "rating": 8.1,
                  "rank": 10
                },
                {
                  "index": 78,
                  "film_title": "Million Dollar Baby",
                  "rating": 8.1,
                  "rank": 10
                },
                {
                  "index": 79,
                  "film_title": "Persona",
                  "rating": 8.1,
                  "rank": 10
                },
                {
                  "index": 80,
                  "film_title": "Trois couleurs: Rouge",
                  "rating": 8.1,
                  "rank": 10
                },
                {
                  "index": 81,
                  "film_title": "Catch Me If You Can",
                  "rating": 8.1,
                  "rank": 10
                },
                {
                  "index": 82,
                  "film_title": "Kagemusha",
                  "rating": 8,
                  "rank": 11
                },
                {
                  "index": 83,
                  "film_title": "Sweet Smell of Success",
                  "rating": 8,
                  "rank": 11
                },
                {
                  "index": 84,
                  "film_title": "Rope",
                  "rating": 8,
                  "rank": 11
                },
                {
                  "index": 85,
                  "film_title": "Bohemian Rhapsody",
                  "rating": 8,
                  "rank": 11
                },
                {
                  "index": 86,
                  "film_title": "Slumdog Millionaire",
                  "rating": 8,
                  "rank": 11
                },
                {
                  "index": 87,
                  "film_title": "Blade Runner 2049",
                  "rating": 8,
                  "rank": 11
                },
                {
                  "index": 88,
                  "film_title": "8½",
                  "rating": 8,
                  "rank": 11
                },
                {
                  "index": 89,
                  "film_title": "La dolce vita",
                  "rating": 8,
                  "rank": 11
                },
                {
                  "index": 90,
                  "film_title": "La Strada",
                  "rating": 8,
                  "rank": 11
                },
                {
                  "index": 91,
                  "film_title": "Dogville",
                  "rating": 8,
                  "rank": 11
                },
                {
                  "index": 92,
                  "film_title": "Dancer in the Dark",
                  "rating": 8,
                  "rank": 11
                },
                {
                  "index": 93,
                  "film_title": "Secrets & Lies",
                  "rating": 8,
                  "rank": 11
                },
                {
                  "index": 94,
                  "film_title": "Touch of Evil",
                  "rating": 8,
                  "rank": 11
                },
                {
                  "index": 95,
                  "film_title": "Kill Bill: Vol. 2",
                  "rating": 8,
                  "rank": 11
                },
                {
                  "index": 96,
                  "film_title": "Rosemary's Baby",
                  "rating": 8,
                  "rank": 11
                },
                {
                  "index": 97,
                  "film_title": "The Killing",
                  "rating": 8,
                  "rank": 11
                },
                {
                  "index": 98,
                  "film_title": "Jaws",
                  "rating": 8,
                  "rank": 11
                },
                {
                  "index": 99,
                  "film_title": "Big Fish",
                  "rating": 8,
                  "rank": 11
                },
                {
                  "index": 100,
                  "film_title": "Annie Hall",
                  "rating": 8,
                  "rank": 11
                },
                {
                  "index": 101,
                  "film_title": "Children of Men",
                  "rating": 7.9,
                  "rank": 12
                },
                {
                  "index": 102,
                  "film_title": "Strangers on a Train",
                  "rating": 7.9,
                  "rank": 12
                },
                {
                  "index": 103,
                  "film_title": "Notorious",
                  "rating": 7.9,
                  "rank": 12
                },
                {
                  "index": 104,
                  "film_title": "Carlito's Way",
                  "rating": 7.9,
                  "rank": 12
                },
                {
                  "index": 105,
                  "film_title": "The Untouchables",
                  "rating": 7.9,
                  "rank": 12
                },
                {
                  "index": 106,
                  "film_title": "X-Men: Days of Future Past",
                  "rating": 7.9,
                  "rank": 12
                },
                {
                  "index": 107,
                  "film_title": "Letters from Iwo Jima",
                  "rating": 7.9,
                  "rank": 12
                },
                {
                  "index": 108,
                  "film_title": "Mystic River",
                  "rating": 7.9,
                  "rank": 12
                },
                {
                  "index": 109,
                  "film_title": "Arrival",
                  "rating": 7.9,
                  "rank": 12
                },
                {
                  "index": 110,
                  "film_title": "Amarcord",
                  "rating": 7.9,
                  "rank": 12
                },
                {
                  "index": 111,
                  "film_title": "I, Daniel Blake",
                  "rating": 7.9,
                  "rank": 12
                },
                {
                  "index": 112,
                  "film_title": "Trois couleurs: Bleu",
                  "rating": 7.9,
                  "rank": 12
                },
                {
                  "index": 113,
                  "film_title": "The Irishman",
                  "rating": 7.9,
                  "rank": 12
                },
                {
                  "index": 114,
                  "film_title": "Marriage Story",
                  "rating": 7.9,
                  "rank": 12
                },
                {
                  "index": 115,
                  "film_title": "Spartacus",
                  "rating": 7.9,
                  "rank": 12
                },
                {
                  "index": 116,
                  "film_title": "Hunt for the Wilderpeople",
                  "rating": 7.9,
                  "rank": 12
                },
                {
                  "index": 117,
                  "film_title": "Thor: Ragnarok",
                  "rating": 7.9,
                  "rank": 12
                },
                {
                  "index": 118,
                  "film_title": "Jojo Rabbit",
                  "rating": 7.9,
                  "rank": 12
                },
                {
                  "index": 119,
                  "film_title": "Edward Scissorhands",
                  "rating": 7.9,
                  "rank": 12
                },
                {
                  "index": 120,
                  "film_title": "Isle of Dogs",
                  "rating": 7.9,
                  "rank": 12
                },
                {
                  "index": 121,
                  "film_title": "Fantastic Mr. Fox",
                  "rating": 7.9,
                  "rank": 12
                },
                {
                  "index": 122,
                  "film_title": "Crimes and Misdemeanors",
                  "rating": 7.9,
                  "rank": 12
                },
                {
                  "index": 123,
                  "film_title": "Hannah and Her Sisters",
                  "rating": 7.9,
                  "rank": 12
                },
                {
                  "index": 124,
                  "film_title": "Manhattan",
                  "rating": 7.9,
                  "rank": 12
                },
                {
                  "index": 125,
                  "film_title": "Harry Potter and the Prisoner of Azkaban",
                  "rating": 7.9,
                  "rank": 12
                },
                {
                  "index": 126,
                  "film_title": "The Lady Vanishes",
                  "rating": 7.8,
                  "rank": 13
                },
                {
                  "index": 127,
                  "film_title": "Dunkirk",
                  "rating": 7.8,
                  "rank": 13
                },
                {
                  "index": 128,
                  "film_title": "The Outlaw Josey Wales",
                  "rating": 7.8,
                  "rank": 13
                },
                {
                  "index": 129,
                  "film_title": "The Girl with the Dragon Tattoo",
                  "rating": 7.8,
                  "rank": 13
                },
                {
                  "index": 130,
                  "film_title": "The Game",
                  "rating": 7.8,
                  "rank": 13
                },
                {
                  "index": 131,
                  "film_title": "Atonement",
                  "rating": 7.8,
                  "rank": 13
                },
                {
                  "index": 132,
                  "film_title": "Pride & Prejudice",
                  "rating": 7.8,
                  "rank": 13
                },
                {
                  "index": 133,
                  "film_title": "La double vie de Véronique",
                  "rating": 7.8,
                  "rank": 13
                },
                {
                  "index": 134,
                  "film_title": "Breaking the Waves",
                  "rating": 7.8,
                  "rank": 13
                },
                {
                  "index": 135,
                  "film_title": "The King of Comedy",
                  "rating": 7.8,
                  "rank": 13
                },
                {
                  "index": 136,
                  "film_title": "Naked",
                  "rating": 7.8,
                  "rank": 13
                },
                {
                  "index": 137,
                  "film_title": "The Hobbit: The Desolation of Smaug",
                  "rating": 7.8,
                  "rank": 13
                },
                {
                  "index": 138,
                  "film_title": "The Hobbit: An Unexpected Journey",
                  "rating": 7.8,
                  "rank": 13
                },
                {
                  "index": 139,
                  "film_title": "The Hateful Eight",
                  "rating": 7.8,
                  "rank": 13
                },
                {
                  "index": 140,
                  "film_title": "Guess Who's Coming to Dinner",
                  "rating": 7.8,
                  "rank": 13
                },
                {
                  "index": 141,
                  "film_title": "The Color Purple",
                  "rating": 7.8,
                  "rank": 13
                },
                {
                  "index": 142,
                  "film_title": "E.T. the Extra-Terrestrial",
                  "rating": 7.8,
                  "rank": 13
                },
                {
                  "index": 143,
                  "film_title": "Wait Until Dark",
                  "rating": 7.8,
                  "rank": 13
                },
                {
                  "index": 144,
                  "film_title": "Days of Heaven",
                  "rating": 7.8,
                  "rank": 13
                },
                {
                  "index": 145,
                  "film_title": "Badlands",
                  "rating": 7.8,
                  "rank": 13
                },
                {
                  "index": 146,
                  "film_title": "Ed Wood",
                  "rating": 7.8,
                  "rank": 13
                },
                {
                  "index": 147,
                  "film_title": "Moonrise Kingdom",
                  "rating": 7.8,
                  "rank": 13
                },
                {
                  "index": 148,
                  "film_title": "Shadow of a Doubt",
                  "rating": 7.8,
                  "rank": 13
                },
                {
                  "index": 149,
                  "film_title": "The Gentlemen",
                  "rating": 7.8,
                  "rank": 13
                },
                {
                  "index": 150,
                  "film_title": "The Curious Case of Benjamin Button",
                  "rating": 7.8,
                  "rank": 13
                },
                {
                  "index": 151,
                  "film_title": "The Ladykillers",
                  "rating": 7.7,
                  "rank": 14
                },
                {
                  "index": 152,
                  "film_title": "Nebraska",
                  "rating": 7.7,
                  "rank": 14
                },
                {
                  "index": 153,
                  "film_title": "Roma",
                  "rating": 7.7,
                  "rank": 14
                },
                {
                  "index": 154,
                  "film_title": "Gravity",
                  "rating": 7.7,
                  "rank": 14
                },
                {
                  "index": 155,
                  "film_title": "A Little Princess",
                  "rating": 7.7,
                  "rank": 14
                },
                {
                  "index": 156,
                  "film_title": "The Birds",
                  "rating": 7.7,
                  "rank": 14
                },
                {
                  "index": 157,
                  "film_title": "Changeling",
                  "rating": 7.7,
                  "rank": 14
                },
                {
                  "index": 158,
                  "film_title": "Zodiac",
                  "rating": 7.7,
                  "rank": 14
                },
                {
                  "index": 159,
                  "film_title": "Goldfinger",
                  "rating": 7.7,
                  "rank": 14
                },
                {
                  "index": 160,
                  "film_title": "After Hours",
                  "rating": 7.7,
                  "rank": 14
                },
                {
                  "index": 161,
                  "film_title": "Le locataire",
                  "rating": 7.7,
                  "rank": 14
                },
                {
                  "index": 162,
                  "film_title": "Lost in Translation",
                  "rating": 7.7,
                  "rank": 14
                },
                {
                  "index": 163,
                  "film_title": "Empire of the Sun",
                  "rating": 7.7,
                  "rank": 14
                },
                {
                  "index": 164,
                  "film_title": "Rushmore",
                  "rating": 7.7,
                  "rank": 14
                },
                {
                  "index": 165,
                  "film_title": "Midnight in Paris",
                  "rating": 7.7,
                  "rank": 14
                },
                {
                  "index": 166,
                  "film_title": "The Purple Rose of Cairo",
                  "rating": 7.7,
                  "rank": 14
                },
                {
                  "index": 167,
                  "film_title": "Zelig",
                  "rating": 7.7,
                  "rank": 14
                },
                {
                  "index": 168,
                  "film_title": "Love and Death",
                  "rating": 7.7,
                  "rank": 14
                },
                {
                  "index": 169,
                  "film_title": "The Lego Movie",
                  "rating": 7.7,
                  "rank": 14
                },
                {
                  "index": 170,
                  "film_title": "Repulsion",
                  "rating": 7.7,
                  "rank": 14
                },
                {
                  "index": 171,
                  "film_title": "The Social Network",
                  "rating": 7.7,
                  "rank": 14
                },
                {
                  "index": 172,
                  "film_title": "Y tu mamá también",
                  "rating": 7.6,
                  "rank": 15
                },
                {
                  "index": 173,
                  "film_title": "Lifeboat",
                  "rating": 7.6,
                  "rank": 15
                },
                {
                  "index": 174,
                  "film_title": "The 39 Steps",
                  "rating": 7.6,
                  "rank": 15
                },
                {
                  "index": 175,
                  "film_title": "A Star Is Born",
                  "rating": 7.6,
                  "rank": 15
                },
                {
                  "index": 176,
                  "film_title": "The Bridges of Madison County",
                  "rating": 7.6,
                  "rank": 15
                },
                {
                  "index": 177,
                  "film_title": "28 Days Later...",
                  "rating": 7.6,
                  "rank": 15
                },
                {
                  "index": 178,
                  "film_title": "Sicario",
                  "rating": 7.6,
                  "rank": 15
                },
                {
                  "index": 179,
                  "film_title": "Sherlock Holmes",
                  "rating": 7.6,
                  "rank": 15
                },
                {
                  "index": 180,
                  "film_title": "Trois couleurs: Blanc",
                  "rating": 7.6,
                  "rank": 15
                },
                {
                  "index": 181,
                  "film_title": "Once Upon a Time... in Hollywood",
                  "rating": 7.6,
                  "rank": 15
                },
                {
                  "index": 182,
                  "film_title": "Bridge of Spies",
                  "rating": 7.6,
                  "rank": 15
                },
                {
                  "index": 183,
                  "film_title": "Minority Report",
                  "rating": 7.6,
                  "rank": 15
                },
                {
                  "index": 184,
                  "film_title": "Close Encounters of the Third Kind",
                  "rating": 7.6,
                  "rank": 15
                },
                {
                  "index": 185,
                  "film_title": "The Thin Red Line",
                  "rating": 7.6,
                  "rank": 15
                },
                {
                  "index": 186,
                  "film_title": "The Royal Tenenbaums",
                  "rating": 7.6,
                  "rank": 15
                },
                {
                  "index": 187,
                  "film_title": "Match Point",
                  "rating": 7.6,
                  "rank": 15
                }
              ],
              "datalink": {
                "display_id": "5fd9a77c-b305-4b66-853b-d93766faa8af"
              }
            }
          },
          "metadata": {
            "application/vnd.dataresource+json": {
              "datalink": {
                "dataframe_info": {
                  "default_index_used": true,
                  "orig_size_bytes": 4640,
                  "orig_num_rows": 188,
                  "orig_num_cols": 3,
                  "truncated_size_bytes": 4640,
                  "truncated_num_rows": 188,
                  "truncated_num_cols": 3
                },
                "dx_settings": {
                  "NUM_PAST_SAMPLES_TRACKED": 3,
                  "ENABLE_DATALINK": true,
                  "DISPLAY_MODE": "simple",
                  "GENERATE_DEX_METADATA": false,
                  "STRINGIFY_INDEX_VALUES": false,
                  "ALLOW_NOTEABLE_ATTRS": true,
                  "DISPLAY_MAX_COLUMNS": 100,
                  "HTML_TABLE_SCHEMA": false,
                  "SAMPLING_FACTOR": 0.1,
                  "LOG_LEVEL": 30,
                  "ENABLE_ASSIGNMENT": false,
                  "FLATTEN_INDEX_VALUES": false,
                  "DEV_MODE": false,
                  "COLUMN_SAMPLING_METHOD": "outer",
                  "FLATTEN_COLUMN_VALUES": true,
                  "DISPLAY_MAX_ROWS": 50000,
                  "ROW_SAMPLING_METHOD": "random",
                  "RANDOM_STATE": 12648430,
                  "DB_LOCATION": ":memory:",
                  "STRINGIFY_COLUMN_VALUES": true,
                  "SAMPLING_METHOD": "random",
                  "MAX_RENDER_SIZE_BYTES": 104857600,
                  "RESET_INDEX_VALUES": false
                },
                "display_id": "5fd9a77c-b305-4b66-853b-d93766faa8af",
                "applied_filters": [],
                "sample_history": [],
                "sampling_time": "2023-02-08T17:02:50.917950",
                "variable_name": "sql_df_18"
              },
              "display_id": "5fd9a77c-b305-4b66-853b-d93766faa8af"
            }
          }
        }
      ],
      "execution_count": null,
      "metadata": {
        "noteable": {
          "assign_results_to": "sql_df_18",
          "cell_type": "sql",
          "db_connection": "@noteable"
        },
        "ExecuteTime": {
          "end_time": "2023-02-08T17:02:51.078396+00:00",
          "start_time": "2023-02-08T17:02:50.877492+00:00"
        },
        "dx": {
          "fieldMetadata": {},
          "simpleTable": true,
          "updated": 1675875659338,
          "views": []
        }
      },
      "id": "b0af480c-a15b-44dc-84a4-3927acd6971a"
    },
    {
      "cell_type": "markdown",
      "source": [
        "* Calculate the difference between the last and the first film of each director in the dataset. Order by descending difference."
      ],
      "metadata": {
        "noteable": {
          "cell_type": "markdown"
        }
      },
      "id": "df7ec618-1956-4cea-9002-8ee6e1b61874"
    },
    {
      "cell_type": "code",
      "source": [
        "%%sql @noteable\n",
        "with t1 (director, year, rank) as \n",
        "(select director, year, \n",
        "row_number() over (partition by director_id order by year) as rank\n",
        "from dataset left join directors using(director_id))\n",
        "select distinct director, (last_value(year) OVER (partition by director)) - (first_value(year) OVER (partition by director)) as difference\n",
        "from t1\n",
        "order by difference desc\n",
        ";"
      ],
      "outputs": [
        {
          "output_type": "display_data",
          "data": {
            "application/vnd.dataresource+json": {
              "schema": {
                "fields": [
                  {
                    "name": "index",
                    "type": "integer"
                  },
                  {
                    "name": "director",
                    "type": "string"
                  },
                  {
                    "name": "difference",
                    "type": "integer"
                  }
                ],
                "primaryKey": [
                  "index"
                ],
                "pandas_version": "1.4.0"
              },
              "data": [
                {
                  "index": 0,
                  "director": "Martin Scorsese",
                  "difference": 43
                },
                {
                  "index": 1,
                  "director": "Steven Spielberg",
                  "difference": 40
                },
                {
                  "index": 2,
                  "director": "Roman Polanski",
                  "difference": 37
                },
                {
                  "index": 3,
                  "director": "Woody Allen",
                  "difference": 36
                },
                {
                  "index": 4,
                  "director": "Akira Kurosawa",
                  "difference": 35
                },
                {
                  "index": 5,
                  "director": "Clint Eastwood",
                  "difference": 32
                },
                {
                  "index": 6,
                  "director": "Stanley Kubrick",
                  "difference": 31
                },
                {
                  "index": 7,
                  "director": "Quentin Tarantino",
                  "difference": 27
                },
                {
                  "index": 8,
                  "director": "Terrence Malick",
                  "difference": 25
                },
                {
                  "index": 9,
                  "director": "Alfonso Cuarón",
                  "difference": 23
                },
                {
                  "index": 10,
                  "director": "Alfred Hitchcock",
                  "difference": 23
                },
                {
                  "index": 11,
                  "director": "Guy Ritchie",
                  "difference": 21
                },
                {
                  "index": 12,
                  "director": "Wes Anderson",
                  "difference": 20
                },
                {
                  "index": 13,
                  "director": "David Fincher",
                  "difference": 19
                },
                {
                  "index": 14,
                  "director": "Federico Fellini",
                  "difference": 19
                },
                {
                  "index": 15,
                  "director": "Andrei Tarkovsky",
                  "difference": 17
                },
                {
                  "index": 16,
                  "director": "Christopher Nolan",
                  "difference": 17
                },
                {
                  "index": 17,
                  "director": "Orson Welles",
                  "difference": 17
                },
                {
                  "index": 18,
                  "director": "Tim Burton",
                  "difference": 13
                },
                {
                  "index": 19,
                  "director": "Danny Boyle",
                  "difference": 12
                },
                {
                  "index": 20,
                  "director": "Peter Jackson",
                  "difference": 12
                },
                {
                  "index": 21,
                  "director": "Brian De Palma",
                  "difference": 10
                },
                {
                  "index": 22,
                  "director": "Denis Villeneuve",
                  "difference": 7
                },
                {
                  "index": 23,
                  "director": "Lars von Trier",
                  "difference": 7
                },
                {
                  "index": 24,
                  "director": "Krzysztof Kieslowski",
                  "difference": 3
                },
                {
                  "index": 25,
                  "director": "Mike Leigh",
                  "difference": 3
                },
                {
                  "index": 26,
                  "director": "Taika Waititi",
                  "difference": 3
                },
                {
                  "index": 27,
                  "director": "Alexander Mackendrick",
                  "difference": 2
                },
                {
                  "index": 28,
                  "director": "Joe Wright",
                  "difference": 2
                },
                {
                  "index": 29,
                  "director": "Alexander Payne",
                  "difference": 0
                },
                {
                  "index": 30,
                  "director": "Bradley Cooper",
                  "difference": 0
                },
                {
                  "index": 31,
                  "director": "Christopher Miller",
                  "difference": 0
                },
                {
                  "index": 32,
                  "director": "Guy Hamilton",
                  "difference": 0
                },
                {
                  "index": 33,
                  "director": "Ken Loach",
                  "difference": 0
                },
                {
                  "index": 34,
                  "director": "Noah Baumbach",
                  "difference": 0
                },
                {
                  "index": 35,
                  "director": "Sofia Coppola",
                  "difference": 0
                },
                {
                  "index": 36,
                  "director": "Stanley Kramer",
                  "difference": 0
                },
                {
                  "index": 37,
                  "director": "Stuart Rosenberg",
                  "difference": 0
                },
                {
                  "index": 38,
                  "director": "Terence Young",
                  "difference": 0
                },
                {
                  "index": 39,
                  "director": "Bryan Singer",
                  "difference": -23
                },
                {
                  "index": 40,
                  "director": "Ingmar Bergman",
                  "difference": -25
                }
              ],
              "datalink": {
                "display_id": "8525c3e9-b9ad-4337-9e18-f0a258ee9c75"
              }
            }
          },
          "metadata": {
            "application/vnd.dataresource+json": {
              "datalink": {
                "dataframe_info": {
                  "default_index_used": true,
                  "orig_size_bytes": 784,
                  "orig_num_rows": 41,
                  "orig_num_cols": 2,
                  "truncated_size_bytes": 784,
                  "truncated_num_rows": 41,
                  "truncated_num_cols": 2
                },
                "dx_settings": {
                  "NUM_PAST_SAMPLES_TRACKED": 3,
                  "ENABLE_DATALINK": true,
                  "DISPLAY_MODE": "simple",
                  "GENERATE_DEX_METADATA": false,
                  "STRINGIFY_INDEX_VALUES": false,
                  "ALLOW_NOTEABLE_ATTRS": true,
                  "DISPLAY_MAX_COLUMNS": 100,
                  "HTML_TABLE_SCHEMA": false,
                  "SAMPLING_FACTOR": 0.1,
                  "LOG_LEVEL": 30,
                  "ENABLE_ASSIGNMENT": false,
                  "FLATTEN_INDEX_VALUES": false,
                  "DEV_MODE": false,
                  "COLUMN_SAMPLING_METHOD": "outer",
                  "FLATTEN_COLUMN_VALUES": true,
                  "DISPLAY_MAX_ROWS": 50000,
                  "ROW_SAMPLING_METHOD": "random",
                  "RANDOM_STATE": 12648430,
                  "DB_LOCATION": ":memory:",
                  "STRINGIFY_COLUMN_VALUES": true,
                  "SAMPLING_METHOD": "random",
                  "MAX_RENDER_SIZE_BYTES": 104857600,
                  "RESET_INDEX_VALUES": false
                },
                "display_id": "8525c3e9-b9ad-4337-9e18-f0a258ee9c75",
                "applied_filters": [],
                "sample_history": [],
                "sampling_time": "2023-02-08T20:24:43.854452",
                "variable_name": "sql_df_19"
              },
              "display_id": "8525c3e9-b9ad-4337-9e18-f0a258ee9c75"
            }
          }
        }
      ],
      "execution_count": null,
      "metadata": {
        "noteable": {
          "assign_results_to": "sql_df_19",
          "cell_type": "sql",
          "db_connection": "@noteable"
        },
        "ExecuteTime": {
          "end_time": "2023-02-08T20:24:44.010863+00:00",
          "start_time": "2023-02-08T20:24:43.815170+00:00"
        },
        "dx": {
          "fieldMetadata": {},
          "simpleTable": true,
          "simpleTableExpanded": true,
          "updated": 1675875917315,
          "views": []
        }
      },
      "id": "5ad35bd9-16b2-4fea-b44b-ebedafb00889"
    },
    {
      "cell_type": "markdown",
      "source": [
        "# UNION, INTERSECT, EXCEPT"
      ],
      "metadata": {
        "noteable": {
          "cell_type": "markdown"
        }
      },
      "id": "d2eacc70-ffee-4ffd-8b48-559f9f6b5cb9"
    },
    {
      "cell_type": "markdown",
      "source": [
        "* Select information about the films which were released in 2005 and in 2011"
      ],
      "metadata": {
        "noteable": {
          "cell_type": "markdown"
        }
      },
      "id": "d6e31449-48df-4970-b529-51ef4fa57d05"
    },
    {
      "cell_type": "code",
      "source": [
        "%%sql @noteable\n",
        "select * from dataset\n",
        "where year = 2011\n",
        "union all\n",
        "select * from dataset\n",
        "where year = 2005\n",
        ";"
      ],
      "outputs": [
        {
          "output_type": "display_data",
          "data": {
            "application/vnd.dataresource+json": {
              "schema": {
                "fields": [
                  {
                    "name": "index",
                    "type": "integer"
                  },
                  {
                    "name": "index",
                    "type": "integer"
                  },
                  {
                    "name": "film_id",
                    "type": "integer"
                  },
                  {
                    "name": "year",
                    "type": "integer"
                  },
                  {
                    "name": "runtime",
                    "type": "integer"
                  },
                  {
                    "name": "genre",
                    "type": "string"
                  },
                  {
                    "name": "rating",
                    "type": "number"
                  },
                  {
                    "name": "director_id",
                    "type": "integer"
                  }
                ],
                "primaryKey": [
                  "index"
                ],
                "pandas_version": "1.4.0"
              },
              "data": [
                {
                  "level_0": 0,
                  "index": 68,
                  "film_id": 73,
                  "year": 2011,
                  "runtime": 158,
                  "genre": "Crime, Drama, Mystery",
                  "rating": 7.8,
                  "director_id": 367
                },
                {
                  "level_0": 1,
                  "index": 183,
                  "film_id": 188,
                  "year": 2011,
                  "runtime": 96,
                  "genre": "Comedy, Fantasy, Romance",
                  "rating": 7.7,
                  "director_id": 394
                },
                {
                  "level_0": 2,
                  "index": 52,
                  "film_id": 57,
                  "year": 2005,
                  "runtime": 140,
                  "genre": "Action, Adventure",
                  "rating": 8.2,
                  "director_id": 364
                },
                {
                  "level_0": 3,
                  "index": 96,
                  "film_id": 101,
                  "year": 2005,
                  "runtime": 129,
                  "genre": "Drama, Romance",
                  "rating": 7.8,
                  "director_id": 373
                },
                {
                  "level_0": 4,
                  "index": 187,
                  "film_id": 192,
                  "year": 2005,
                  "runtime": 124,
                  "genre": "Drama, Romance, Thriller",
                  "rating": 7.6,
                  "director_id": 394
                }
              ],
              "datalink": {
                "display_id": "253945e1-8a0b-4fda-9d5f-4758dafb9dc5"
              }
            }
          },
          "metadata": {
            "application/vnd.dataresource+json": {
              "datalink": {
                "dataframe_info": {
                  "default_index_used": true,
                  "orig_size_bytes": 408,
                  "orig_num_rows": 5,
                  "orig_num_cols": 7,
                  "truncated_size_bytes": 408,
                  "truncated_num_rows": 5,
                  "truncated_num_cols": 7
                },
                "dx_settings": {
                  "NUM_PAST_SAMPLES_TRACKED": 3,
                  "ENABLE_DATALINK": true,
                  "DISPLAY_MODE": "simple",
                  "GENERATE_DEX_METADATA": false,
                  "STRINGIFY_INDEX_VALUES": false,
                  "ALLOW_NOTEABLE_ATTRS": true,
                  "DISPLAY_MAX_COLUMNS": 100,
                  "HTML_TABLE_SCHEMA": false,
                  "SAMPLING_FACTOR": 0.1,
                  "LOG_LEVEL": 30,
                  "ENABLE_ASSIGNMENT": false,
                  "FLATTEN_INDEX_VALUES": false,
                  "DEV_MODE": false,
                  "COLUMN_SAMPLING_METHOD": "outer",
                  "FLATTEN_COLUMN_VALUES": true,
                  "DISPLAY_MAX_ROWS": 50000,
                  "ROW_SAMPLING_METHOD": "random",
                  "RANDOM_STATE": 12648430,
                  "DB_LOCATION": ":memory:",
                  "STRINGIFY_COLUMN_VALUES": true,
                  "SAMPLING_METHOD": "random",
                  "MAX_RENDER_SIZE_BYTES": 104857600,
                  "RESET_INDEX_VALUES": false
                },
                "display_id": "253945e1-8a0b-4fda-9d5f-4758dafb9dc5",
                "applied_filters": [],
                "sample_history": [],
                "sampling_time": "2023-02-08T18:15:06.522574",
                "variable_name": "sql_df_20"
              },
              "display_id": "253945e1-8a0b-4fda-9d5f-4758dafb9dc5"
            }
          }
        }
      ],
      "execution_count": null,
      "metadata": {
        "noteable": {
          "assign_results_to": "sql_df_20",
          "cell_type": "sql",
          "db_connection": "@noteable"
        },
        "ExecuteTime": {
          "end_time": "2023-02-08T18:15:06.679432+00:00",
          "start_time": "2023-02-08T18:15:06.477672+00:00"
        },
        "dx": {
          "fieldMetadata": {},
          "simpleTable": true,
          "simpleTableExpanded": true,
          "updated": 1675878219493,
          "views": []
        }
      },
      "id": "aba8ae6a-478f-467d-9d87-4ac202bff8f0"
    },
    {
      "cell_type": "markdown",
      "source": [
        "* Select information about the films which were released after 2011 and after 2008 (without duplicates)"
      ],
      "metadata": {
        "noteable": {
          "cell_type": "markdown"
        }
      },
      "id": "70e5530c-066f-42a7-b77a-13e14248ebd3"
    },
    {
      "cell_type": "code",
      "source": [
        "%%sql @noteable\n",
        "select * from dataset\n",
        "where year > 2011\n",
        "union\n",
        "select * from dataset\n",
        "where year > 2008\n",
        "order by film_id;"
      ],
      "outputs": [
        {
          "output_type": "display_data",
          "data": {
            "application/vnd.dataresource+json": {
              "schema": {
                "fields": [
                  {
                    "name": "index",
                    "type": "integer"
                  },
                  {
                    "name": "index",
                    "type": "integer"
                  },
                  {
                    "name": "film_id",
                    "type": "integer"
                  },
                  {
                    "name": "year",
                    "type": "integer"
                  },
                  {
                    "name": "runtime",
                    "type": "integer"
                  },
                  {
                    "name": "genre",
                    "type": "string"
                  },
                  {
                    "name": "rating",
                    "type": "number"
                  },
                  {
                    "name": "director_id",
                    "type": "integer"
                  }
                ],
                "primaryKey": [
                  "index"
                ],
                "pandas_version": "1.4.0"
              },
              "data": [
                {
                  "level_0": 0,
                  "index": 12,
                  "film_id": 13,
                  "year": 2013,
                  "runtime": 115,
                  "genre": "Adventure, Comedy, Drama",
                  "rating": 7.7,
                  "director_id": 356
                },
                {
                  "level_0": 1,
                  "index": 15,
                  "film_id": 16,
                  "year": 2018,
                  "runtime": 135,
                  "genre": "Drama",
                  "rating": 7.7,
                  "director_id": 357
                },
                {
                  "level_0": 2,
                  "index": 16,
                  "film_id": 17,
                  "year": 2013,
                  "runtime": 91,
                  "genre": "Drama, Sci-Fi, Thriller",
                  "rating": 7.7,
                  "director_id": 357
                },
                {
                  "level_0": 3,
                  "index": 38,
                  "film_id": 43,
                  "year": 2018,
                  "runtime": 136,
                  "genre": "Drama, Music, Romance",
                  "rating": 7.6,
                  "director_id": 360
                },
                {
                  "level_0": 4,
                  "index": 43,
                  "film_id": 48,
                  "year": 2018,
                  "runtime": 134,
                  "genre": "Biography, Drama, Music",
                  "rating": 8,
                  "director_id": 362
                },
                {
                  "level_0": 5,
                  "index": 44,
                  "film_id": 49,
                  "year": 2014,
                  "runtime": 132,
                  "genre": "Action, Adventure, Sci-Fi",
                  "rating": 7.9,
                  "director_id": 362
                },
                {
                  "level_0": 6,
                  "index": 45,
                  "film_id": 50,
                  "year": 2014,
                  "runtime": 100,
                  "genre": "Animation, Action, Adventure",
                  "rating": 7.7,
                  "director_id": 363
                },
                {
                  "level_0": 7,
                  "index": 47,
                  "film_id": 52,
                  "year": 2010,
                  "runtime": 148,
                  "genre": "Action, Adventure, Sci-Fi",
                  "rating": 8.8,
                  "director_id": 364
                },
                {
                  "level_0": 8,
                  "index": 48,
                  "film_id": 53,
                  "year": 2014,
                  "runtime": 169,
                  "genre": "Adventure, Drama, Sci-Fi",
                  "rating": 8.6,
                  "director_id": 364
                },
                {
                  "level_0": 9,
                  "index": 50,
                  "film_id": 55,
                  "year": 2012,
                  "runtime": 164,
                  "genre": "Action, Adventure",
                  "rating": 8.4,
                  "director_id": 364
                },
                {
                  "level_0": 10,
                  "index": 53,
                  "film_id": 58,
                  "year": 2017,
                  "runtime": 106,
                  "genre": "Action, Drama, History",
                  "rating": 7.8,
                  "director_id": 364
                },
                {
                  "level_0": 11,
                  "index": 67,
                  "film_id": 72,
                  "year": 2014,
                  "runtime": 149,
                  "genre": "Drama, Mystery, Thriller",
                  "rating": 8.1,
                  "director_id": 367
                },
                {
                  "level_0": 12,
                  "index": 68,
                  "film_id": 73,
                  "year": 2011,
                  "runtime": 158,
                  "genre": "Crime, Drama, Mystery",
                  "rating": 7.8,
                  "director_id": 367
                },
                {
                  "level_0": 13,
                  "index": 71,
                  "film_id": 76,
                  "year": 2010,
                  "runtime": 120,
                  "genre": "Biography, Drama",
                  "rating": 7.7,
                  "director_id": 367
                },
                {
                  "level_0": 14,
                  "index": 73,
                  "film_id": 78,
                  "year": 2010,
                  "runtime": 131,
                  "genre": "Drama, Mystery, War",
                  "rating": 8.3,
                  "director_id": 368
                },
                {
                  "level_0": 15,
                  "index": 74,
                  "film_id": 79,
                  "year": 2013,
                  "runtime": 153,
                  "genre": "Crime, Drama, Mystery",
                  "rating": 8.1,
                  "director_id": 368
                },
                {
                  "level_0": 16,
                  "index": 75,
                  "film_id": 80,
                  "year": 2017,
                  "runtime": 164,
                  "genre": "Action, Drama, Mystery",
                  "rating": 8,
                  "director_id": 368
                },
                {
                  "level_0": 17,
                  "index": 76,
                  "film_id": 81,
                  "year": 2016,
                  "runtime": 116,
                  "genre": "Drama, Sci-Fi",
                  "rating": 7.9,
                  "director_id": 368
                },
                {
                  "level_0": 18,
                  "index": 77,
                  "film_id": 82,
                  "year": 2015,
                  "runtime": 121,
                  "genre": "Action, Crime, Drama",
                  "rating": 7.6,
                  "director_id": 368
                },
                {
                  "level_0": 19,
                  "index": 86,
                  "film_id": 91,
                  "year": 2019,
                  "runtime": 113,
                  "genre": "Action, Comedy, Crime",
                  "rating": 7.8,
                  "director_id": 371
                },
                {
                  "level_0": 20,
                  "index": 87,
                  "film_id": 92,
                  "year": 2009,
                  "runtime": 128,
                  "genre": "Action, Adventure, Mystery",
                  "rating": 7.6,
                  "director_id": 371
                },
                {
                  "level_0": 21,
                  "index": 97,
                  "film_id": 102,
                  "year": 2016,
                  "runtime": 100,
                  "genre": "Drama",
                  "rating": 7.9,
                  "director_id": 374
                },
                {
                  "level_0": 22,
                  "index": 108,
                  "film_id": 113,
                  "year": 2010,
                  "runtime": 138,
                  "genre": "Mystery, Thriller",
                  "rating": 8.2,
                  "director_id": 377
                },
                {
                  "level_0": 23,
                  "index": 109,
                  "film_id": 114,
                  "year": 2013,
                  "runtime": 180,
                  "genre": "Biography, Crime, Drama",
                  "rating": 8.2,
                  "director_id": 377
                },
                {
                  "level_0": 24,
                  "index": 112,
                  "film_id": 117,
                  "year": 2019,
                  "runtime": 209,
                  "genre": "Biography, Crime, Drama",
                  "rating": 7.9,
                  "director_id": 377
                },
                {
                  "level_0": 25,
                  "index": 117,
                  "film_id": 122,
                  "year": 2019,
                  "runtime": 137,
                  "genre": "Comedy, Drama, Romance",
                  "rating": 7.9,
                  "director_id": 379
                },
                {
                  "level_0": 26,
                  "index": 123,
                  "film_id": 128,
                  "year": 2013,
                  "runtime": 161,
                  "genre": "Adventure, Fantasy",
                  "rating": 7.8,
                  "director_id": 381
                },
                {
                  "level_0": 27,
                  "index": 124,
                  "film_id": 129,
                  "year": 2012,
                  "runtime": 169,
                  "genre": "Adventure, Fantasy",
                  "rating": 7.8,
                  "director_id": 381
                },
                {
                  "level_0": 28,
                  "index": 126,
                  "film_id": 131,
                  "year": 2012,
                  "runtime": 165,
                  "genre": "Drama, Western",
                  "rating": 8.4,
                  "director_id": 382
                },
                {
                  "level_0": 29,
                  "index": 127,
                  "film_id": 132,
                  "year": 2009,
                  "runtime": 153,
                  "genre": "Adventure, Drama, War",
                  "rating": 8.3,
                  "director_id": 382
                },
                {
                  "level_0": 30,
                  "index": 131,
                  "film_id": 136,
                  "year": 2015,
                  "runtime": 168,
                  "genre": "Crime, Drama, Mystery",
                  "rating": 7.8,
                  "director_id": 382
                },
                {
                  "level_0": 31,
                  "index": 132,
                  "film_id": 137,
                  "year": 2019,
                  "runtime": 161,
                  "genre": "Comedy, Drama",
                  "rating": 7.6,
                  "director_id": 382
                },
                {
                  "level_0": 32,
                  "index": 159,
                  "film_id": 164,
                  "year": 2015,
                  "runtime": 142,
                  "genre": "Drama, History, Thriller",
                  "rating": 7.6,
                  "director_id": 387
                },
                {
                  "level_0": 33,
                  "index": 163,
                  "film_id": 168,
                  "year": 2016,
                  "runtime": 101,
                  "genre": "Adventure, Comedy, Drama",
                  "rating": 7.9,
                  "director_id": 389
                },
                {
                  "level_0": 34,
                  "index": 164,
                  "film_id": 169,
                  "year": 2017,
                  "runtime": 130,
                  "genre": "Action, Adventure, Comedy",
                  "rating": 7.9,
                  "director_id": 389
                },
                {
                  "level_0": 35,
                  "index": 165,
                  "film_id": 170,
                  "year": 2019,
                  "runtime": 108,
                  "genre": "Comedy, Drama, War",
                  "rating": 7.9,
                  "director_id": 389
                },
                {
                  "level_0": 36,
                  "index": 173,
                  "film_id": 178,
                  "year": 2014,
                  "runtime": 99,
                  "genre": "Adventure, Comedy, Crime",
                  "rating": 8.1,
                  "director_id": 393
                },
                {
                  "level_0": 37,
                  "index": 174,
                  "film_id": 179,
                  "year": 2018,
                  "runtime": 101,
                  "genre": "Animation, Adventure, Comedy",
                  "rating": 7.9,
                  "director_id": 393
                },
                {
                  "level_0": 38,
                  "index": 175,
                  "film_id": 180,
                  "year": 2009,
                  "runtime": 87,
                  "genre": "Animation, Adventure, Comedy",
                  "rating": 7.9,
                  "director_id": 393
                },
                {
                  "level_0": 39,
                  "index": 176,
                  "film_id": 181,
                  "year": 2012,
                  "runtime": 94,
                  "genre": "Comedy, Drama, Romance",
                  "rating": 7.8,
                  "director_id": 393
                },
                {
                  "level_0": 40,
                  "index": 183,
                  "film_id": 188,
                  "year": 2011,
                  "runtime": 96,
                  "genre": "Comedy, Fantasy, Romance",
                  "rating": 7.7,
                  "director_id": 394
                }
              ],
              "datalink": {
                "display_id": "98541e7d-3869-4629-9479-b5005e8d8287"
              }
            }
          },
          "metadata": {
            "application/vnd.dataresource+json": {
              "datalink": {
                "dataframe_info": {
                  "default_index_used": true,
                  "orig_size_bytes": 2424,
                  "orig_num_rows": 41,
                  "orig_num_cols": 7,
                  "truncated_size_bytes": 2424,
                  "truncated_num_rows": 41,
                  "truncated_num_cols": 7
                },
                "dx_settings": {
                  "NUM_PAST_SAMPLES_TRACKED": 3,
                  "ENABLE_DATALINK": true,
                  "DISPLAY_MODE": "simple",
                  "GENERATE_DEX_METADATA": false,
                  "STRINGIFY_INDEX_VALUES": false,
                  "ALLOW_NOTEABLE_ATTRS": true,
                  "DISPLAY_MAX_COLUMNS": 100,
                  "HTML_TABLE_SCHEMA": false,
                  "SAMPLING_FACTOR": 0.1,
                  "LOG_LEVEL": 30,
                  "ENABLE_ASSIGNMENT": false,
                  "FLATTEN_INDEX_VALUES": false,
                  "DEV_MODE": false,
                  "COLUMN_SAMPLING_METHOD": "outer",
                  "FLATTEN_COLUMN_VALUES": true,
                  "DISPLAY_MAX_ROWS": 50000,
                  "ROW_SAMPLING_METHOD": "random",
                  "RANDOM_STATE": 12648430,
                  "DB_LOCATION": ":memory:",
                  "STRINGIFY_COLUMN_VALUES": true,
                  "SAMPLING_METHOD": "random",
                  "MAX_RENDER_SIZE_BYTES": 104857600,
                  "RESET_INDEX_VALUES": false
                },
                "display_id": "98541e7d-3869-4629-9479-b5005e8d8287",
                "applied_filters": [],
                "sample_history": [],
                "sampling_time": "2023-02-08T18:20:13.390010",
                "variable_name": "sql_df_21"
              },
              "display_id": "98541e7d-3869-4629-9479-b5005e8d8287"
            }
          }
        }
      ],
      "execution_count": null,
      "metadata": {
        "noteable": {
          "assign_results_to": "sql_df_21",
          "cell_type": "sql",
          "db_connection": "@noteable"
        },
        "ExecuteTime": {
          "end_time": "2023-02-08T18:20:13.549995+00:00",
          "start_time": "2023-02-08T18:20:13.352561+00:00"
        },
        "dx": {
          "fieldMetadata": {},
          "simpleTable": true,
          "updated": 1675880228488,
          "views": []
        }
      },
      "id": "7a5aa4c6-dd32-462d-883d-d80ca1530d2e"
    },
    {
      "cell_type": "markdown",
      "source": [
        "* Select information about the films which were released before 2011 but after 2008"
      ],
      "metadata": {
        "noteable": {
          "cell_type": "markdown"
        }
      },
      "id": "32641c77-5750-4bd1-a5bf-05c50e372051"
    },
    {
      "cell_type": "code",
      "source": [
        "%%sql @noteable\n",
        "select * from dataset\n",
        "where year < 2011\n",
        "intersect\n",
        "select * from dataset\n",
        "where year > 2008\n"
      ],
      "outputs": [
        {
          "output_type": "display_data",
          "data": {
            "application/vnd.dataresource+json": {
              "schema": {
                "fields": [
                  {
                    "name": "index",
                    "type": "integer"
                  },
                  {
                    "name": "index",
                    "type": "integer"
                  },
                  {
                    "name": "film_id",
                    "type": "integer"
                  },
                  {
                    "name": "year",
                    "type": "integer"
                  },
                  {
                    "name": "runtime",
                    "type": "integer"
                  },
                  {
                    "name": "genre",
                    "type": "string"
                  },
                  {
                    "name": "rating",
                    "type": "number"
                  },
                  {
                    "name": "director_id",
                    "type": "integer"
                  }
                ],
                "primaryKey": [
                  "index"
                ],
                "pandas_version": "1.4.0"
              },
              "data": [
                {
                  "level_0": 0,
                  "index": 47,
                  "film_id": 52,
                  "year": 2010,
                  "runtime": 148,
                  "genre": "Action, Adventure, Sci-Fi",
                  "rating": 8.8,
                  "director_id": 364
                },
                {
                  "level_0": 1,
                  "index": 71,
                  "film_id": 76,
                  "year": 2010,
                  "runtime": 120,
                  "genre": "Biography, Drama",
                  "rating": 7.7,
                  "director_id": 367
                },
                {
                  "level_0": 2,
                  "index": 73,
                  "film_id": 78,
                  "year": 2010,
                  "runtime": 131,
                  "genre": "Drama, Mystery, War",
                  "rating": 8.3,
                  "director_id": 368
                },
                {
                  "level_0": 3,
                  "index": 87,
                  "film_id": 92,
                  "year": 2009,
                  "runtime": 128,
                  "genre": "Action, Adventure, Mystery",
                  "rating": 7.6,
                  "director_id": 371
                },
                {
                  "level_0": 4,
                  "index": 108,
                  "film_id": 113,
                  "year": 2010,
                  "runtime": 138,
                  "genre": "Mystery, Thriller",
                  "rating": 8.2,
                  "director_id": 377
                },
                {
                  "level_0": 5,
                  "index": 127,
                  "film_id": 132,
                  "year": 2009,
                  "runtime": 153,
                  "genre": "Adventure, Drama, War",
                  "rating": 8.3,
                  "director_id": 382
                },
                {
                  "level_0": 6,
                  "index": 175,
                  "film_id": 180,
                  "year": 2009,
                  "runtime": 87,
                  "genre": "Animation, Adventure, Comedy",
                  "rating": 7.9,
                  "director_id": 393
                }
              ],
              "datalink": {
                "display_id": "4dcc053a-01c9-43e2-891d-ece098d0820d"
              }
            }
          },
          "metadata": {
            "application/vnd.dataresource+json": {
              "datalink": {
                "dataframe_info": {
                  "default_index_used": true,
                  "orig_size_bytes": 520,
                  "orig_num_rows": 7,
                  "orig_num_cols": 7,
                  "truncated_size_bytes": 520,
                  "truncated_num_rows": 7,
                  "truncated_num_cols": 7
                },
                "dx_settings": {
                  "NUM_PAST_SAMPLES_TRACKED": 3,
                  "ENABLE_DATALINK": true,
                  "DISPLAY_MODE": "simple",
                  "GENERATE_DEX_METADATA": false,
                  "STRINGIFY_INDEX_VALUES": false,
                  "ALLOW_NOTEABLE_ATTRS": true,
                  "DISPLAY_MAX_COLUMNS": 100,
                  "HTML_TABLE_SCHEMA": false,
                  "SAMPLING_FACTOR": 0.1,
                  "LOG_LEVEL": 30,
                  "ENABLE_ASSIGNMENT": false,
                  "FLATTEN_INDEX_VALUES": false,
                  "DEV_MODE": false,
                  "COLUMN_SAMPLING_METHOD": "outer",
                  "FLATTEN_COLUMN_VALUES": true,
                  "DISPLAY_MAX_ROWS": 50000,
                  "ROW_SAMPLING_METHOD": "random",
                  "RANDOM_STATE": 12648430,
                  "DB_LOCATION": ":memory:",
                  "STRINGIFY_COLUMN_VALUES": true,
                  "SAMPLING_METHOD": "random",
                  "MAX_RENDER_SIZE_BYTES": 104857600,
                  "RESET_INDEX_VALUES": false
                },
                "display_id": "4dcc053a-01c9-43e2-891d-ece098d0820d",
                "applied_filters": [],
                "sample_history": [],
                "sampling_time": "2023-02-08T18:20:40.405105",
                "variable_name": "sql_df_22"
              },
              "display_id": "4dcc053a-01c9-43e2-891d-ece098d0820d"
            }
          }
        }
      ],
      "execution_count": null,
      "metadata": {
        "noteable": {
          "assign_results_to": "sql_df_22",
          "cell_type": "sql",
          "db_connection": "@noteable"
        },
        "ExecuteTime": {
          "end_time": "2023-02-08T18:20:40.564457+00:00",
          "start_time": "2023-02-08T18:20:40.366241+00:00"
        },
        "dx": {
          "fieldMetadata": {},
          "simpleTable": true,
          "updated": 1675880356671,
          "views": []
        }
      },
      "id": "5620057e-aeeb-4fac-9479-4085c38014de"
    },
    {
      "cell_type": "markdown",
      "source": [
        "* Select information about the films which were released after 2006 except films released in 2008"
      ],
      "metadata": {
        "noteable": {
          "cell_type": "markdown"
        }
      },
      "id": "a9de33b5-a4f1-4717-8a06-10038d390075"
    },
    {
      "cell_type": "code",
      "source": [
        "%%sql @noteable\n",
        "select * from dataset\n",
        "where year > 2006\n",
        "except\n",
        "select * from dataset\n",
        "where year = 2008\n",
        "order by year;"
      ],
      "outputs": [
        {
          "output_type": "display_data",
          "data": {
            "application/vnd.dataresource+json": {
              "schema": {
                "fields": [
                  {
                    "name": "index",
                    "type": "integer"
                  },
                  {
                    "name": "index",
                    "type": "integer"
                  },
                  {
                    "name": "film_id",
                    "type": "integer"
                  },
                  {
                    "name": "year",
                    "type": "integer"
                  },
                  {
                    "name": "runtime",
                    "type": "integer"
                  },
                  {
                    "name": "genre",
                    "type": "string"
                  },
                  {
                    "name": "rating",
                    "type": "number"
                  },
                  {
                    "name": "director_id",
                    "type": "integer"
                  }
                ],
                "primaryKey": [
                  "index"
                ],
                "pandas_version": "1.4.0"
              },
              "data": [
                {
                  "level_0": 0,
                  "index": 72,
                  "film_id": 77,
                  "year": 2007,
                  "runtime": 157,
                  "genre": "Crime, Drama, Mystery",
                  "rating": 7.7,
                  "director_id": 367
                },
                {
                  "level_0": 1,
                  "index": 95,
                  "film_id": 100,
                  "year": 2007,
                  "runtime": 123,
                  "genre": "Drama, Mystery, Romance",
                  "rating": 7.8,
                  "director_id": 373
                },
                {
                  "level_0": 2,
                  "index": 87,
                  "film_id": 92,
                  "year": 2009,
                  "runtime": 128,
                  "genre": "Action, Adventure, Mystery",
                  "rating": 7.6,
                  "director_id": 371
                },
                {
                  "level_0": 3,
                  "index": 127,
                  "film_id": 132,
                  "year": 2009,
                  "runtime": 153,
                  "genre": "Adventure, Drama, War",
                  "rating": 8.3,
                  "director_id": 382
                },
                {
                  "level_0": 4,
                  "index": 175,
                  "film_id": 180,
                  "year": 2009,
                  "runtime": 87,
                  "genre": "Animation, Adventure, Comedy",
                  "rating": 7.9,
                  "director_id": 393
                },
                {
                  "level_0": 5,
                  "index": 47,
                  "film_id": 52,
                  "year": 2010,
                  "runtime": 148,
                  "genre": "Action, Adventure, Sci-Fi",
                  "rating": 8.8,
                  "director_id": 364
                },
                {
                  "level_0": 6,
                  "index": 71,
                  "film_id": 76,
                  "year": 2010,
                  "runtime": 120,
                  "genre": "Biography, Drama",
                  "rating": 7.7,
                  "director_id": 367
                },
                {
                  "level_0": 7,
                  "index": 73,
                  "film_id": 78,
                  "year": 2010,
                  "runtime": 131,
                  "genre": "Drama, Mystery, War",
                  "rating": 8.3,
                  "director_id": 368
                },
                {
                  "level_0": 8,
                  "index": 108,
                  "film_id": 113,
                  "year": 2010,
                  "runtime": 138,
                  "genre": "Mystery, Thriller",
                  "rating": 8.2,
                  "director_id": 377
                },
                {
                  "level_0": 9,
                  "index": 68,
                  "film_id": 73,
                  "year": 2011,
                  "runtime": 158,
                  "genre": "Crime, Drama, Mystery",
                  "rating": 7.8,
                  "director_id": 367
                },
                {
                  "level_0": 10,
                  "index": 183,
                  "film_id": 188,
                  "year": 2011,
                  "runtime": 96,
                  "genre": "Comedy, Fantasy, Romance",
                  "rating": 7.7,
                  "director_id": 394
                },
                {
                  "level_0": 11,
                  "index": 50,
                  "film_id": 55,
                  "year": 2012,
                  "runtime": 164,
                  "genre": "Action, Adventure",
                  "rating": 8.4,
                  "director_id": 364
                },
                {
                  "level_0": 12,
                  "index": 124,
                  "film_id": 129,
                  "year": 2012,
                  "runtime": 169,
                  "genre": "Adventure, Fantasy",
                  "rating": 7.8,
                  "director_id": 381
                },
                {
                  "level_0": 13,
                  "index": 126,
                  "film_id": 131,
                  "year": 2012,
                  "runtime": 165,
                  "genre": "Drama, Western",
                  "rating": 8.4,
                  "director_id": 382
                },
                {
                  "level_0": 14,
                  "index": 176,
                  "film_id": 181,
                  "year": 2012,
                  "runtime": 94,
                  "genre": "Comedy, Drama, Romance",
                  "rating": 7.8,
                  "director_id": 393
                },
                {
                  "level_0": 15,
                  "index": 12,
                  "film_id": 13,
                  "year": 2013,
                  "runtime": 115,
                  "genre": "Adventure, Comedy, Drama",
                  "rating": 7.7,
                  "director_id": 356
                },
                {
                  "level_0": 16,
                  "index": 16,
                  "film_id": 17,
                  "year": 2013,
                  "runtime": 91,
                  "genre": "Drama, Sci-Fi, Thriller",
                  "rating": 7.7,
                  "director_id": 357
                },
                {
                  "level_0": 17,
                  "index": 74,
                  "film_id": 79,
                  "year": 2013,
                  "runtime": 153,
                  "genre": "Crime, Drama, Mystery",
                  "rating": 8.1,
                  "director_id": 368
                },
                {
                  "level_0": 18,
                  "index": 109,
                  "film_id": 114,
                  "year": 2013,
                  "runtime": 180,
                  "genre": "Biography, Crime, Drama",
                  "rating": 8.2,
                  "director_id": 377
                },
                {
                  "level_0": 19,
                  "index": 123,
                  "film_id": 128,
                  "year": 2013,
                  "runtime": 161,
                  "genre": "Adventure, Fantasy",
                  "rating": 7.8,
                  "director_id": 381
                },
                {
                  "level_0": 20,
                  "index": 44,
                  "film_id": 49,
                  "year": 2014,
                  "runtime": 132,
                  "genre": "Action, Adventure, Sci-Fi",
                  "rating": 7.9,
                  "director_id": 362
                },
                {
                  "level_0": 21,
                  "index": 45,
                  "film_id": 50,
                  "year": 2014,
                  "runtime": 100,
                  "genre": "Animation, Action, Adventure",
                  "rating": 7.7,
                  "director_id": 363
                },
                {
                  "level_0": 22,
                  "index": 48,
                  "film_id": 53,
                  "year": 2014,
                  "runtime": 169,
                  "genre": "Adventure, Drama, Sci-Fi",
                  "rating": 8.6,
                  "director_id": 364
                },
                {
                  "level_0": 23,
                  "index": 67,
                  "film_id": 72,
                  "year": 2014,
                  "runtime": 149,
                  "genre": "Drama, Mystery, Thriller",
                  "rating": 8.1,
                  "director_id": 367
                },
                {
                  "level_0": 24,
                  "index": 173,
                  "film_id": 178,
                  "year": 2014,
                  "runtime": 99,
                  "genre": "Adventure, Comedy, Crime",
                  "rating": 8.1,
                  "director_id": 393
                },
                {
                  "level_0": 25,
                  "index": 77,
                  "film_id": 82,
                  "year": 2015,
                  "runtime": 121,
                  "genre": "Action, Crime, Drama",
                  "rating": 7.6,
                  "director_id": 368
                },
                {
                  "level_0": 26,
                  "index": 131,
                  "film_id": 136,
                  "year": 2015,
                  "runtime": 168,
                  "genre": "Crime, Drama, Mystery",
                  "rating": 7.8,
                  "director_id": 382
                },
                {
                  "level_0": 27,
                  "index": 159,
                  "film_id": 164,
                  "year": 2015,
                  "runtime": 142,
                  "genre": "Drama, History, Thriller",
                  "rating": 7.6,
                  "director_id": 387
                },
                {
                  "level_0": 28,
                  "index": 76,
                  "film_id": 81,
                  "year": 2016,
                  "runtime": 116,
                  "genre": "Drama, Sci-Fi",
                  "rating": 7.9,
                  "director_id": 368
                },
                {
                  "level_0": 29,
                  "index": 97,
                  "film_id": 102,
                  "year": 2016,
                  "runtime": 100,
                  "genre": "Drama",
                  "rating": 7.9,
                  "director_id": 374
                },
                {
                  "level_0": 30,
                  "index": 163,
                  "film_id": 168,
                  "year": 2016,
                  "runtime": 101,
                  "genre": "Adventure, Comedy, Drama",
                  "rating": 7.9,
                  "director_id": 389
                },
                {
                  "level_0": 31,
                  "index": 53,
                  "film_id": 58,
                  "year": 2017,
                  "runtime": 106,
                  "genre": "Action, Drama, History",
                  "rating": 7.8,
                  "director_id": 364
                },
                {
                  "level_0": 32,
                  "index": 75,
                  "film_id": 80,
                  "year": 2017,
                  "runtime": 164,
                  "genre": "Action, Drama, Mystery",
                  "rating": 8,
                  "director_id": 368
                },
                {
                  "level_0": 33,
                  "index": 164,
                  "film_id": 169,
                  "year": 2017,
                  "runtime": 130,
                  "genre": "Action, Adventure, Comedy",
                  "rating": 7.9,
                  "director_id": 389
                },
                {
                  "level_0": 34,
                  "index": 15,
                  "film_id": 16,
                  "year": 2018,
                  "runtime": 135,
                  "genre": "Drama",
                  "rating": 7.7,
                  "director_id": 357
                },
                {
                  "level_0": 35,
                  "index": 38,
                  "film_id": 43,
                  "year": 2018,
                  "runtime": 136,
                  "genre": "Drama, Music, Romance",
                  "rating": 7.6,
                  "director_id": 360
                },
                {
                  "level_0": 36,
                  "index": 43,
                  "film_id": 48,
                  "year": 2018,
                  "runtime": 134,
                  "genre": "Biography, Drama, Music",
                  "rating": 8,
                  "director_id": 362
                },
                {
                  "level_0": 37,
                  "index": 174,
                  "film_id": 179,
                  "year": 2018,
                  "runtime": 101,
                  "genre": "Animation, Adventure, Comedy",
                  "rating": 7.9,
                  "director_id": 393
                },
                {
                  "level_0": 38,
                  "index": 86,
                  "film_id": 91,
                  "year": 2019,
                  "runtime": 113,
                  "genre": "Action, Comedy, Crime",
                  "rating": 7.8,
                  "director_id": 371
                },
                {
                  "level_0": 39,
                  "index": 112,
                  "film_id": 117,
                  "year": 2019,
                  "runtime": 209,
                  "genre": "Biography, Crime, Drama",
                  "rating": 7.9,
                  "director_id": 377
                },
                {
                  "level_0": 40,
                  "index": 117,
                  "film_id": 122,
                  "year": 2019,
                  "runtime": 137,
                  "genre": "Comedy, Drama, Romance",
                  "rating": 7.9,
                  "director_id": 379
                },
                {
                  "level_0": 41,
                  "index": 132,
                  "film_id": 137,
                  "year": 2019,
                  "runtime": 161,
                  "genre": "Comedy, Drama",
                  "rating": 7.6,
                  "director_id": 382
                },
                {
                  "level_0": 42,
                  "index": 165,
                  "film_id": 170,
                  "year": 2019,
                  "runtime": 108,
                  "genre": "Comedy, Drama, War",
                  "rating": 7.9,
                  "director_id": 389
                }
              ],
              "datalink": {
                "display_id": "1a13b9ae-9258-47bf-8256-7c574cd182ca"
              }
            }
          },
          "metadata": {
            "application/vnd.dataresource+json": {
              "datalink": {
                "dataframe_info": {
                  "default_index_used": true,
                  "orig_size_bytes": 2536,
                  "orig_num_rows": 43,
                  "orig_num_cols": 7,
                  "truncated_size_bytes": 2536,
                  "truncated_num_rows": 43,
                  "truncated_num_cols": 7
                },
                "dx_settings": {
                  "NUM_PAST_SAMPLES_TRACKED": 3,
                  "ENABLE_DATALINK": true,
                  "DISPLAY_MODE": "simple",
                  "GENERATE_DEX_METADATA": false,
                  "STRINGIFY_INDEX_VALUES": false,
                  "ALLOW_NOTEABLE_ATTRS": true,
                  "DISPLAY_MAX_COLUMNS": 100,
                  "HTML_TABLE_SCHEMA": false,
                  "SAMPLING_FACTOR": 0.1,
                  "LOG_LEVEL": 30,
                  "ENABLE_ASSIGNMENT": false,
                  "FLATTEN_INDEX_VALUES": false,
                  "DEV_MODE": false,
                  "COLUMN_SAMPLING_METHOD": "outer",
                  "FLATTEN_COLUMN_VALUES": true,
                  "DISPLAY_MAX_ROWS": 50000,
                  "ROW_SAMPLING_METHOD": "random",
                  "RANDOM_STATE": 12648430,
                  "DB_LOCATION": ":memory:",
                  "STRINGIFY_COLUMN_VALUES": true,
                  "SAMPLING_METHOD": "random",
                  "MAX_RENDER_SIZE_BYTES": 104857600,
                  "RESET_INDEX_VALUES": false
                },
                "display_id": "1a13b9ae-9258-47bf-8256-7c574cd182ca",
                "applied_filters": [],
                "sample_history": [],
                "sampling_time": "2023-02-08T18:23:44.024440",
                "variable_name": "sql_df_23"
              },
              "display_id": "1a13b9ae-9258-47bf-8256-7c574cd182ca"
            }
          }
        }
      ],
      "execution_count": null,
      "metadata": {
        "noteable": {
          "assign_results_to": "sql_df_23",
          "cell_type": "sql",
          "db_connection": "@noteable"
        },
        "ExecuteTime": {
          "end_time": "2023-02-08T18:23:44.181419+00:00",
          "start_time": "2023-02-08T18:23:43.989809+00:00"
        },
        "dx": {
          "fieldMetadata": {},
          "simpleTable": true,
          "updated": 1675880537057,
          "views": []
        }
      },
      "id": "5e1881e9-e500-46bb-969e-09c68f66cd86"
    }
  ],
  "metadata": {
    "selected_hardware_size": "small",
    "noteable": {
      "last_transaction_id": "48b4f5b4-e162-4573-af79-5e79920f9771",
      "db_connection": "@noteable",
      "last_delta_id": "40026f4c-81c6-48e8-a148-dd2af5b72f19"
    },
    "nteract": {
      "version": "noteable@2.9.0"
    }
  },
  "nbformat": 4,
  "nbformat_minor": 5
}