{
  "cells": [
    {
      "cell_type": "markdown",
      "source": [
        "**I executed  SQL queries against the 3 tables below.**\n",
        "---\n",
        "Table 'dataset' has ids of films and directors from tables 'films' and 'directors'"
      ],
      "metadata": {
        "noteable": {
          "cell_type": "markdown",
          "cell_hidden": false
        },
        "jupyter": {
          "source_hidden": false,
          "outputs_hidden": true
        }
      },
      "id": "9498c162-4de8-458b-a260-5586f28b3794"
    },
    {
      "cell_type": "markdown",
      "source": [
        "## Table of Contents:\n",
        "\n",
        "* SQL queries (various)\n",
        "* Subqueries\n",
        "* CTE, IF, CASE WHEN\n",
        "* Window Functions\n",
        "* UNION, INTERSECT, EXCEPT"
      ],
      "metadata": {
        "noteable": {
          "cell_type": "markdown"
        }
      },
      "id": "17b347d9-13b1-42df-a9d3-c70ba56ca598"
    },
    {
      "cell_type": "code",
      "source": [
        "import pandas as pd\n",
        "dataset = pd.read_csv('dataset.csv')\n",
        "films = pd.read_csv('films.csv')\n",
        "directors = pd.read_csv('directors.csv')"
      ],
      "outputs": [],
      "execution_count": null,
      "metadata": {
        "ExecuteTime": {
          "end_time": "2023-02-08T21:00:09.512110+00:00",
          "start_time": "2023-02-08T21:00:09.345970+00:00"
        },
        "noteable": {
          "cell_hidden": false
        },
        "jupyter": {
          "outputs_hidden": false,
          "source_hidden": false
        }
      },
      "id": "f09ea6d1"
    },
    {
      "cell_type": "code",
      "source": [
        "dataset_columns = dataset.columns.to_list()\n",
        "films_columns = films.columns.to_list()\n",
        "directors_columns = directors.columns.to_list()\n",
        "\n",
        "print('The table \"films\" has columns:', films_columns)\n",
        "print('The table \"directors\" has columns:', directors_columns)\n",
        "print('The table \"dataset\" has columns:', dataset_columns)"
      ],
      "outputs": [
        {
          "output_type": "stream",
          "name": "stdout",
          "text": [
            "The table \"films\" has columns: ['film_id', 'film_title']\n",
            "The table \"directors\" has columns: ['director_id', 'director']\n",
            "The table \"dataset\" has columns: ['index', 'film_id', 'year', 'runtime', 'genre', 'rating', 'director_id']\n"
          ]
        }
      ],
      "execution_count": null,
      "metadata": {
        "jupyter": {
          "outputs_hidden": false,
          "source_hidden": false
        },
        "noteable": {
          "cell_type": "code"
        },
        "ExecuteTime": {
          "end_time": "2023-02-08T21:01:54.673261+00:00",
          "start_time": "2023-02-08T21:01:54.516342+00:00"
        }
      },
      "id": "13b67752-a2d8-4c80-b646-6d0ef001ac66"
    },
    {
      "cell_type": "markdown",
      "source": [
        "# SQL queries (various)"
      ],
      "metadata": {
        "noteable": {
          "cell_type": "markdown",
          "cell_hidden": false
        },
        "jupyter": {
          "source_hidden": false,
          "outputs_hidden": true
        }
      },
      "id": "d8c48002-5cfe-4a85-8127-73f73ad55aa1"
    },
    {
      "cell_type": "markdown",
      "source": [
        "* Top 5 directors with the highest average rating"
      ],
      "metadata": {
        "noteable": {
          "cell_type": "markdown",
          "cell_hidden": false
        },
        "jupyter": {
          "source_hidden": false,
          "outputs_hidden": true
        }
      },
      "id": "6c8d3b0a-e92c-4992-8442-9e9d1e8fb256"
    },
    {
      "cell_type": "code",
      "source": [
        "%%sql @noteable\n",
        "select director, round(avg(rating),2) as average_rating from dataset\n",
        "left join directors using(director_id)\n",
        "group by director\n",
        "order by average_rating desc\n",
        "limit 5;"
      ],
      "outputs": [],
      "execution_count": null,
      "metadata": {
        "noteable": {
          "assign_results_to": "sql_df_2",
          "cell_type": "sql",
          "db_connection": "@noteable",
          "cell_hidden": false
        },
        "ExecuteTime": null,
        "dx": {
          "dashboard": {
            "multiViews": []
          },
          "fieldMetadata": {
            "director_id": {
              "columnPosition": 7
            },
            "film_id": {
              "columnPosition": 2,
              "width": 100
            },
            "genre": {
              "columnPosition": 5
            },
            "index": {
              "columnPosition": 1
            },
            "rating": {
              "columnPosition": 6
            },
            "runtime": {
              "columnPosition": 4
            },
            "year": {
              "columnPosition": 3
            }
          },
          "simpleTable": true,
          "updated": 1675857615785,
          "views": [
            {
              "annotationRules": [],
              "chart": {},
              "chartMode": "grid",
              "confoRules": [],
              "decoration": {
                "footer": "",
                "subtitle": "",
                "title": "Table"
              },
              "facets": [],
              "filterSettings": {
                "SHOW_FILTER_PANEL": true,
                "filters": []
              },
              "id": "first-view",
              "isDefault": true,
              "type": "public",
              "userID": ""
            },
            {
              "annotationRules": [],
              "chart": {},
              "chartMode": "grid",
              "confoRules": [],
              "decoration": {
                "footer": "",
                "subtitle": "",
                "title": "Table"
              },
              "facets": [],
              "filterSettings": {
                "SHOW_FILTER_PANEL": true,
                "filters": []
              },
              "id": "first-view",
              "isDefault": true,
              "isTransitory": true,
              "type": "public",
              "userID": ""
            }
          ]
        },
        "jupyter": {
          "source_hidden": false,
          "outputs_hidden": false
        }
      },
      "id": "e6511e65-e875-4915-bbc7-5072542dc5d4"
    },
    {
      "cell_type": "markdown",
      "source": [
        "* Films directed by Akira Kurosawa or \n",
        "Martin Scorsese and released between 1980 and 1990"
      ],
      "metadata": {
        "noteable": {
          "cell_type": "markdown",
          "cell_hidden": false
        },
        "jupyter": {
          "source_hidden": false,
          "outputs_hidden": true
        }
      },
      "id": "73f20a2a-ab9c-4ebd-8ed5-321eafc03117"
    },
    {
      "cell_type": "code",
      "source": [
        "%%sql @noteable\n",
        "select film_title, director, year from dataset\n",
        "left join films using(film_id)\n",
        "left join directors using(director_id)\n",
        "where year between 1980 and 1990 and director in ('Akira Kurosawa','Martin Scorsese');"
      ],
      "outputs": [],
      "execution_count": null,
      "metadata": {
        "noteable": {
          "assign_results_to": "sql_df_6",
          "cell_type": "sql",
          "db_connection": "@noteable",
          "cell_hidden": false
        },
        "ExecuteTime": null,
        "dx": {
          "fieldMetadata": {},
          "simpleTable": true,
          "updated": 1675861707075,
          "views": []
        },
        "jupyter": {
          "source_hidden": false,
          "outputs_hidden": false
        }
      },
      "id": "e838b895-d732-47d4-8028-57c2030484d7"
    },
    {
      "cell_type": "markdown",
      "source": [
        "* Unique directors"
      ],
      "metadata": {
        "noteable": {
          "cell_type": "markdown",
          "cell_hidden": false
        },
        "jupyter": {
          "source_hidden": false,
          "outputs_hidden": true
        }
      },
      "id": "1f8d52b7-120e-4987-8271-d91a6caaad7e"
    },
    {
      "cell_type": "code",
      "source": [
        "%%sql @noteable\n",
        "select distinct director from directors;"
      ],
      "outputs": [],
      "execution_count": null,
      "metadata": {
        "noteable": {
          "assign_results_to": "sql_df_7",
          "cell_type": "sql",
          "db_connection": "@noteable",
          "cell_hidden": false
        },
        "ExecuteTime": null,
        "dx": {
          "fieldMetadata": {},
          "simpleTable": true,
          "simpleTableExpanded": true,
          "updated": 1675862072281,
          "views": []
        },
        "jupyter": {
          "source_hidden": false,
          "outputs_hidden": false
        }
      },
      "id": "07ee6b27-864b-465c-b974-cc00aaa4c183"
    },
    {
      "cell_type": "markdown",
      "source": [
        "* Minimum, maximum and average rating of all films in the dataset"
      ],
      "metadata": {
        "noteable": {
          "cell_type": "markdown",
          "cell_hidden": false
        },
        "jupyter": {
          "source_hidden": false,
          "outputs_hidden": true
        }
      },
      "id": "4afda3f7-2ce2-4b24-99aa-fbb17d8e1695"
    },
    {
      "cell_type": "code",
      "source": [
        "%%sql @noteable\n",
        "select min(rating) as minimum_rating, max(rating) as maximum_rating, round(avg(rating),1) as average_rating from dataset;"
      ],
      "outputs": [],
      "execution_count": null,
      "metadata": {
        "noteable": {
          "assign_results_to": "sql_df_8",
          "cell_type": "sql",
          "db_connection": "@noteable",
          "cell_hidden": false
        },
        "ExecuteTime": null,
        "dx": {
          "fieldMetadata": {},
          "simpleTable": true,
          "updated": 1675862204355,
          "views": []
        },
        "jupyter": {
          "source_hidden": false,
          "outputs_hidden": false
        }
      },
      "id": "86a94c5d-bccd-4608-ad11-f85d0142040a"
    },
    {
      "cell_type": "markdown",
      "source": [
        "* Minimum and maximum rating for each director"
      ],
      "metadata": {
        "noteable": {
          "cell_type": "markdown",
          "cell_hidden": false
        },
        "jupyter": {
          "source_hidden": false,
          "outputs_hidden": true
        }
      },
      "id": "0daadddb-465e-42ad-8b22-921a2e599733"
    },
    {
      "cell_type": "code",
      "source": [
        "%%sql @noteable\n",
        "select director, min(rating) as minimum_rating, max(rating) as maximum_rating from\n",
        "dataset left join directors using(director_id)\n",
        "group by director\n",
        "order by minimum_rating desc;"
      ],
      "outputs": [],
      "execution_count": null,
      "metadata": {
        "noteable": {
          "assign_results_to": "sql_df_9",
          "cell_type": "sql",
          "db_connection": "@noteable",
          "cell_hidden": false
        },
        "ExecuteTime": null,
        "dx": {
          "fieldMetadata": {},
          "simpleTable": true,
          "updated": 1675862492092,
          "views": []
        },
        "jupyter": {
          "source_hidden": false,
          "outputs_hidden": false
        }
      },
      "id": "255d6120-aaed-4b73-bca8-58466bd0c3a2"
    },
    {
      "cell_type": "markdown",
      "source": [
        "* 3 random films"
      ],
      "metadata": {
        "noteable": {
          "cell_type": "markdown",
          "cell_hidden": false
        },
        "jupyter": {
          "source_hidden": false,
          "outputs_hidden": true
        }
      },
      "id": "d1c74427-e771-4270-9409-9e6dc73eebfa"
    },
    {
      "cell_type": "code",
      "source": [
        "%%sql @noteable\n",
        "select film_title from films\n",
        "order by random()\n",
        "limit 3;"
      ],
      "outputs": [],
      "execution_count": null,
      "metadata": {
        "noteable": {
          "assign_results_to": "sql_df_13",
          "cell_type": "sql",
          "db_connection": "@noteable",
          "cell_hidden": false
        },
        "ExecuteTime": null,
        "dx": {
          "fieldMetadata": {},
          "simpleTable": true,
          "updated": 1675873233796,
          "views": []
        },
        "jupyter": {
          "source_hidden": false,
          "outputs_hidden": false
        }
      },
      "id": "c28f3d02-4a56-41b0-ab91-34020c2d9298"
    },
    {
      "cell_type": "markdown",
      "source": [
        "* Film description including film title, year and director"
      ],
      "metadata": {
        "noteable": {
          "cell_type": "markdown",
          "cell_hidden": false
        },
        "jupyter": {
          "source_hidden": false,
          "outputs_hidden": true
        }
      },
      "id": "29e75d84-79ab-4ecb-9768-b8df04fb9a98"
    },
    {
      "cell_type": "code",
      "source": [
        "%%sql @noteable\n",
        "select film_title, concat('\"',film_title,'\"',' ','was released in',' ', year,' ','and',' ','directed by',\n",
        "              ' ', director) as film_description \n",
        "from dataset \n",
        "left join films using(film_id)\n",
        "left join directors using(director_id);"
      ],
      "outputs": [],
      "execution_count": null,
      "metadata": {
        "noteable": {
          "assign_results_to": "sql_df_24",
          "cell_type": "sql",
          "db_connection": "@noteable",
          "cell_hidden": false
        },
        "ExecuteTime": null,
        "dx": {
          "fieldMetadata": {},
          "simpleTable": true,
          "updated": 1675880758297,
          "views": []
        },
        "jupyter": {
          "source_hidden": false,
          "outputs_hidden": false
        }
      },
      "id": "f3c4a0b1-4279-4577-bcd2-0a602ed24e8b"
    },
    {
      "cell_type": "markdown",
      "source": [
        "* Films that have a rating which is higher than the average rating of all the films in the dataset"
      ],
      "metadata": {
        "noteable": {
          "cell_type": "markdown",
          "cell_hidden": false
        },
        "jupyter": {
          "source_hidden": false,
          "outputs_hidden": true
        }
      },
      "id": "4e3a1c7e-17d7-43ab-99da-09559db9742a"
    },
    {
      "cell_type": "markdown",
      "source": [
        "# Subqueries"
      ],
      "metadata": {
        "noteable": {
          "cell_type": "markdown",
          "cell_hidden": false
        },
        "jupyter": {
          "source_hidden": false,
          "outputs_hidden": true
        }
      },
      "id": "e523783a-b73d-48cd-b3a2-31b6300ea436"
    },
    {
      "cell_type": "code",
      "source": [
        "%%sql @noteable\n",
        "select film_title, rating, (select round(avg(rating),2) from dataset) as average_rating from dataset inner join films using (film_id)\n",
        "where rating > average_rating;"
      ],
      "outputs": [],
      "execution_count": null,
      "metadata": {
        "noteable": {
          "assign_results_to": "sql_df_10",
          "cell_type": "sql",
          "db_connection": "@noteable",
          "cell_hidden": false
        },
        "ExecuteTime": null,
        "dx": {
          "fieldMetadata": {},
          "simpleTable": true,
          "updated": 1675862772733,
          "views": []
        },
        "jupyter": {
          "source_hidden": false,
          "outputs_hidden": false
        }
      },
      "id": "c35a15ea-d155-4475-998b-5ff64b6353f6"
    },
    {
      "cell_type": "markdown",
      "source": [
        "* Number of unique directors\n",
        "* Number of films\n",
        "* Average number of films per director\n",
        "* Maximum number of films per director\n",
        "* Minimum number of films per director"
      ],
      "metadata": {
        "noteable": {
          "cell_type": "markdown",
          "cell_hidden": false
        },
        "jupyter": {
          "source_hidden": false,
          "outputs_hidden": true
        }
      },
      "id": "0f2b7af6-5ce9-46d0-a3b8-60199181d0cc"
    },
    {
      "cell_type": "code",
      "source": [
        "%%sql @noteable\n",
        "select \n",
        "count(distinct(director_id)) as num_of_dir, \n",
        "count(film_id) as num_of_films, \n",
        "count(film_id)/count(distinct(director_id)) as avg_films_per_dir,\n",
        "(select max(counts) from (select count(film_id) as counts from dataset\n",
        " group by director_id)) as max_film_per_dir,\n",
        " \n",
        " (select min(counts) from (select count(film_id) as counts from dataset\n",
        " group by director_id)) as min_film_per_dir\n",
        "\n",
        "from dataset;"
      ],
      "outputs": [],
      "execution_count": null,
      "metadata": {
        "noteable": {
          "assign_results_to": "sql_df_11",
          "cell_type": "sql",
          "db_connection": "@noteable",
          "cell_hidden": false
        },
        "ExecuteTime": null,
        "dx": {
          "fieldMetadata": {},
          "simpleTable": true,
          "updated": 1675863603954,
          "views": []
        },
        "jupyter": {
          "source_hidden": false,
          "outputs_hidden": false
        }
      },
      "id": "147f5180-e54c-485c-8c86-90dccfdf12a8"
    },
    {
      "cell_type": "markdown",
      "source": [
        "* The titles of the drama films with the longest runtime"
      ],
      "metadata": {
        "noteable": {
          "cell_type": "markdown",
          "cell_hidden": false
        },
        "jupyter": {
          "source_hidden": false,
          "outputs_hidden": true
        }
      },
      "id": "c28249ca-02ba-40f8-bdee-e09db6274795"
    },
    {
      "cell_type": "code",
      "source": [
        "%%sql @noteable\n",
        "select film_title, runtime, genre from dataset\n",
        "left join films using(film_id)\n",
        "where genre like '%Drama%' and runtime in (select max(runtime) from dataset where genre like '%Drama%');"
      ],
      "outputs": [],
      "execution_count": null,
      "metadata": {
        "noteable": {
          "assign_results_to": "sql_df_3",
          "cell_type": "sql",
          "db_connection": "@noteable",
          "cell_hidden": false
        },
        "ExecuteTime": null,
        "dx": {
          "fieldMetadata": {},
          "simpleTable": true,
          "updated": 1675857977933,
          "views": []
        },
        "jupyter": {
          "source_hidden": false,
          "outputs_hidden": false
        }
      },
      "id": "cf5f84f4-1f45-4d84-8b2e-c039263586d8"
    },
    {
      "cell_type": "markdown",
      "source": [
        "# CTE, IF, CASE WHEN"
      ],
      "metadata": {
        "noteable": {
          "cell_type": "markdown",
          "cell_hidden": false
        },
        "jupyter": {
          "source_hidden": false,
          "outputs_hidden": true
        }
      },
      "id": "899703e3-723b-4822-828a-c7d1ae94bd00"
    },
    {
      "cell_type": "markdown",
      "source": [
        "* Split films into groups using the length. Find the numberf films in each group."
      ],
      "metadata": {
        "noteable": {
          "cell_type": "markdown",
          "cell_hidden": false
        },
        "jupyter": {
          "source_hidden": false,
          "outputs_hidden": true
        }
      },
      "id": "d609e7e0-3d42-40ea-a48a-031ff26eebc9"
    },
    {
      "cell_type": "code",
      "source": [
        "%%sql @noteable\n",
        "with t1 (film_title, runtime,length) as\n",
        "(select film_title, runtime, if(runtime > 120, 'long', if(runtime<60, 'short', 'average')) as length from dataset\n",
        "left join films using (film_id))\n",
        "\n",
        "select count(film_title) as amount_of_films, length from t1\n",
        "group by length\n",
        "\n",
        ";"
      ],
      "outputs": [],
      "execution_count": null,
      "metadata": {
        "noteable": {
          "assign_results_to": "sql_df_4",
          "cell_type": "sql",
          "db_connection": "@noteable",
          "cell_hidden": false
        },
        "ExecuteTime": null,
        "dx": {
          "fieldMetadata": {},
          "simpleTable": true,
          "updated": 1675860877629,
          "views": []
        },
        "jupyter": {
          "source_hidden": false,
          "outputs_hidden": false
        }
      },
      "id": "6082e22a-5dd3-4d9e-8d6f-8bdb6e1a5321"
    },
    {
      "cell_type": "markdown",
      "source": [
        "* Create a column defining a century in which a film was released"
      ],
      "metadata": {
        "noteable": {
          "cell_type": "markdown",
          "cell_hidden": false
        },
        "jupyter": {
          "source_hidden": false,
          "outputs_hidden": true
        }
      },
      "id": "445da8d5-8071-47b5-b7de-270bdea9ccad"
    },
    {
      "cell_type": "code",
      "source": [
        "%%sql @noteable\n",
        "select film_title, year, case\n",
        "    when year>1999 THEN '21 century'\n",
        "    else '20 century'\n",
        "end as century\n",
        "from dataset left join films using(film_id);"
      ],
      "outputs": [],
      "execution_count": null,
      "metadata": {
        "noteable": {
          "assign_results_to": "sql_df_15",
          "cell_type": "sql",
          "db_connection": "@noteable",
          "cell_hidden": false
        },
        "ExecuteTime": null,
        "dx": {
          "fieldMetadata": {},
          "simpleTable": true,
          "updated": 1675873581173,
          "views": []
        },
        "jupyter": {
          "source_hidden": false,
          "outputs_hidden": false
        }
      },
      "id": "791a0b2d-f07e-4f91-a945-ff55bf24c2fa"
    },
    {
      "cell_type": "markdown",
      "source": [
        "* Directors who directed 5 and more films released  21st century"
      ],
      "metadata": {
        "noteable": {
          "cell_type": "markdown",
          "cell_hidden": false
        },
        "jupyter": {
          "source_hidden": false,
          "outputs_hidden": true
        }
      },
      "id": "18cc8b9a-19a4-4c80-91cf-426ba4593526"
    },
    {
      "cell_type": "code",
      "source": [
        "%%sql @noteable\n",
        "with t1 (film_title, year, runtime, genre, rating, director) as\n",
        "(select film_title, year, runtime, genre, rating, director from dataset \n",
        " left join films using(film_id)\n",
        " left join directors using(director_id)\n",
        " where year >= 2000)\n",
        " \n",
        " select director, count(film_title) as num_of_films from t1\n",
        " group by director\n",
        " having count(film_title) >=5\n",
        " order by num_of_films desc\n",
        " ;"
      ],
      "outputs": [],
      "execution_count": null,
      "metadata": {
        "noteable": {
          "assign_results_to": "sql_df_16",
          "cell_type": "sql",
          "db_connection": "@noteable",
          "cell_hidden": false
        },
        "ExecuteTime": null,
        "dx": {
          "fieldMetadata": {},
          "simpleTable": true,
          "updated": 1675873919062,
          "views": []
        },
        "jupyter": {
          "source_hidden": false,
          "outputs_hidden": false
        }
      },
      "id": "ae54ce33-c883-496c-8b4f-5738ef0e718d"
    },
    {
      "cell_type": "markdown",
      "source": [
        "# Window Functions"
      ],
      "metadata": {
        "noteable": {
          "cell_type": "markdown",
          "cell_hidden": false
        },
        "tags": [],
        "jupyter": {
          "source_hidden": false,
          "outputs_hidden": true
        }
      },
      "id": "781f0780-6c75-4c8a-b28e-b15fe3127afa"
    },
    {
      "cell_type": "markdown",
      "source": [
        "* Average films runtime per director"
      ],
      "metadata": {
        "noteable": {
          "cell_type": "markdown",
          "cell_hidden": false
        },
        "jupyter": {
          "source_hidden": false,
          "outputs_hidden": true
        }
      },
      "id": "e5852923-5e3e-4264-b8fd-5dc145514e83"
    },
    {
      "cell_type": "code",
      "source": [
        "%%sql @noteable\n",
        "select distinct director,\n",
        "       round(avg(runtime) OVER (partition by director)) AS avg_time_per_dir\n",
        "from dataset left join directors using(director_id)\n",
        "order by avg_time_per_dir ;"
      ],
      "outputs": [],
      "execution_count": null,
      "metadata": {
        "noteable": {
          "assign_results_to": "sql_df_17",
          "cell_type": "sql",
          "db_connection": "@noteable",
          "cell_hidden": false
        },
        "ExecuteTime": null,
        "dx": {
          "fieldMetadata": {},
          "simpleTable": true,
          "updated": 1675875103025,
          "views": []
        },
        "jupyter": {
          "source_hidden": false,
          "outputs_hidden": false
        }
      },
      "id": "eab8f8d6-c16f-4523-8c9b-cc38c07a50d5"
    },
    {
      "cell_type": "markdown",
      "source": [
        "* Number the films for every director by year"
      ],
      "metadata": {
        "noteable": {
          "cell_type": "markdown",
          "cell_hidden": false
        },
        "jupyter": {
          "source_hidden": false,
          "outputs_hidden": true
        }
      },
      "id": "75e4ffc3-98fc-49c9-99a3-67e388ee583a"
    },
    {
      "cell_type": "code",
      "source": [
        "%%sql @noteable\n",
        "select director, film_title, \n",
        "row_number() over (partition by director order by year) as rank,\n",
        "year\n",
        "from dataset left join directors using(director_id) left join films using(film_id);"
      ],
      "outputs": [],
      "execution_count": null,
      "metadata": {
        "noteable": {
          "assign_results_to": "sql_df_5",
          "cell_type": "sql",
          "db_connection": "@noteable",
          "cell_hidden": false
        },
        "ExecuteTime": null,
        "dx": {
          "fieldMetadata": {},
          "simpleTable": true,
          "simpleTableExpanded": true,
          "updated": 1675861431825,
          "views": []
        },
        "jupyter": {
          "source_hidden": false,
          "outputs_hidden": false
        }
      },
      "id": "6b557dc2-6567-4579-b60c-67a9ab3633d5"
    },
    {
      "cell_type": "markdown",
      "source": [
        "* Rank films by rating"
      ],
      "metadata": {
        "noteable": {
          "cell_type": "markdown",
          "cell_hidden": false
        },
        "jupyter": {
          "source_hidden": false,
          "outputs_hidden": true
        }
      },
      "id": "228b404e-3c47-4b89-ad2c-3a6d05b1be91"
    },
    {
      "cell_type": "code",
      "source": [
        "%%sql @noteable\n",
        "select film_title, rating, dense_rank() over (order by rating desc) as rank \n",
        "from dataset left join films using(film_id);"
      ],
      "outputs": [],
      "execution_count": null,
      "metadata": {
        "noteable": {
          "assign_results_to": "sql_df_18",
          "cell_type": "sql",
          "db_connection": "@noteable",
          "cell_hidden": false
        },
        "ExecuteTime": null,
        "dx": {
          "fieldMetadata": {},
          "simpleTable": true,
          "updated": 1675875659338,
          "views": []
        },
        "jupyter": {
          "source_hidden": false,
          "outputs_hidden": false
        }
      },
      "id": "b0af480c-a15b-44dc-84a4-3927acd6971a"
    },
    {
      "cell_type": "markdown",
      "source": [
        "* Calculate the difference between the last and the first film of each director in the dataset. Order by descending difference."
      ],
      "metadata": {
        "noteable": {
          "cell_type": "markdown",
          "cell_hidden": false
        },
        "jupyter": {
          "source_hidden": false,
          "outputs_hidden": true
        }
      },
      "id": "df7ec618-1956-4cea-9002-8ee6e1b61874"
    },
    {
      "cell_type": "code",
      "source": [
        "%%sql @noteable\n",
        "with t1 (director, year, rank) as \n",
        "(select director, year, \n",
        "row_number() over (partition by director_id order by year) as rank\n",
        "from dataset left join directors using(director_id))\n",
        "select distinct director, (last_value(year) OVER (partition by director)) - (first_value(year) OVER (partition by director)) as difference\n",
        "from t1\n",
        "order by difference desc\n",
        ";"
      ],
      "outputs": [],
      "execution_count": null,
      "metadata": {
        "noteable": {
          "assign_results_to": "sql_df_19",
          "cell_type": "sql",
          "db_connection": "@noteable",
          "cell_hidden": false
        },
        "ExecuteTime": null,
        "dx": {
          "fieldMetadata": {},
          "simpleTable": true,
          "simpleTableExpanded": true,
          "updated": 1675875917315,
          "views": []
        },
        "jupyter": {
          "source_hidden": false,
          "outputs_hidden": false
        }
      },
      "id": "5ad35bd9-16b2-4fea-b44b-ebedafb00889"
    },
    {
      "cell_type": "markdown",
      "source": [
        "# UNION, INTERSECT, EXCEPT"
      ],
      "metadata": {
        "noteable": {
          "cell_type": "markdown",
          "cell_hidden": false
        },
        "jupyter": {
          "source_hidden": false,
          "outputs_hidden": true
        }
      },
      "id": "d2eacc70-ffee-4ffd-8b48-559f9f6b5cb9"
    },
    {
      "cell_type": "markdown",
      "source": [
        "* Select information about the films which were released in 2005 and in 2011"
      ],
      "metadata": {
        "noteable": {
          "cell_type": "markdown",
          "cell_hidden": false
        },
        "jupyter": {
          "source_hidden": false,
          "outputs_hidden": true
        }
      },
      "id": "d6e31449-48df-4970-b529-51ef4fa57d05"
    },
    {
      "cell_type": "code",
      "source": [
        "%%sql @noteable\n",
        "select * from dataset\n",
        "where year = 2011\n",
        "union all\n",
        "select * from dataset\n",
        "where year = 2005\n",
        ";"
      ],
      "outputs": [],
      "execution_count": null,
      "metadata": {
        "noteable": {
          "assign_results_to": "sql_df_20",
          "cell_type": "sql",
          "db_connection": "@noteable",
          "cell_hidden": false
        },
        "ExecuteTime": null,
        "dx": {
          "fieldMetadata": {},
          "simpleTable": true,
          "simpleTableExpanded": true,
          "updated": 1675878219493,
          "views": []
        },
        "jupyter": {
          "source_hidden": false,
          "outputs_hidden": false
        }
      },
      "id": "aba8ae6a-478f-467d-9d87-4ac202bff8f0"
    },
    {
      "cell_type": "markdown",
      "source": [
        "* Select information about the films which were released after 2011 and after 2008 (without duplicates)"
      ],
      "metadata": {
        "noteable": {
          "cell_type": "markdown",
          "cell_hidden": false
        },
        "jupyter": {
          "source_hidden": false,
          "outputs_hidden": true
        }
      },
      "id": "70e5530c-066f-42a7-b77a-13e14248ebd3"
    },
    {
      "cell_type": "code",
      "source": [
        "%%sql @noteable\n",
        "select * from dataset\n",
        "where year > 2011\n",
        "union\n",
        "select * from dataset\n",
        "where year > 2008\n",
        "order by film_id;"
      ],
      "outputs": [],
      "execution_count": null,
      "metadata": {
        "noteable": {
          "assign_results_to": "sql_df_21",
          "cell_type": "sql",
          "db_connection": "@noteable",
          "cell_hidden": false
        },
        "ExecuteTime": null,
        "dx": {
          "fieldMetadata": {},
          "simpleTable": true,
          "updated": 1675880228488,
          "views": []
        },
        "jupyter": {
          "source_hidden": false,
          "outputs_hidden": false
        }
      },
      "id": "7a5aa4c6-dd32-462d-883d-d80ca1530d2e"
    },
    {
      "cell_type": "markdown",
      "source": [
        "* Select information about the films which were released before 2011 but after 2008"
      ],
      "metadata": {
        "noteable": {
          "cell_type": "markdown",
          "cell_hidden": false
        },
        "jupyter": {
          "source_hidden": false,
          "outputs_hidden": true
        }
      },
      "id": "32641c77-5750-4bd1-a5bf-05c50e372051"
    },
    {
      "cell_type": "code",
      "source": [
        "%%sql @noteable\n",
        "select * from dataset\n",
        "where year < 2011\n",
        "intersect\n",
        "select * from dataset\n",
        "where year > 2008\n"
      ],
      "outputs": [],
      "execution_count": null,
      "metadata": {
        "noteable": {
          "assign_results_to": "sql_df_22",
          "cell_type": "sql",
          "db_connection": "@noteable",
          "cell_hidden": false
        },
        "ExecuteTime": null,
        "dx": {
          "fieldMetadata": {},
          "simpleTable": true,
          "updated": 1675880356671,
          "views": []
        },
        "jupyter": {
          "source_hidden": false,
          "outputs_hidden": false
        }
      },
      "id": "5620057e-aeeb-4fac-9479-4085c38014de"
    },
    {
      "cell_type": "markdown",
      "source": [
        "* Select information about the films which were released after 2006 except films released in 2008"
      ],
      "metadata": {
        "noteable": {
          "cell_type": "markdown",
          "cell_hidden": false
        },
        "jupyter": {
          "source_hidden": false,
          "outputs_hidden": true
        }
      },
      "id": "a9de33b5-a4f1-4717-8a06-10038d390075"
    },
    {
      "cell_type": "code",
      "source": [
        "%%sql @noteable\n",
        "select * from dataset\n",
        "where year > 2006\n",
        "except\n",
        "select * from dataset\n",
        "where year = 2008\n",
        "order by year;"
      ],
      "outputs": [],
      "execution_count": null,
      "metadata": {
        "noteable": {
          "assign_results_to": "sql_df_23",
          "cell_type": "sql",
          "db_connection": "@noteable",
          "cell_hidden": false
        },
        "ExecuteTime": null,
        "dx": {
          "fieldMetadata": {},
          "simpleTable": true,
          "updated": 1675880537057,
          "views": []
        },
        "jupyter": {
          "source_hidden": false,
          "outputs_hidden": false
        }
      },
      "id": "5e1881e9-e500-46bb-969e-09c68f66cd86"
    }
  ],
  "metadata": {
    "selected_hardware_size": "small",
    "noteable": {
      "db_connection": "@noteable",
      "last_delta_id": "00000000-0000-0000-0000-000000000000"
    },
    "nteract": {
      "version": "noteable@2.9.0"
    }
  },
  "nbformat": 4,
  "nbformat_minor": 5
}