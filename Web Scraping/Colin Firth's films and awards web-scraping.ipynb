{
 "cells": [
  {
   "cell_type": "markdown",
   "id": "60cdaea2",
   "metadata": {},
   "source": [
    "### 1. Installing all the necessary libraries"
   ]
  },
  {
   "cell_type": "code",
   "execution_count": 1,
   "id": "a74e0140",
   "metadata": {},
   "outputs": [
    {
     "name": "stdout",
     "output_type": "stream",
     "text": [
      "Requirement already satisfied: requests in /opt/anaconda3/lib/python3.9/site-packages (2.28.1)\n",
      "Requirement already satisfied: beautifulsoup4 in /opt/anaconda3/lib/python3.9/site-packages (4.11.1)\n",
      "Requirement already satisfied: certifi>=2017.4.17 in /opt/anaconda3/lib/python3.9/site-packages (from requests) (2022.9.24)\n",
      "Requirement already satisfied: idna<4,>=2.5 in /opt/anaconda3/lib/python3.9/site-packages (from requests) (3.3)\n",
      "Requirement already satisfied: charset-normalizer<3,>=2 in /opt/anaconda3/lib/python3.9/site-packages (from requests) (2.0.4)\n",
      "Requirement already satisfied: urllib3<1.27,>=1.21.1 in /opt/anaconda3/lib/python3.9/site-packages (from requests) (1.26.11)\n",
      "Requirement already satisfied: soupsieve>1.2 in /opt/anaconda3/lib/python3.9/site-packages (from beautifulsoup4) (2.3.1)\n",
      "Note: you may need to restart the kernel to use updated packages.\n"
     ]
    }
   ],
   "source": [
    "pip install requests beautifulsoup4"
   ]
  },
  {
   "cell_type": "code",
   "execution_count": 2,
   "id": "52c6cb98",
   "metadata": {},
   "outputs": [
    {
     "name": "stdout",
     "output_type": "stream",
     "text": [
      "Requirement already satisfied: cinemagoer in /opt/anaconda3/lib/python3.9/site-packages (2022.12.27)\n",
      "Requirement already satisfied: lxml in /opt/anaconda3/lib/python3.9/site-packages (from cinemagoer) (4.9.1)\n",
      "Requirement already satisfied: SQLAlchemy in /opt/anaconda3/lib/python3.9/site-packages (from cinemagoer) (1.4.39)\n",
      "Note: you may need to restart the kernel to use updated packages.\n"
     ]
    }
   ],
   "source": [
    "pip install cinemagoer"
   ]
  },
  {
   "cell_type": "code",
   "execution_count": 3,
   "id": "37b6886b",
   "metadata": {},
   "outputs": [],
   "source": [
    "import pandas as pd   # To create a DataFrame\n",
    "import requests       # To send requests to the URLs\n",
    "from bs4 import BeautifulSoup # To get the content in the form of HTML\n",
    "import re # To work with strings\n",
    "import imdb # To extract data about films"
   ]
  },
  {
   "cell_type": "markdown",
   "id": "00ad3e03",
   "metadata": {},
   "source": [
    "### 2. Choosing a URL, scraping data using Beutiful Soup library, creating a preliminary DataFrame"
   ]
  },
  {
   "cell_type": "code",
   "execution_count": 4,
   "id": "b3e48a22",
   "metadata": {},
   "outputs": [],
   "source": [
    "# Assigning an URL to a variable\n",
    "url = 'https://pro.imdb.com/name/nm0000147/credits'\n",
    "\n",
    "# Sending a HTTP request\n",
    "response = requests.get(url)\n",
    "soup = BeautifulSoup(response.content, 'html.parser')"
   ]
  },
  {
   "cell_type": "code",
   "execution_count": 5,
   "id": "3b2575c9",
   "metadata": {},
   "outputs": [],
   "source": [
    "# Storing the data we are curious about in the variable\n",
    "movie_data = soup.find('table', id=\"past_film_filmography\")\n",
    "\n",
    "# Storing IMDb ids of films in the variable\n",
    "ids = [tag['data-filter-item-id'] for tag in movie_data.select('tr[data-filter-item-id]')]\n",
    "\n",
    "# Storing a role kind (actor/thanks/actor soundtrack) in the variable\n",
    "role  = [tag['data-filterable-name'] for tag in movie_data.select('tr[data-filterable-name]')]\n",
    "\n",
    "# Creating a preliminary DataFrame\n",
    "data = []\n",
    "table = soup.find('table', id =\"past_film_filmography\")\n",
    "\n",
    "df = pd.read_html(str(table))[0]"
   ]
  },
  {
   "cell_type": "code",
   "execution_count": 6,
   "id": "951f7c83",
   "metadata": {},
   "outputs": [],
   "source": [
    "# Changing a DataFrame columns header to lowercase\n",
    "df.columns = map(str.lower, df.columns)"
   ]
  },
  {
   "cell_type": "code",
   "execution_count": 7,
   "id": "ba1aa87b",
   "metadata": {},
   "outputs": [
    {
     "data": {
      "text/html": [
       "<div>\n",
       "<style scoped>\n",
       "    .dataframe tbody tr th:only-of-type {\n",
       "        vertical-align: middle;\n",
       "    }\n",
       "\n",
       "    .dataframe tbody tr th {\n",
       "        vertical-align: top;\n",
       "    }\n",
       "\n",
       "    .dataframe thead th {\n",
       "        text-align: right;\n",
       "    }\n",
       "</style>\n",
       "<table border=\"1\" class=\"dataframe\">\n",
       "  <thead>\n",
       "    <tr style=\"text-align: right;\">\n",
       "      <th></th>\n",
       "      <th>past film &amp; video  (80 titles)</th>\n",
       "      <th>budget</th>\n",
       "      <th>opening weekend</th>\n",
       "      <th>gross (us &amp; canada)</th>\n",
       "      <th>gross (worldwide)</th>\n",
       "    </tr>\n",
       "  </thead>\n",
       "  <tbody>\n",
       "    <tr>\n",
       "      <th>0</th>\n",
       "      <td>Squaring the Circle (The Story of Hipgnosis) (...</td>\n",
       "      <td>NaN</td>\n",
       "      <td>NaN</td>\n",
       "      <td>NaN</td>\n",
       "      <td>NaN</td>\n",
       "    </tr>\n",
       "    <tr>\n",
       "      <th>1</th>\n",
       "      <td>Empire of Light (2022) Donald Ellis  Donald El...</td>\n",
       "      <td>NaN</td>\n",
       "      <td>$163K</td>\n",
       "      <td>$1.2MM</td>\n",
       "      <td>$4.4MM</td>\n",
       "    </tr>\n",
       "    <tr>\n",
       "      <th>2</th>\n",
       "      <td>Operation Mincemeat (2021) Ewen Montagu  Ewen ...</td>\n",
       "      <td>NaN</td>\n",
       "      <td>NaN</td>\n",
       "      <td>NaN</td>\n",
       "      <td>$16MM</td>\n",
       "    </tr>\n",
       "    <tr>\n",
       "      <th>3</th>\n",
       "      <td>Mothering Sunday (2021) Mr Godfrey Niven  Mr G...</td>\n",
       "      <td>NaN</td>\n",
       "      <td>$9K</td>\n",
       "      <td>$275K</td>\n",
       "      <td>$2.3MM</td>\n",
       "    </tr>\n",
       "    <tr>\n",
       "      <th>4</th>\n",
       "      <td>Supernova (2020) Sam, Performer (\"Salut d'Amou...</td>\n",
       "      <td>NaN</td>\n",
       "      <td>$90K</td>\n",
       "      <td>$234K</td>\n",
       "      <td>$3.4MM</td>\n",
       "    </tr>\n",
       "  </tbody>\n",
       "</table>\n",
       "</div>"
      ],
      "text/plain": [
       "                      past film & video  (80 titles) budget opening weekend  \\\n",
       "0  Squaring the Circle (The Story of Hipgnosis) (...    NaN             NaN   \n",
       "1  Empire of Light (2022) Donald Ellis  Donald El...    NaN           $163K   \n",
       "2  Operation Mincemeat (2021) Ewen Montagu  Ewen ...    NaN             NaN   \n",
       "3  Mothering Sunday (2021) Mr Godfrey Niven  Mr G...    NaN             $9K   \n",
       "4  Supernova (2020) Sam, Performer (\"Salut d'Amou...    NaN            $90K   \n",
       "\n",
       "  gross (us & canada) gross (worldwide)  \n",
       "0                 NaN               NaN  \n",
       "1              $1.2MM            $4.4MM  \n",
       "2                 NaN             $16MM  \n",
       "3               $275K            $2.3MM  \n",
       "4               $234K            $3.4MM  "
      ]
     },
     "execution_count": 7,
     "metadata": {},
     "output_type": "execute_result"
    }
   ],
   "source": [
    "df.head()"
   ]
  },
  {
   "cell_type": "code",
   "execution_count": 8,
   "id": "4e0455cd",
   "metadata": {},
   "outputs": [
    {
     "data": {
      "text/plain": [
       "'tt10850264'"
      ]
     },
     "execution_count": 8,
     "metadata": {},
     "output_type": "execute_result"
    }
   ],
   "source": [
    "# If we check the IDs' list we'll see that every ID in the list has 2 extra characters 'tt' at the beginning. \n",
    "ids[0]"
   ]
  },
  {
   "cell_type": "code",
   "execution_count": 9,
   "id": "c8d00d97",
   "metadata": {},
   "outputs": [
    {
     "data": {
      "text/plain": [
       "'10850264'"
      ]
     },
     "execution_count": 9,
     "metadata": {},
     "output_type": "execute_result"
    }
   ],
   "source": [
    "# Creating a new clean IDs list.\n",
    "film_id = []\n",
    "for i in ids:\n",
    "    film_id.append(i[2:])\n",
    "\n",
    "film_id[0]"
   ]
  },
  {
   "cell_type": "code",
   "execution_count": 10,
   "id": "f95b2c2e",
   "metadata": {},
   "outputs": [
    {
     "data": {
      "text/html": [
       "<div>\n",
       "<style scoped>\n",
       "    .dataframe tbody tr th:only-of-type {\n",
       "        vertical-align: middle;\n",
       "    }\n",
       "\n",
       "    .dataframe tbody tr th {\n",
       "        vertical-align: top;\n",
       "    }\n",
       "\n",
       "    .dataframe thead th {\n",
       "        text-align: right;\n",
       "    }\n",
       "</style>\n",
       "<table border=\"1\" class=\"dataframe\">\n",
       "  <thead>\n",
       "    <tr style=\"text-align: right;\">\n",
       "      <th></th>\n",
       "      <th>past film &amp; video  (80 titles)</th>\n",
       "      <th>budget</th>\n",
       "      <th>opening weekend</th>\n",
       "      <th>gross (us &amp; canada)</th>\n",
       "      <th>gross (worldwide)</th>\n",
       "      <th>film_id</th>\n",
       "      <th>actor_role</th>\n",
       "    </tr>\n",
       "  </thead>\n",
       "  <tbody>\n",
       "    <tr>\n",
       "      <th>0</th>\n",
       "      <td>Squaring the Circle (The Story of Hipgnosis) (...</td>\n",
       "      <td>NaN</td>\n",
       "      <td>NaN</td>\n",
       "      <td>NaN</td>\n",
       "      <td>NaN</td>\n",
       "      <td>10850264</td>\n",
       "      <td>producer</td>\n",
       "    </tr>\n",
       "    <tr>\n",
       "      <th>1</th>\n",
       "      <td>Empire of Light (2022) Donald Ellis  Donald El...</td>\n",
       "      <td>NaN</td>\n",
       "      <td>$163K</td>\n",
       "      <td>$1.2MM</td>\n",
       "      <td>$4.4MM</td>\n",
       "      <td>14402146</td>\n",
       "      <td>actor</td>\n",
       "    </tr>\n",
       "    <tr>\n",
       "      <th>2</th>\n",
       "      <td>Operation Mincemeat (2021) Ewen Montagu  Ewen ...</td>\n",
       "      <td>NaN</td>\n",
       "      <td>NaN</td>\n",
       "      <td>NaN</td>\n",
       "      <td>$16MM</td>\n",
       "      <td>1879016</td>\n",
       "      <td>actor</td>\n",
       "    </tr>\n",
       "    <tr>\n",
       "      <th>3</th>\n",
       "      <td>Mothering Sunday (2021) Mr Godfrey Niven  Mr G...</td>\n",
       "      <td>NaN</td>\n",
       "      <td>$9K</td>\n",
       "      <td>$275K</td>\n",
       "      <td>$2.3MM</td>\n",
       "      <td>12229370</td>\n",
       "      <td>actor</td>\n",
       "    </tr>\n",
       "    <tr>\n",
       "      <th>4</th>\n",
       "      <td>Supernova (2020) Sam, Performer (\"Salut d'Amou...</td>\n",
       "      <td>NaN</td>\n",
       "      <td>$90K</td>\n",
       "      <td>$234K</td>\n",
       "      <td>$3.4MM</td>\n",
       "      <td>11169050</td>\n",
       "      <td>actor soundtrack</td>\n",
       "    </tr>\n",
       "  </tbody>\n",
       "</table>\n",
       "</div>"
      ],
      "text/plain": [
       "                      past film & video  (80 titles) budget opening weekend  \\\n",
       "0  Squaring the Circle (The Story of Hipgnosis) (...    NaN             NaN   \n",
       "1  Empire of Light (2022) Donald Ellis  Donald El...    NaN           $163K   \n",
       "2  Operation Mincemeat (2021) Ewen Montagu  Ewen ...    NaN             NaN   \n",
       "3  Mothering Sunday (2021) Mr Godfrey Niven  Mr G...    NaN             $9K   \n",
       "4  Supernova (2020) Sam, Performer (\"Salut d'Amou...    NaN            $90K   \n",
       "\n",
       "  gross (us & canada) gross (worldwide)   film_id         actor_role  \n",
       "0                 NaN               NaN  10850264          producer   \n",
       "1              $1.2MM            $4.4MM  14402146             actor   \n",
       "2                 NaN             $16MM   1879016             actor   \n",
       "3               $275K            $2.3MM  12229370             actor   \n",
       "4               $234K            $3.4MM  11169050  actor soundtrack   "
      ]
     },
     "execution_count": 10,
     "metadata": {},
     "output_type": "execute_result"
    }
   ],
   "source": [
    "# Enriching the DataFrame with IMDb's film ids and roles (kinds)\n",
    "df['film_id'] = film_id\n",
    "df['actor_role'] = role\n",
    "\n",
    "df.head()"
   ]
  },
  {
   "cell_type": "markdown",
   "id": "049c1837",
   "metadata": {},
   "source": [
    "### 3. Extracting data from IMDb website using Cinemagoer library"
   ]
  },
  {
   "cell_type": "markdown",
   "id": "83052740",
   "metadata": {},
   "source": [
    "##### Note"
   ]
  },
  {
   "cell_type": "markdown",
   "id": "e84eb816",
   "metadata": {},
   "source": [
    "At first I tried to extract all the data about all the films at once, but the Cinemagoer library shows an error if you try to extract the data that doesn't exist (for example, not all films have rating information). So we need to create a ID's list for every information type we want to fetch."
   ]
  },
  {
   "cell_type": "code",
   "execution_count": 11,
   "id": "6518e94d",
   "metadata": {},
   "outputs": [],
   "source": [
    "ia = imdb.Cinemagoer()"
   ]
  },
  {
   "cell_type": "code",
   "execution_count": 12,
   "id": "8e0e2c51",
   "metadata": {},
   "outputs": [
    {
     "data": {
      "text/plain": [
       "{'main': ['localized title',\n",
       "  'cast',\n",
       "  'genres',\n",
       "  'runtimes',\n",
       "  'countries',\n",
       "  'country codes',\n",
       "  'language codes',\n",
       "  'color info',\n",
       "  'rating',\n",
       "  'votes',\n",
       "  'cover url',\n",
       "  'imdbID',\n",
       "  'plot outline',\n",
       "  'languages',\n",
       "  'title',\n",
       "  'year',\n",
       "  'kind',\n",
       "  'original title',\n",
       "  'director',\n",
       "  'writer',\n",
       "  'producer',\n",
       "  'cinematographer',\n",
       "  'editor',\n",
       "  'editorial department',\n",
       "  'art department',\n",
       "  'sound crew',\n",
       "  'camera and electrical department',\n",
       "  'music department',\n",
       "  'miscellaneous crew',\n",
       "  'akas',\n",
       "  'production companies',\n",
       "  'other companies'],\n",
       " 'plot': []}"
      ]
     },
     "execution_count": 12,
     "metadata": {},
     "output_type": "execute_result"
    }
   ],
   "source": [
    "# Let's check what kind of information we could extract about films using the first film in the IDs' list.\n",
    "ia.get_movie(film_id[0]).infoset2keys"
   ]
  },
  {
   "cell_type": "raw",
   "id": "242e2408",
   "metadata": {},
   "source": [
    "We are interested in:\n",
    "title\n",
    "year\n",
    "genres\n",
    "runtimes\n",
    "cast\n",
    "director\n",
    "rating\n",
    "production companies"
   ]
  },
  {
   "cell_type": "code",
   "execution_count": 13,
   "id": "50fb539f",
   "metadata": {},
   "outputs": [],
   "source": [
    "# Using an 'infoset2keys' attribute to get to know what kind of data we can extract about every film\n",
    "file = []\n",
    "for i in film_id:\n",
    "    file.append(ia.get_movie(i).infoset2keys)\n",
    "\n",
    "file2 = []\n",
    "for i in file:\n",
    "    file2.append(str(i.values()))\n",
    "    \n",
    "title_ids = []\n",
    "for i in file2:\n",
    "        title_ids.append('title' in i)\n",
    "    \n",
    "year_ids = []\n",
    "for i in file2:\n",
    "        year_ids.append('year' in i)\n",
    "\n",
    "genres_ids = []\n",
    "for i in file2:\n",
    "    genres_ids.append('genres' in i)\n",
    "\n",
    "runtimes_ids = []\n",
    "for i in file2:\n",
    "    runtimes_ids.append('runtimes' in i)\n",
    "\n",
    "cast_ids = []\n",
    "for i in file2:\n",
    "    cast_ids.append('cast' in i)\n",
    "\n",
    "director_ids = []\n",
    "for i in file2:\n",
    "    director_ids.append('director' in i)\n",
    "\n",
    "rating_ids = []\n",
    "for i in file2:\n",
    "    rating_ids.append('rating' in i)\n",
    "    \n",
    "production_companies_ids = []\n",
    "for i in file2:\n",
    "    production_companies_ids.append('production companies' in i)"
   ]
  },
  {
   "cell_type": "code",
   "execution_count": 14,
   "id": "f24ecb4d",
   "metadata": {},
   "outputs": [
    {
     "data": {
      "text/html": [
       "<div>\n",
       "<style scoped>\n",
       "    .dataframe tbody tr th:only-of-type {\n",
       "        vertical-align: middle;\n",
       "    }\n",
       "\n",
       "    .dataframe tbody tr th {\n",
       "        vertical-align: top;\n",
       "    }\n",
       "\n",
       "    .dataframe thead th {\n",
       "        text-align: right;\n",
       "    }\n",
       "</style>\n",
       "<table border=\"1\" class=\"dataframe\">\n",
       "  <thead>\n",
       "    <tr style=\"text-align: right;\">\n",
       "      <th></th>\n",
       "      <th>film_id</th>\n",
       "      <th>title</th>\n",
       "      <th>year</th>\n",
       "      <th>genres</th>\n",
       "      <th>runtimes</th>\n",
       "      <th>rating</th>\n",
       "      <th>cast</th>\n",
       "      <th>director</th>\n",
       "      <th>production companies</th>\n",
       "    </tr>\n",
       "  </thead>\n",
       "  <tbody>\n",
       "    <tr>\n",
       "      <th>0</th>\n",
       "      <td>10850264</td>\n",
       "      <td>True</td>\n",
       "      <td>True</td>\n",
       "      <td>True</td>\n",
       "      <td>True</td>\n",
       "      <td>True</td>\n",
       "      <td>True</td>\n",
       "      <td>True</td>\n",
       "      <td>True</td>\n",
       "    </tr>\n",
       "    <tr>\n",
       "      <th>1</th>\n",
       "      <td>14402146</td>\n",
       "      <td>True</td>\n",
       "      <td>True</td>\n",
       "      <td>True</td>\n",
       "      <td>True</td>\n",
       "      <td>True</td>\n",
       "      <td>True</td>\n",
       "      <td>True</td>\n",
       "      <td>True</td>\n",
       "    </tr>\n",
       "    <tr>\n",
       "      <th>2</th>\n",
       "      <td>1879016</td>\n",
       "      <td>True</td>\n",
       "      <td>True</td>\n",
       "      <td>True</td>\n",
       "      <td>True</td>\n",
       "      <td>True</td>\n",
       "      <td>True</td>\n",
       "      <td>True</td>\n",
       "      <td>True</td>\n",
       "    </tr>\n",
       "    <tr>\n",
       "      <th>3</th>\n",
       "      <td>12229370</td>\n",
       "      <td>True</td>\n",
       "      <td>True</td>\n",
       "      <td>True</td>\n",
       "      <td>True</td>\n",
       "      <td>True</td>\n",
       "      <td>True</td>\n",
       "      <td>True</td>\n",
       "      <td>True</td>\n",
       "    </tr>\n",
       "    <tr>\n",
       "      <th>4</th>\n",
       "      <td>11169050</td>\n",
       "      <td>True</td>\n",
       "      <td>True</td>\n",
       "      <td>True</td>\n",
       "      <td>True</td>\n",
       "      <td>True</td>\n",
       "      <td>True</td>\n",
       "      <td>True</td>\n",
       "      <td>True</td>\n",
       "    </tr>\n",
       "  </tbody>\n",
       "</table>\n",
       "</div>"
      ],
      "text/plain": [
       "    film_id  title  year  genres  runtimes  rating  cast  director  \\\n",
       "0  10850264   True  True    True      True    True  True      True   \n",
       "1  14402146   True  True    True      True    True  True      True   \n",
       "2   1879016   True  True    True      True    True  True      True   \n",
       "3  12229370   True  True    True      True    True  True      True   \n",
       "4  11169050   True  True    True      True    True  True      True   \n",
       "\n",
       "   production companies  \n",
       "0                  True  \n",
       "1                  True  \n",
       "2                  True  \n",
       "3                  True  \n",
       "4                  True  "
      ]
     },
     "execution_count": 14,
     "metadata": {},
     "output_type": "execute_result"
    }
   ],
   "source": [
    "# Making a dictionary. The keys will become the columns' names in a DataFrame\n",
    "dictionary = {'film_id':film_id, 'title': title_ids, 'year': year_ids, 'genres':genres_ids,'runtimes':runtimes_ids, 'rating':rating_ids,'cast': cast_ids, 'director': director_ids,'production companies': production_companies_ids}\n",
    "\n",
    "# Converting dictionary to a DataFrame\n",
    "df_file = pd.DataFrame(dictionary)\n",
    "df_file.head()"
   ]
  },
  {
   "cell_type": "markdown",
   "id": "513d2939",
   "metadata": {},
   "source": [
    "##### Lists of films' IDs for different kinds of data"
   ]
  },
  {
   "cell_type": "code",
   "execution_count": 15,
   "id": "76ed24c0",
   "metadata": {},
   "outputs": [],
   "source": [
    "# Creating a list of IDs for each kind of data\n",
    "title_list = df_file.film_id[df_file['title'] == True].to_list()\n",
    "year_list = df_file.film_id[df_file['year'] == True].to_list()\n",
    "genres_list = df_file.film_id[df_file['genres'] == True].to_list()\n",
    "runtimes_list = df_file.film_id[df_file['runtimes'] == True].to_list()\n",
    "cast_list = df_file.film_id[df_file['cast'] == True].to_list()\n",
    "director_list = df_file.film_id[df_file['director'] == True].to_list()\n",
    "rating_list = df_file.film_id[df_file['rating'] == True].to_list()\n",
    "production_list = df_file.film_id[df_file['production companies'] == True].to_list()"
   ]
  },
  {
   "cell_type": "markdown",
   "id": "44ced996",
   "metadata": {},
   "source": [
    "##### Title"
   ]
  },
  {
   "cell_type": "code",
   "execution_count": 16,
   "id": "6e07c043",
   "metadata": {},
   "outputs": [],
   "source": [
    "# Fetching data about titles\n",
    "title = []\n",
    "for i in title_list:\n",
    "    title.append(ia.get_movie(i)['title'])\n",
    "\n",
    "# Creating a Dataframe\n",
    "title_df = pd.DataFrame({'film_id':title_list, 'title':title})"
   ]
  },
  {
   "cell_type": "markdown",
   "id": "72175568",
   "metadata": {},
   "source": [
    "##### Year"
   ]
  },
  {
   "cell_type": "code",
   "execution_count": 29,
   "id": "ebbd1cf7",
   "metadata": {},
   "outputs": [],
   "source": [
    "# Fetching data about years\n",
    "year = []\n",
    "for i in year_list:\n",
    "    year.append(ia.get_movie(i)['year'])\n",
    "\n",
    "# Creating a Dataframe\n",
    "year_df = pd.DataFrame({'film_id':year_list, 'year':year})"
   ]
  },
  {
   "cell_type": "markdown",
   "id": "efafe69f",
   "metadata": {},
   "source": [
    "##### Genres"
   ]
  },
  {
   "cell_type": "code",
   "execution_count": 17,
   "id": "e6cc6721",
   "metadata": {},
   "outputs": [],
   "source": [
    "# Fetching data about genres\n",
    "genres = []\n",
    "for i in genres_list:\n",
    "    genres.append(ia.get_movie(i)['genres'])\n",
    "    \n",
    "# Creating a Dataframe\n",
    "genres_df = pd.DataFrame(genres)\n",
    "genres_df['film_id'] = genres_list\n",
    "genres_df = genres_df.rename(columns = {0: 'genre1',1: 'genre2', 2: 'genre3', 3: 'genre4', 4: 'genre5', 5: 'genre6'})"
   ]
  },
  {
   "cell_type": "markdown",
   "id": "33b804bd",
   "metadata": {},
   "source": [
    "##### Runtimes"
   ]
  },
  {
   "cell_type": "code",
   "execution_count": 18,
   "id": "8dea56f3",
   "metadata": {},
   "outputs": [],
   "source": [
    "# Fetching data about runtimes\n",
    "runtimes = []\n",
    "for i in runtimes_list:\n",
    "    runtimes.append(ia.get_movie(i)['runtimes'])\n",
    "\n",
    "# Cleaning data\n",
    "runtimes2 = []\n",
    "for i in runtimes:\n",
    "    runtimes2.append(str(i).strip('[]'))\n",
    "\n",
    "runtimes3 = []\n",
    "for i in runtimes2:\n",
    "    runtimes3.append(i.strip(\"''\"))\n",
    "\n",
    "# Creating a Dataframe\n",
    "runtimes_df = pd.DataFrame({'film_id':runtimes_list, 'runtimes':runtimes3})"
   ]
  },
  {
   "cell_type": "markdown",
   "id": "dddbaa62",
   "metadata": {},
   "source": [
    "##### Directors"
   ]
  },
  {
   "cell_type": "code",
   "execution_count": 21,
   "id": "722bc782",
   "metadata": {},
   "outputs": [],
   "source": [
    "# Fetching data about directors\n",
    "director = []\n",
    "for i in director_list:\n",
    "    director.append(ia.get_movie(i)['director'])\n",
    "\n",
    "# Cleaning data\n",
    "director2 = []\n",
    "for i in director:\n",
    "    director2.append(str(i))\n",
    "\n",
    "director4 = []\n",
    "for a in director2:\n",
    "    director4.append(re.split(r',|:_|_>|name', a))\n",
    "\n",
    "# Creating a Dataframe\n",
    "dir_df = pd.DataFrame(director4)\n",
    "dir_df['film_id'] = director_list\n",
    "director_df = dir_df[['film_id',2,6,10]]\n",
    "director_df = director_df.rename(columns = {2:'dir1',6:'dir2',10:'dir3'})"
   ]
  },
  {
   "cell_type": "markdown",
   "id": "ca00b7d9",
   "metadata": {},
   "source": [
    "##### Cast"
   ]
  },
  {
   "cell_type": "code",
   "execution_count": 22,
   "id": "65a18fea",
   "metadata": {},
   "outputs": [],
   "source": [
    "# Fetching data about cast\n",
    "cast = []\n",
    "for i in cast_list:\n",
    "    cast.append(ia.get_movie(i)['cast'])\n",
    "\n",
    "# Cleaning data\n",
    "cast2 = []\n",
    "for i in cast:\n",
    "    cast2.append(str(i))\n",
    "\n",
    "cast3 = []\n",
    "for a in cast2:\n",
    "    cast3.append(re.split(r',|:_|_>|name', a))\n",
    "    \n",
    "# Creating a Dataframe\n",
    "cast_df = pd.DataFrame(cast3)\n",
    "cast_20_actors = cast_df[[2,6,10,14,18,22,26,30,34,38,42,46,50,54,58,62,66,70,74,78]]\n",
    "cast_df = cast_20_actors.rename(columns = {2:'act1',6:'act2',10:'act3',14:'act4',18:'act5',22:'act6',26:'act7',30:'act8',34:'act9',38:'act10',42:'act11',46:'act12',50:'act13',54:'act14',58:'act15',62:'act16',66:'act17',70:'act18',74:'act19',78:'act20'})\n",
    "cast_df['film_id'] = cast_list"
   ]
  },
  {
   "cell_type": "markdown",
   "id": "aeaa4123",
   "metadata": {},
   "source": [
    "##### Rating"
   ]
  },
  {
   "cell_type": "code",
   "execution_count": 23,
   "id": "844d01f2",
   "metadata": {},
   "outputs": [],
   "source": [
    "# Fetching data about ratings\n",
    "rating = []\n",
    "for i in rating_list:\n",
    "      rating.append(ia.get_movie(i)['rating'])\n",
    "        \n",
    "# Creating a Dataframe\n",
    "rating_df = pd.DataFrame({'film_id':rating_list, 'rating':rating})       "
   ]
  },
  {
   "cell_type": "markdown",
   "id": "69d1e17b",
   "metadata": {},
   "source": [
    "##### Production companies"
   ]
  },
  {
   "cell_type": "code",
   "execution_count": 24,
   "id": "7f3df5d9",
   "metadata": {},
   "outputs": [],
   "source": [
    "# Fetching data about production companies\n",
    "production_companies = []\n",
    "for i in production_list:\n",
    "    production_companies.append(ia.get_movie(i)['production companies'])\n",
    "\n",
    "# Cleaning data\n",
    "production_companies2 = []\n",
    "for i in production_companies:\n",
    "    production_companies2.append(str(i))\n",
    "    \n",
    "production_companies3 = []\n",
    "for a in production_companies2:\n",
    "    production_companies3.append(re.split(r',|:_|_>|name', a))\n",
    "\n",
    "# Creating a Dataframe\n",
    "prod_df = pd.DataFrame(production_companies3)\n",
    "production_fin = prod_df[[2,6,10,14,18,22,26,30,34,38,42]]\n",
    "production_df = production_fin.rename(columns = {2:'pc1', 6:'pc2', 10:'pc3', 14:'pc4',18:'pc5',22:'pc6',26:'pc7',30:'pc8',34:'pc9',38:'pc10',42:'pc11'})\n",
    "production_df['film_id'] = production_list"
   ]
  },
  {
   "cell_type": "markdown",
   "id": "e16b2531",
   "metadata": {},
   "source": [
    "### 4. Building a DataFrame"
   ]
  },
  {
   "cell_type": "code",
   "execution_count": 25,
   "id": "9d1ff260",
   "metadata": {},
   "outputs": [
    {
     "data": {
      "text/html": [
       "<div>\n",
       "<style scoped>\n",
       "    .dataframe tbody tr th:only-of-type {\n",
       "        vertical-align: middle;\n",
       "    }\n",
       "\n",
       "    .dataframe tbody tr th {\n",
       "        vertical-align: top;\n",
       "    }\n",
       "\n",
       "    .dataframe thead th {\n",
       "        text-align: right;\n",
       "    }\n",
       "</style>\n",
       "<table border=\"1\" class=\"dataframe\">\n",
       "  <thead>\n",
       "    <tr style=\"text-align: right;\">\n",
       "      <th></th>\n",
       "      <th>past film &amp; video  (80 titles)</th>\n",
       "      <th>budget</th>\n",
       "      <th>opening weekend</th>\n",
       "      <th>gross (us &amp; canada)</th>\n",
       "      <th>gross (worldwide)</th>\n",
       "      <th>film_id</th>\n",
       "      <th>actor_role</th>\n",
       "    </tr>\n",
       "  </thead>\n",
       "  <tbody>\n",
       "    <tr>\n",
       "      <th>0</th>\n",
       "      <td>Squaring the Circle (The Story of Hipgnosis) (...</td>\n",
       "      <td>NaN</td>\n",
       "      <td>NaN</td>\n",
       "      <td>NaN</td>\n",
       "      <td>NaN</td>\n",
       "      <td>10850264</td>\n",
       "      <td>producer</td>\n",
       "    </tr>\n",
       "    <tr>\n",
       "      <th>1</th>\n",
       "      <td>Empire of Light (2022) Donald Ellis  Donald El...</td>\n",
       "      <td>NaN</td>\n",
       "      <td>$163K</td>\n",
       "      <td>$1.2MM</td>\n",
       "      <td>$4.4MM</td>\n",
       "      <td>14402146</td>\n",
       "      <td>actor</td>\n",
       "    </tr>\n",
       "    <tr>\n",
       "      <th>2</th>\n",
       "      <td>Operation Mincemeat (2021) Ewen Montagu  Ewen ...</td>\n",
       "      <td>NaN</td>\n",
       "      <td>NaN</td>\n",
       "      <td>NaN</td>\n",
       "      <td>$16MM</td>\n",
       "      <td>1879016</td>\n",
       "      <td>actor</td>\n",
       "    </tr>\n",
       "    <tr>\n",
       "      <th>3</th>\n",
       "      <td>Mothering Sunday (2021) Mr Godfrey Niven  Mr G...</td>\n",
       "      <td>NaN</td>\n",
       "      <td>$9K</td>\n",
       "      <td>$275K</td>\n",
       "      <td>$2.3MM</td>\n",
       "      <td>12229370</td>\n",
       "      <td>actor</td>\n",
       "    </tr>\n",
       "    <tr>\n",
       "      <th>4</th>\n",
       "      <td>Supernova (2020) Sam, Performer (\"Salut d'Amou...</td>\n",
       "      <td>NaN</td>\n",
       "      <td>$90K</td>\n",
       "      <td>$234K</td>\n",
       "      <td>$3.4MM</td>\n",
       "      <td>11169050</td>\n",
       "      <td>actor soundtrack</td>\n",
       "    </tr>\n",
       "  </tbody>\n",
       "</table>\n",
       "</div>"
      ],
      "text/plain": [
       "                      past film & video  (80 titles) budget opening weekend  \\\n",
       "0  Squaring the Circle (The Story of Hipgnosis) (...    NaN             NaN   \n",
       "1  Empire of Light (2022) Donald Ellis  Donald El...    NaN           $163K   \n",
       "2  Operation Mincemeat (2021) Ewen Montagu  Ewen ...    NaN             NaN   \n",
       "3  Mothering Sunday (2021) Mr Godfrey Niven  Mr G...    NaN             $9K   \n",
       "4  Supernova (2020) Sam, Performer (\"Salut d'Amou...    NaN            $90K   \n",
       "\n",
       "  gross (us & canada) gross (worldwide)   film_id         actor_role  \n",
       "0                 NaN               NaN  10850264          producer   \n",
       "1              $1.2MM            $4.4MM  14402146             actor   \n",
       "2                 NaN             $16MM   1879016             actor   \n",
       "3               $275K            $2.3MM  12229370             actor   \n",
       "4               $234K            $3.4MM  11169050  actor soundtrack   "
      ]
     },
     "execution_count": 25,
     "metadata": {},
     "output_type": "execute_result"
    }
   ],
   "source": [
    "# Let's have a look at our preliminary DataFrame\n",
    "df.head()"
   ]
  },
  {
   "cell_type": "code",
   "execution_count": 26,
   "id": "e86ae4db",
   "metadata": {},
   "outputs": [
    {
     "data": {
      "text/plain": [
       "Index(['past film & video  (80 titles)', 'budget', 'opening weekend',\n",
       "       'gross (us & canada)', 'gross (worldwide)', 'film_id', 'actor_role'],\n",
       "      dtype='object')"
      ]
     },
     "execution_count": 26,
     "metadata": {},
     "output_type": "execute_result"
    }
   ],
   "source": [
    "df.columns"
   ]
  },
  {
   "cell_type": "code",
   "execution_count": 27,
   "id": "891df8b2",
   "metadata": {},
   "outputs": [],
   "source": [
    "# Deleting the column 'past film & video (47 titles)'\n",
    "df = df.drop(df.columns[0], axis=1)"
   ]
  },
  {
   "cell_type": "code",
   "execution_count": 32,
   "id": "2083117c",
   "metadata": {},
   "outputs": [],
   "source": [
    "# Enriching our preliminary DataFrame with columns\n",
    "\n",
    "df1 = df.merge(title_df, on = 'film_id', how = 'left')\n",
    "df2 = df1.merge(year_df, on = 'film_id', how = 'left')\n",
    "df3 = df2.merge(runtimes_df, on = 'film_id', how = 'left')\n",
    "df4 = df3.merge(genres_df, on = 'film_id', how = 'left')\n",
    "df5 = df4.merge(rating_df, on = 'film_id', how = 'left')\n",
    "df6 = df5.merge(director_df, on = 'film_id', how = 'left')\n",
    "df7 = df6.merge(production_df, on = 'film_id', how = 'left')\n",
    "df8 = df7.merge(cast_df, on = 'film_id', how = 'left')\n",
    "\n",
    "# Creating a final DataFrame\n",
    "colin_firth_films_data = df8"
   ]
  },
  {
   "cell_type": "code",
   "execution_count": 33,
   "id": "9fb57681",
   "metadata": {},
   "outputs": [],
   "source": [
    "# Saving a final DataFrame to csv file\n",
    "colin_firth_films_data.to_csv(r'/Users/anastasia/Downloads/colin_firth_films_data.csv')"
   ]
  },
  {
   "cell_type": "markdown",
   "id": "9ce44fc4",
   "metadata": {},
   "source": [
    "###### The DataFrame with films is ready! "
   ]
  },
  {
   "cell_type": "markdown",
   "id": "4eddb0ac",
   "metadata": {},
   "source": [
    "### 5. Scraping data and building a dataset about awards"
   ]
  },
  {
   "cell_type": "code",
   "execution_count": 35,
   "id": "500e8d22",
   "metadata": {},
   "outputs": [],
   "source": [
    "# Again assigning an URL to a variable\n",
    "url_awards = 'https://www.imdb.com/name/nm0000147/awards/?ref_=nm_awd'\n",
    "\n",
    "response = requests.get(url_awards)\n",
    "soup2 = BeautifulSoup(response.content, 'html.parser')"
   ]
  },
  {
   "cell_type": "code",
   "execution_count": 36,
   "id": "2558eeb7",
   "metadata": {},
   "outputs": [],
   "source": [
    "# Again storing the data we are curious about in the variable\n",
    "hugh_awards_data = soup2.find('div', id=\"main\")\n",
    "\n",
    "# Creating lists which will be used for our DataFrame\n",
    "\n",
    "award_year = []\n",
    "outcome = []\n",
    "award_name = []\n",
    "award_film = []\n",
    "notes = []\n",
    "\n",
    "rows = hugh_awards_data.find_all('tr')\n",
    "\n",
    "for row in enumerate(rows):\n",
    "    col1 = row[1].find(class_=\"award_year\")\n",
    "    if col1 is not None:\n",
    "        award_year.append(col1.text.strip())\n",
    "    else:\n",
    "        award_year.append(rows[row[0]-1].find(class_=\"award_year\").text.strip())\n",
    "        \n",
    "    col2 = row[1].find('b')\n",
    "    if col2 is not None:\n",
    "        outcome.append(col2.text.strip())\n",
    "    else:\n",
    "        outcome.append(rows[row[0]-1].find('b').text.strip())\n",
    "        \n",
    "    col3 = row[1].find(class_='award_category')\n",
    "    if col3 is not None:\n",
    "        award_name.append(col3.text.strip())\n",
    "    else:\n",
    "        award_name.append(rows[row[0]-1].find(class_='award_category').text.strip())\n",
    "   \n",
    "    col4 = row[1].find(class_ = 'award_description').find('a')\n",
    "    if col4 is not None:\n",
    "        award_film.append(col4.text.strip())\n",
    "    else:\n",
    "        award_film.append('')\n",
    "    \n",
    "    col5 = row[1].find(class_ = 'award_description')\n",
    "#     col5 = [ele.text.strip() for ele in col5]\n",
    "    notes.append(col5.text.strip()) # Get rid of empty values\n"
   ]
  },
  {
   "cell_type": "code",
   "execution_count": 38,
   "id": "213274e1",
   "metadata": {},
   "outputs": [],
   "source": [
    "# Creating the final DataFrame\n",
    "colin_firth_awards = pd.DataFrame({'award_year':award_year,'outcome':outcome,'award_name':award_name, 'award_film':award_film, 'notes':notes})"
   ]
  },
  {
   "cell_type": "code",
   "execution_count": 39,
   "id": "76d58cef",
   "metadata": {},
   "outputs": [
    {
     "data": {
      "text/html": [
       "<div>\n",
       "<style scoped>\n",
       "    .dataframe tbody tr th:only-of-type {\n",
       "        vertical-align: middle;\n",
       "    }\n",
       "\n",
       "    .dataframe tbody tr th {\n",
       "        vertical-align: top;\n",
       "    }\n",
       "\n",
       "    .dataframe thead th {\n",
       "        text-align: right;\n",
       "    }\n",
       "</style>\n",
       "<table border=\"1\" class=\"dataframe\">\n",
       "  <thead>\n",
       "    <tr style=\"text-align: right;\">\n",
       "      <th></th>\n",
       "      <th>award_year</th>\n",
       "      <th>outcome</th>\n",
       "      <th>award_name</th>\n",
       "      <th>award_film</th>\n",
       "      <th>notes</th>\n",
       "    </tr>\n",
       "  </thead>\n",
       "  <tbody>\n",
       "    <tr>\n",
       "      <th>0</th>\n",
       "      <td>2011</td>\n",
       "      <td>Winner</td>\n",
       "      <td>Oscar</td>\n",
       "      <td>The King's Speech</td>\n",
       "      <td>Best Performance by an Actor in a Leading Role...</td>\n",
       "    </tr>\n",
       "    <tr>\n",
       "      <th>1</th>\n",
       "      <td>2010</td>\n",
       "      <td>Nominee</td>\n",
       "      <td>Oscar</td>\n",
       "      <td>A Single Man</td>\n",
       "      <td>Best Performance by an Actor in a Leading Role...</td>\n",
       "    </tr>\n",
       "    <tr>\n",
       "      <th>2</th>\n",
       "      <td>2022</td>\n",
       "      <td>Nominee</td>\n",
       "      <td>Primetime Emmy</td>\n",
       "      <td>The Staircase</td>\n",
       "      <td>Outstanding Lead Actor in a Limited or Antholo...</td>\n",
       "    </tr>\n",
       "    <tr>\n",
       "      <th>3</th>\n",
       "      <td>2001</td>\n",
       "      <td>Nominee</td>\n",
       "      <td>Primetime Emmy</td>\n",
       "      <td>Conspiracy</td>\n",
       "      <td>Outstanding Supporting Actor in a Miniseries o...</td>\n",
       "    </tr>\n",
       "    <tr>\n",
       "      <th>4</th>\n",
       "      <td>2011</td>\n",
       "      <td>Winner</td>\n",
       "      <td>BAFTA Film Award</td>\n",
       "      <td>The King's Speech</td>\n",
       "      <td>Best Leading Actor\\nThe King's Speech (2010)</td>\n",
       "    </tr>\n",
       "  </tbody>\n",
       "</table>\n",
       "</div>"
      ],
      "text/plain": [
       "  award_year  outcome        award_name         award_film  \\\n",
       "0       2011   Winner             Oscar  The King's Speech   \n",
       "1       2010  Nominee             Oscar       A Single Man   \n",
       "2       2022  Nominee    Primetime Emmy      The Staircase   \n",
       "3       2001  Nominee    Primetime Emmy         Conspiracy   \n",
       "4       2011   Winner  BAFTA Film Award  The King's Speech   \n",
       "\n",
       "                                               notes  \n",
       "0  Best Performance by an Actor in a Leading Role...  \n",
       "1  Best Performance by an Actor in a Leading Role...  \n",
       "2  Outstanding Lead Actor in a Limited or Antholo...  \n",
       "3  Outstanding Supporting Actor in a Miniseries o...  \n",
       "4       Best Leading Actor\\nThe King's Speech (2010)  "
      ]
     },
     "execution_count": 39,
     "metadata": {},
     "output_type": "execute_result"
    }
   ],
   "source": [
    "colin_firth_awards.head()"
   ]
  },
  {
   "cell_type": "code",
   "execution_count": 71,
   "id": "e60f0f26",
   "metadata": {},
   "outputs": [],
   "source": [
    "# Saving the final DataFrame to csv file\n",
    "colin_firth_awards.to_csv(r'/Users/anastasia/Downloads/colin_firth_awards.csv')"
   ]
  },
  {
   "cell_type": "markdown",
   "id": "330a0ed3",
   "metadata": {},
   "source": [
    "###### The DataFrame with awards is ready!"
   ]
  }
 ],
 "metadata": {
  "kernelspec": {
   "display_name": "Python 3 (ipykernel)",
   "language": "python",
   "name": "python3"
  },
  "language_info": {
   "codemirror_mode": {
    "name": "ipython",
    "version": 3
   },
   "file_extension": ".py",
   "mimetype": "text/x-python",
   "name": "python",
   "nbconvert_exporter": "python",
   "pygments_lexer": "ipython3",
   "version": "3.9.13"
  }
 },
 "nbformat": 4,
 "nbformat_minor": 5
}
